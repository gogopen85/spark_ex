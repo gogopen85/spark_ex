{
 "cells": [
  {
   "cell_type": "code",
   "execution_count": 97,
   "metadata": {},
   "outputs": [
    {
     "name": "stdout",
     "output_type": "stream",
     "text": [
      "1번째 반복 중\n",
      "start :: \"음식 건강\"\n"
     ]
    },
    {
     "data": {
      "application/vnd.jupyter.widget-view+json": {
       "model_id": "304884c849b745b794b0ae2b318ae1c5",
       "version_major": 2,
       "version_minor": 0
      },
      "text/plain": [
       "HBox(children=(FloatProgress(value=0.0, max=30.0), HTML(value='')))"
      ]
     },
     "metadata": {},
     "output_type": "display_data"
    },
    {
     "name": "stdout",
     "output_type": "stream",
     "text": [
      "\n"
     ]
    },
    {
     "data": {
      "application/vnd.jupyter.widget-view+json": {
       "model_id": "36b09125ca724e71a620554cfed9113c",
       "version_major": 2,
       "version_minor": 0
      },
      "text/plain": [
       "HBox(children=(FloatProgress(value=0.0, max=30.0), HTML(value='')))"
      ]
     },
     "metadata": {},
     "output_type": "display_data"
    },
    {
     "data": {
      "application/vnd.jupyter.widget-view+json": {
       "model_id": "bb1149085c004174b0fb870557f4dd2d",
       "version_major": 2,
       "version_minor": 0
      },
      "text/plain": [
       "HBox(children=(FloatProgress(value=0.0, max=3.0), HTML(value='')))"
      ]
     },
     "metadata": {},
     "output_type": "display_data"
    },
    {
     "name": "stdout",
     "output_type": "stream",
     "text": [
      "\n"
     ]
    },
    {
     "data": {
      "application/vnd.jupyter.widget-view+json": {
       "model_id": "596b3473c7444b109595bfc221145e48",
       "version_major": 2,
       "version_minor": 0
      },
      "text/plain": [
       "HBox(children=(FloatProgress(value=0.0, max=1.0), HTML(value='')))"
      ]
     },
     "metadata": {},
     "output_type": "display_data"
    },
    {
     "name": "stdout",
     "output_type": "stream",
     "text": [
      "\n"
     ]
    },
    {
     "data": {
      "application/vnd.jupyter.widget-view+json": {
       "model_id": "43ab6204fa61415ab52929ef5bcd4872",
       "version_major": 2,
       "version_minor": 0
      },
      "text/plain": [
       "HBox(children=(FloatProgress(value=0.0, max=5.0), HTML(value='')))"
      ]
     },
     "metadata": {},
     "output_type": "display_data"
    },
    {
     "name": "stdout",
     "output_type": "stream",
     "text": [
      "\n"
     ]
    },
    {
     "data": {
      "application/vnd.jupyter.widget-view+json": {
       "model_id": "b14053191d0c4886b3a4713f3aa4e24a",
       "version_major": 2,
       "version_minor": 0
      },
      "text/plain": [
       "HBox(children=(FloatProgress(value=0.0, max=2.0), HTML(value='')))"
      ]
     },
     "metadata": {},
     "output_type": "display_data"
    },
    {
     "name": "stdout",
     "output_type": "stream",
     "text": [
      "\n"
     ]
    },
    {
     "data": {
      "application/vnd.jupyter.widget-view+json": {
       "model_id": "76ba75a9887044ab8d1929eab0b3595b",
       "version_major": 2,
       "version_minor": 0
      },
      "text/plain": [
       "HBox(children=(FloatProgress(value=0.0, max=3.0), HTML(value='')))"
      ]
     },
     "metadata": {},
     "output_type": "display_data"
    },
    {
     "name": "stdout",
     "output_type": "stream",
     "text": [
      "\n"
     ]
    },
    {
     "data": {
      "application/vnd.jupyter.widget-view+json": {
       "model_id": "924c657aa17b4a75820ffaa26d5ca130",
       "version_major": 2,
       "version_minor": 0
      },
      "text/plain": [
       "HBox(children=(FloatProgress(value=0.0, max=4.0), HTML(value='')))"
      ]
     },
     "metadata": {},
     "output_type": "display_data"
    },
    {
     "name": "stdout",
     "output_type": "stream",
     "text": [
      "\n"
     ]
    },
    {
     "data": {
      "application/vnd.jupyter.widget-view+json": {
       "model_id": "09b0469182c24c50affe0bd9329a65bb",
       "version_major": 2,
       "version_minor": 0
      },
      "text/plain": [
       "HBox(children=(FloatProgress(value=0.0, max=2.0), HTML(value='')))"
      ]
     },
     "metadata": {},
     "output_type": "display_data"
    },
    {
     "name": "stdout",
     "output_type": "stream",
     "text": [
      "\n"
     ]
    },
    {
     "data": {
      "application/vnd.jupyter.widget-view+json": {
       "model_id": "a1902861a7464b7f86be5e9adfcf30c3",
       "version_major": 2,
       "version_minor": 0
      },
      "text/plain": [
       "HBox(children=(FloatProgress(value=0.0, max=2.0), HTML(value='')))"
      ]
     },
     "metadata": {},
     "output_type": "display_data"
    },
    {
     "name": "stdout",
     "output_type": "stream",
     "text": [
      "\n"
     ]
    },
    {
     "data": {
      "application/vnd.jupyter.widget-view+json": {
       "model_id": "f7c52d5b84b44a9896674c3ce35d8c8b",
       "version_major": 2,
       "version_minor": 0
      },
      "text/plain": [
       "HBox(children=(FloatProgress(value=1.0, bar_style='info', max=1.0), HTML(value='')))"
      ]
     },
     "metadata": {},
     "output_type": "display_data"
    },
    {
     "name": "stdout",
     "output_type": "stream",
     "text": [
      "\n"
     ]
    },
    {
     "data": {
      "application/vnd.jupyter.widget-view+json": {
       "model_id": "6528513660af4d9bb49acc0430e3ddea",
       "version_major": 2,
       "version_minor": 0
      },
      "text/plain": [
       "HBox(children=(FloatProgress(value=0.0, max=4.0), HTML(value='')))"
      ]
     },
     "metadata": {},
     "output_type": "display_data"
    },
    {
     "name": "stdout",
     "output_type": "stream",
     "text": [
      "\n"
     ]
    },
    {
     "data": {
      "application/vnd.jupyter.widget-view+json": {
       "model_id": "046bf8dbfc6b40c386c6d4bda6d88776",
       "version_major": 2,
       "version_minor": 0
      },
      "text/plain": [
       "HBox(children=(FloatProgress(value=0.0, max=3.0), HTML(value='')))"
      ]
     },
     "metadata": {},
     "output_type": "display_data"
    },
    {
     "name": "stdout",
     "output_type": "stream",
     "text": [
      "\n"
     ]
    },
    {
     "data": {
      "application/vnd.jupyter.widget-view+json": {
       "model_id": "03a9053b0f3547f48fdd3435bcfb15b8",
       "version_major": 2,
       "version_minor": 0
      },
      "text/plain": [
       "HBox(children=(FloatProgress(value=0.0, max=1.0), HTML(value='')))"
      ]
     },
     "metadata": {},
     "output_type": "display_data"
    },
    {
     "name": "stdout",
     "output_type": "stream",
     "text": [
      "\n"
     ]
    },
    {
     "data": {
      "application/vnd.jupyter.widget-view+json": {
       "model_id": "0c0118e0357a4cd1831bade60d2e2e69",
       "version_major": 2,
       "version_minor": 0
      },
      "text/plain": [
       "HBox(children=(FloatProgress(value=0.0, max=2.0), HTML(value='')))"
      ]
     },
     "metadata": {},
     "output_type": "display_data"
    },
    {
     "name": "stdout",
     "output_type": "stream",
     "text": [
      "\n"
     ]
    },
    {
     "data": {
      "application/vnd.jupyter.widget-view+json": {
       "model_id": "e1ba08f915fb4818b3d41c718409096b",
       "version_major": 2,
       "version_minor": 0
      },
      "text/plain": [
       "HBox(children=(FloatProgress(value=0.0, max=5.0), HTML(value='')))"
      ]
     },
     "metadata": {},
     "output_type": "display_data"
    },
    {
     "name": "stdout",
     "output_type": "stream",
     "text": [
      "\n"
     ]
    },
    {
     "data": {
      "application/vnd.jupyter.widget-view+json": {
       "model_id": "21618821f1d446e29ddb3c2420ef3bc2",
       "version_major": 2,
       "version_minor": 0
      },
      "text/plain": [
       "HBox(children=(FloatProgress(value=0.0, max=5.0), HTML(value='')))"
      ]
     },
     "metadata": {},
     "output_type": "display_data"
    },
    {
     "name": "stdout",
     "output_type": "stream",
     "text": [
      "\n"
     ]
    },
    {
     "data": {
      "application/vnd.jupyter.widget-view+json": {
       "model_id": "aeef66c0619b4aadad730202b77997b4",
       "version_major": 2,
       "version_minor": 0
      },
      "text/plain": [
       "HBox(children=(FloatProgress(value=0.0, max=3.0), HTML(value='')))"
      ]
     },
     "metadata": {},
     "output_type": "display_data"
    },
    {
     "name": "stdout",
     "output_type": "stream",
     "text": [
      "\n"
     ]
    },
    {
     "data": {
      "application/vnd.jupyter.widget-view+json": {
       "model_id": "8dd867e166f64fb2906ea6d15f88820c",
       "version_major": 2,
       "version_minor": 0
      },
      "text/plain": [
       "HBox(children=(FloatProgress(value=0.0, max=4.0), HTML(value='')))"
      ]
     },
     "metadata": {},
     "output_type": "display_data"
    },
    {
     "name": "stdout",
     "output_type": "stream",
     "text": [
      "\n"
     ]
    },
    {
     "data": {
      "application/vnd.jupyter.widget-view+json": {
       "model_id": "9f344142eb5940b2ab3f078b54bf4e34",
       "version_major": 2,
       "version_minor": 0
      },
      "text/plain": [
       "HBox(children=(FloatProgress(value=0.0, max=4.0), HTML(value='')))"
      ]
     },
     "metadata": {},
     "output_type": "display_data"
    },
    {
     "name": "stdout",
     "output_type": "stream",
     "text": [
      "\n"
     ]
    },
    {
     "data": {
      "application/vnd.jupyter.widget-view+json": {
       "model_id": "e56f38f2efc04105ab683c407913d4a1",
       "version_major": 2,
       "version_minor": 0
      },
      "text/plain": [
       "HBox(children=(FloatProgress(value=0.0, max=8.0), HTML(value='')))"
      ]
     },
     "metadata": {},
     "output_type": "display_data"
    },
    {
     "name": "stdout",
     "output_type": "stream",
     "text": [
      "\n"
     ]
    },
    {
     "data": {
      "application/vnd.jupyter.widget-view+json": {
       "model_id": "7699ea4dc604486f9196949bb4fc43cd",
       "version_major": 2,
       "version_minor": 0
      },
      "text/plain": [
       "HBox(children=(FloatProgress(value=0.0, max=9.0), HTML(value='')))"
      ]
     },
     "metadata": {},
     "output_type": "display_data"
    },
    {
     "name": "stdout",
     "output_type": "stream",
     "text": [
      "\n"
     ]
    },
    {
     "data": {
      "application/vnd.jupyter.widget-view+json": {
       "model_id": "dda93d0475ae40cdaa6792c725cfa2f2",
       "version_major": 2,
       "version_minor": 0
      },
      "text/plain": [
       "HBox(children=(FloatProgress(value=0.0, max=4.0), HTML(value='')))"
      ]
     },
     "metadata": {},
     "output_type": "display_data"
    },
    {
     "name": "stdout",
     "output_type": "stream",
     "text": [
      "\n"
     ]
    },
    {
     "data": {
      "application/vnd.jupyter.widget-view+json": {
       "model_id": "27ad8c31ca664659abc980b100b84da5",
       "version_major": 2,
       "version_minor": 0
      },
      "text/plain": [
       "HBox(children=(FloatProgress(value=0.0, max=4.0), HTML(value='')))"
      ]
     },
     "metadata": {},
     "output_type": "display_data"
    },
    {
     "name": "stdout",
     "output_type": "stream",
     "text": [
      "\n"
     ]
    },
    {
     "data": {
      "application/vnd.jupyter.widget-view+json": {
       "model_id": "b5203c3acc634cffb17bb1a56d8b4720",
       "version_major": 2,
       "version_minor": 0
      },
      "text/plain": [
       "HBox(children=(FloatProgress(value=0.0, max=4.0), HTML(value='')))"
      ]
     },
     "metadata": {},
     "output_type": "display_data"
    },
    {
     "name": "stdout",
     "output_type": "stream",
     "text": [
      "\n"
     ]
    },
    {
     "data": {
      "application/vnd.jupyter.widget-view+json": {
       "model_id": "3e53931ae7494ef9b5ea02ed47e4aad8",
       "version_major": 2,
       "version_minor": 0
      },
      "text/plain": [
       "HBox(children=(FloatProgress(value=0.0, max=3.0), HTML(value='')))"
      ]
     },
     "metadata": {},
     "output_type": "display_data"
    },
    {
     "name": "stdout",
     "output_type": "stream",
     "text": [
      "\n"
     ]
    },
    {
     "data": {
      "application/vnd.jupyter.widget-view+json": {
       "model_id": "d42c833f2cb7446ba643065f80747ca1",
       "version_major": 2,
       "version_minor": 0
      },
      "text/plain": [
       "HBox(children=(FloatProgress(value=0.0, max=4.0), HTML(value='')))"
      ]
     },
     "metadata": {},
     "output_type": "display_data"
    },
    {
     "name": "stdout",
     "output_type": "stream",
     "text": [
      "\n"
     ]
    },
    {
     "data": {
      "application/vnd.jupyter.widget-view+json": {
       "model_id": "48664c6fc0434231a5eae40be53fef2a",
       "version_major": 2,
       "version_minor": 0
      },
      "text/plain": [
       "HBox(children=(FloatProgress(value=0.0, max=3.0), HTML(value='')))"
      ]
     },
     "metadata": {},
     "output_type": "display_data"
    },
    {
     "name": "stdout",
     "output_type": "stream",
     "text": [
      "\n"
     ]
    },
    {
     "data": {
      "application/vnd.jupyter.widget-view+json": {
       "model_id": "9f00e960695e48d3a7d081af759c53fe",
       "version_major": 2,
       "version_minor": 0
      },
      "text/plain": [
       "HBox(children=(FloatProgress(value=0.0, max=2.0), HTML(value='')))"
      ]
     },
     "metadata": {},
     "output_type": "display_data"
    },
    {
     "name": "stdout",
     "output_type": "stream",
     "text": [
      "\n"
     ]
    },
    {
     "data": {
      "application/vnd.jupyter.widget-view+json": {
       "model_id": "58a927240ee64204aec273e38ffeab80",
       "version_major": 2,
       "version_minor": 0
      },
      "text/plain": [
       "HBox(children=(FloatProgress(value=0.0, max=6.0), HTML(value='')))"
      ]
     },
     "metadata": {},
     "output_type": "display_data"
    },
    {
     "name": "stdout",
     "output_type": "stream",
     "text": [
      "\n"
     ]
    },
    {
     "data": {
      "application/vnd.jupyter.widget-view+json": {
       "model_id": "17fef646f0274780907527c18cb16299",
       "version_major": 2,
       "version_minor": 0
      },
      "text/plain": [
       "HBox(children=(FloatProgress(value=0.0, max=5.0), HTML(value='')))"
      ]
     },
     "metadata": {},
     "output_type": "display_data"
    },
    {
     "name": "stdout",
     "output_type": "stream",
     "text": [
      "\n"
     ]
    },
    {
     "data": {
      "application/vnd.jupyter.widget-view+json": {
       "model_id": "d0d9c8becf5e4ecbbec411c60ef6f962",
       "version_major": 2,
       "version_minor": 0
      },
      "text/plain": [
       "HBox(children=(FloatProgress(value=0.0, max=5.0), HTML(value='')))"
      ]
     },
     "metadata": {},
     "output_type": "display_data"
    },
    {
     "name": "stdout",
     "output_type": "stream",
     "text": [
      "\n",
      "\n",
      "{'무엇', '이리하여', '한 까닭에', '+', '시작하여', '하려고하다', '어찌', '그렇지 않으면', '이라면', '힘입어', '나', '가', '잇따라', '만이 아니다', '툭', ':', '아울러', '어떻게', '된바에야', '이젠', '매', '봐', '이', '그저', '또한', '한마디', '하면된다', '연관되다', '한켠으로는', '까악', '하기는한데', '동안', '}', '약간', '하물며', '아니라면', '결론을 낼 수 있다', '어느해', '외에도', '한다면 몰라도', '아래윗', '어떠한', '부터', '헐떡헐떡', '허', '어느쪽', '하기 위하여', '하도다', '끙끙', '할뿐', '하기만 하면', '제각기', '위하여', '할 지경이다', '여보시오', '라 해도', '그러니', '했어요', '엉엉', '두번째로', '만약에', '저기', '이렇게되면', '물론', '과연', '모두', '것들', '해도좋다', '이봐', '한 후', '것과 같이', '여기', '삐걱', '제외하고', '로부터', '총적으로', '년', '매번', '주저하지 않고', '하는바', '도착하다', '따위', '여러분', '게우다', '누구', '된이상', '즈음하여', '등등', \"'\", '저', '향해서', '동시에', '거니와', '참나', '~', '아무거나', '이러한', '견지에서', '바와같이', '어찌하든지', '사', '줄은 몰랏다', '그치지 않다', '와', '한다면', '어찌됏어', '하는것도', '이 정도의', '펄렁', '하는것만 못하다', '너', '얼마만큼', '휘익', '아이고', '시각', '로써', '겸사겸사', '이럴정도로', '관계가 있다', '둥둥', '쪽으로', '비로소', '훨씬', '예하면', '뒤이어', '있다', '참', '이 밖에', '까지', '않기 위하여', '그', '하여야', '를', '개의치않고', '결과에 이르다', '본문', '타다', '소인', '요만큼', '이상', '어떤것', '앞에서', '어찌하여', '의', '하느니', '대해 말하자면', '그러니까', '구토하다', '이용하여', '댕그', '생각한대로', '기타', '다음으로', '이외에도', '아이쿠', '과', '보는데서', '바꾸어말하면', '로', '어기여차', '메쓰겁다', '무슨', '실로', '논하지 않다', '더불어', '오히려', '막론하고', '할지라도', '딩동', '다만', '이런', '몇', '설사', '하기 때문에', '혹은', '우에 종합한것과같이', '습니까', '아니', '하도록하다', '도달하다', '더라도', '보드득', '만큼\\t어찌됏든', '관한', '이러이러하다', '하', '이것', '쾅쾅', '아니었다면', '그렇지않으면', '만 못하다\\t하기보다는', '다섯', '륙', '팔', '각자', '하나', '이와같다면', '이래', '하더라도', '비추어 보아', '즉시', '하지마', '같이', '각종', ')', '등', '저것', '그럼', '위해서', '여덟', '보다더', '곧', '더군다나', '그리고', '얼마', '다른 방면으로', '때가 되어', '무엇때문에', '나머지는', '콸콸', '흐흐', '각각', '에 가서', '퍽', '설령', '심지어', '바꿔 말하면', '삼', '해봐요', '-', '혹시', '.', '까지 미치다', '어떤', '팍', '인 듯하다', '@', '응당', '으로', '일지라도', '봐라', '음식', '에 한하다', '그중에서', '전후', '만 못하다', '언제', '그만이다', '이로 인하여', '윙윙', '우선', '그럼에도 불구하고', '갖고말하자면', '관해서는', '아이', '그위에', '어디', '응', '일것이다', '[', '의해되다', '이와 같다', '중에서', '더욱이는', '및', '그런 까닭에', '삐걱거리다', '결국', '까닭으로', '어느 년도', '부류의 사람들', '할 생각이다', '이 되다', '이 외에', '예컨대', '에', '향하다', '만은 아니다', '/', '반대로', '\"', '반드시', '어떤것들', '또', '예를 들면', '야', '일곱', '함께', '전부', '오직', '헉', '말하자면', '이때', '이천팔', '근거로', '더욱더', '해요', '다시말하면', '오호', '일', '의해서', '할만하다', '어쨋든', '(', '이천구', '이곳', '오자마자', '같다', '그래도', '에 있다', '않기 위해서', '이천육', '`', '이만큼', '통하여', '헉헉', '_', '첫번째로', '그런데', '다음', '구체적으로', '꽈당', '얼마든지', '바로', '으로써', '우르르', '하게하다', '오', '^', '향하여', '고로', '하게될것이다', '정도에 이르다', '안 그러면', '조금', '하는것이 낫다', '아무도', '그렇지', '기준으로', '하지만', '|', '이와 반대로', '본대로', '각', '아', '와르르', '흥', '다소', '둘', '비하면', '할 줄 안다', '시초에', '여', '영차', '거의', '자마자', '지말고', '혼자', '공동으로', '하자마자', '이천칠', '저쪽', '때문에', ';', '어', '이지만', '다시 말하자면', '언젠가', '임에 틀림없다', '습니다', '령', '대하면', '하도록시키다', '놀라다', '입각하여', '구', '인젠', '아이구', '어떻해', '운운', '이유만으로', '비교적', '더구나', '하고있었다', '할때', '하든지', '이쪽', '셋', '만일', '에서', '쳇', '어느것', '한데', '좍좍', '비길수 없다', '기대여', '하지 않는다면', '자기', '만약', '이었다', '어째서', '고려하면', '이 때문에', '따라', '자기집', '비걱거리다', '당장', '답다', '으로 인하여', '앞의것', '월', '사용', '하기에', '어이', '옆사람', '넷', '아홉', '할수있다', '왜', '알았어', '때', '이렇구나', '할지언정', '한 이유는', '저것만큼', '그렇게 함으로써', '그렇지 않다면', '차라리', '자신', '로 인하여', '여부', '남들', '허허', '무릎쓰고', '어느때', '근거하여', '예를 들자면', '에게', '관련이 있다', '마저', '<', '관하여', '에 대해', '육', '하마터면', '다른', '당신', '하여금', '끼익', '하는 편이 낫다', '요컨대', '그리하여', '아니면', '지만', '여차', '대해서', '들', '그러나', '연이서', '그때', '어쩔수 없다', '제', '이렇게 많은 것', '얼마나', '비슷하다', '왜냐하면', '총적으로 보면', '으로서', '조차', '거바', '따라서', '어때', '반대로 말하자면', '이르기까지', '하는 김에', '든간에', '비록', '하면서', '일단', '바꾸어말하자면', '단지', '다음에', '아야', '하곤하였다', '이어서', '자', '불구하고', '총적으로 말하면', '오로지', '&', '좋아', '시간', '하기보다는', '딱', '마음대로', '너희', '네', '모', '%', '하면 할수록', '저희', '할망정', '얼마큼', '퉤', '에 달려 있다', '할 힘이 있다', '너희들', '쉿', '아이야', '>', '이번', '해서는 안된다', '탕탕', '요만한 것', '중의하나', '을', '남짓', '밖에 안된다', '일때', '할 따름이다', '그러므로', '상대적으로 말하자면', '하하', '=', '게다가', '어느곳', '할수있어', '요만한걸', '하지 않도록', '불문하고', '일반적으로', '아니나다를가', '앗', '뿐이다', '잠깐', '내용', '플레이어', '시키다', '어느', '잠시', '위에서 서술한바와같이', '건강', '것', '그래서', '!', '한적이있다', '관계없이', '솨', '다수', '{', '*', '얼마간', '하구나', '하고 있다', '따지지 않다', '그에 따르는', '까지도', '그래', '의거하여', '기점으로', '와 같은 사람들', '여섯', '여전히', '그러한즉', '?', '뿐만 아니라', '바꾸어서 말하면', '설마', '졸졸', '의해', '지든지', '입장에서', '가까스로', '예', '점에서 보아', '이와 같은', '누가 알겠는가', '줄은모른다', '뚝뚝', '그런즉', '칠', '양자', '전자', '그러면', '우리', '버금', '#', '겨우', '좀', '틈타', '우리들', '해야한다', '대하여', '바꾸어서 한다면', '할줄알다', '\\\\', '와아', '쿵', '의지하여', '영', '이렇게말하자면', '그들', '마저도', '$', '하지마라', '허걱', '조차도', '무렵', '하겠는가', '말할것도 없고', '소생', ']', '휴', '그렇지만', '정보', '타인', '마치', '오르다', '붕붕', '한항목', '알 수 있다', '뿐만아니라', '진짜로', '주룩주룩', '뒤따라', '해도된다', '아하', '형식으로 쓰여', '얼마 안 되는 것', ',', '가령', '대로 하다', '뉴스', '즉', '토하다'}\n"
     ]
    },
    {
     "data": {
      "application/vnd.jupyter.widget-view+json": {
       "model_id": "6b95d90e6760478fabd0c0ce7bcc1763",
       "version_major": 2,
       "version_minor": 0
      },
      "text/plain": [
       "HBox(children=(FloatProgress(value=0.0, description='Preprocessing', max=30.0, style=ProgressStyle(description…"
      ]
     },
     "metadata": {},
     "output_type": "display_data"
    },
    {
     "name": "stdout",
     "output_type": "stream",
     "text": [
      "\n",
      "end :: 식품 | 명절 | 섭취 | 프로그램 | 제철 | 조리 | 서울 | 추가 | 보관 | 방법\n",
      "2번째 반복 중\n",
      "start :: 식품 | 명절 | 섭취 | 프로그램 | 제철 | 조리 | 서울 | 추가 | 보관 | 방법+\"음식 건강\"\n"
     ]
    },
    {
     "data": {
      "application/vnd.jupyter.widget-view+json": {
       "model_id": "fe75159b77064ac3b03ba7ad71a2df65",
       "version_major": 2,
       "version_minor": 0
      },
      "text/plain": [
       "HBox(children=(FloatProgress(value=0.0, max=30.0), HTML(value='')))"
      ]
     },
     "metadata": {},
     "output_type": "display_data"
    },
    {
     "name": "stdout",
     "output_type": "stream",
     "text": [
      "\n"
     ]
    },
    {
     "data": {
      "application/vnd.jupyter.widget-view+json": {
       "model_id": "137dae9cc8334e3f80e6fe477f8a37b5",
       "version_major": 2,
       "version_minor": 0
      },
      "text/plain": [
       "HBox(children=(FloatProgress(value=0.0, max=30.0), HTML(value='')))"
      ]
     },
     "metadata": {},
     "output_type": "display_data"
    },
    {
     "data": {
      "application/vnd.jupyter.widget-view+json": {
       "model_id": "d8592c8f3b514a6b85532254e9cac1da",
       "version_major": 2,
       "version_minor": 0
      },
      "text/plain": [
       "HBox(children=(FloatProgress(value=0.0, max=2.0), HTML(value='')))"
      ]
     },
     "metadata": {},
     "output_type": "display_data"
    },
    {
     "name": "stdout",
     "output_type": "stream",
     "text": [
      "\n"
     ]
    },
    {
     "data": {
      "application/vnd.jupyter.widget-view+json": {
       "model_id": "631a0fa1ee1c4e539bdef26eef295efb",
       "version_major": 2,
       "version_minor": 0
      },
      "text/plain": [
       "HBox(children=(FloatProgress(value=0.0, max=1.0), HTML(value='')))"
      ]
     },
     "metadata": {},
     "output_type": "display_data"
    },
    {
     "name": "stdout",
     "output_type": "stream",
     "text": [
      "\n"
     ]
    },
    {
     "data": {
      "application/vnd.jupyter.widget-view+json": {
       "model_id": "901da1c96c914d0ba0242d61b773d609",
       "version_major": 2,
       "version_minor": 0
      },
      "text/plain": [
       "HBox(children=(FloatProgress(value=0.0, max=5.0), HTML(value='')))"
      ]
     },
     "metadata": {},
     "output_type": "display_data"
    },
    {
     "name": "stdout",
     "output_type": "stream",
     "text": [
      "\n"
     ]
    },
    {
     "data": {
      "application/vnd.jupyter.widget-view+json": {
       "model_id": "5c97c35daaff434a837b1fa865271e93",
       "version_major": 2,
       "version_minor": 0
      },
      "text/plain": [
       "HBox(children=(FloatProgress(value=0.0, max=2.0), HTML(value='')))"
      ]
     },
     "metadata": {},
     "output_type": "display_data"
    },
    {
     "name": "stdout",
     "output_type": "stream",
     "text": [
      "\n"
     ]
    },
    {
     "data": {
      "application/vnd.jupyter.widget-view+json": {
       "model_id": "0109235c575d46698c5e0e5edd24d643",
       "version_major": 2,
       "version_minor": 0
      },
      "text/plain": [
       "HBox(children=(FloatProgress(value=0.0, max=3.0), HTML(value='')))"
      ]
     },
     "metadata": {},
     "output_type": "display_data"
    },
    {
     "name": "stdout",
     "output_type": "stream",
     "text": [
      "\n"
     ]
    },
    {
     "data": {
      "application/vnd.jupyter.widget-view+json": {
       "model_id": "0dba07d11fa54e5eb0ceff378e378143",
       "version_major": 2,
       "version_minor": 0
      },
      "text/plain": [
       "HBox(children=(FloatProgress(value=0.0, max=6.0), HTML(value='')))"
      ]
     },
     "metadata": {},
     "output_type": "display_data"
    },
    {
     "name": "stdout",
     "output_type": "stream",
     "text": [
      "\n"
     ]
    },
    {
     "data": {
      "application/vnd.jupyter.widget-view+json": {
       "model_id": "090441d94ac14ef6b59b97fe31576967",
       "version_major": 2,
       "version_minor": 0
      },
      "text/plain": [
       "HBox(children=(FloatProgress(value=0.0, max=1.0), HTML(value='')))"
      ]
     },
     "metadata": {},
     "output_type": "display_data"
    },
    {
     "name": "stdout",
     "output_type": "stream",
     "text": [
      "\n"
     ]
    },
    {
     "data": {
      "application/vnd.jupyter.widget-view+json": {
       "model_id": "26f014bda5b74446ad4d0e4b4d2cae06",
       "version_major": 2,
       "version_minor": 0
      },
      "text/plain": [
       "HBox(children=(FloatProgress(value=0.0, max=1.0), HTML(value='')))"
      ]
     },
     "metadata": {},
     "output_type": "display_data"
    },
    {
     "name": "stdout",
     "output_type": "stream",
     "text": [
      "\n"
     ]
    },
    {
     "data": {
      "application/vnd.jupyter.widget-view+json": {
       "model_id": "0769ce53040540248847122af10ceb0f",
       "version_major": 2,
       "version_minor": 0
      },
      "text/plain": [
       "HBox(children=(FloatProgress(value=0.0, max=3.0), HTML(value='')))"
      ]
     },
     "metadata": {},
     "output_type": "display_data"
    },
    {
     "name": "stdout",
     "output_type": "stream",
     "text": [
      "\n"
     ]
    },
    {
     "data": {
      "application/vnd.jupyter.widget-view+json": {
       "model_id": "9ed4fcf1c41040d29250dd9a68dda36d",
       "version_major": 2,
       "version_minor": 0
      },
      "text/plain": [
       "HBox(children=(FloatProgress(value=0.0, max=2.0), HTML(value='')))"
      ]
     },
     "metadata": {},
     "output_type": "display_data"
    },
    {
     "name": "stdout",
     "output_type": "stream",
     "text": [
      "\n"
     ]
    },
    {
     "data": {
      "application/vnd.jupyter.widget-view+json": {
       "model_id": "127ef4297604497db6a841f61ea6d66c",
       "version_major": 2,
       "version_minor": 0
      },
      "text/plain": [
       "HBox(children=(FloatProgress(value=0.0, max=1.0), HTML(value='')))"
      ]
     },
     "metadata": {},
     "output_type": "display_data"
    },
    {
     "name": "stdout",
     "output_type": "stream",
     "text": [
      "\n"
     ]
    },
    {
     "data": {
      "application/vnd.jupyter.widget-view+json": {
       "model_id": "3c8cdf7c90a547ab9bfca85866a759d8",
       "version_major": 2,
       "version_minor": 0
      },
      "text/plain": [
       "HBox(children=(FloatProgress(value=0.0, max=7.0), HTML(value='')))"
      ]
     },
     "metadata": {},
     "output_type": "display_data"
    },
    {
     "name": "stdout",
     "output_type": "stream",
     "text": [
      "\n"
     ]
    },
    {
     "data": {
      "application/vnd.jupyter.widget-view+json": {
       "model_id": "7a9e163f5867484c8db01847780553df",
       "version_major": 2,
       "version_minor": 0
      },
      "text/plain": [
       "HBox(children=(FloatProgress(value=0.0, max=6.0), HTML(value='')))"
      ]
     },
     "metadata": {},
     "output_type": "display_data"
    },
    {
     "name": "stdout",
     "output_type": "stream",
     "text": [
      "\n"
     ]
    },
    {
     "data": {
      "application/vnd.jupyter.widget-view+json": {
       "model_id": "cd567bfe8a84456483db9cf719cbe8a2",
       "version_major": 2,
       "version_minor": 0
      },
      "text/plain": [
       "HBox(children=(FloatProgress(value=0.0, max=3.0), HTML(value='')))"
      ]
     },
     "metadata": {},
     "output_type": "display_data"
    },
    {
     "name": "stdout",
     "output_type": "stream",
     "text": [
      "\n"
     ]
    },
    {
     "data": {
      "application/vnd.jupyter.widget-view+json": {
       "model_id": "22551679c7f840a8828ffeac391d3551",
       "version_major": 2,
       "version_minor": 0
      },
      "text/plain": [
       "HBox(children=(FloatProgress(value=0.0, max=6.0), HTML(value='')))"
      ]
     },
     "metadata": {},
     "output_type": "display_data"
    },
    {
     "name": "stdout",
     "output_type": "stream",
     "text": [
      "\n"
     ]
    },
    {
     "data": {
      "application/vnd.jupyter.widget-view+json": {
       "model_id": "dd8f6d71e6a74406aa36ee35bb926c62",
       "version_major": 2,
       "version_minor": 0
      },
      "text/plain": [
       "HBox(children=(FloatProgress(value=0.0, max=10.0), HTML(value='')))"
      ]
     },
     "metadata": {},
     "output_type": "display_data"
    },
    {
     "name": "stdout",
     "output_type": "stream",
     "text": [
      "\n"
     ]
    },
    {
     "data": {
      "application/vnd.jupyter.widget-view+json": {
       "model_id": "3a6b3d550580470882450cdaff97efef",
       "version_major": 2,
       "version_minor": 0
      },
      "text/plain": [
       "HBox(children=(FloatProgress(value=0.0, max=6.0), HTML(value='')))"
      ]
     },
     "metadata": {},
     "output_type": "display_data"
    },
    {
     "name": "stdout",
     "output_type": "stream",
     "text": [
      "\n"
     ]
    },
    {
     "data": {
      "application/vnd.jupyter.widget-view+json": {
       "model_id": "b9a948b087374c1fba43160209e3b530",
       "version_major": 2,
       "version_minor": 0
      },
      "text/plain": [
       "HBox(children=(FloatProgress(value=0.0, max=5.0), HTML(value='')))"
      ]
     },
     "metadata": {},
     "output_type": "display_data"
    },
    {
     "name": "stdout",
     "output_type": "stream",
     "text": [
      "\n"
     ]
    },
    {
     "data": {
      "application/vnd.jupyter.widget-view+json": {
       "model_id": "09a0bbdf9dda4dd881fa0d9d8ec3132d",
       "version_major": 2,
       "version_minor": 0
      },
      "text/plain": [
       "HBox(children=(FloatProgress(value=0.0, max=5.0), HTML(value='')))"
      ]
     },
     "metadata": {},
     "output_type": "display_data"
    },
    {
     "name": "stdout",
     "output_type": "stream",
     "text": [
      "\n"
     ]
    },
    {
     "data": {
      "application/vnd.jupyter.widget-view+json": {
       "model_id": "f3ce9370424a41d0b6a2a965d646d533",
       "version_major": 2,
       "version_minor": 0
      },
      "text/plain": [
       "HBox(children=(FloatProgress(value=0.0, max=2.0), HTML(value='')))"
      ]
     },
     "metadata": {},
     "output_type": "display_data"
    },
    {
     "name": "stdout",
     "output_type": "stream",
     "text": [
      "\n"
     ]
    },
    {
     "data": {
      "application/vnd.jupyter.widget-view+json": {
       "model_id": "d32ecc9588b74c9c9c4f22d67c89dc92",
       "version_major": 2,
       "version_minor": 0
      },
      "text/plain": [
       "HBox(children=(FloatProgress(value=0.0, max=6.0), HTML(value='')))"
      ]
     },
     "metadata": {},
     "output_type": "display_data"
    },
    {
     "name": "stdout",
     "output_type": "stream",
     "text": [
      "\n"
     ]
    },
    {
     "data": {
      "application/vnd.jupyter.widget-view+json": {
       "model_id": "5d491d5e65e241f09cf22981ff1db3d9",
       "version_major": 2,
       "version_minor": 0
      },
      "text/plain": [
       "HBox(children=(FloatProgress(value=0.0, max=4.0), HTML(value='')))"
      ]
     },
     "metadata": {},
     "output_type": "display_data"
    },
    {
     "name": "stdout",
     "output_type": "stream",
     "text": [
      "\n"
     ]
    },
    {
     "data": {
      "application/vnd.jupyter.widget-view+json": {
       "model_id": "13250942aaaa44dd9f6bef31b3c543e7",
       "version_major": 2,
       "version_minor": 0
      },
      "text/plain": [
       "HBox(children=(FloatProgress(value=0.0, max=4.0), HTML(value='')))"
      ]
     },
     "metadata": {},
     "output_type": "display_data"
    },
    {
     "name": "stdout",
     "output_type": "stream",
     "text": [
      "\n"
     ]
    },
    {
     "data": {
      "application/vnd.jupyter.widget-view+json": {
       "model_id": "b1fb7e1358734885b5ad47c0986eef04",
       "version_major": 2,
       "version_minor": 0
      },
      "text/plain": [
       "HBox(children=(FloatProgress(value=0.0, max=7.0), HTML(value='')))"
      ]
     },
     "metadata": {},
     "output_type": "display_data"
    },
    {
     "name": "stdout",
     "output_type": "stream",
     "text": [
      "\n"
     ]
    },
    {
     "data": {
      "application/vnd.jupyter.widget-view+json": {
       "model_id": "28457fb36d1b41469879f384bf54239e",
       "version_major": 2,
       "version_minor": 0
      },
      "text/plain": [
       "HBox(children=(FloatProgress(value=0.0, max=4.0), HTML(value='')))"
      ]
     },
     "metadata": {},
     "output_type": "display_data"
    },
    {
     "name": "stdout",
     "output_type": "stream",
     "text": [
      "\n"
     ]
    },
    {
     "data": {
      "application/vnd.jupyter.widget-view+json": {
       "model_id": "7fa193891a1e4b0692f081650d727c25",
       "version_major": 2,
       "version_minor": 0
      },
      "text/plain": [
       "HBox(children=(FloatProgress(value=0.0, max=8.0), HTML(value='')))"
      ]
     },
     "metadata": {},
     "output_type": "display_data"
    },
    {
     "name": "stdout",
     "output_type": "stream",
     "text": [
      "\n"
     ]
    },
    {
     "data": {
      "application/vnd.jupyter.widget-view+json": {
       "model_id": "ab8200fed9d04b0585c5ab0112eefdd8",
       "version_major": 2,
       "version_minor": 0
      },
      "text/plain": [
       "HBox(children=(FloatProgress(value=0.0, max=8.0), HTML(value='')))"
      ]
     },
     "metadata": {},
     "output_type": "display_data"
    },
    {
     "name": "stdout",
     "output_type": "stream",
     "text": [
      "\n"
     ]
    },
    {
     "data": {
      "application/vnd.jupyter.widget-view+json": {
       "model_id": "c732b450ccec46679eda99bc9ce4d55d",
       "version_major": 2,
       "version_minor": 0
      },
      "text/plain": [
       "HBox(children=(FloatProgress(value=0.0, max=10.0), HTML(value='')))"
      ]
     },
     "metadata": {},
     "output_type": "display_data"
    },
    {
     "name": "stdout",
     "output_type": "stream",
     "text": [
      "\n"
     ]
    },
    {
     "data": {
      "application/vnd.jupyter.widget-view+json": {
       "model_id": "6804737b56034f688608c1b1627c8464",
       "version_major": 2,
       "version_minor": 0
      },
      "text/plain": [
       "HBox(children=(FloatProgress(value=0.0, max=9.0), HTML(value='')))"
      ]
     },
     "metadata": {},
     "output_type": "display_data"
    },
    {
     "name": "stdout",
     "output_type": "stream",
     "text": [
      "\n"
     ]
    },
    {
     "data": {
      "application/vnd.jupyter.widget-view+json": {
       "model_id": "2b2820ee6405412aa3f13b29db808f85",
       "version_major": 2,
       "version_minor": 0
      },
      "text/plain": [
       "HBox(children=(FloatProgress(value=0.0, max=9.0), HTML(value='')))"
      ]
     },
     "metadata": {},
     "output_type": "display_data"
    },
    {
     "name": "stdout",
     "output_type": "stream",
     "text": [
      "\n",
      "\n",
      "{'무엇', '이리하여', '한 까닭에', '+', '시작하여', '하려고하다', '어찌', '그렇지 않으면', '이라면', '힘입어', '나', '가', '잇따라', '만이 아니다', '툭', ':', '아울러', '어떻게', '된바에야', '이젠', '매', '봐', '이', '그저', '또한', '한마디', '하면된다', '연관되다', '한켠으로는', '까악', '하기는한데', '동안', '}', '약간', '하물며', '아니라면', '결론을 낼 수 있다', '어느해', '외에도', '한다면 몰라도', '아래윗', '어떠한', '부터', '헐떡헐떡', '허', '어느쪽', '하기 위하여', '하도다', '끙끙', '할뿐', '하기만 하면', '제각기', '위하여', '할 지경이다', '여보시오', '라 해도', '그러니', '했어요', '엉엉', '두번째로', '만약에', '저기', '이렇게되면', '물론', '과연', '모두', '것들', '해도좋다', '이봐', '한 후', '것과 같이', '여기', '삐걱', '제외하고', '로부터', '총적으로', '년', '매번', '주저하지 않고', '하는바', '도착하다', '따위', '여러분', '게우다', '누구', '된이상', '즈음하여', '등등', \"'\", '저', '향해서', '동시에', '거니와', '참나', '~', '아무거나', '이러한', '견지에서', '바와같이', '어찌하든지', '사', '줄은 몰랏다', '그치지 않다', '와', '한다면', '어찌됏어', '하는것도', '이 정도의', '펄렁', '하는것만 못하다', '너', '얼마만큼', '휘익', '아이고', '시각', '로써', '겸사겸사', '이럴정도로', '관계가 있다', '둥둥', '쪽으로', '비로소', '훨씬', '예하면', '뒤이어', '있다', '참', '이 밖에', '까지', '않기 위하여', '그', '하여야', '를', '개의치않고', '결과에 이르다', '본문', '타다', '소인', '요만큼', '이상', '어떤것', '앞에서', '어찌하여', '의', '하느니', '대해 말하자면', '그러니까', '구토하다', '이용하여', '댕그', '생각한대로', '기타', '다음으로', '이외에도', '아이쿠', '과', '보는데서', '바꾸어말하면', '로', '어기여차', '메쓰겁다', '무슨', '실로', '논하지 않다', '더불어', '오히려', '막론하고', '할지라도', '딩동', '다만', '이런', '몇', '설사', '하기 때문에', '혹은', '우에 종합한것과같이', '습니까', '아니', '하도록하다', '도달하다', '더라도', '보드득', '만큼\\t어찌됏든', '관한', '이러이러하다', '하', '이것', '쾅쾅', '아니었다면', '그렇지않으면', '만 못하다\\t하기보다는', '다섯', '륙', '팔', '각자', '하나', '이와같다면', '이래', '하더라도', '비추어 보아', '즉시', '하지마', '같이', '각종', ')', '등', '저것', '그럼', '위해서', '여덟', '보다더', '곧', '더군다나', '그리고', '얼마', '다른 방면으로', '때가 되어', '무엇때문에', '나머지는', '콸콸', '흐흐', '각각', '에 가서', '퍽', '설령', '심지어', '바꿔 말하면', '삼', '해봐요', '-', '혹시', '.', '까지 미치다', '어떤', '팍', '인 듯하다', '@', '응당', '으로', '일지라도', '봐라', '음식', '에 한하다', '그중에서', '전후', '만 못하다', '언제', '그만이다', '이로 인하여', '윙윙', '우선', '그럼에도 불구하고', '갖고말하자면', '관해서는', '아이', '그위에', '어디', '응', '일것이다', '[', '의해되다', '이와 같다', '중에서', '더욱이는', '및', '그런 까닭에', '삐걱거리다', '결국', '까닭으로', '어느 년도', '부류의 사람들', '할 생각이다', '이 되다', '이 외에', '예컨대', '에', '향하다', '만은 아니다', '/', '반대로', '\"', '반드시', '어떤것들', '또', '예를 들면', '야', '일곱', '함께', '전부', '오직', '헉', '말하자면', '이때', '이천팔', '근거로', '더욱더', '해요', '다시말하면', '오호', '일', '의해서', '할만하다', '어쨋든', '(', '이천구', '이곳', '오자마자', '같다', '그래도', '에 있다', '않기 위해서', '이천육', '`', '이만큼', '통하여', '헉헉', '_', '첫번째로', '그런데', '다음', '구체적으로', '꽈당', '얼마든지', '바로', '으로써', '우르르', '하게하다', '오', '^', '향하여', '고로', '하게될것이다', '정도에 이르다', '안 그러면', '조금', '하는것이 낫다', '아무도', '그렇지', '기준으로', '하지만', '|', '이와 반대로', '본대로', '각', '아', '와르르', '흥', '다소', '둘', '비하면', '할 줄 안다', '시초에', '여', '영차', '거의', '자마자', '지말고', '혼자', '공동으로', '하자마자', '이천칠', '저쪽', '때문에', ';', '어', '이지만', '다시 말하자면', '언젠가', '임에 틀림없다', '습니다', '령', '대하면', '하도록시키다', '놀라다', '입각하여', '구', '인젠', '아이구', '어떻해', '운운', '이유만으로', '비교적', '더구나', '하고있었다', '할때', '하든지', '이쪽', '셋', '만일', '에서', '쳇', '어느것', '한데', '좍좍', '비길수 없다', '기대여', '하지 않는다면', '자기', '만약', '이었다', '어째서', '고려하면', '이 때문에', '따라', '자기집', '비걱거리다', '당장', '답다', '으로 인하여', '앞의것', '월', '사용', '하기에', '어이', '옆사람', '넷', '아홉', '할수있다', '왜', '알았어', '때', '이렇구나', '할지언정', '한 이유는', '저것만큼', '그렇게 함으로써', '그렇지 않다면', '차라리', '자신', '로 인하여', '여부', '남들', '허허', '무릎쓰고', '어느때', '근거하여', '예를 들자면', '에게', '관련이 있다', '마저', '<', '관하여', '에 대해', '육', '하마터면', '다른', '당신', '하여금', '끼익', '하는 편이 낫다', '요컨대', '그리하여', '아니면', '지만', '여차', '대해서', '들', '그러나', '연이서', '그때', '어쩔수 없다', '제', '이렇게 많은 것', '얼마나', '비슷하다', '왜냐하면', '총적으로 보면', '으로서', '조차', '거바', '따라서', '어때', '반대로 말하자면', '이르기까지', '하는 김에', '든간에', '비록', '하면서', '일단', '바꾸어말하자면', '단지', '다음에', '아야', '하곤하였다', '이어서', '자', '불구하고', '총적으로 말하면', '오로지', '&', '좋아', '시간', '하기보다는', '딱', '마음대로', '너희', '네', '모', '%', '하면 할수록', '저희', '할망정', '얼마큼', '퉤', '에 달려 있다', '할 힘이 있다', '너희들', '쉿', '아이야', '>', '이번', '해서는 안된다', '탕탕', '요만한 것', '중의하나', '을', '남짓', '밖에 안된다', '일때', '할 따름이다', '그러므로', '상대적으로 말하자면', '하하', '=', '게다가', '어느곳', '할수있어', '요만한걸', '하지 않도록', '불문하고', '일반적으로', '아니나다를가', '앗', '뿐이다', '잠깐', '내용', '플레이어', '시키다', '어느', '잠시', '위에서 서술한바와같이', '건강', '것', '그래서', '!', '한적이있다', '관계없이', '솨', '다수', '{', '*', '얼마간', '하구나', '하고 있다', '따지지 않다', '그에 따르는', '까지도', '그래', '의거하여', '기점으로', '와 같은 사람들', '여섯', '여전히', '그러한즉', '?', '뿐만 아니라', '바꾸어서 말하면', '설마', '졸졸', '의해', '지든지', '입장에서', '가까스로', '예', '점에서 보아', '이와 같은', '누가 알겠는가', '줄은모른다', '뚝뚝', '그런즉', '칠', '양자', '전자', '그러면', '우리', '버금', '#', '겨우', '좀', '틈타', '우리들', '해야한다', '대하여', '바꾸어서 한다면', '할줄알다', '\\\\', '와아', '쿵', '의지하여', '영', '이렇게말하자면', '그들', '마저도', '$', '하지마라', '허걱', '조차도', '무렵', '하겠는가', '말할것도 없고', '소생', ']', '휴', '그렇지만', '정보', '타인', '마치', '오르다', '붕붕', '한항목', '알 수 있다', '뿐만아니라', '진짜로', '주룩주룩', '뒤따라', '해도된다', '아하', '형식으로 쓰여', '얼마 안 되는 것', ',', '가령', '대로 하다', '뉴스', '즉', '토하다'}\n"
     ]
    },
    {
     "data": {
      "application/vnd.jupyter.widget-view+json": {
       "model_id": "a649259c1dbc4cb982ab41cd9ce39ed8",
       "version_major": 2,
       "version_minor": 0
      },
      "text/plain": [
       "HBox(children=(FloatProgress(value=0.0, description='Preprocessing', max=30.0, style=ProgressStyle(description…"
      ]
     },
     "metadata": {},
     "output_type": "display_data"
    },
    {
     "name": "stdout",
     "output_type": "stream",
     "text": [
      "\n",
      "end :: 식품 | 명절 | 섭취 | 방법 | 기능 | 때문 | 추가 | 경우 | 사람 | 조리\n",
      "3번째 반복 중\n",
      "start :: 식품 | 명절 | 섭취 | 방법 | 기능 | 때문 | 추가 | 경우 | 사람 | 조리+\"음식 건강\"\n"
     ]
    },
    {
     "data": {
      "application/vnd.jupyter.widget-view+json": {
       "model_id": "8dd21ff48b694897962fa9f285fda38e",
       "version_major": 2,
       "version_minor": 0
      },
      "text/plain": [
       "HBox(children=(FloatProgress(value=0.0, max=30.0), HTML(value='')))"
      ]
     },
     "metadata": {},
     "output_type": "display_data"
    },
    {
     "name": "stdout",
     "output_type": "stream",
     "text": [
      "\n"
     ]
    },
    {
     "data": {
      "application/vnd.jupyter.widget-view+json": {
       "model_id": "02f14aab838745e499703dd7e9cc7226",
       "version_major": 2,
       "version_minor": 0
      },
      "text/plain": [
       "HBox(children=(FloatProgress(value=0.0, max=30.0), HTML(value='')))"
      ]
     },
     "metadata": {},
     "output_type": "display_data"
    },
    {
     "data": {
      "application/vnd.jupyter.widget-view+json": {
       "model_id": "9ad712e8efee44268789da727e1afe3f",
       "version_major": 2,
       "version_minor": 0
      },
      "text/plain": [
       "HBox(children=(FloatProgress(value=0.0, max=3.0), HTML(value='')))"
      ]
     },
     "metadata": {},
     "output_type": "display_data"
    },
    {
     "name": "stdout",
     "output_type": "stream",
     "text": [
      "\n"
     ]
    },
    {
     "data": {
      "application/vnd.jupyter.widget-view+json": {
       "model_id": "11c841d9e5c74a74bcd9a06feea3eba5",
       "version_major": 2,
       "version_minor": 0
      },
      "text/plain": [
       "HBox(children=(FloatProgress(value=0.0, max=3.0), HTML(value='')))"
      ]
     },
     "metadata": {},
     "output_type": "display_data"
    },
    {
     "name": "stdout",
     "output_type": "stream",
     "text": [
      "\n"
     ]
    },
    {
     "data": {
      "application/vnd.jupyter.widget-view+json": {
       "model_id": "92ff2fdfe3584f718130e0df6d8b6c53",
       "version_major": 2,
       "version_minor": 0
      },
      "text/plain": [
       "HBox(children=(FloatProgress(value=0.0, max=4.0), HTML(value='')))"
      ]
     },
     "metadata": {},
     "output_type": "display_data"
    },
    {
     "name": "stdout",
     "output_type": "stream",
     "text": [
      "\n"
     ]
    },
    {
     "data": {
      "application/vnd.jupyter.widget-view+json": {
       "model_id": "be659bb71bdb450a9e4a7cb1f43039da",
       "version_major": 2,
       "version_minor": 0
      },
      "text/plain": [
       "HBox(children=(FloatProgress(value=0.0, max=1.0), HTML(value='')))"
      ]
     },
     "metadata": {},
     "output_type": "display_data"
    },
    {
     "name": "stdout",
     "output_type": "stream",
     "text": [
      "\n"
     ]
    },
    {
     "data": {
      "application/vnd.jupyter.widget-view+json": {
       "model_id": "095b43bf5c5c4fdfa525738fd36a62f2",
       "version_major": 2,
       "version_minor": 0
      },
      "text/plain": [
       "HBox(children=(FloatProgress(value=0.0, max=4.0), HTML(value='')))"
      ]
     },
     "metadata": {},
     "output_type": "display_data"
    },
    {
     "name": "stdout",
     "output_type": "stream",
     "text": [
      "\n"
     ]
    },
    {
     "data": {
      "application/vnd.jupyter.widget-view+json": {
       "model_id": "c8160c7edb88407f95d1c277720d7ec5",
       "version_major": 2,
       "version_minor": 0
      },
      "text/plain": [
       "HBox(children=(FloatProgress(value=0.0, max=4.0), HTML(value='')))"
      ]
     },
     "metadata": {},
     "output_type": "display_data"
    },
    {
     "name": "stdout",
     "output_type": "stream",
     "text": [
      "\n"
     ]
    },
    {
     "data": {
      "application/vnd.jupyter.widget-view+json": {
       "model_id": "55f57eda523245b3837a6ae5892721d8",
       "version_major": 2,
       "version_minor": 0
      },
      "text/plain": [
       "HBox(children=(FloatProgress(value=0.0, max=2.0), HTML(value='')))"
      ]
     },
     "metadata": {},
     "output_type": "display_data"
    },
    {
     "name": "stdout",
     "output_type": "stream",
     "text": [
      "\n"
     ]
    },
    {
     "data": {
      "application/vnd.jupyter.widget-view+json": {
       "model_id": "19b313e282d24446853c750fad6449b8",
       "version_major": 2,
       "version_minor": 0
      },
      "text/plain": [
       "HBox(children=(FloatProgress(value=0.0, max=2.0), HTML(value='')))"
      ]
     },
     "metadata": {},
     "output_type": "display_data"
    },
    {
     "name": "stdout",
     "output_type": "stream",
     "text": [
      "\n"
     ]
    },
    {
     "data": {
      "application/vnd.jupyter.widget-view+json": {
       "model_id": "a994483b1aa34eaaa86c138a345b6654",
       "version_major": 2,
       "version_minor": 0
      },
      "text/plain": [
       "HBox(children=(FloatProgress(value=0.0, max=3.0), HTML(value='')))"
      ]
     },
     "metadata": {},
     "output_type": "display_data"
    },
    {
     "name": "stdout",
     "output_type": "stream",
     "text": [
      "\n"
     ]
    },
    {
     "data": {
      "application/vnd.jupyter.widget-view+json": {
       "model_id": "0d7bf88c08e941f19975d68d63d99f2b",
       "version_major": 2,
       "version_minor": 0
      },
      "text/plain": [
       "HBox(children=(FloatProgress(value=0.0, max=2.0), HTML(value='')))"
      ]
     },
     "metadata": {},
     "output_type": "display_data"
    },
    {
     "name": "stdout",
     "output_type": "stream",
     "text": [
      "\n"
     ]
    },
    {
     "data": {
      "application/vnd.jupyter.widget-view+json": {
       "model_id": "9e71d377e91c413e991ad08844131d9e",
       "version_major": 2,
       "version_minor": 0
      },
      "text/plain": [
       "HBox(children=(FloatProgress(value=0.0, max=1.0), HTML(value='')))"
      ]
     },
     "metadata": {},
     "output_type": "display_data"
    },
    {
     "name": "stdout",
     "output_type": "stream",
     "text": [
      "\n"
     ]
    },
    {
     "data": {
      "application/vnd.jupyter.widget-view+json": {
       "model_id": "f512b6346b254f3da80a55b5e066864f",
       "version_major": 2,
       "version_minor": 0
      },
      "text/plain": [
       "HBox(children=(FloatProgress(value=0.0, max=3.0), HTML(value='')))"
      ]
     },
     "metadata": {},
     "output_type": "display_data"
    },
    {
     "name": "stdout",
     "output_type": "stream",
     "text": [
      "\n"
     ]
    },
    {
     "data": {
      "application/vnd.jupyter.widget-view+json": {
       "model_id": "6446bded36ed4106950704fb5aba3074",
       "version_major": 2,
       "version_minor": 0
      },
      "text/plain": [
       "HBox(children=(FloatProgress(value=0.0, max=7.0), HTML(value='')))"
      ]
     },
     "metadata": {},
     "output_type": "display_data"
    },
    {
     "name": "stdout",
     "output_type": "stream",
     "text": [
      "\n"
     ]
    },
    {
     "data": {
      "application/vnd.jupyter.widget-view+json": {
       "model_id": "f7a2226a4f6941ca8383c4382fa8ae94",
       "version_major": 2,
       "version_minor": 0
      },
      "text/plain": [
       "HBox(children=(FloatProgress(value=0.0, max=3.0), HTML(value='')))"
      ]
     },
     "metadata": {},
     "output_type": "display_data"
    },
    {
     "name": "stdout",
     "output_type": "stream",
     "text": [
      "\n"
     ]
    },
    {
     "data": {
      "application/vnd.jupyter.widget-view+json": {
       "model_id": "9667a23d5edd4f79982221b4bb48e89e",
       "version_major": 2,
       "version_minor": 0
      },
      "text/plain": [
       "HBox(children=(FloatProgress(value=0.0, max=9.0), HTML(value='')))"
      ]
     },
     "metadata": {},
     "output_type": "display_data"
    },
    {
     "name": "stdout",
     "output_type": "stream",
     "text": [
      "\n"
     ]
    },
    {
     "data": {
      "application/vnd.jupyter.widget-view+json": {
       "model_id": "c380a06ab19744ce8181718976bff374",
       "version_major": 2,
       "version_minor": 0
      },
      "text/plain": [
       "HBox(children=(FloatProgress(value=0.0, max=7.0), HTML(value='')))"
      ]
     },
     "metadata": {},
     "output_type": "display_data"
    },
    {
     "name": "stdout",
     "output_type": "stream",
     "text": [
      "\n"
     ]
    },
    {
     "data": {
      "application/vnd.jupyter.widget-view+json": {
       "model_id": "6549d64359c04bb6ae6961cef09ff2ff",
       "version_major": 2,
       "version_minor": 0
      },
      "text/plain": [
       "HBox(children=(FloatProgress(value=0.0, max=3.0), HTML(value='')))"
      ]
     },
     "metadata": {},
     "output_type": "display_data"
    },
    {
     "name": "stdout",
     "output_type": "stream",
     "text": [
      "\n"
     ]
    },
    {
     "data": {
      "application/vnd.jupyter.widget-view+json": {
       "model_id": "e077c3818d62412a984d7f7610891d70",
       "version_major": 2,
       "version_minor": 0
      },
      "text/plain": [
       "HBox(children=(FloatProgress(value=0.0, max=3.0), HTML(value='')))"
      ]
     },
     "metadata": {},
     "output_type": "display_data"
    },
    {
     "name": "stdout",
     "output_type": "stream",
     "text": [
      "\n"
     ]
    },
    {
     "data": {
      "application/vnd.jupyter.widget-view+json": {
       "model_id": "10e21a861cee4b55bbe9c701404a8da6",
       "version_major": 2,
       "version_minor": 0
      },
      "text/plain": [
       "HBox(children=(FloatProgress(value=0.0, max=4.0), HTML(value='')))"
      ]
     },
     "metadata": {},
     "output_type": "display_data"
    },
    {
     "name": "stdout",
     "output_type": "stream",
     "text": [
      "\n"
     ]
    },
    {
     "data": {
      "application/vnd.jupyter.widget-view+json": {
       "model_id": "39e109f5b05f4edd809a8562629be7c8",
       "version_major": 2,
       "version_minor": 0
      },
      "text/plain": [
       "HBox(children=(FloatProgress(value=0.0, max=5.0), HTML(value='')))"
      ]
     },
     "metadata": {},
     "output_type": "display_data"
    },
    {
     "name": "stdout",
     "output_type": "stream",
     "text": [
      "\n"
     ]
    },
    {
     "data": {
      "application/vnd.jupyter.widget-view+json": {
       "model_id": "7e70e136cda541e19dc432576774ba9b",
       "version_major": 2,
       "version_minor": 0
      },
      "text/plain": [
       "HBox(children=(FloatProgress(value=0.0, max=5.0), HTML(value='')))"
      ]
     },
     "metadata": {},
     "output_type": "display_data"
    },
    {
     "name": "stdout",
     "output_type": "stream",
     "text": [
      "\n"
     ]
    },
    {
     "data": {
      "application/vnd.jupyter.widget-view+json": {
       "model_id": "ead61025632745e98e7400017bee7227",
       "version_major": 2,
       "version_minor": 0
      },
      "text/plain": [
       "HBox(children=(FloatProgress(value=0.0, max=4.0), HTML(value='')))"
      ]
     },
     "metadata": {},
     "output_type": "display_data"
    },
    {
     "name": "stdout",
     "output_type": "stream",
     "text": [
      "\n"
     ]
    },
    {
     "data": {
      "application/vnd.jupyter.widget-view+json": {
       "model_id": "40234f3594c146139e9eadfb6adac680",
       "version_major": 2,
       "version_minor": 0
      },
      "text/plain": [
       "HBox(children=(FloatProgress(value=0.0, max=7.0), HTML(value='')))"
      ]
     },
     "metadata": {},
     "output_type": "display_data"
    },
    {
     "name": "stdout",
     "output_type": "stream",
     "text": [
      "\n"
     ]
    },
    {
     "data": {
      "application/vnd.jupyter.widget-view+json": {
       "model_id": "d875e478997e4eea8e035dde269d6e41",
       "version_major": 2,
       "version_minor": 0
      },
      "text/plain": [
       "HBox(children=(FloatProgress(value=0.0, max=2.0), HTML(value='')))"
      ]
     },
     "metadata": {},
     "output_type": "display_data"
    },
    {
     "name": "stdout",
     "output_type": "stream",
     "text": [
      "\n"
     ]
    },
    {
     "data": {
      "application/vnd.jupyter.widget-view+json": {
       "model_id": "cbc2c9b548ea42c8bf5ac7aaa7a3d7ea",
       "version_major": 2,
       "version_minor": 0
      },
      "text/plain": [
       "HBox(children=(FloatProgress(value=0.0, max=7.0), HTML(value='')))"
      ]
     },
     "metadata": {},
     "output_type": "display_data"
    },
    {
     "name": "stdout",
     "output_type": "stream",
     "text": [
      "\n"
     ]
    },
    {
     "data": {
      "application/vnd.jupyter.widget-view+json": {
       "model_id": "c05a0a14833c493d8ebd52ffba3874d2",
       "version_major": 2,
       "version_minor": 0
      },
      "text/plain": [
       "HBox(children=(FloatProgress(value=0.0, max=7.0), HTML(value='')))"
      ]
     },
     "metadata": {},
     "output_type": "display_data"
    },
    {
     "name": "stdout",
     "output_type": "stream",
     "text": [
      "\n"
     ]
    },
    {
     "data": {
      "application/vnd.jupyter.widget-view+json": {
       "model_id": "4e7a413de62841f3b79a472622b4d29d",
       "version_major": 2,
       "version_minor": 0
      },
      "text/plain": [
       "HBox(children=(FloatProgress(value=0.0, max=7.0), HTML(value='')))"
      ]
     },
     "metadata": {},
     "output_type": "display_data"
    },
    {
     "name": "stdout",
     "output_type": "stream",
     "text": [
      "\n"
     ]
    },
    {
     "data": {
      "application/vnd.jupyter.widget-view+json": {
       "model_id": "b81fd882d1aa4560bcee7f4a7a6ab8df",
       "version_major": 2,
       "version_minor": 0
      },
      "text/plain": [
       "HBox(children=(FloatProgress(value=0.0, max=10.0), HTML(value='')))"
      ]
     },
     "metadata": {},
     "output_type": "display_data"
    },
    {
     "name": "stdout",
     "output_type": "stream",
     "text": [
      "\n"
     ]
    },
    {
     "data": {
      "application/vnd.jupyter.widget-view+json": {
       "model_id": "8a2fe91dc96b4fada2025fb7d84d041e",
       "version_major": 2,
       "version_minor": 0
      },
      "text/plain": [
       "HBox(children=(FloatProgress(value=0.0, max=9.0), HTML(value='')))"
      ]
     },
     "metadata": {},
     "output_type": "display_data"
    },
    {
     "name": "stdout",
     "output_type": "stream",
     "text": [
      "\n"
     ]
    },
    {
     "data": {
      "application/vnd.jupyter.widget-view+json": {
       "model_id": "31675c4a5f2840aaab584fb09ce01c84",
       "version_major": 2,
       "version_minor": 0
      },
      "text/plain": [
       "HBox(children=(FloatProgress(value=0.0, max=8.0), HTML(value='')))"
      ]
     },
     "metadata": {},
     "output_type": "display_data"
    },
    {
     "name": "stdout",
     "output_type": "stream",
     "text": [
      "\n",
      "\n",
      "{'무엇', '이리하여', '한 까닭에', '+', '시작하여', '하려고하다', '어찌', '그렇지 않으면', '이라면', '힘입어', '나', '가', '잇따라', '때문', '만이 아니다', '툭', ':', '아울러', '어떻게', '된바에야', '이젠', '매', '봐', '이', '그저', '또한', '한마디', '하면된다', '연관되다', '한켠으로는', '까악', '하기는한데', '동안', '}', '약간', '하물며', '아니라면', '결론을 낼 수 있다', '어느해', '외에도', '한다면 몰라도', '아래윗', '어떠한', '부터', '헐떡헐떡', '허', '어느쪽', '하기 위하여', '하도다', '끙끙', '할뿐', '하기만 하면', '제각기', '위하여', '할 지경이다', '여보시오', '라 해도', '그러니', '했어요', '엉엉', '두번째로', '만약에', '저기', '이렇게되면', '물론', '과연', '모두', '것들', '해도좋다', '이봐', '한 후', '것과 같이', '여기', '삐걱', '제외하고', '로부터', '총적으로', '년', '매번', '주저하지 않고', '하는바', '도착하다', '따위', '여러분', '게우다', '누구', '된이상', '즈음하여', '등등', \"'\", '저', '향해서', '동시에', '거니와', '참나', '~', '아무거나', '이러한', '견지에서', '바와같이', '어찌하든지', '사', '줄은 몰랏다', '그치지 않다', '와', '한다면', '어찌됏어', '하는것도', '이 정도의', '펄렁', '하는것만 못하다', '너', '얼마만큼', '휘익', '아이고', '시각', '로써', '겸사겸사', '이럴정도로', '관계가 있다', '둥둥', '쪽으로', '비로소', '훨씬', '예하면', '뒤이어', '있다', '참', '이 밖에', '까지', '않기 위하여', '그', '하여야', '를', '개의치않고', '결과에 이르다', '본문', '타다', '소인', '요만큼', '이상', '어떤것', '앞에서', '어찌하여', '의', '하느니', '대해 말하자면', '그러니까', '구토하다', '이용하여', '댕그', '생각한대로', '기타', '다음으로', '이외에도', '아이쿠', '과', '보는데서', '바꾸어말하면', '로', '어기여차', '메쓰겁다', '무슨', '실로', '논하지 않다', '더불어', '오히려', '막론하고', '할지라도', '딩동', '다만', '이런', '몇', '설사', '하기 때문에', '혹은', '우에 종합한것과같이', '습니까', '아니', '하도록하다', '도달하다', '더라도', '보드득', '만큼\\t어찌됏든', '관한', '이러이러하다', '하', '이것', '쾅쾅', '아니었다면', '그렇지않으면', '만 못하다\\t하기보다는', '다섯', '륙', '팔', '각자', '하나', '이와같다면', '이래', '하더라도', '비추어 보아', '즉시', '하지마', '같이', '각종', ')', '등', '저것', '그럼', '위해서', '여덟', '보다더', '곧', '더군다나', '그리고', '얼마', '다른 방면으로', '때가 되어', '무엇때문에', '나머지는', '콸콸', '흐흐', '각각', '에 가서', '퍽', '설령', '심지어', '바꿔 말하면', '삼', '해봐요', '-', '혹시', '.', '까지 미치다', '어떤', '팍', '인 듯하다', '@', '응당', '으로', '일지라도', '봐라', '음식', '에 한하다', '그중에서', '전후', '만 못하다', '언제', '그만이다', '이로 인하여', '윙윙', '우선', '그럼에도 불구하고', '갖고말하자면', '관해서는', '아이', '그위에', '어디', '응', '일것이다', '[', '의해되다', '이와 같다', '중에서', '더욱이는', '및', '그런 까닭에', '삐걱거리다', '결국', '까닭으로', '어느 년도', '부류의 사람들', '할 생각이다', '이 되다', '이 외에', '예컨대', '에', '향하다', '만은 아니다', '/', '반대로', '\"', '반드시', '어떤것들', '또', '예를 들면', '야', '일곱', '함께', '전부', '오직', '헉', '말하자면', '이때', '이천팔', '근거로', '더욱더', '해요', '다시말하면', '오호', '일', '경우', '의해서', '할만하다', '어쨋든', '(', '이천구', '이곳', '오자마자', '같다', '그래도', '에 있다', '않기 위해서', '이천육', '`', '이만큼', '통하여', '헉헉', '_', '첫번째로', '그런데', '다음', '구체적으로', '꽈당', '얼마든지', '바로', '으로써', '우르르', '하게하다', '오', '^', '향하여', '고로', '하게될것이다', '정도에 이르다', '안 그러면', '조금', '하는것이 낫다', '아무도', '그렇지', '기준으로', '하지만', '|', '이와 반대로', '본대로', '각', '아', '와르르', '흥', '다소', '둘', '비하면', '할 줄 안다', '시초에', '여', '영차', '거의', '자마자', '지말고', '혼자', '공동으로', '하자마자', '이천칠', '저쪽', '때문에', ';', '어', '이지만', '다시 말하자면', '언젠가', '임에 틀림없다', '습니다', '령', '대하면', '하도록시키다', '놀라다', '입각하여', '구', '인젠', '아이구', '추가', '어떻해', '운운', '이유만으로', '비교적', '더구나', '하고있었다', '할때', '하든지', '이쪽', '셋', '만일', '에서', '쳇', '어느것', '한데', '좍좍', '비길수 없다', '기대여', '하지 않는다면', '자기', '만약', '이었다', '어째서', '고려하면', '이 때문에', '따라', '자기집', '비걱거리다', '당장', '답다', '으로 인하여', '앞의것', '월', '사용', '하기에', '어이', '옆사람', '넷', '아홉', '할수있다', '왜', '알았어', '때', '이렇구나', '할지언정', '한 이유는', '저것만큼', '그렇게 함으로써', '그렇지 않다면', '차라리', '자신', '로 인하여', '여부', '남들', '허허', '무릎쓰고', '어느때', '근거하여', '예를 들자면', '에게', '관련이 있다', '마저', '<', '관하여', '에 대해', '육', '하마터면', '다른', '당신', '하여금', '끼익', '하는 편이 낫다', '요컨대', '그리하여', '아니면', '지만', '여차', '대해서', '들', '그러나', '연이서', '그때', '어쩔수 없다', '제', '이렇게 많은 것', '얼마나', '비슷하다', '왜냐하면', '총적으로 보면', '으로서', '조차', '거바', '따라서', '어때', '반대로 말하자면', '이르기까지', '하는 김에', '든간에', '비록', '하면서', '일단', '바꾸어말하자면', '단지', '다음에', '아야', '하곤하였다', '이어서', '자', '불구하고', '총적으로 말하면', '오로지', '&', '좋아', '시간', '하기보다는', '딱', '마음대로', '너희', '네', '모', '%', '하면 할수록', '저희', '할망정', '얼마큼', '퉤', '에 달려 있다', '할 힘이 있다', '너희들', '쉿', '아이야', '>', '이번', '해서는 안된다', '탕탕', '요만한 것', '중의하나', '을', '남짓', '밖에 안된다', '일때', '할 따름이다', '그러므로', '상대적으로 말하자면', '하하', '=', '게다가', '어느곳', '할수있어', '요만한걸', '하지 않도록', '불문하고', '일반적으로', '아니나다를가', '앗', '뿐이다', '잠깐', '내용', '플레이어', '시키다', '어느', '잠시', '위에서 서술한바와같이', '건강', '것', '그래서', '!', '한적이있다', '관계없이', '솨', '다수', '{', '*', '얼마간', '하구나', '하고 있다', '따지지 않다', '그에 따르는', '까지도', '그래', '의거하여', '기점으로', '와 같은 사람들', '여섯', '여전히', '그러한즉', '?', '뿐만 아니라', '바꾸어서 말하면', '설마', '졸졸', '의해', '지든지', '입장에서', '가까스로', '예', '점에서 보아', '이와 같은', '누가 알겠는가', '줄은모른다', '뚝뚝', '그런즉', '칠', '양자', '전자', '그러면', '우리', '버금', '#', '겨우', '좀', '틈타', '우리들', '해야한다', '대하여', '바꾸어서 한다면', '할줄알다', '\\\\', '와아', '쿵', '의지하여', '영', '이렇게말하자면', '그들', '마저도', '$', '하지마라', '허걱', '조차도', '무렵', '하겠는가', '말할것도 없고', '소생', ']', '휴', '그렇지만', '정보', '타인', '마치', '오르다', '붕붕', '한항목', '알 수 있다', '뿐만아니라', '진짜로', '주룩주룩', '뒤따라', '해도된다', '아하', '형식으로 쓰여', '얼마 안 되는 것', ',', '가령', '대로 하다', '뉴스', '즉', '토하다'}\n"
     ]
    },
    {
     "data": {
      "application/vnd.jupyter.widget-view+json": {
       "model_id": "07fc07114ea741d896b7a73f130dcae1",
       "version_major": 2,
       "version_minor": 0
      },
      "text/plain": [
       "HBox(children=(FloatProgress(value=0.0, description='Preprocessing', max=30.0, style=ProgressStyle(description…"
      ]
     },
     "metadata": {},
     "output_type": "display_data"
    },
    {
     "name": "stdout",
     "output_type": "stream",
     "text": [
      "\n",
      "end :: 식품 | 명절 | 섭취 | 조리 | 방법 | 기능 | 사람 | 보관 | 함수 | 다이어트\n",
      "4번째 반복 중\n",
      "start :: 식품 | 명절 | 섭취 | 조리 | 방법 | 기능 | 사람 | 보관 | 함수 | 다이어트+\"음식 건강\"\n"
     ]
    },
    {
     "data": {
      "application/vnd.jupyter.widget-view+json": {
       "model_id": "6ac3628fd9fe4f81995c1cc1b285a123",
       "version_major": 2,
       "version_minor": 0
      },
      "text/plain": [
       "HBox(children=(FloatProgress(value=0.0, max=30.0), HTML(value='')))"
      ]
     },
     "metadata": {},
     "output_type": "display_data"
    },
    {
     "name": "stdout",
     "output_type": "stream",
     "text": [
      "\n"
     ]
    },
    {
     "data": {
      "application/vnd.jupyter.widget-view+json": {
       "model_id": "46c0f31d93434839b6d9622bff688c63",
       "version_major": 2,
       "version_minor": 0
      },
      "text/plain": [
       "HBox(children=(FloatProgress(value=0.0, max=30.0), HTML(value='')))"
      ]
     },
     "metadata": {},
     "output_type": "display_data"
    },
    {
     "data": {
      "application/vnd.jupyter.widget-view+json": {
       "model_id": "3308769c248c40f3948e23493f074e7a",
       "version_major": 2,
       "version_minor": 0
      },
      "text/plain": [
       "HBox(children=(FloatProgress(value=0.0, max=2.0), HTML(value='')))"
      ]
     },
     "metadata": {},
     "output_type": "display_data"
    },
    {
     "name": "stdout",
     "output_type": "stream",
     "text": [
      "\n"
     ]
    },
    {
     "data": {
      "application/vnd.jupyter.widget-view+json": {
       "model_id": "9f1ecaa524214b11ae7bb1f4cc7af251",
       "version_major": 2,
       "version_minor": 0
      },
      "text/plain": [
       "HBox(children=(FloatProgress(value=0.0, max=4.0), HTML(value='')))"
      ]
     },
     "metadata": {},
     "output_type": "display_data"
    },
    {
     "name": "stdout",
     "output_type": "stream",
     "text": [
      "\n"
     ]
    },
    {
     "data": {
      "application/vnd.jupyter.widget-view+json": {
       "model_id": "ad1586b9195643b0b021c9f7ce1968ea",
       "version_major": 2,
       "version_minor": 0
      },
      "text/plain": [
       "HBox(children=(FloatProgress(value=0.0, max=3.0), HTML(value='')))"
      ]
     },
     "metadata": {},
     "output_type": "display_data"
    },
    {
     "name": "stdout",
     "output_type": "stream",
     "text": [
      "\n"
     ]
    },
    {
     "data": {
      "application/vnd.jupyter.widget-view+json": {
       "model_id": "568b4f70854340978b0de05bd8d2732f",
       "version_major": 2,
       "version_minor": 0
      },
      "text/plain": [
       "HBox(children=(FloatProgress(value=0.0, max=2.0), HTML(value='')))"
      ]
     },
     "metadata": {},
     "output_type": "display_data"
    },
    {
     "name": "stdout",
     "output_type": "stream",
     "text": [
      "\n"
     ]
    },
    {
     "data": {
      "application/vnd.jupyter.widget-view+json": {
       "model_id": "0b8c8a347a454ec787c3cf71fb7051b7",
       "version_major": 2,
       "version_minor": 0
      },
      "text/plain": [
       "HBox(children=(FloatProgress(value=0.0, max=4.0), HTML(value='')))"
      ]
     },
     "metadata": {},
     "output_type": "display_data"
    },
    {
     "name": "stdout",
     "output_type": "stream",
     "text": [
      "\n"
     ]
    },
    {
     "data": {
      "application/vnd.jupyter.widget-view+json": {
       "model_id": "4c3ffcfd8d4e4572ad7a61c0b1764c46",
       "version_major": 2,
       "version_minor": 0
      },
      "text/plain": [
       "HBox(children=(FloatProgress(value=0.0, max=4.0), HTML(value='')))"
      ]
     },
     "metadata": {},
     "output_type": "display_data"
    },
    {
     "name": "stdout",
     "output_type": "stream",
     "text": [
      "\n"
     ]
    },
    {
     "data": {
      "application/vnd.jupyter.widget-view+json": {
       "model_id": "e13789799d074b438d92aea51085eb2a",
       "version_major": 2,
       "version_minor": 0
      },
      "text/plain": [
       "HBox(children=(FloatProgress(value=0.0, max=1.0), HTML(value='')))"
      ]
     },
     "metadata": {},
     "output_type": "display_data"
    },
    {
     "name": "stdout",
     "output_type": "stream",
     "text": [
      "\n"
     ]
    },
    {
     "data": {
      "application/vnd.jupyter.widget-view+json": {
       "model_id": "f705a5c2d357401fa945c66ec2394d6f",
       "version_major": 2,
       "version_minor": 0
      },
      "text/plain": [
       "HBox(children=(FloatProgress(value=0.0, max=4.0), HTML(value='')))"
      ]
     },
     "metadata": {},
     "output_type": "display_data"
    },
    {
     "name": "stdout",
     "output_type": "stream",
     "text": [
      "\n"
     ]
    },
    {
     "data": {
      "application/vnd.jupyter.widget-view+json": {
       "model_id": "945731fe3a114ca2ae7db09618e151c3",
       "version_major": 2,
       "version_minor": 0
      },
      "text/plain": [
       "HBox(children=(FloatProgress(value=0.0, max=2.0), HTML(value='')))"
      ]
     },
     "metadata": {},
     "output_type": "display_data"
    },
    {
     "name": "stdout",
     "output_type": "stream",
     "text": [
      "\n"
     ]
    },
    {
     "data": {
      "application/vnd.jupyter.widget-view+json": {
       "model_id": "57f6f91906b2470c98ea199a2120b286",
       "version_major": 2,
       "version_minor": 0
      },
      "text/plain": [
       "HBox(children=(FloatProgress(value=0.0, max=2.0), HTML(value='')))"
      ]
     },
     "metadata": {},
     "output_type": "display_data"
    },
    {
     "name": "stdout",
     "output_type": "stream",
     "text": [
      "\n"
     ]
    },
    {
     "data": {
      "application/vnd.jupyter.widget-view+json": {
       "model_id": "c40e78e6a3854eb9980eb4e5cc92bb2e",
       "version_major": 2,
       "version_minor": 0
      },
      "text/plain": [
       "HBox(children=(FloatProgress(value=1.0, bar_style='info', max=1.0), HTML(value='')))"
      ]
     },
     "metadata": {},
     "output_type": "display_data"
    },
    {
     "name": "stdout",
     "output_type": "stream",
     "text": [
      "\n"
     ]
    },
    {
     "data": {
      "application/vnd.jupyter.widget-view+json": {
       "model_id": "591d31aee6734174aa686fdde1f04214",
       "version_major": 2,
       "version_minor": 0
      },
      "text/plain": [
       "HBox(children=(FloatProgress(value=0.0, max=6.0), HTML(value='')))"
      ]
     },
     "metadata": {},
     "output_type": "display_data"
    },
    {
     "name": "stdout",
     "output_type": "stream",
     "text": [
      "\n"
     ]
    },
    {
     "data": {
      "application/vnd.jupyter.widget-view+json": {
       "model_id": "c98b9bf4a17a4db18aa102fb74e35efd",
       "version_major": 2,
       "version_minor": 0
      },
      "text/plain": [
       "HBox(children=(FloatProgress(value=0.0, max=4.0), HTML(value='')))"
      ]
     },
     "metadata": {},
     "output_type": "display_data"
    },
    {
     "name": "stdout",
     "output_type": "stream",
     "text": [
      "\n"
     ]
    },
    {
     "data": {
      "application/vnd.jupyter.widget-view+json": {
       "model_id": "28885e3173a24746a6b4c20a0e37c0f1",
       "version_major": 2,
       "version_minor": 0
      },
      "text/plain": [
       "HBox(children=(FloatProgress(value=0.0, max=6.0), HTML(value='')))"
      ]
     },
     "metadata": {},
     "output_type": "display_data"
    },
    {
     "name": "stdout",
     "output_type": "stream",
     "text": [
      "\n"
     ]
    },
    {
     "data": {
      "application/vnd.jupyter.widget-view+json": {
       "model_id": "117b84630f0a488d94ca3de4d38bba93",
       "version_major": 2,
       "version_minor": 0
      },
      "text/plain": [
       "HBox(children=(FloatProgress(value=0.0, max=10.0), HTML(value='')))"
      ]
     },
     "metadata": {},
     "output_type": "display_data"
    },
    {
     "name": "stdout",
     "output_type": "stream",
     "text": [
      "\n"
     ]
    },
    {
     "data": {
      "application/vnd.jupyter.widget-view+json": {
       "model_id": "d146716ff0ab43a2b10cc5eecea6fdf2",
       "version_major": 2,
       "version_minor": 0
      },
      "text/plain": [
       "HBox(children=(FloatProgress(value=0.0, max=4.0), HTML(value='')))"
      ]
     },
     "metadata": {},
     "output_type": "display_data"
    },
    {
     "name": "stdout",
     "output_type": "stream",
     "text": [
      "\n"
     ]
    },
    {
     "data": {
      "application/vnd.jupyter.widget-view+json": {
       "model_id": "e490fb130fa043c788eaac29c25c51c4",
       "version_major": 2,
       "version_minor": 0
      },
      "text/plain": [
       "HBox(children=(FloatProgress(value=0.0, max=4.0), HTML(value='')))"
      ]
     },
     "metadata": {},
     "output_type": "display_data"
    },
    {
     "name": "stdout",
     "output_type": "stream",
     "text": [
      "\n"
     ]
    },
    {
     "data": {
      "application/vnd.jupyter.widget-view+json": {
       "model_id": "a100947944c14c37807d344d1226935a",
       "version_major": 2,
       "version_minor": 0
      },
      "text/plain": [
       "HBox(children=(FloatProgress(value=0.0, max=4.0), HTML(value='')))"
      ]
     },
     "metadata": {},
     "output_type": "display_data"
    },
    {
     "name": "stdout",
     "output_type": "stream",
     "text": [
      "\n"
     ]
    },
    {
     "data": {
      "application/vnd.jupyter.widget-view+json": {
       "model_id": "a096e8ba977c4943b7b4dd6a6760ce5a",
       "version_major": 2,
       "version_minor": 0
      },
      "text/plain": [
       "HBox(children=(FloatProgress(value=0.0, max=3.0), HTML(value='')))"
      ]
     },
     "metadata": {},
     "output_type": "display_data"
    },
    {
     "name": "stdout",
     "output_type": "stream",
     "text": [
      "\n"
     ]
    },
    {
     "data": {
      "application/vnd.jupyter.widget-view+json": {
       "model_id": "28ad9ff4cf10411195db6c06089c7f85",
       "version_major": 2,
       "version_minor": 0
      },
      "text/plain": [
       "HBox(children=(FloatProgress(value=0.0, max=4.0), HTML(value='')))"
      ]
     },
     "metadata": {},
     "output_type": "display_data"
    },
    {
     "name": "stdout",
     "output_type": "stream",
     "text": [
      "\n"
     ]
    },
    {
     "data": {
      "application/vnd.jupyter.widget-view+json": {
       "model_id": "dbf22bfb081e4827b7a8c19ad1c737cf",
       "version_major": 2,
       "version_minor": 0
      },
      "text/plain": [
       "HBox(children=(FloatProgress(value=0.0, max=6.0), HTML(value='')))"
      ]
     },
     "metadata": {},
     "output_type": "display_data"
    },
    {
     "name": "stdout",
     "output_type": "stream",
     "text": [
      "\n"
     ]
    },
    {
     "data": {
      "application/vnd.jupyter.widget-view+json": {
       "model_id": "4ee33d59c4fa41889d65b853dcbd0041",
       "version_major": 2,
       "version_minor": 0
      },
      "text/plain": [
       "HBox(children=(FloatProgress(value=0.0, max=6.0), HTML(value='')))"
      ]
     },
     "metadata": {},
     "output_type": "display_data"
    },
    {
     "name": "stdout",
     "output_type": "stream",
     "text": [
      "\n"
     ]
    },
    {
     "data": {
      "application/vnd.jupyter.widget-view+json": {
       "model_id": "366e819396d440a59dd2f354da27ada2",
       "version_major": 2,
       "version_minor": 0
      },
      "text/plain": [
       "HBox(children=(FloatProgress(value=0.0, max=4.0), HTML(value='')))"
      ]
     },
     "metadata": {},
     "output_type": "display_data"
    },
    {
     "name": "stdout",
     "output_type": "stream",
     "text": [
      "\n"
     ]
    },
    {
     "data": {
      "application/vnd.jupyter.widget-view+json": {
       "model_id": "54c616c6c3184929af98290a7adfeaa0",
       "version_major": 2,
       "version_minor": 0
      },
      "text/plain": [
       "HBox(children=(FloatProgress(value=0.0, max=4.0), HTML(value='')))"
      ]
     },
     "metadata": {},
     "output_type": "display_data"
    },
    {
     "name": "stdout",
     "output_type": "stream",
     "text": [
      "\n"
     ]
    },
    {
     "data": {
      "application/vnd.jupyter.widget-view+json": {
       "model_id": "9b4753b0f2c042d39ec1f77676d8458a",
       "version_major": 2,
       "version_minor": 0
      },
      "text/plain": [
       "HBox(children=(FloatProgress(value=0.0, max=7.0), HTML(value='')))"
      ]
     },
     "metadata": {},
     "output_type": "display_data"
    },
    {
     "name": "stdout",
     "output_type": "stream",
     "text": [
      "\n"
     ]
    },
    {
     "data": {
      "application/vnd.jupyter.widget-view+json": {
       "model_id": "512c4942d1104b8b84ee56d0607ba573",
       "version_major": 2,
       "version_minor": 0
      },
      "text/plain": [
       "HBox(children=(FloatProgress(value=0.0, max=6.0), HTML(value='')))"
      ]
     },
     "metadata": {},
     "output_type": "display_data"
    },
    {
     "name": "stdout",
     "output_type": "stream",
     "text": [
      "\n"
     ]
    },
    {
     "data": {
      "application/vnd.jupyter.widget-view+json": {
       "model_id": "253e4693dbad4285b5133ff93da3d1a4",
       "version_major": 2,
       "version_minor": 0
      },
      "text/plain": [
       "HBox(children=(FloatProgress(value=0.0, max=9.0), HTML(value='')))"
      ]
     },
     "metadata": {},
     "output_type": "display_data"
    },
    {
     "name": "stdout",
     "output_type": "stream",
     "text": [
      "\n"
     ]
    },
    {
     "data": {
      "application/vnd.jupyter.widget-view+json": {
       "model_id": "95f43b0070054801b94d131d682ca388",
       "version_major": 2,
       "version_minor": 0
      },
      "text/plain": [
       "HBox(children=(FloatProgress(value=0.0, max=10.0), HTML(value='')))"
      ]
     },
     "metadata": {},
     "output_type": "display_data"
    },
    {
     "name": "stdout",
     "output_type": "stream",
     "text": [
      "\n"
     ]
    },
    {
     "data": {
      "application/vnd.jupyter.widget-view+json": {
       "model_id": "168e6342539c43daa160e18b867b8b9a",
       "version_major": 2,
       "version_minor": 0
      },
      "text/plain": [
       "HBox(children=(FloatProgress(value=0.0, max=9.0), HTML(value='')))"
      ]
     },
     "metadata": {},
     "output_type": "display_data"
    },
    {
     "name": "stdout",
     "output_type": "stream",
     "text": [
      "\n"
     ]
    },
    {
     "data": {
      "application/vnd.jupyter.widget-view+json": {
       "model_id": "d2fcbb4916ef4cb3837e7b72ce9be2c6",
       "version_major": 2,
       "version_minor": 0
      },
      "text/plain": [
       "HBox(children=(FloatProgress(value=0.0, max=8.0), HTML(value='')))"
      ]
     },
     "metadata": {},
     "output_type": "display_data"
    },
    {
     "name": "stdout",
     "output_type": "stream",
     "text": [
      "\n",
      "\n",
      "{'무엇', '이리하여', '한 까닭에', '+', '시작하여', '하려고하다', '어찌', '그렇지 않으면', '이라면', '힘입어', '나', '가', '잇따라', '때문', '만이 아니다', '툭', ':', '아울러', '어떻게', '된바에야', '이젠', '매', '봐', '이', '그저', '또한', '한마디', '하면된다', '연관되다', '한켠으로는', '까악', '하기는한데', '동안', '}', '약간', '하물며', '아니라면', '결론을 낼 수 있다', '어느해', '외에도', '한다면 몰라도', '아래윗', '어떠한', '부터', '헐떡헐떡', '허', '어느쪽', '하기 위하여', '하도다', '끙끙', '할뿐', '하기만 하면', '제각기', '위하여', '할 지경이다', '여보시오', '라 해도', '그러니', '했어요', '엉엉', '두번째로', '만약에', '저기', '이렇게되면', '물론', '과연', '모두', '것들', '해도좋다', '이봐', '한 후', '것과 같이', '여기', '삐걱', '제외하고', '로부터', '총적으로', '년', '매번', '주저하지 않고', '하는바', '도착하다', '따위', '여러분', '게우다', '누구', '된이상', '즈음하여', '등등', \"'\", '저', '향해서', '동시에', '거니와', '참나', '~', '아무거나', '이러한', '견지에서', '바와같이', '어찌하든지', '사', '줄은 몰랏다', '그치지 않다', '와', '한다면', '어찌됏어', '하는것도', '이 정도의', '펄렁', '하는것만 못하다', '너', '얼마만큼', '휘익', '아이고', '시각', '로써', '겸사겸사', '이럴정도로', '관계가 있다', '둥둥', '쪽으로', '비로소', '훨씬', '예하면', '뒤이어', '있다', '참', '이 밖에', '까지', '않기 위하여', '그', '하여야', '를', '개의치않고', '결과에 이르다', '본문', '타다', '소인', '요만큼', '이상', '어떤것', '앞에서', '어찌하여', '의', '하느니', '대해 말하자면', '그러니까', '구토하다', '이용하여', '댕그', '생각한대로', '기타', '다음으로', '이외에도', '아이쿠', '과', '보는데서', '바꾸어말하면', '로', '어기여차', '메쓰겁다', '무슨', '실로', '논하지 않다', '더불어', '오히려', '막론하고', '할지라도', '딩동', '다만', '이런', '몇', '설사', '하기 때문에', '혹은', '우에 종합한것과같이', '습니까', '아니', '하도록하다', '도달하다', '더라도', '보드득', '만큼\\t어찌됏든', '관한', '이러이러하다', '하', '이것', '쾅쾅', '아니었다면', '그렇지않으면', '만 못하다\\t하기보다는', '다섯', '륙', '팔', '각자', '하나', '이와같다면', '이래', '하더라도', '비추어 보아', '즉시', '하지마', '같이', '각종', ')', '등', '저것', '그럼', '위해서', '여덟', '보다더', '곧', '더군다나', '그리고', '얼마', '다른 방면으로', '때가 되어', '무엇때문에', '나머지는', '콸콸', '흐흐', '각각', '에 가서', '퍽', '설령', '심지어', '바꿔 말하면', '삼', '해봐요', '-', '혹시', '.', '까지 미치다', '어떤', '팍', '인 듯하다', '@', '응당', '으로', '일지라도', '봐라', '음식', '에 한하다', '그중에서', '전후', '만 못하다', '언제', '그만이다', '이로 인하여', '윙윙', '우선', '그럼에도 불구하고', '갖고말하자면', '관해서는', '아이', '그위에', '어디', '응', '일것이다', '[', '의해되다', '이와 같다', '중에서', '더욱이는', '및', '그런 까닭에', '삐걱거리다', '결국', '까닭으로', '어느 년도', '부류의 사람들', '할 생각이다', '이 되다', '이 외에', '예컨대', '에', '향하다', '만은 아니다', '/', '반대로', '\"', '반드시', '어떤것들', '또', '예를 들면', '야', '일곱', '함께', '전부', '오직', '헉', '말하자면', '이때', '이천팔', '근거로', '더욱더', '해요', '다시말하면', '오호', '일', '경우', '의해서', '할만하다', '어쨋든', '(', '이천구', '이곳', '오자마자', '같다', '그래도', '에 있다', '않기 위해서', '이천육', '`', '이만큼', '통하여', '헉헉', '_', '첫번째로', '그런데', '다음', '구체적으로', '꽈당', '얼마든지', '바로', '으로써', '우르르', '하게하다', '오', '^', '향하여', '고로', '하게될것이다', '정도에 이르다', '안 그러면', '조금', '하는것이 낫다', '아무도', '그렇지', '기준으로', '하지만', '|', '이와 반대로', '본대로', '각', '아', '와르르', '흥', '다소', '둘', '비하면', '할 줄 안다', '시초에', '여', '영차', '거의', '자마자', '지말고', '혼자', '공동으로', '하자마자', '이천칠', '저쪽', '때문에', ';', '어', '이지만', '다시 말하자면', '언젠가', '임에 틀림없다', '습니다', '령', '대하면', '하도록시키다', '놀라다', '입각하여', '구', '인젠', '아이구', '추가', '어떻해', '운운', '이유만으로', '비교적', '더구나', '하고있었다', '할때', '하든지', '이쪽', '셋', '만일', '에서', '쳇', '어느것', '한데', '좍좍', '비길수 없다', '기대여', '하지 않는다면', '자기', '만약', '이었다', '어째서', '고려하면', '이 때문에', '따라', '자기집', '비걱거리다', '당장', '답다', '으로 인하여', '앞의것', '월', '사용', '하기에', '어이', '옆사람', '넷', '아홉', '할수있다', '왜', '알았어', '때', '이렇구나', '할지언정', '한 이유는', '저것만큼', '그렇게 함으로써', '그렇지 않다면', '차라리', '자신', '로 인하여', '여부', '남들', '허허', '무릎쓰고', '어느때', '근거하여', '예를 들자면', '에게', '관련이 있다', '마저', '<', '관하여', '에 대해', '육', '하마터면', '다른', '당신', '하여금', '끼익', '하는 편이 낫다', '요컨대', '그리하여', '아니면', '지만', '여차', '대해서', '들', '그러나', '연이서', '그때', '어쩔수 없다', '제', '이렇게 많은 것', '얼마나', '비슷하다', '왜냐하면', '총적으로 보면', '으로서', '조차', '거바', '따라서', '어때', '반대로 말하자면', '이르기까지', '하는 김에', '든간에', '비록', '하면서', '일단', '바꾸어말하자면', '단지', '다음에', '아야', '하곤하였다', '이어서', '자', '불구하고', '총적으로 말하면', '오로지', '&', '좋아', '시간', '하기보다는', '딱', '마음대로', '너희', '네', '모', '%', '하면 할수록', '저희', '할망정', '얼마큼', '퉤', '에 달려 있다', '할 힘이 있다', '너희들', '쉿', '아이야', '>', '이번', '해서는 안된다', '탕탕', '요만한 것', '중의하나', '을', '남짓', '밖에 안된다', '일때', '할 따름이다', '그러므로', '상대적으로 말하자면', '하하', '=', '게다가', '어느곳', '할수있어', '요만한걸', '하지 않도록', '불문하고', '일반적으로', '아니나다를가', '앗', '뿐이다', '잠깐', '내용', '플레이어', '시키다', '어느', '잠시', '위에서 서술한바와같이', '건강', '것', '그래서', '!', '한적이있다', '관계없이', '솨', '다수', '{', '*', '얼마간', '하구나', '하고 있다', '따지지 않다', '그에 따르는', '까지도', '그래', '의거하여', '기점으로', '와 같은 사람들', '여섯', '여전히', '그러한즉', '?', '뿐만 아니라', '바꾸어서 말하면', '설마', '졸졸', '의해', '지든지', '입장에서', '가까스로', '예', '점에서 보아', '이와 같은', '누가 알겠는가', '줄은모른다', '뚝뚝', '그런즉', '칠', '양자', '전자', '그러면', '우리', '버금', '#', '겨우', '좀', '틈타', '우리들', '해야한다', '대하여', '바꾸어서 한다면', '할줄알다', '\\\\', '와아', '쿵', '의지하여', '영', '이렇게말하자면', '그들', '마저도', '$', '하지마라', '허걱', '조차도', '무렵', '하겠는가', '말할것도 없고', '소생', ']', '휴', '그렇지만', '정보', '타인', '마치', '오르다', '붕붕', '한항목', '알 수 있다', '뿐만아니라', '진짜로', '주룩주룩', '뒤따라', '해도된다', '아하', '형식으로 쓰여', '얼마 안 되는 것', ',', '가령', '대로 하다', '뉴스', '즉', '토하다'}\n"
     ]
    },
    {
     "data": {
      "application/vnd.jupyter.widget-view+json": {
       "model_id": "29705f238f4c471991d94e3cdc97f0d8",
       "version_major": 2,
       "version_minor": 0
      },
      "text/plain": [
       "HBox(children=(FloatProgress(value=0.0, description='Preprocessing', max=30.0, style=ProgressStyle(description…"
      ]
     },
     "metadata": {},
     "output_type": "display_data"
    },
    {
     "name": "stdout",
     "output_type": "stream",
     "text": [
      "\n",
      "end :: 식품 | 명절 | 섭취 | 방법 | 조리 | 사람 | 다이어트 | 함수 | 보관 | 한국\n",
      "5번째 반복 중\n",
      "start :: 식품 | 명절 | 섭취 | 방법 | 조리 | 사람 | 다이어트 | 함수 | 보관 | 한국+\"음식 건강\"\n"
     ]
    },
    {
     "data": {
      "application/vnd.jupyter.widget-view+json": {
       "model_id": "1ffb7990995d44758a29a766fc727bcb",
       "version_major": 2,
       "version_minor": 0
      },
      "text/plain": [
       "HBox(children=(FloatProgress(value=0.0, max=30.0), HTML(value='')))"
      ]
     },
     "metadata": {},
     "output_type": "display_data"
    },
    {
     "name": "stdout",
     "output_type": "stream",
     "text": [
      "\n"
     ]
    },
    {
     "data": {
      "application/vnd.jupyter.widget-view+json": {
       "model_id": "a89eb5a21a6c4c3ca4eae6120557dfd6",
       "version_major": 2,
       "version_minor": 0
      },
      "text/plain": [
       "HBox(children=(FloatProgress(value=0.0, max=30.0), HTML(value='')))"
      ]
     },
     "metadata": {},
     "output_type": "display_data"
    },
    {
     "data": {
      "application/vnd.jupyter.widget-view+json": {
       "model_id": "8586de042b1a4d94a7c5de9c18cce395",
       "version_major": 2,
       "version_minor": 0
      },
      "text/plain": [
       "HBox(children=(FloatProgress(value=0.0, max=3.0), HTML(value='')))"
      ]
     },
     "metadata": {},
     "output_type": "display_data"
    },
    {
     "name": "stdout",
     "output_type": "stream",
     "text": [
      "\n"
     ]
    },
    {
     "data": {
      "application/vnd.jupyter.widget-view+json": {
       "model_id": "91985c13f156461095ef132030b6d3d1",
       "version_major": 2,
       "version_minor": 0
      },
      "text/plain": [
       "HBox(children=(FloatProgress(value=0.0, max=2.0), HTML(value='')))"
      ]
     },
     "metadata": {},
     "output_type": "display_data"
    },
    {
     "name": "stdout",
     "output_type": "stream",
     "text": [
      "\n"
     ]
    },
    {
     "data": {
      "application/vnd.jupyter.widget-view+json": {
       "model_id": "31229b8ccb4946448ac078b31de37285",
       "version_major": 2,
       "version_minor": 0
      },
      "text/plain": [
       "HBox(children=(FloatProgress(value=0.0, max=5.0), HTML(value='')))"
      ]
     },
     "metadata": {},
     "output_type": "display_data"
    },
    {
     "name": "stdout",
     "output_type": "stream",
     "text": [
      "\n"
     ]
    },
    {
     "data": {
      "application/vnd.jupyter.widget-view+json": {
       "model_id": "b6f4317e83aa46cfb12cf5828f30aa01",
       "version_major": 2,
       "version_minor": 0
      },
      "text/plain": [
       "HBox(children=(FloatProgress(value=0.0, max=1.0), HTML(value='')))"
      ]
     },
     "metadata": {},
     "output_type": "display_data"
    },
    {
     "name": "stdout",
     "output_type": "stream",
     "text": [
      "\n"
     ]
    },
    {
     "data": {
      "application/vnd.jupyter.widget-view+json": {
       "model_id": "0d029a8aed40462f9c9ad4cb6c83d072",
       "version_major": 2,
       "version_minor": 0
      },
      "text/plain": [
       "HBox(children=(FloatProgress(value=0.0, max=3.0), HTML(value='')))"
      ]
     },
     "metadata": {},
     "output_type": "display_data"
    },
    {
     "name": "stdout",
     "output_type": "stream",
     "text": [
      "\n"
     ]
    },
    {
     "data": {
      "application/vnd.jupyter.widget-view+json": {
       "model_id": "7e96a3ef134d464484d255ccac8e8b73",
       "version_major": 2,
       "version_minor": 0
      },
      "text/plain": [
       "HBox(children=(FloatProgress(value=0.0, max=6.0), HTML(value='')))"
      ]
     },
     "metadata": {},
     "output_type": "display_data"
    },
    {
     "name": "stdout",
     "output_type": "stream",
     "text": [
      "\n"
     ]
    },
    {
     "data": {
      "application/vnd.jupyter.widget-view+json": {
       "model_id": "0e6f3dd987244ef480eeb0fcbfe5688b",
       "version_major": 2,
       "version_minor": 0
      },
      "text/plain": [
       "HBox(children=(FloatProgress(value=0.0, max=2.0), HTML(value='')))"
      ]
     },
     "metadata": {},
     "output_type": "display_data"
    },
    {
     "name": "stdout",
     "output_type": "stream",
     "text": [
      "\n"
     ]
    },
    {
     "data": {
      "application/vnd.jupyter.widget-view+json": {
       "model_id": "6fc06ebd43f04a6cbf10740f7edfeba0",
       "version_major": 2,
       "version_minor": 0
      },
      "text/plain": [
       "HBox(children=(FloatProgress(value=0.0, max=1.0), HTML(value='')))"
      ]
     },
     "metadata": {},
     "output_type": "display_data"
    },
    {
     "name": "stdout",
     "output_type": "stream",
     "text": [
      "\n"
     ]
    },
    {
     "data": {
      "application/vnd.jupyter.widget-view+json": {
       "model_id": "328e1eb633314ec8954ea1c65a207641",
       "version_major": 2,
       "version_minor": 0
      },
      "text/plain": [
       "HBox(children=(FloatProgress(value=0.0, max=3.0), HTML(value='')))"
      ]
     },
     "metadata": {},
     "output_type": "display_data"
    },
    {
     "name": "stdout",
     "output_type": "stream",
     "text": [
      "\n"
     ]
    },
    {
     "data": {
      "application/vnd.jupyter.widget-view+json": {
       "model_id": "60db7fa6a3814828863a4730744907a1",
       "version_major": 2,
       "version_minor": 0
      },
      "text/plain": [
       "HBox(children=(FloatProgress(value=0.0, max=3.0), HTML(value='')))"
      ]
     },
     "metadata": {},
     "output_type": "display_data"
    },
    {
     "name": "stdout",
     "output_type": "stream",
     "text": [
      "\n"
     ]
    },
    {
     "data": {
      "application/vnd.jupyter.widget-view+json": {
       "model_id": "961c49df5c3048c4b6dfd92105ed0bf1",
       "version_major": 2,
       "version_minor": 0
      },
      "text/plain": [
       "HBox(children=(FloatProgress(value=0.0, max=1.0), HTML(value='')))"
      ]
     },
     "metadata": {},
     "output_type": "display_data"
    },
    {
     "name": "stdout",
     "output_type": "stream",
     "text": [
      "\n"
     ]
    },
    {
     "data": {
      "application/vnd.jupyter.widget-view+json": {
       "model_id": "a96a6de2dfca44c891e4621dba79fff7",
       "version_major": 2,
       "version_minor": 0
      },
      "text/plain": [
       "HBox(children=(FloatProgress(value=0.0, max=2.0), HTML(value='')))"
      ]
     },
     "metadata": {},
     "output_type": "display_data"
    },
    {
     "name": "stdout",
     "output_type": "stream",
     "text": [
      "\n"
     ]
    },
    {
     "data": {
      "application/vnd.jupyter.widget-view+json": {
       "model_id": "e97eab0789474de5bba28fba0d1b6403",
       "version_major": 2,
       "version_minor": 0
      },
      "text/plain": [
       "HBox(children=(FloatProgress(value=0.0, max=7.0), HTML(value='')))"
      ]
     },
     "metadata": {},
     "output_type": "display_data"
    },
    {
     "name": "stdout",
     "output_type": "stream",
     "text": [
      "\n"
     ]
    },
    {
     "data": {
      "application/vnd.jupyter.widget-view+json": {
       "model_id": "3b4007cd5ea5410cbc163d326ec2ca4e",
       "version_major": 2,
       "version_minor": 0
      },
      "text/plain": [
       "HBox(children=(FloatProgress(value=0.0, max=3.0), HTML(value='')))"
      ]
     },
     "metadata": {},
     "output_type": "display_data"
    },
    {
     "name": "stdout",
     "output_type": "stream",
     "text": [
      "\n"
     ]
    },
    {
     "data": {
      "application/vnd.jupyter.widget-view+json": {
       "model_id": "d230ce6b8aa1438aa089048c53d33447",
       "version_major": 2,
       "version_minor": 0
      },
      "text/plain": [
       "HBox(children=(FloatProgress(value=0.0, max=6.0), HTML(value='')))"
      ]
     },
     "metadata": {},
     "output_type": "display_data"
    },
    {
     "name": "stdout",
     "output_type": "stream",
     "text": [
      "\n"
     ]
    },
    {
     "data": {
      "application/vnd.jupyter.widget-view+json": {
       "model_id": "8fb18df75d5b42d291fc4fe729c581ae",
       "version_major": 2,
       "version_minor": 0
      },
      "text/plain": [
       "HBox(children=(FloatProgress(value=0.0, max=10.0), HTML(value='')))"
      ]
     },
     "metadata": {},
     "output_type": "display_data"
    },
    {
     "name": "stdout",
     "output_type": "stream",
     "text": [
      "\n"
     ]
    },
    {
     "data": {
      "application/vnd.jupyter.widget-view+json": {
       "model_id": "59a37700ee1f44a7aa4de937eed49916",
       "version_major": 2,
       "version_minor": 0
      },
      "text/plain": [
       "HBox(children=(FloatProgress(value=0.0, max=5.0), HTML(value='')))"
      ]
     },
     "metadata": {},
     "output_type": "display_data"
    },
    {
     "name": "stdout",
     "output_type": "stream",
     "text": [
      "\n",
      "\n"
     ]
    },
    {
     "ename": "KeyboardInterrupt",
     "evalue": "",
     "output_type": "error",
     "traceback": [
      "\u001b[0;31m---------------------------------------------------------------------------\u001b[0m",
      "\u001b[0;31mKeyboardInterrupt\u001b[0m                         Traceback (most recent call last)",
      "\u001b[0;32m<ipython-input-97-5e8b005ed503>\u001b[0m in \u001b[0;36m<module>\u001b[0;34m\u001b[0m\n\u001b[1;32m     16\u001b[0m \u001b[0;32mfor\u001b[0m \u001b[0mi\u001b[0m \u001b[0;32min\u001b[0m \u001b[0mrange\u001b[0m\u001b[0;34m(\u001b[0m\u001b[0;36m20\u001b[0m\u001b[0;34m)\u001b[0m\u001b[0;34m:\u001b[0m\u001b[0;34m\u001b[0m\u001b[0;34m\u001b[0m\u001b[0m\n\u001b[1;32m     17\u001b[0m     \u001b[0mprint\u001b[0m\u001b[0;34m(\u001b[0m\u001b[0mstr\u001b[0m\u001b[0;34m(\u001b[0m\u001b[0mi\u001b[0m\u001b[0;34m+\u001b[0m\u001b[0;36m1\u001b[0m\u001b[0;34m)\u001b[0m \u001b[0;34m+\u001b[0m \u001b[0;34m\"번째 반복 중\"\u001b[0m \u001b[0;34m)\u001b[0m\u001b[0;34m\u001b[0m\u001b[0;34m\u001b[0m\u001b[0m\n\u001b[0;32m---> 18\u001b[0;31m     \u001b[0mlink_count\u001b[0m \u001b[0;34m=\u001b[0m \u001b[0mget_data\u001b[0m\u001b[0;34m(\u001b[0m\u001b[0mclient_id\u001b[0m\u001b[0;34m,\u001b[0m \u001b[0mclient_secret\u001b[0m\u001b[0;34m,\u001b[0m \u001b[0mnaver_id\u001b[0m\u001b[0;34m,\u001b[0m \u001b[0mnaver_pw\u001b[0m\u001b[0;34m,\u001b[0m \u001b[0mcontent_file_name\u001b[0m\u001b[0;34m,\u001b[0m \u001b[0msc\u001b[0m\u001b[0;34m,\u001b[0m \u001b[0mkeywords\u001b[0m\u001b[0;34m)\u001b[0m\u001b[0;34m\u001b[0m\u001b[0;34m\u001b[0m\u001b[0m\n\u001b[0m\u001b[1;32m     19\u001b[0m     \u001b[0;31m#get_model(link_count)\u001b[0m\u001b[0;34m\u001b[0m\u001b[0;34m\u001b[0m\u001b[0;34m\u001b[0m\u001b[0m\n\u001b[1;32m     20\u001b[0m     \u001b[0mget_topics\u001b[0m\u001b[0;34m(\u001b[0m\u001b[0mlink_count\u001b[0m\u001b[0;34m)\u001b[0m\u001b[0;34m\u001b[0m\u001b[0;34m\u001b[0m\u001b[0m\n",
      "\u001b[0;32m<ipython-input-89-1c91aff54b42>\u001b[0m in \u001b[0;36mget_data\u001b[0;34m(client_id, client_secret, naver_id, naver_pw, content_file_name, sc, keywords)\u001b[0m\n\u001b[1;32m     91\u001b[0m \u001b[0;34m\u001b[0m\u001b[0m\n\u001b[1;32m     92\u001b[0m         \u001b[0;32mfor\u001b[0m \u001b[0midx\u001b[0m \u001b[0;32min\u001b[0m \u001b[0mnotebook\u001b[0m\u001b[0;34m.\u001b[0m\u001b[0mtqdm\u001b[0m\u001b[0;34m(\u001b[0m\u001b[0mrange\u001b[0m\u001b[0;34m(\u001b[0m\u001b[0mlen\u001b[0m\u001b[0;34m(\u001b[0m\u001b[0mnaver_news_link\u001b[0m\u001b[0;34m[\u001b[0m\u001b[0mn\u001b[0m\u001b[0;34m]\u001b[0m\u001b[0;34m)\u001b[0m\u001b[0;34m)\u001b[0m\u001b[0;34m)\u001b[0m\u001b[0;34m:\u001b[0m\u001b[0;34m\u001b[0m\u001b[0;34m\u001b[0m\u001b[0m\n\u001b[0;32m---> 93\u001b[0;31m             \u001b[0mtime\u001b[0m\u001b[0;34m.\u001b[0m\u001b[0msleep\u001b[0m\u001b[0;34m(\u001b[0m\u001b[0;36m2\u001b[0m\u001b[0;34m)\u001b[0m\u001b[0;34m\u001b[0m\u001b[0;34m\u001b[0m\u001b[0m\n\u001b[0m\u001b[1;32m     94\u001b[0m \u001b[0;34m\u001b[0m\u001b[0m\n\u001b[1;32m     95\u001b[0m             \u001b[0;32mtry\u001b[0m\u001b[0;34m:\u001b[0m\u001b[0;34m\u001b[0m\u001b[0;34m\u001b[0m\u001b[0m\n",
      "\u001b[0;32m/usr/local/spark/python/pyspark/context.py\u001b[0m in \u001b[0;36msignal_handler\u001b[0;34m(signal, frame)\u001b[0m\n\u001b[1;32m    268\u001b[0m         \u001b[0;32mdef\u001b[0m \u001b[0msignal_handler\u001b[0m\u001b[0;34m(\u001b[0m\u001b[0msignal\u001b[0m\u001b[0;34m,\u001b[0m \u001b[0mframe\u001b[0m\u001b[0;34m)\u001b[0m\u001b[0;34m:\u001b[0m\u001b[0;34m\u001b[0m\u001b[0;34m\u001b[0m\u001b[0m\n\u001b[1;32m    269\u001b[0m             \u001b[0mself\u001b[0m\u001b[0;34m.\u001b[0m\u001b[0mcancelAllJobs\u001b[0m\u001b[0;34m(\u001b[0m\u001b[0;34m)\u001b[0m\u001b[0;34m\u001b[0m\u001b[0;34m\u001b[0m\u001b[0m\n\u001b[0;32m--> 270\u001b[0;31m             \u001b[0;32mraise\u001b[0m \u001b[0mKeyboardInterrupt\u001b[0m\u001b[0;34m(\u001b[0m\u001b[0;34m)\u001b[0m\u001b[0;34m\u001b[0m\u001b[0;34m\u001b[0m\u001b[0m\n\u001b[0m\u001b[1;32m    271\u001b[0m \u001b[0;34m\u001b[0m\u001b[0m\n\u001b[1;32m    272\u001b[0m         \u001b[0;31m# see http://stackoverflow.com/questions/23206787/\u001b[0m\u001b[0;34m\u001b[0m\u001b[0;34m\u001b[0m\u001b[0;34m\u001b[0m\u001b[0m\n",
      "\u001b[0;31mKeyboardInterrupt\u001b[0m: "
     ]
    }
   ],
   "source": [
    "client_id = \"\"\n",
    "client_secret = \"\"\n",
    "naver_id = \"\"\n",
    "naver_pw = \"!\"\n",
    "import datetime\n",
    "from pyspark import SparkContext\n",
    "import glob\n",
    "today = datetime.date.today()\n",
    "content_file_name = \"content_data/naver_news_content_today\".replace(\"today\",str(today))\n",
    "title_file_name = \"temp_data/naver_news_title_today\".replace(\"today\",str(today))\n",
    "sc.stop()\n",
    "sc = SparkContext(master=\"local\", appName=\"spark app\")\n",
    "\n",
    "keywords ='''\"음식 건강\"'''\n",
    "\n",
    "for i in range(20):\n",
    "    print(str(i+1) + \"번째 반복 중\" )\n",
    "    link_count = get_data(client_id, client_secret, naver_id, naver_pw, content_file_name, sc, keywords)\n",
    "    #get_model(link_count)\n",
    "    get_topics(link_count)\n"
   ]
  },
  {
   "cell_type": "code",
   "execution_count": 92,
   "metadata": {},
   "outputs": [
    {
     "ename": "SyntaxError",
     "evalue": "invalid syntax (<ipython-input-92-09870e533228>, line 34)",
     "output_type": "error",
     "traceback": [
      "\u001b[0;36m  File \u001b[0;32m\"<ipython-input-92-09870e533228>\"\u001b[0;36m, line \u001b[0;32m34\u001b[0m\n\u001b[0;31m    print(\"start :: \" + keyword)s)\u001b[0m\n\u001b[0m                                ^\u001b[0m\n\u001b[0;31mSyntaxError\u001b[0m\u001b[0;31m:\u001b[0m invalid syntax\n"
     ]
    }
   ],
   "source": [
    "def get_data(client_id, client_secret, naver_id, naver_pw, content_file_name, sc, keywords):\n",
    "    import os\n",
    "    import sys\n",
    "    import urllib.request\n",
    "    import requests\n",
    "\n",
    "    import pandas as pd\n",
    "    import numpy as np\n",
    "    from selenium import webdriver\n",
    "    from tqdm import notebook\n",
    "    import pickle\n",
    "    import re\n",
    "    import ast\n",
    "\n",
    "    from bs4 import BeautifulSoup\n",
    "    import urllib\n",
    "    import time\n",
    "\n",
    "    news_data = []\n",
    "    \n",
    "   \n",
    "    page_count = 30\n",
    "    \n",
    "    if len(glob.glob(\"keyword/keyword*\")) > 0 :\n",
    "        keywords_arr = sc.textFile(glob.glob(\"keyword/keyword*\")[(len(glob.glob(\"keyword/keyword*\"))-1)]).collect()\n",
    "        keywords = \"\"\n",
    "        for v in keywords_arr:\n",
    "            keywords += v\n",
    "        keywords += '''+\"음식 건강\"'''\n",
    "    else:\n",
    "        filecount=len(glob.glob(\"keyword/keyword*\"))\n",
    "        sc.parallelize(keywords).saveAsTextFile(\"keyword/keyword_\"+str(filecount))\n",
    "    print(\"start :: \" + keyword)s)\n",
    "    encText = urllib.parse.quote(keywords)\n",
    "    \n",
    "    for idx in notebook.tqdm(range(page_count)):\n",
    "        url = \"https://openapi.naver.com/v1/search/news?query=\" + encText + \"&start=\" + str(idx *10 +1)\n",
    "        request = urllib.request.Request(url)\n",
    "        request.add_header(\"X-Naver-Client-Id\",client_id)\n",
    "        request.add_header(\"X-Naver-Client-Secret\",client_secret)\n",
    "        response = urllib.request.urlopen(request)\n",
    "        rescode = response.getcode()\n",
    "\n",
    "        if(rescode==200):\n",
    "            #response_body = response.read()\n",
    "            result = requests.get(response.geturl(),\n",
    "                             headers={\"X-Naver-Client-Id\":client_id,\"X-Naver-Client-Secret\":client_secret})\n",
    "            news_data.append(result.json())\n",
    "        else:\n",
    "            print(\"Error Code:\" + rescode)\n",
    "            break\n",
    "        time.sleep(1)    \n",
    "\n",
    "\n",
    "    naver_news_link = []\n",
    "\n",
    "    for page in news_data:\n",
    "        page_news_link=[]\n",
    "        for item in page['items']:\n",
    "            link = item['link']\n",
    "            #page_news_link.append(link)\n",
    "            if \"naver\" in link:\n",
    "                page_news_link.append(link)\n",
    "        naver_news_link.append(page_news_link)        \n",
    "\n",
    "    link_count = 0        \n",
    "    for page in naver_news_link:\n",
    "         for link in page:\n",
    "                link_count += 1 \n",
    "\n",
    "    naver_news_title = []\n",
    "    naver_news_content = []\n",
    "    \n",
    "    for n in notebook.tqdm(range(len(naver_news_link))):\n",
    "        news_page_title = []\n",
    "        news_page_content = []\n",
    "\n",
    "        if n==0 or n%5 == 0:\n",
    "            chrome_options = webdriver.ChromeOptions()\n",
    "            chrome_options.add_argument('--no-sandbox')\n",
    "            chrome_options.add_argument('--window-size=1420,1080')\n",
    "            chrome_options.add_argument('--headless')\n",
    "            chrome_options.add_argument('--disable-gpu')\n",
    "            chrome_options.add_argument('--disable-dev-shm-usage')        \n",
    "            driver = webdriver.Chrome(chrome_options=chrome_options)\n",
    "            driver.get(\"https://nid.naver.com/nidlogin.login\")\n",
    "            driver.find_element_by_name('id').send_keys(naver_id)\n",
    "            driver.find_element_by_name('pw').send_keys(naver_pw)\n",
    "\n",
    "        for idx in notebook.tqdm(range(len(naver_news_link[n]))):\n",
    "            time.sleep(2)\n",
    "\n",
    "            try:\n",
    "\n",
    "                driver.get(naver_news_link[n][idx])\n",
    "            except:\n",
    "                print(\"Timeout!\")\n",
    "                continue\n",
    "\n",
    "            try:\n",
    "                response = driver.page_source\n",
    "\n",
    "            except UnexpectedAlertPresentException:\n",
    "                driver.switch_to_alert().accept()\n",
    "                print(\"게시글이 삭제됨\")\n",
    "                continue\n",
    "\n",
    "            soup = BeautifulSoup(response, \"html.parser\")\n",
    "\n",
    "            title = None\n",
    "\n",
    "            try:\n",
    "                item = soup.find('div', class_=\"article_info\")\n",
    "                title = item.find('h3', class_=\"tts_head\").get_text()\n",
    "            except:\n",
    "                title = \"OUTLINK\"\n",
    "\n",
    "            news_page_title.append(title)\n",
    "\n",
    "            doc = None\n",
    "            text= \"\"\n",
    "\n",
    "            data = soup.find_all(\"div\",{\"class\" : \"_article_body_contents\"})\n",
    "            if data:\n",
    "                for item in data:\n",
    "                    text = text + str(item.find_all(text=True)).strip()\n",
    "                    text = ast.literal_eval(text)\n",
    "                    doc = ' '.join(text)\n",
    "            else:\n",
    "                doc = \"OUTLINK\"\n",
    "\n",
    "            news_page_content.append(doc.replace('\\n',' '))\n",
    "\n",
    "        naver_news_title.append(news_page_title)\n",
    "        naver_news_content.append(news_page_content)\n",
    "\n",
    "    filecount=len(glob.glob(\"content_data/*\"))\n",
    "    sc.parallelize(naver_news_content).saveAsTextFile(content_file_name+\"_\"+str(filecount))\n",
    "    \n",
    "    return link_count"
   ]
  },
  {
   "cell_type": "code",
   "execution_count": 85,
   "metadata": {},
   "outputs": [],
   "source": [
    "def get_model(link_count):\n",
    "    from konlpy.tag import Mecab\n",
    "    import re\n",
    "    from tqdm import notebook\n",
    "\n",
    "    mecab = Mecab()\n",
    "    import matplotlib.pyplot as plt\n",
    "    %matplotlib inline\n",
    "    # notebook.tqdm\n",
    "    from konlpy.tag import Mecab\n",
    "    import string\n",
    "    import warnings\n",
    "    from gensim import corpora\n",
    "    from gensim import models\n",
    "\n",
    "    warnings.filterwarnings(\"ignore\",category=DeprecationWarning)\n",
    "    # documents=[]\n",
    "    # for filename in glob.glob(\"content_data/*\"):\n",
    "    #    documents += sc.textFile(filename).collect()\n",
    "    documents = sc.textFile(glob.glob(\"content_data/*\")[(len(glob.glob(\"content_data/*\"))-1)]).collect()    \n",
    "    SW = set()\n",
    "    for i in string.punctuation:\n",
    "        SW.add(i)\n",
    "\n",
    "    with open(\"stopwords-ko.txt\") as f:\n",
    "        for word in f:\n",
    "            SW.add(word.replace(\"\\n\",\"\"))\n",
    "\n",
    "\n",
    "    cleaned_text = []\n",
    "    for doc in documents:\n",
    "        temp_doc = re.sub(\"[^ㄱ-ㅎㅏ-ㅣ가-힇 ]\",\"\",doc)    \n",
    "        cleaned_text.append(temp_doc)\n",
    "\n",
    "\n",
    "    mecab = Mecab()\n",
    "    tokenized_text = []\n",
    "    tokenizer=\"noun\"\n",
    "    if tokenizer == \"noun\":\n",
    "        for n in notebook.tqdm(range(len(cleaned_text)), desc=\"Preprocessing\"):\n",
    "            token_text = mecab.nouns(cleaned_text[n])\n",
    "            token_text = [word for word in token_text if word not in SW and len(word) > 1]\n",
    "            tokenized_text.append(token_text)\n",
    "    elif tokenized == \"morph\":\n",
    "        for n in notebook.tqdm(range(len(cleaned_text)), desc=\"Preprocessing\"):\n",
    "            token_text = mecab.morphs(cleaned_text[n])\n",
    "            token_text = [word for word in token_text if word not in SW and len(word) > 1]\n",
    "            tokenized_text.append(token_text)\n",
    "    elif tokenized == \"word\":\n",
    "        for n in notebook.tqdm(range(len(cleaned_text)), desc=\"Preprocessing\"):\n",
    "            token_text = cleaned_text[n].split()\n",
    "            token_text = [word for word in token_text if word not in SW and len(word) > 1]\n",
    "            tokenized_text.append(token_text)\n",
    "    print(tokenized_text)\n",
    "    dictionary = corpora.Dictionary(tokenized_text)\n",
    "\n",
    "    corpus = [dictionary.doc2bow(text) for text in tokenized_text]\n",
    "\n",
    "    model = models.ldamodel.LdaModel(corpus, num_topics=link_count, id2word=dictionary)\n",
    "     \n",
    "    #model.show_topic(0, 10)"
   ]
  },
  {
   "cell_type": "code",
   "execution_count": 94,
   "metadata": {},
   "outputs": [],
   "source": [
    "def get_topics(link_count):\n",
    "    import string\n",
    "    import re\n",
    "    from konlpy.tag import Mecab\n",
    "    from tqdm import notebook\n",
    "    from gensim import corpora\n",
    "    from gensim import models\n",
    "    import numpy as np\n",
    "    import json\n",
    "\n",
    "    \n",
    "    NUM_TOPICS = link_count \n",
    "    NUM_TOPIC_WORDS = 30 \n",
    "\n",
    "    def build_doc_term_mat(documents):\n",
    "        dictionary = corpora.Dictionary(documents)\n",
    "        corpus = [dictionary.doc2bow(document) for document in documents]\n",
    "        return corpus, dictionary\n",
    "\n",
    "\n",
    "    documents=[]\n",
    "    #for filename in glob.glob(\"content_data/*\"):\n",
    "        #documents += sc.textFile(filename).collect()\n",
    "    \n",
    "    documents += sc.textFile(glob.glob(\"content_data/*\")[(len(glob.glob(\"content_data/*\"))-1)]).collect()    \n",
    "    #documents = read_documents(content_file_name)\n",
    "    \n",
    "    #SW = define_stopwords(\"stopwords-ko.txt\")\n",
    "    SW = set()\n",
    "    for i in string.punctuation:\n",
    "        SW.add(i)\n",
    "\n",
    "    with open(\"stopwords-ko.txt\") as f:\n",
    "        for word in f:\n",
    "            SW.add(word.replace(\"\\n\",\"\"))\n",
    "    print(SW)\n",
    "    cleaned_text = []\n",
    "    for doc in documents:\n",
    "        temp_doc = re.sub(\"[^ㄱ-ㅎㅏ-ㅣ가-힇 ]\",\"\",doc)    \n",
    "        cleaned_text.append(temp_doc)\n",
    "    \n",
    "    mecab = Mecab()\n",
    "    tokenized_text = []\n",
    "    tokenizer=\"noun\"\n",
    "    if tokenizer == \"noun\":\n",
    "        for n in notebook.tqdm(range(len(cleaned_text)), desc=\"Preprocessing\"):\n",
    "            token_text = mecab.nouns(cleaned_text[n])\n",
    "            token_text = [word for word in token_text if word not in SW and len(word) > 1]\n",
    "            tokenized_text.append(token_text)\n",
    "    elif tokenized == \"morph\":\n",
    "        for n in notebook.tqdm(range(len(cleaned_text)), desc=\"Preprocessing\"):\n",
    "            token_text = mecab.morphs(cleaned_text[n])\n",
    "            token_text = [word for word in token_text if word not in SW and len(word) > 1]\n",
    "            tokenized_text.append(token_text)\n",
    "    elif tokenized == \"word\":\n",
    "        for n in notebook.tqdm(range(len(cleaned_text)), desc=\"Preprocessing\"):\n",
    "            token_text = cleaned_text[n].split()\n",
    "            token_text = [word for word in token_text if word not in SW and len(word) > 1]\n",
    "            tokenized_text.append(token_text)\n",
    "    \n",
    "\n",
    "    dictionary = corpora.Dictionary(tokenized_text)\n",
    "\n",
    "    corpus = [dictionary.doc2bow(text) for text in tokenized_text]\n",
    "\n",
    "    model = models.ldamodel.LdaModel(corpus, num_topics=link_count, id2word=dictionary)\n",
    "\n",
    "    # document-term matrix\n",
    "    dictionary = corpora.Dictionary(tokenized_text)\n",
    "    corpus = [dictionary.doc2bow(document) for document in tokenized_text]\n",
    "\n",
    "    # LDA 실행\n",
    "    model = models.ldamodel.LdaModel(corpus, num_topics=NUM_TOPICS, id2word=dictionary, alpha=\"auto\", eta=\"auto\")\n",
    "\n",
    "    import pyLDAvis\n",
    "    import pyLDAvis.gensim\n",
    "\n",
    "    pyLDAvis.enable_notebook()\n",
    "\n",
    "    data = pyLDAvis.gensim.prepare(model, corpus, dictionary)\n",
    "    \n",
    "    filecount=len(glob.glob(\"html_results/*\"))\n",
    "    \n",
    "    pyLDAvis.save_html(data, 'html_results/lda_'+str(filecount)+'.html')\n",
    "\n",
    "    \n",
    "    temp = data.topic_info.head(10)['Term'].values\n",
    "    topic_words =\"\"\n",
    "    for i,v in enumerate(temp):\n",
    "        if i == len(temp)-1:\n",
    "            topic_words += v \n",
    "        else:\n",
    "            topic_words += v + \" | \"\n",
    "    print(\"end :: \" + topic_words)\n",
    "\n",
    "    filecount=len(glob.glob(\"keyword/keyword*\"))\n",
    "    sc.parallelize(topic_words).saveAsTextFile(\"keyword/keyword_\"+str(filecount))\n",
    "    \n",
    "    #data"
   ]
  },
  {
   "cell_type": "code",
   "execution_count": null,
   "metadata": {},
   "outputs": [],
   "source": []
  },
  {
   "cell_type": "code",
   "execution_count": null,
   "metadata": {},
   "outputs": [],
   "source": []
  }
 ],
 "metadata": {
  "kernelspec": {
   "display_name": "Python 3",
   "language": "python",
   "name": "python3"
  },
  "language_info": {
   "codemirror_mode": {
    "name": "ipython",
    "version": 3
   },
   "file_extension": ".py",
   "mimetype": "text/x-python",
   "name": "python",
   "nbconvert_exporter": "python",
   "pygments_lexer": "ipython3",
   "version": "3.7.6"
  }
 },
 "nbformat": 4,
 "nbformat_minor": 4
}
