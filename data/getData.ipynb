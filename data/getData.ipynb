{
 "cells": [
  {
   "cell_type": "code",
   "execution_count": 36,
   "metadata": {},
   "outputs": [
    {
     "name": "stdout",
     "output_type": "stream",
     "text": [
      "1번째 반복 중\n",
      "[]\n",
      "0\n",
      "\n",
      "start :: \"음식 건강\"\n"
     ]
    },
    {
     "data": {
      "application/vnd.jupyter.widget-view+json": {
       "model_id": "df3c4c588a29460faf0756e6eefc6f76",
       "version_major": 2,
       "version_minor": 0
      },
      "text/plain": [
       "HBox(children=(FloatProgress(value=0.0, max=20.0), HTML(value='')))"
      ]
     },
     "metadata": {},
     "output_type": "display_data"
    },
    {
     "name": "stdout",
     "output_type": "stream",
     "text": [
      "\n"
     ]
    },
    {
     "data": {
      "application/vnd.jupyter.widget-view+json": {
       "model_id": "3757372b575941538ce11393ec5bba7c",
       "version_major": 2,
       "version_minor": 0
      },
      "text/plain": [
       "HBox(children=(FloatProgress(value=0.0, max=20.0), HTML(value='')))"
      ]
     },
     "metadata": {},
     "output_type": "display_data"
    },
    {
     "name": "stderr",
     "output_type": "stream",
     "text": [
      "/opt/conda/lib/python3.7/site-packages/selenium/webdriver/chrome/webdriver.py:50: DeprecationWarning: use options instead of chrome_options\n",
      "  warnings.warn('use options instead of chrome_options', DeprecationWarning)\n"
     ]
    },
    {
     "data": {
      "application/vnd.jupyter.widget-view+json": {
       "model_id": "44a7ee8e906f44abb3d7118d88d626b6",
       "version_major": 2,
       "version_minor": 0
      },
      "text/plain": [
       "HBox(children=(FloatProgress(value=0.0, max=3.0), HTML(value='')))"
      ]
     },
     "metadata": {},
     "output_type": "display_data"
    },
    {
     "name": "stdout",
     "output_type": "stream",
     "text": [
      "\n"
     ]
    },
    {
     "data": {
      "application/vnd.jupyter.widget-view+json": {
       "model_id": "c2ba18840b1f4de2a3b87b7e81e7e242",
       "version_major": 2,
       "version_minor": 0
      },
      "text/plain": [
       "HBox(children=(FloatProgress(value=0.0, max=1.0), HTML(value='')))"
      ]
     },
     "metadata": {},
     "output_type": "display_data"
    },
    {
     "name": "stdout",
     "output_type": "stream",
     "text": [
      "\n"
     ]
    },
    {
     "data": {
      "application/vnd.jupyter.widget-view+json": {
       "model_id": "50d7256ec96a44a8b378c87148ab40e5",
       "version_major": 2,
       "version_minor": 0
      },
      "text/plain": [
       "HBox(children=(FloatProgress(value=0.0, max=5.0), HTML(value='')))"
      ]
     },
     "metadata": {},
     "output_type": "display_data"
    },
    {
     "name": "stdout",
     "output_type": "stream",
     "text": [
      "\n"
     ]
    },
    {
     "data": {
      "application/vnd.jupyter.widget-view+json": {
       "model_id": "a7b4ec08b3184559828e98a28ee700e2",
       "version_major": 2,
       "version_minor": 0
      },
      "text/plain": [
       "HBox(children=(FloatProgress(value=0.0, max=2.0), HTML(value='')))"
      ]
     },
     "metadata": {},
     "output_type": "display_data"
    },
    {
     "name": "stdout",
     "output_type": "stream",
     "text": [
      "\n"
     ]
    },
    {
     "data": {
      "application/vnd.jupyter.widget-view+json": {
       "model_id": "e73613176a4d4996b2d1226c184abc75",
       "version_major": 2,
       "version_minor": 0
      },
      "text/plain": [
       "HBox(children=(FloatProgress(value=0.0, max=3.0), HTML(value='')))"
      ]
     },
     "metadata": {},
     "output_type": "display_data"
    },
    {
     "name": "stdout",
     "output_type": "stream",
     "text": [
      "\n"
     ]
    },
    {
     "name": "stderr",
     "output_type": "stream",
     "text": [
      "/opt/conda/lib/python3.7/site-packages/selenium/webdriver/chrome/webdriver.py:50: DeprecationWarning: use options instead of chrome_options\n",
      "  warnings.warn('use options instead of chrome_options', DeprecationWarning)\n"
     ]
    },
    {
     "data": {
      "application/vnd.jupyter.widget-view+json": {
       "model_id": "83de5bc3e3f24092b080efa80cb9f006",
       "version_major": 2,
       "version_minor": 0
      },
      "text/plain": [
       "HBox(children=(FloatProgress(value=0.0, max=4.0), HTML(value='')))"
      ]
     },
     "metadata": {},
     "output_type": "display_data"
    },
    {
     "name": "stdout",
     "output_type": "stream",
     "text": [
      "\n"
     ]
    },
    {
     "data": {
      "application/vnd.jupyter.widget-view+json": {
       "model_id": "1e34f50a68764e1c9e1d79a1482865f6",
       "version_major": 2,
       "version_minor": 0
      },
      "text/plain": [
       "HBox(children=(FloatProgress(value=0.0, max=2.0), HTML(value='')))"
      ]
     },
     "metadata": {},
     "output_type": "display_data"
    },
    {
     "name": "stdout",
     "output_type": "stream",
     "text": [
      "\n"
     ]
    },
    {
     "data": {
      "application/vnd.jupyter.widget-view+json": {
       "model_id": "9e39783984b049c3b2ac44001f13b9b8",
       "version_major": 2,
       "version_minor": 0
      },
      "text/plain": [
       "HBox(children=(FloatProgress(value=0.0, max=2.0), HTML(value='')))"
      ]
     },
     "metadata": {},
     "output_type": "display_data"
    },
    {
     "name": "stdout",
     "output_type": "stream",
     "text": [
      "\n"
     ]
    },
    {
     "data": {
      "application/vnd.jupyter.widget-view+json": {
       "model_id": "74a9728c10d84b2c89d60eb28baa39bd",
       "version_major": 2,
       "version_minor": 0
      },
      "text/plain": [
       "HBox(children=(FloatProgress(value=1.0, bar_style='info', max=1.0), HTML(value='')))"
      ]
     },
     "metadata": {},
     "output_type": "display_data"
    },
    {
     "name": "stdout",
     "output_type": "stream",
     "text": [
      "\n"
     ]
    },
    {
     "data": {
      "application/vnd.jupyter.widget-view+json": {
       "model_id": "0c422d7cad5c4ce8aedfbe24a90ad472",
       "version_major": 2,
       "version_minor": 0
      },
      "text/plain": [
       "HBox(children=(FloatProgress(value=0.0, max=4.0), HTML(value='')))"
      ]
     },
     "metadata": {},
     "output_type": "display_data"
    },
    {
     "name": "stdout",
     "output_type": "stream",
     "text": [
      "\n"
     ]
    },
    {
     "name": "stderr",
     "output_type": "stream",
     "text": [
      "/opt/conda/lib/python3.7/site-packages/selenium/webdriver/chrome/webdriver.py:50: DeprecationWarning: use options instead of chrome_options\n",
      "  warnings.warn('use options instead of chrome_options', DeprecationWarning)\n"
     ]
    },
    {
     "data": {
      "application/vnd.jupyter.widget-view+json": {
       "model_id": "41d9a16fc3c14fb1bd487adf6d159ac9",
       "version_major": 2,
       "version_minor": 0
      },
      "text/plain": [
       "HBox(children=(FloatProgress(value=0.0, max=3.0), HTML(value='')))"
      ]
     },
     "metadata": {},
     "output_type": "display_data"
    },
    {
     "name": "stdout",
     "output_type": "stream",
     "text": [
      "\n"
     ]
    },
    {
     "data": {
      "application/vnd.jupyter.widget-view+json": {
       "model_id": "e9791421bd8b47838dcb7d1baf6f5706",
       "version_major": 2,
       "version_minor": 0
      },
      "text/plain": [
       "HBox(children=(FloatProgress(value=0.0, max=1.0), HTML(value='')))"
      ]
     },
     "metadata": {},
     "output_type": "display_data"
    },
    {
     "name": "stdout",
     "output_type": "stream",
     "text": [
      "\n"
     ]
    },
    {
     "data": {
      "application/vnd.jupyter.widget-view+json": {
       "model_id": "03ba41ea686e49069e40c280593196ed",
       "version_major": 2,
       "version_minor": 0
      },
      "text/plain": [
       "HBox(children=(FloatProgress(value=0.0, max=2.0), HTML(value='')))"
      ]
     },
     "metadata": {},
     "output_type": "display_data"
    },
    {
     "name": "stdout",
     "output_type": "stream",
     "text": [
      "\n"
     ]
    },
    {
     "data": {
      "application/vnd.jupyter.widget-view+json": {
       "model_id": "84a3b100b2ee4121ab3b486d7ecc780a",
       "version_major": 2,
       "version_minor": 0
      },
      "text/plain": [
       "HBox(children=(FloatProgress(value=0.0, max=5.0), HTML(value='')))"
      ]
     },
     "metadata": {},
     "output_type": "display_data"
    },
    {
     "name": "stdout",
     "output_type": "stream",
     "text": [
      "\n"
     ]
    },
    {
     "data": {
      "application/vnd.jupyter.widget-view+json": {
       "model_id": "338b331d160f4848aec728faf5c1154c",
       "version_major": 2,
       "version_minor": 0
      },
      "text/plain": [
       "HBox(children=(FloatProgress(value=0.0, max=5.0), HTML(value='')))"
      ]
     },
     "metadata": {},
     "output_type": "display_data"
    },
    {
     "name": "stdout",
     "output_type": "stream",
     "text": [
      "\n"
     ]
    },
    {
     "name": "stderr",
     "output_type": "stream",
     "text": [
      "/opt/conda/lib/python3.7/site-packages/selenium/webdriver/chrome/webdriver.py:50: DeprecationWarning: use options instead of chrome_options\n",
      "  warnings.warn('use options instead of chrome_options', DeprecationWarning)\n"
     ]
    },
    {
     "data": {
      "application/vnd.jupyter.widget-view+json": {
       "model_id": "c68d3a027bce452fa8902388efc91e31",
       "version_major": 2,
       "version_minor": 0
      },
      "text/plain": [
       "HBox(children=(FloatProgress(value=0.0, max=3.0), HTML(value='')))"
      ]
     },
     "metadata": {},
     "output_type": "display_data"
    },
    {
     "name": "stdout",
     "output_type": "stream",
     "text": [
      "\n"
     ]
    },
    {
     "data": {
      "application/vnd.jupyter.widget-view+json": {
       "model_id": "6a255edb1045499ab7a54fd21250e4be",
       "version_major": 2,
       "version_minor": 0
      },
      "text/plain": [
       "HBox(children=(FloatProgress(value=0.0, max=4.0), HTML(value='')))"
      ]
     },
     "metadata": {},
     "output_type": "display_data"
    },
    {
     "name": "stdout",
     "output_type": "stream",
     "text": [
      "\n"
     ]
    },
    {
     "data": {
      "application/vnd.jupyter.widget-view+json": {
       "model_id": "bdbf09b4dcf94b28879f7e5a0ae5f81e",
       "version_major": 2,
       "version_minor": 0
      },
      "text/plain": [
       "HBox(children=(FloatProgress(value=0.0, max=4.0), HTML(value='')))"
      ]
     },
     "metadata": {},
     "output_type": "display_data"
    },
    {
     "name": "stdout",
     "output_type": "stream",
     "text": [
      "\n"
     ]
    },
    {
     "data": {
      "application/vnd.jupyter.widget-view+json": {
       "model_id": "ccc00a718b584a7e82132ed365431bde",
       "version_major": 2,
       "version_minor": 0
      },
      "text/plain": [
       "HBox(children=(FloatProgress(value=0.0, max=8.0), HTML(value='')))"
      ]
     },
     "metadata": {},
     "output_type": "display_data"
    },
    {
     "name": "stdout",
     "output_type": "stream",
     "text": [
      "\n"
     ]
    },
    {
     "data": {
      "application/vnd.jupyter.widget-view+json": {
       "model_id": "f8780c628bc84d75bc974bb0894d2ba4",
       "version_major": 2,
       "version_minor": 0
      },
      "text/plain": [
       "HBox(children=(FloatProgress(value=0.0, max=9.0), HTML(value='')))"
      ]
     },
     "metadata": {},
     "output_type": "display_data"
    },
    {
     "name": "stdout",
     "output_type": "stream",
     "text": [
      "\n",
      "\n",
      "{'바꾸어서 말하면', '쳇', '위하여', ':', '제각기', '대하면', '팔', '저쪽', '저희', '시간', '뿐만아니라', '위에서 서술한바와같이', '까닭으로', '넷', '또한', '두번째로', '시키다', '바로', '바꾸어서 한다면', '<', '이와같다면', '대로 하다', '보는데서', '고로', '한마디', '{', '이런', '고려하면', '윙윙', '하도록하다', '응', '이천육', '하기 때문에', '어디', '다음에', '더욱이는', ')', '설사', '\\\\', '허', '요만큼', '내용', '둥둥', '엉엉', '도착하다', '만 못하다', '저기', '으로 인하여', '할지라도', '시각', '하여금', '그렇지않으면', '한 이유는', '향하여', '비교적', '하느니', ';', '비록', '하지만', '말할것도 없고', '거바', '같다', '혼자', '하든지', '#', '갖고말하자면', '이 밖에', '오르다', '전자', '저것만큼', '만약에', '말하자면', '이러이러하다', '아이', '이상', '하지 않는다면', '붕붕', '에 대해', '이르기까지', '타인', '설령', '삐걱거리다', '게우다', '정도에 이르다', '지말고', '소생', '요컨대', '즈음하여', '잠깐', '가령', '를', '그리하여', '뒤이어', '하마터면', '로써', '오', '하기보다는', '에 달려 있다', '앞에서', '함께', '거니와', '해요', '어떤것', '잠시', '이때', '총적으로', '그럼', '다수', '있다', '예를 들자면', '의거하여', '동시에', '본대로', '바꾸어말하면', '그래도', '및', '이천팔', '약간', \"'\", '_', '중의하나', '하구나', '다만', '-', '알았어', '응당', '오호', '셋', '저', '같이', '을', '아홉', '불구하고', '로부터', '논하지 않다', '얼마 안 되는 것', '플레이어', '안 그러면', '향해서', '아하', '얼마나', '+', '했어요', '하지마라', '하기만 하면', '어느 년도', '하', '해도좋다', '그리고', '그렇지 않다면', '어느해', '다시말하면', '에서', '무렵', '그에 따르는', '그만이다', '할수있어', '하고 있다', '이리하여', '끙끙', '거의', '대하여', '할망정', '그럼에도 불구하고', '헐떡헐떡', '도달하다', '곧', '심지어', '하게하다', '일단', '자', '까지', '하하', '어느쪽', '때문', '무릎쓰고', '하겠는가', '입장에서', '무엇', '구토하다', '입각하여', '>', '지든지', '불문하고', '일지라도', '한다면', '만이 아니다', '뉴스', '그래서', '무엇때문에', '무슨', '조차', '아무거나', '설마', '실로', '할 지경이다', '그렇게 함으로써', '@', '비길수 없다', '관련이 있다', '아니었다면', '힘입어', '의해', '겨우', '둘', '바와같이', '개의치않고', '휴', '부류의 사람들', '그때', '그런 까닭에', '육', '할 줄 안다', '%', '비하면', '답다', '그위에', '쉿', '끼익', '모', '진짜로', '여섯', '봐', '어찌하든지', '줄은모른다', '토하다', '펄렁', '/', '좋아', '어쩔수 없다', '놀라다', '와아', '쾅쾅', '사', '할때', '혹은', '통하여', '아이쿠', '까지도', '여전히', '흐흐', '탕탕', '대해서', '매', '의', '든간에', '일반적으로', '형식으로 쓰여', '겸사겸사', '어떻해', '이어서', '어떤', '참', '다음으로', '이었다', '보다더', '아이야', '이천구', '하려고하다', '더라도', '아야', '여기', '어때', '상대적으로 말하자면', '어떤것들', '건강', '한 까닭에', '할지언정', '해도된다', '주저하지 않고', '뚝뚝', '이렇게 많은 것', '여덟', '얼마든지', '자마자', '본문', '이럴정도로', '아래윗', '막론하고', '이천칠', '흥', '더구나', '어쨋든', '더불어', '=', '예', '연관되다', '딱', '어떻게', '하지 않도록', '의해되다', '이봐', '퍽', '근거하여', '여보시오', '정보', '좀', '때문에', '관계없이', '매번', '얼마', '만약', '기준으로', '하더라도', '얼마큼', '옆사람', '줄은 몰랏다', '만큼\\t어찌됏든', '따지지 않다', '가까스로', '어느', '하게될것이다', '허걱', '제', '견지에서', '`', '버금', '}', '그러므로', '등등', '것', '어느때', '이번', '하고있었다', '결론을 낼 수 있다', '아니라면', '얼마간', '또', '관하여', '으로써', '여러분', '어느곳', '시초에', '이유만으로', '.', '솨', '으로', '~', '예를 들면', '하는 김에', '하도다', '삐걱', '때가 되어', '그러한즉', '아니나다를가', '뒤따라', '까악', '등', '하기는한데', '영', '참나', '의해서', '위해서', '한항목', '기타', '에 가서', '동안', '그저', '뿐이다', '총적으로 말하면', '어찌', '당장', '요만한걸', '할 생각이다', '어째서', '졸졸', '음식', '모두', '이로 인하여', '아', '여차', '주룩주룩', '봐라', '어이', '비슷하다', '대해 말하자면', '그렇지 않으면', '에 한하다', '이것', '기점으로', '이라면', '누구', '오자마자', '다시 말하자면', '않기 위해서', '타다', '여부', '에', '때', '할뿐', '전부', '어기여차', '운운', '오히려', '$', '딩동', '중에서', '양자', '아니', '비추어 보아', '자기집', '것과 같이', '각각', '즉', '아니면', '이렇게말하자면', '각종', '하여야', '하나', '바꾸어말하자면', '에게', '차라리', '만은 아니다', '바꿔 말하면', '구체적으로', '당신', '과', '하면서', '임에 틀림없다', '비걱거리다', '까지 미치다', '하면 할수록', '이만큼', '만 못하다\\t하기보다는', '그러면', '여', '한켠으로는', '누가 알겠는가', '에 있다', '연이서', '왜', '밖에 안된다', '즉시', '반대로 말하자면', '얼마만큼', '왜냐하면', '뿐만 아니라', '할 힘이 있다', '이외에도', '년', '경우', '프로그램', '(', '좍좍', '이렇게되면', '이 되다', '기대여', '이렇구나', '그러나', '이 외에', '와르르', '하는 편이 낫다', '않기 위하여', '해봐요', '몇', '와 같은 사람들', '할만하다', '이쪽', '자기', '이러한', '결과에 이르다', '예컨대', '소인', '쪽으로', '우리들', '조금', '다소', '팍', '자신', '삼', '알 수 있다', '반드시', '것들', '단지', '언젠가', '저것', '이', '하면된다', '로 인하여', '너', '보드득', '비로소', '령', '첫번째로', '각자', '서울', '추가', '하도록시키다', '된이상', '다른 방면으로', '한데', '\"', '쿵', '일때', '관한', '이 정도의', '향하다', '생각한대로', '남짓', '인젠', '한적이있다', '나', '하지마', '앗', '가', '댕그', '한 후', '근거로', '하곤하였다', '그치지 않다', '외에도', '마음대로', '시작하여', '하기 위하여', '된바에야', '따라서', '그렇지', '결국', '제외하고', '&', '너희', '이와 반대로', '마저도', '훨씬', '그래', '아이구', '해야한다', '그중에서', '다섯', '*', '게다가', '하는것이 낫다', '의지하여', '그', '하는바', '잇따라', '물론', '하물며', '반대로', '구', '일곱', ']', '할 따름이다', '우리', '습니다', '콸콸', '이와 같은', '따라', '야', '꽈당', '총적으로 보면', '그런데', '따위', '이와 같다', '?', '그들', '이래', '관해서는', '륙', '|', '일', '이곳', '할줄알다', '들', '앞의것', '메쓰겁다', '헉', '점에서 보아', '어떠한', '습니까', '퉤', '아울러', '틈타', '이용하여', '혹시', '헉헉', '일것이다', '다음', '그러니까', '월', '로', '나머지는', '으로서', '!', '남들', '어찌하여', '휘익', '이젠', '아이고', '툭', '더군다나', '공동으로', '지만', '우에 종합한것과같이', '언제', '하는것만 못하다', '그렇지만', '조차도', '인 듯하다', '관계가 있다', '어느것', '더욱더', '어찌됏어', '오직', '이지만', '마저', '오로지', '사용', '예하면', '다른', '어', '아무도', '할수있다', '^', '우르르', '부터', '만일', '과연', '허허', '한다면 몰라도', '라 해도', '각', '영차', '[', ',', '와', '하자마자', '요만한 것', '이 때문에', '전후', '네', '너희들', '그러니', '하기에', '우선', '그런즉', '칠', '마치', '기능', '하는것도', '해서는 안된다'}\n"
     ]
    },
    {
     "data": {
      "application/vnd.jupyter.widget-view+json": {
       "model_id": "ebef758759c64e2589fea7bd5af056a9",
       "version_major": 2,
       "version_minor": 0
      },
      "text/plain": [
       "HBox(children=(FloatProgress(value=0.0, description='Preprocessing', max=20.0, style=ProgressStyle(description…"
      ]
     },
     "metadata": {},
     "output_type": "display_data"
    },
    {
     "name": "stdout",
     "output_type": "stream",
     "text": [
      "\n",
      "end :: 명절 | 다년 | 섭취 | 보관 | 기름 | 조리 | 재료 | 열량 | 제철 | 방법\n",
      "2번째 반복 중\n",
      "['keyword/keyword_0', 'keyword/keyword_1']\n",
      "2\n",
      "\n",
      "start :: 명절 | 다년 | 섭취 | 보관 | 기름 | 조리 | 재료 | 열량 | 제철 | 방법+\"음식 건강\"\n"
     ]
    },
    {
     "data": {
      "application/vnd.jupyter.widget-view+json": {
       "model_id": "22345e168f7747ccbd8b812a2c772024",
       "version_major": 2,
       "version_minor": 0
      },
      "text/plain": [
       "HBox(children=(FloatProgress(value=0.0, max=20.0), HTML(value='')))"
      ]
     },
     "metadata": {},
     "output_type": "display_data"
    },
    {
     "name": "stdout",
     "output_type": "stream",
     "text": [
      "\n"
     ]
    },
    {
     "data": {
      "application/vnd.jupyter.widget-view+json": {
       "model_id": "7bdf718cb7e040e88d6d973ed9e9f1ea",
       "version_major": 2,
       "version_minor": 0
      },
      "text/plain": [
       "HBox(children=(FloatProgress(value=0.0, max=20.0), HTML(value='')))"
      ]
     },
     "metadata": {},
     "output_type": "display_data"
    },
    {
     "name": "stderr",
     "output_type": "stream",
     "text": [
      "/opt/conda/lib/python3.7/site-packages/selenium/webdriver/chrome/webdriver.py:50: DeprecationWarning: use options instead of chrome_options\n",
      "  warnings.warn('use options instead of chrome_options', DeprecationWarning)\n"
     ]
    },
    {
     "data": {
      "application/vnd.jupyter.widget-view+json": {
       "model_id": "edefb4a6234a417b9b160142a3c2085c",
       "version_major": 2,
       "version_minor": 0
      },
      "text/plain": [
       "HBox(children=(FloatProgress(value=0.0, max=3.0), HTML(value='')))"
      ]
     },
     "metadata": {},
     "output_type": "display_data"
    },
    {
     "name": "stdout",
     "output_type": "stream",
     "text": [
      "\n"
     ]
    },
    {
     "data": {
      "application/vnd.jupyter.widget-view+json": {
       "model_id": "97dd3fc713274c96b6f42c98dc050b17",
       "version_major": 2,
       "version_minor": 0
      },
      "text/plain": [
       "HBox(children=(FloatProgress(value=0.0, max=3.0), HTML(value='')))"
      ]
     },
     "metadata": {},
     "output_type": "display_data"
    },
    {
     "name": "stdout",
     "output_type": "stream",
     "text": [
      "\n"
     ]
    },
    {
     "data": {
      "application/vnd.jupyter.widget-view+json": {
       "model_id": "5a21ec3dcc2f498c828c6661ad3a72ed",
       "version_major": 2,
       "version_minor": 0
      },
      "text/plain": [
       "HBox(children=(FloatProgress(value=0.0, max=3.0), HTML(value='')))"
      ]
     },
     "metadata": {},
     "output_type": "display_data"
    },
    {
     "name": "stdout",
     "output_type": "stream",
     "text": [
      "\n"
     ]
    },
    {
     "data": {
      "application/vnd.jupyter.widget-view+json": {
       "model_id": "0b531c5d5acc4f98a707b222cf81a774",
       "version_major": 2,
       "version_minor": 0
      },
      "text/plain": [
       "HBox(children=(FloatProgress(value=0.0, max=2.0), HTML(value='')))"
      ]
     },
     "metadata": {},
     "output_type": "display_data"
    },
    {
     "name": "stdout",
     "output_type": "stream",
     "text": [
      "\n"
     ]
    },
    {
     "data": {
      "application/vnd.jupyter.widget-view+json": {
       "model_id": "8f679f01802b4abbaf2ee1feb79be22f",
       "version_major": 2,
       "version_minor": 0
      },
      "text/plain": [
       "HBox(children=(FloatProgress(value=0.0, max=5.0), HTML(value='')))"
      ]
     },
     "metadata": {},
     "output_type": "display_data"
    },
    {
     "name": "stdout",
     "output_type": "stream",
     "text": [
      "\n"
     ]
    },
    {
     "name": "stderr",
     "output_type": "stream",
     "text": [
      "/opt/conda/lib/python3.7/site-packages/selenium/webdriver/chrome/webdriver.py:50: DeprecationWarning: use options instead of chrome_options\n",
      "  warnings.warn('use options instead of chrome_options', DeprecationWarning)\n"
     ]
    },
    {
     "data": {
      "application/vnd.jupyter.widget-view+json": {
       "model_id": "44d1f9581b8f4bbdaa23bddb3eaf2ad8",
       "version_major": 2,
       "version_minor": 0
      },
      "text/plain": [
       "HBox(children=(FloatProgress(value=0.0, max=3.0), HTML(value='')))"
      ]
     },
     "metadata": {},
     "output_type": "display_data"
    },
    {
     "name": "stdout",
     "output_type": "stream",
     "text": [
      "\n"
     ]
    },
    {
     "data": {
      "application/vnd.jupyter.widget-view+json": {
       "model_id": "a781e0886f09495db9ebca86343dc684",
       "version_major": 2,
       "version_minor": 0
      },
      "text/plain": [
       "HBox(children=(FloatProgress(value=0.0, max=2.0), HTML(value='')))"
      ]
     },
     "metadata": {},
     "output_type": "display_data"
    },
    {
     "name": "stdout",
     "output_type": "stream",
     "text": [
      "\n"
     ]
    },
    {
     "data": {
      "application/vnd.jupyter.widget-view+json": {
       "model_id": "af4f9426d58e48568e72a6430d06afd9",
       "version_major": 2,
       "version_minor": 0
      },
      "text/plain": [
       "HBox(children=(FloatProgress(value=0.0, max=2.0), HTML(value='')))"
      ]
     },
     "metadata": {},
     "output_type": "display_data"
    },
    {
     "name": "stdout",
     "output_type": "stream",
     "text": [
      "\n"
     ]
    },
    {
     "data": {
      "application/vnd.jupyter.widget-view+json": {
       "model_id": "5ba7f06c8c9d4f5bad03fd430b05ded0",
       "version_major": 2,
       "version_minor": 0
      },
      "text/plain": [
       "HBox(children=(FloatProgress(value=0.0, max=2.0), HTML(value='')))"
      ]
     },
     "metadata": {},
     "output_type": "display_data"
    },
    {
     "name": "stdout",
     "output_type": "stream",
     "text": [
      "\n"
     ]
    },
    {
     "data": {
      "application/vnd.jupyter.widget-view+json": {
       "model_id": "6328244102a345e1b46eb63b5b9e510a",
       "version_major": 2,
       "version_minor": 0
      },
      "text/plain": [
       "HBox(children=(FloatProgress(value=0.0, max=3.0), HTML(value='')))"
      ]
     },
     "metadata": {},
     "output_type": "display_data"
    },
    {
     "name": "stdout",
     "output_type": "stream",
     "text": [
      "\n"
     ]
    },
    {
     "name": "stderr",
     "output_type": "stream",
     "text": [
      "/opt/conda/lib/python3.7/site-packages/selenium/webdriver/chrome/webdriver.py:50: DeprecationWarning: use options instead of chrome_options\n",
      "  warnings.warn('use options instead of chrome_options', DeprecationWarning)\n"
     ]
    },
    {
     "data": {
      "application/vnd.jupyter.widget-view+json": {
       "model_id": "e73c970cdfce4c4aa1dc477fa94256d8",
       "version_major": 2,
       "version_minor": 0
      },
      "text/plain": [
       "HBox(children=(FloatProgress(value=0.0, max=6.0), HTML(value='')))"
      ]
     },
     "metadata": {},
     "output_type": "display_data"
    },
    {
     "name": "stdout",
     "output_type": "stream",
     "text": [
      "\n"
     ]
    },
    {
     "data": {
      "application/vnd.jupyter.widget-view+json": {
       "model_id": "e9a166c3985748188223973e91e662aa",
       "version_major": 2,
       "version_minor": 0
      },
      "text/plain": [
       "HBox(children=(FloatProgress(value=0.0, max=6.0), HTML(value='')))"
      ]
     },
     "metadata": {},
     "output_type": "display_data"
    },
    {
     "name": "stdout",
     "output_type": "stream",
     "text": [
      "\n"
     ]
    },
    {
     "data": {
      "application/vnd.jupyter.widget-view+json": {
       "model_id": "be7ec917dcf6472b8fe7ba97f4213b92",
       "version_major": 2,
       "version_minor": 0
      },
      "text/plain": [
       "HBox(children=(FloatProgress(value=0.0, max=9.0), HTML(value='')))"
      ]
     },
     "metadata": {},
     "output_type": "display_data"
    },
    {
     "name": "stdout",
     "output_type": "stream",
     "text": [
      "\n"
     ]
    },
    {
     "data": {
      "application/vnd.jupyter.widget-view+json": {
       "model_id": "dbdb9faf76784dec92687a9180e29393",
       "version_major": 2,
       "version_minor": 0
      },
      "text/plain": [
       "HBox(children=(FloatProgress(value=0.0, max=5.0), HTML(value='')))"
      ]
     },
     "metadata": {},
     "output_type": "display_data"
    },
    {
     "name": "stdout",
     "output_type": "stream",
     "text": [
      "\n"
     ]
    },
    {
     "data": {
      "application/vnd.jupyter.widget-view+json": {
       "model_id": "8144aea0bfbf4325be53ce8643724b44",
       "version_major": 2,
       "version_minor": 0
      },
      "text/plain": [
       "HBox(children=(FloatProgress(value=0.0, max=7.0), HTML(value='')))"
      ]
     },
     "metadata": {},
     "output_type": "display_data"
    },
    {
     "name": "stdout",
     "output_type": "stream",
     "text": [
      "\n"
     ]
    },
    {
     "name": "stderr",
     "output_type": "stream",
     "text": [
      "/opt/conda/lib/python3.7/site-packages/selenium/webdriver/chrome/webdriver.py:50: DeprecationWarning: use options instead of chrome_options\n",
      "  warnings.warn('use options instead of chrome_options', DeprecationWarning)\n"
     ]
    },
    {
     "data": {
      "application/vnd.jupyter.widget-view+json": {
       "model_id": "7a2c3537ef1f4d2d9d228581dca47c8e",
       "version_major": 2,
       "version_minor": 0
      },
      "text/plain": [
       "HBox(children=(FloatProgress(value=0.0, max=5.0), HTML(value='')))"
      ]
     },
     "metadata": {},
     "output_type": "display_data"
    },
    {
     "name": "stdout",
     "output_type": "stream",
     "text": [
      "\n"
     ]
    },
    {
     "data": {
      "application/vnd.jupyter.widget-view+json": {
       "model_id": "12f2f64cc07847688a830a00828325bf",
       "version_major": 2,
       "version_minor": 0
      },
      "text/plain": [
       "HBox(children=(FloatProgress(value=0.0, max=3.0), HTML(value='')))"
      ]
     },
     "metadata": {},
     "output_type": "display_data"
    },
    {
     "name": "stdout",
     "output_type": "stream",
     "text": [
      "\n"
     ]
    },
    {
     "data": {
      "application/vnd.jupyter.widget-view+json": {
       "model_id": "96ce8493ab3a468ca4ff8b079ea789a6",
       "version_major": 2,
       "version_minor": 0
      },
      "text/plain": [
       "HBox(children=(FloatProgress(value=0.0, max=5.0), HTML(value='')))"
      ]
     },
     "metadata": {},
     "output_type": "display_data"
    },
    {
     "name": "stdout",
     "output_type": "stream",
     "text": [
      "\n"
     ]
    },
    {
     "data": {
      "application/vnd.jupyter.widget-view+json": {
       "model_id": "ddc92a8df8b34fc2889acc6a36fb16d4",
       "version_major": 2,
       "version_minor": 0
      },
      "text/plain": [
       "HBox(children=(FloatProgress(value=0.0, max=7.0), HTML(value='')))"
      ]
     },
     "metadata": {},
     "output_type": "display_data"
    },
    {
     "name": "stdout",
     "output_type": "stream",
     "text": [
      "\n"
     ]
    },
    {
     "data": {
      "application/vnd.jupyter.widget-view+json": {
       "model_id": "d757bd31b73e4f4d91f776d89590ed88",
       "version_major": 2,
       "version_minor": 0
      },
      "text/plain": [
       "HBox(children=(FloatProgress(value=0.0, max=3.0), HTML(value='')))"
      ]
     },
     "metadata": {},
     "output_type": "display_data"
    },
    {
     "name": "stdout",
     "output_type": "stream",
     "text": [
      "\n",
      "\n",
      "{'바꾸어서 말하면', '쳇', '위하여', ':', '제각기', '대하면', '팔', '저쪽', '저희', '시간', '뿐만아니라', '위에서 서술한바와같이', '까닭으로', '넷', '또한', '두번째로', '시키다', '바로', '바꾸어서 한다면', '<', '이와같다면', '대로 하다', '보는데서', '고로', '한마디', '{', '이런', '고려하면', '윙윙', '하도록하다', '응', '이천육', '하기 때문에', '어디', '다음에', '더욱이는', ')', '설사', '\\\\', '허', '요만큼', '내용', '둥둥', '엉엉', '도착하다', '만 못하다', '저기', '으로 인하여', '할지라도', '시각', '하여금', '그렇지않으면', '한 이유는', '향하여', '비교적', '하느니', ';', '비록', '하지만', '말할것도 없고', '거바', '같다', '혼자', '하든지', '#', '갖고말하자면', '이 밖에', '오르다', '전자', '저것만큼', '만약에', '말하자면', '이러이러하다', '아이', '이상', '하지 않는다면', '붕붕', '에 대해', '이르기까지', '타인', '설령', '삐걱거리다', '게우다', '정도에 이르다', '지말고', '소생', '요컨대', '즈음하여', '잠깐', '가령', '를', '그리하여', '뒤이어', '하마터면', '로써', '오', '하기보다는', '에 달려 있다', '앞에서', '함께', '거니와', '해요', '어떤것', '잠시', '이때', '총적으로', '그럼', '다수', '있다', '예를 들자면', '의거하여', '동시에', '본대로', '바꾸어말하면', '그래도', '및', '이천팔', '약간', \"'\", '_', '중의하나', '하구나', '다만', '-', '알았어', '응당', '오호', '셋', '저', '같이', '을', '아홉', '불구하고', '로부터', '논하지 않다', '얼마 안 되는 것', '플레이어', '안 그러면', '향해서', '아하', '얼마나', '+', '했어요', '하지마라', '하기만 하면', '어느 년도', '하', '해도좋다', '그리고', '그렇지 않다면', '어느해', '다시말하면', '에서', '무렵', '그에 따르는', '그만이다', '할수있어', '하고 있다', '이리하여', '끙끙', '거의', '대하여', '할망정', '그럼에도 불구하고', '헐떡헐떡', '도달하다', '곧', '심지어', '하게하다', '일단', '자', '까지', '하하', '어느쪽', '때문', '무릎쓰고', '하겠는가', '입장에서', '무엇', '구토하다', '입각하여', '>', '지든지', '불문하고', '일지라도', '한다면', '만이 아니다', '뉴스', '그래서', '무엇때문에', '무슨', '조차', '아무거나', '설마', '실로', '할 지경이다', '그렇게 함으로써', '@', '비길수 없다', '관련이 있다', '아니었다면', '힘입어', '의해', '겨우', '둘', '바와같이', '개의치않고', '휴', '부류의 사람들', '그때', '그런 까닭에', '육', '할 줄 안다', '%', '비하면', '답다', '그위에', '쉿', '끼익', '모', '진짜로', '여섯', '봐', '어찌하든지', '줄은모른다', '토하다', '펄렁', '/', '좋아', '어쩔수 없다', '놀라다', '와아', '쾅쾅', '사', '할때', '혹은', '통하여', '아이쿠', '까지도', '여전히', '흐흐', '탕탕', '대해서', '매', '의', '든간에', '일반적으로', '형식으로 쓰여', '겸사겸사', '어떻해', '이어서', '어떤', '참', '다음으로', '이었다', '보다더', '아이야', '이천구', '하려고하다', '더라도', '아야', '여기', '어때', '상대적으로 말하자면', '어떤것들', '건강', '한 까닭에', '할지언정', '해도된다', '주저하지 않고', '뚝뚝', '이렇게 많은 것', '여덟', '얼마든지', '자마자', '본문', '이럴정도로', '아래윗', '막론하고', '이천칠', '흥', '더구나', '어쨋든', '더불어', '=', '예', '연관되다', '딱', '어떻게', '하지 않도록', '의해되다', '이봐', '퍽', '근거하여', '여보시오', '정보', '좀', '때문에', '관계없이', '매번', '얼마', '만약', '기준으로', '하더라도', '얼마큼', '옆사람', '줄은 몰랏다', '만큼\\t어찌됏든', '따지지 않다', '가까스로', '어느', '하게될것이다', '허걱', '제', '견지에서', '`', '버금', '}', '그러므로', '등등', '것', '어느때', '이번', '하고있었다', '결론을 낼 수 있다', '아니라면', '얼마간', '또', '관하여', '으로써', '여러분', '어느곳', '시초에', '이유만으로', '.', '솨', '으로', '~', '예를 들면', '하는 김에', '하도다', '삐걱', '때가 되어', '그러한즉', '아니나다를가', '뒤따라', '까악', '등', '하기는한데', '영', '참나', '의해서', '위해서', '한항목', '기타', '에 가서', '동안', '그저', '뿐이다', '총적으로 말하면', '어찌', '당장', '요만한걸', '할 생각이다', '어째서', '졸졸', '음식', '모두', '이로 인하여', '아', '여차', '주룩주룩', '봐라', '어이', '비슷하다', '대해 말하자면', '그렇지 않으면', '에 한하다', '이것', '기점으로', '이라면', '누구', '오자마자', '다시 말하자면', '않기 위해서', '타다', '여부', '에', '때', '할뿐', '전부', '어기여차', '운운', '오히려', '$', '딩동', '중에서', '양자', '아니', '비추어 보아', '자기집', '것과 같이', '각각', '즉', '아니면', '이렇게말하자면', '각종', '하여야', '하나', '바꾸어말하자면', '에게', '차라리', '만은 아니다', '바꿔 말하면', '구체적으로', '당신', '과', '하면서', '임에 틀림없다', '비걱거리다', '까지 미치다', '하면 할수록', '이만큼', '만 못하다\\t하기보다는', '그러면', '여', '한켠으로는', '누가 알겠는가', '에 있다', '연이서', '왜', '밖에 안된다', '즉시', '반대로 말하자면', '얼마만큼', '왜냐하면', '뿐만 아니라', '할 힘이 있다', '이외에도', '년', '경우', '프로그램', '(', '좍좍', '이렇게되면', '이 되다', '기대여', '이렇구나', '그러나', '이 외에', '와르르', '하는 편이 낫다', '않기 위하여', '해봐요', '몇', '와 같은 사람들', '할만하다', '이쪽', '자기', '이러한', '결과에 이르다', '예컨대', '소인', '쪽으로', '우리들', '조금', '다소', '팍', '자신', '삼', '알 수 있다', '반드시', '것들', '단지', '언젠가', '저것', '이', '하면된다', '로 인하여', '너', '보드득', '비로소', '령', '첫번째로', '각자', '서울', '추가', '하도록시키다', '된이상', '다른 방면으로', '한데', '\"', '쿵', '일때', '관한', '이 정도의', '향하다', '생각한대로', '남짓', '인젠', '한적이있다', '나', '하지마', '앗', '가', '댕그', '한 후', '근거로', '하곤하였다', '그치지 않다', '외에도', '마음대로', '시작하여', '하기 위하여', '된바에야', '따라서', '그렇지', '결국', '제외하고', '&', '너희', '이와 반대로', '마저도', '훨씬', '그래', '아이구', '해야한다', '그중에서', '다섯', '*', '게다가', '하는것이 낫다', '의지하여', '그', '하는바', '잇따라', '물론', '하물며', '반대로', '구', '일곱', ']', '할 따름이다', '우리', '습니다', '콸콸', '이와 같은', '따라', '야', '꽈당', '총적으로 보면', '그런데', '따위', '이와 같다', '?', '그들', '이래', '관해서는', '륙', '|', '일', '이곳', '할줄알다', '들', '앞의것', '메쓰겁다', '헉', '점에서 보아', '어떠한', '습니까', '퉤', '아울러', '틈타', '이용하여', '혹시', '헉헉', '일것이다', '다음', '그러니까', '월', '로', '나머지는', '으로서', '!', '남들', '어찌하여', '휘익', '이젠', '아이고', '툭', '더군다나', '공동으로', '지만', '우에 종합한것과같이', '언제', '하는것만 못하다', '그렇지만', '조차도', '인 듯하다', '관계가 있다', '어느것', '더욱더', '어찌됏어', '오직', '이지만', '마저', '오로지', '사용', '예하면', '다른', '어', '아무도', '할수있다', '^', '우르르', '부터', '만일', '과연', '허허', '한다면 몰라도', '라 해도', '각', '영차', '[', ',', '와', '하자마자', '요만한 것', '이 때문에', '전후', '네', '너희들', '그러니', '하기에', '우선', '그런즉', '칠', '마치', '기능', '하는것도', '해서는 안된다'}\n"
     ]
    },
    {
     "data": {
      "application/vnd.jupyter.widget-view+json": {
       "model_id": "c65c51b6496d42ce9310b100c3e78a68",
       "version_major": 2,
       "version_minor": 0
      },
      "text/plain": [
       "HBox(children=(FloatProgress(value=0.0, description='Preprocessing', max=20.0, style=ProgressStyle(description…"
      ]
     },
     "metadata": {},
     "output_type": "display_data"
    },
    {
     "name": "stdout",
     "output_type": "stream",
     "text": [
      "\n",
      "end :: 식품 | 식사 | 함수 | 우회 | 오류 | 배포 | 금지 | 인터뷰 | 효과 | 앵커\n",
      "3번째 반복 중\n",
      "['keyword/keyword_0', 'keyword/keyword_1', 'keyword/keyword_2']\n",
      "3\n",
      "\n",
      "start :: 식품 | 식사 | 함수 | 우회 | 오류 | 배포 | 금지 | 인터뷰 | 효과 | 앵커+\"음식 건강\"\n"
     ]
    },
    {
     "data": {
      "application/vnd.jupyter.widget-view+json": {
       "model_id": "04b940cad91746018536de50362ca053",
       "version_major": 2,
       "version_minor": 0
      },
      "text/plain": [
       "HBox(children=(FloatProgress(value=0.0, max=20.0), HTML(value='')))"
      ]
     },
     "metadata": {},
     "output_type": "display_data"
    },
    {
     "name": "stdout",
     "output_type": "stream",
     "text": [
      "\n"
     ]
    },
    {
     "data": {
      "application/vnd.jupyter.widget-view+json": {
       "model_id": "21a4e46b2ab74a45ac0f908ae3ce67a3",
       "version_major": 2,
       "version_minor": 0
      },
      "text/plain": [
       "HBox(children=(FloatProgress(value=0.0, max=20.0), HTML(value='')))"
      ]
     },
     "metadata": {},
     "output_type": "display_data"
    },
    {
     "name": "stderr",
     "output_type": "stream",
     "text": [
      "/opt/conda/lib/python3.7/site-packages/selenium/webdriver/chrome/webdriver.py:50: DeprecationWarning: use options instead of chrome_options\n",
      "  warnings.warn('use options instead of chrome_options', DeprecationWarning)\n"
     ]
    },
    {
     "data": {
      "application/vnd.jupyter.widget-view+json": {
       "model_id": "dd3a1fbff9bc4cc1ae44599a699a0b27",
       "version_major": 2,
       "version_minor": 0
      },
      "text/plain": [
       "HBox(children=(FloatProgress(value=0.0, max=2.0), HTML(value='')))"
      ]
     },
     "metadata": {},
     "output_type": "display_data"
    },
    {
     "name": "stdout",
     "output_type": "stream",
     "text": [
      "\n"
     ]
    },
    {
     "data": {
      "application/vnd.jupyter.widget-view+json": {
       "model_id": "49e69b98b5c24433ab33cecda65f6d23",
       "version_major": 2,
       "version_minor": 0
      },
      "text/plain": [
       "HBox(children=(FloatProgress(value=0.0, max=3.0), HTML(value='')))"
      ]
     },
     "metadata": {},
     "output_type": "display_data"
    },
    {
     "name": "stdout",
     "output_type": "stream",
     "text": [
      "\n"
     ]
    },
    {
     "data": {
      "application/vnd.jupyter.widget-view+json": {
       "model_id": "052a7530ffef42c8abffd385d2d934c9",
       "version_major": 2,
       "version_minor": 0
      },
      "text/plain": [
       "HBox(children=(FloatProgress(value=0.0, max=4.0), HTML(value='')))"
      ]
     },
     "metadata": {},
     "output_type": "display_data"
    },
    {
     "name": "stdout",
     "output_type": "stream",
     "text": [
      "\n"
     ]
    },
    {
     "data": {
      "application/vnd.jupyter.widget-view+json": {
       "model_id": "8fde7360f1b4497cbe87556f870c09d1",
       "version_major": 2,
       "version_minor": 0
      },
      "text/plain": [
       "HBox(children=(FloatProgress(value=0.0, max=2.0), HTML(value='')))"
      ]
     },
     "metadata": {},
     "output_type": "display_data"
    },
    {
     "name": "stdout",
     "output_type": "stream",
     "text": [
      "\n"
     ]
    },
    {
     "data": {
      "application/vnd.jupyter.widget-view+json": {
       "model_id": "612e04f2a898434a883f76058e290a40",
       "version_major": 2,
       "version_minor": 0
      },
      "text/plain": [
       "HBox(children=(FloatProgress(value=0.0, max=6.0), HTML(value='')))"
      ]
     },
     "metadata": {},
     "output_type": "display_data"
    },
    {
     "name": "stdout",
     "output_type": "stream",
     "text": [
      "\n"
     ]
    },
    {
     "name": "stderr",
     "output_type": "stream",
     "text": [
      "/opt/conda/lib/python3.7/site-packages/selenium/webdriver/chrome/webdriver.py:50: DeprecationWarning: use options instead of chrome_options\n",
      "  warnings.warn('use options instead of chrome_options', DeprecationWarning)\n"
     ]
    },
    {
     "data": {
      "application/vnd.jupyter.widget-view+json": {
       "model_id": "4d8c0589cb7d4cdd904f0f409158a5ea",
       "version_major": 2,
       "version_minor": 0
      },
      "text/plain": [
       "HBox(children=(FloatProgress(value=0.0, max=1.0), HTML(value='')))"
      ]
     },
     "metadata": {},
     "output_type": "display_data"
    },
    {
     "name": "stdout",
     "output_type": "stream",
     "text": [
      "\n"
     ]
    },
    {
     "data": {
      "application/vnd.jupyter.widget-view+json": {
       "model_id": "2e01f915891b4d708f5bcdb3b97a3dbc",
       "version_major": 2,
       "version_minor": 0
      },
      "text/plain": [
       "HBox(children=(FloatProgress(value=0.0, max=3.0), HTML(value='')))"
      ]
     },
     "metadata": {},
     "output_type": "display_data"
    },
    {
     "name": "stdout",
     "output_type": "stream",
     "text": [
      "\n"
     ]
    },
    {
     "data": {
      "application/vnd.jupyter.widget-view+json": {
       "model_id": "900bb0e4e7ac49c6aca9bbadf7da64f0",
       "version_major": 2,
       "version_minor": 0
      },
      "text/plain": [
       "HBox(children=(FloatProgress(value=0.0, max=3.0), HTML(value='')))"
      ]
     },
     "metadata": {},
     "output_type": "display_data"
    },
    {
     "name": "stdout",
     "output_type": "stream",
     "text": [
      "\n"
     ]
    },
    {
     "data": {
      "application/vnd.jupyter.widget-view+json": {
       "model_id": "f8d3715f2e8d41219e632a18b0601781",
       "version_major": 2,
       "version_minor": 0
      },
      "text/plain": [
       "HBox(children=(FloatProgress(value=0.0, max=2.0), HTML(value='')))"
      ]
     },
     "metadata": {},
     "output_type": "display_data"
    },
    {
     "name": "stdout",
     "output_type": "stream",
     "text": [
      "\n"
     ]
    },
    {
     "data": {
      "application/vnd.jupyter.widget-view+json": {
       "model_id": "2904608ad7bd47909c8890cb4aab80b2",
       "version_major": 2,
       "version_minor": 0
      },
      "text/plain": [
       "HBox(children=(FloatProgress(value=0.0, max=4.0), HTML(value='')))"
      ]
     },
     "metadata": {},
     "output_type": "display_data"
    },
    {
     "name": "stdout",
     "output_type": "stream",
     "text": [
      "\n"
     ]
    },
    {
     "name": "stderr",
     "output_type": "stream",
     "text": [
      "/opt/conda/lib/python3.7/site-packages/selenium/webdriver/chrome/webdriver.py:50: DeprecationWarning: use options instead of chrome_options\n",
      "  warnings.warn('use options instead of chrome_options', DeprecationWarning)\n"
     ]
    },
    {
     "data": {
      "application/vnd.jupyter.widget-view+json": {
       "model_id": "724596d31a39434f9134175df9deeb1c",
       "version_major": 2,
       "version_minor": 0
      },
      "text/plain": [
       "HBox(children=(FloatProgress(value=0.0, max=6.0), HTML(value='')))"
      ]
     },
     "metadata": {},
     "output_type": "display_data"
    },
    {
     "name": "stdout",
     "output_type": "stream",
     "text": [
      "\n"
     ]
    },
    {
     "data": {
      "application/vnd.jupyter.widget-view+json": {
       "model_id": "76f975ff7a974d1fa4d50bfc46b6bcef",
       "version_major": 2,
       "version_minor": 0
      },
      "text/plain": [
       "HBox(children=(FloatProgress(value=0.0, max=6.0), HTML(value='')))"
      ]
     },
     "metadata": {},
     "output_type": "display_data"
    },
    {
     "name": "stdout",
     "output_type": "stream",
     "text": [
      "\n"
     ]
    },
    {
     "data": {
      "application/vnd.jupyter.widget-view+json": {
       "model_id": "b23786f2ee60463e89615b280012ebe8",
       "version_major": 2,
       "version_minor": 0
      },
      "text/plain": [
       "HBox(children=(FloatProgress(value=0.0, max=8.0), HTML(value='')))"
      ]
     },
     "metadata": {},
     "output_type": "display_data"
    },
    {
     "name": "stdout",
     "output_type": "stream",
     "text": [
      "\n"
     ]
    },
    {
     "data": {
      "application/vnd.jupyter.widget-view+json": {
       "model_id": "8cde1ea271b343d5b661c7e7428631d9",
       "version_major": 2,
       "version_minor": 0
      },
      "text/plain": [
       "HBox(children=(FloatProgress(value=0.0, max=9.0), HTML(value='')))"
      ]
     },
     "metadata": {},
     "output_type": "display_data"
    },
    {
     "name": "stdout",
     "output_type": "stream",
     "text": [
      "\n"
     ]
    },
    {
     "data": {
      "application/vnd.jupyter.widget-view+json": {
       "model_id": "3a8dc167233c4be288d23c49f380c8cc",
       "version_major": 2,
       "version_minor": 0
      },
      "text/plain": [
       "HBox(children=(FloatProgress(value=0.0, max=4.0), HTML(value='')))"
      ]
     },
     "metadata": {},
     "output_type": "display_data"
    },
    {
     "name": "stdout",
     "output_type": "stream",
     "text": [
      "\n"
     ]
    },
    {
     "name": "stderr",
     "output_type": "stream",
     "text": [
      "/opt/conda/lib/python3.7/site-packages/selenium/webdriver/chrome/webdriver.py:50: DeprecationWarning: use options instead of chrome_options\n",
      "  warnings.warn('use options instead of chrome_options', DeprecationWarning)\n"
     ]
    },
    {
     "data": {
      "application/vnd.jupyter.widget-view+json": {
       "model_id": "6c5201b2129c4688b53769060747adb0",
       "version_major": 2,
       "version_minor": 0
      },
      "text/plain": [
       "HBox(children=(FloatProgress(value=0.0, max=5.0), HTML(value='')))"
      ]
     },
     "metadata": {},
     "output_type": "display_data"
    },
    {
     "name": "stdout",
     "output_type": "stream",
     "text": [
      "\n"
     ]
    },
    {
     "data": {
      "application/vnd.jupyter.widget-view+json": {
       "model_id": "6133f09c318346fc90d6129711f2bdea",
       "version_major": 2,
       "version_minor": 0
      },
      "text/plain": [
       "HBox(children=(FloatProgress(value=0.0, max=3.0), HTML(value='')))"
      ]
     },
     "metadata": {},
     "output_type": "display_data"
    },
    {
     "name": "stdout",
     "output_type": "stream",
     "text": [
      "\n"
     ]
    },
    {
     "data": {
      "application/vnd.jupyter.widget-view+json": {
       "model_id": "7b5171294de14ab7a9e8b295961a3445",
       "version_major": 2,
       "version_minor": 0
      },
      "text/plain": [
       "HBox(children=(FloatProgress(value=0.0, max=6.0), HTML(value='')))"
      ]
     },
     "metadata": {},
     "output_type": "display_data"
    },
    {
     "name": "stdout",
     "output_type": "stream",
     "text": [
      "\n"
     ]
    },
    {
     "data": {
      "application/vnd.jupyter.widget-view+json": {
       "model_id": "ca18a1d092ef453d86b6fd461fdfd95c",
       "version_major": 2,
       "version_minor": 0
      },
      "text/plain": [
       "HBox(children=(FloatProgress(value=0.0, max=4.0), HTML(value='')))"
      ]
     },
     "metadata": {},
     "output_type": "display_data"
    },
    {
     "name": "stdout",
     "output_type": "stream",
     "text": [
      "\n"
     ]
    },
    {
     "data": {
      "application/vnd.jupyter.widget-view+json": {
       "model_id": "b2eed42cba8d430caa3fbaa0eaf6733c",
       "version_major": 2,
       "version_minor": 0
      },
      "text/plain": [
       "HBox(children=(FloatProgress(value=0.0, max=4.0), HTML(value='')))"
      ]
     },
     "metadata": {},
     "output_type": "display_data"
    },
    {
     "name": "stdout",
     "output_type": "stream",
     "text": [
      "\n",
      "\n",
      "{'바꾸어서 말하면', '쳇', '위하여', ':', '제각기', '대하면', '팔', '저쪽', '저희', '시간', '뿐만아니라', '위에서 서술한바와같이', '까닭으로', '넷', '또한', '두번째로', '시키다', '바로', '바꾸어서 한다면', '<', '이와같다면', '대로 하다', '보는데서', '고로', '한마디', '{', '이런', '고려하면', '윙윙', '하도록하다', '응', '이천육', '하기 때문에', '어디', '다음에', '더욱이는', ')', '설사', '\\\\', '허', '요만큼', '내용', '둥둥', '엉엉', '도착하다', '만 못하다', '저기', '으로 인하여', '할지라도', '시각', '하여금', '그렇지않으면', '한 이유는', '향하여', '비교적', '하느니', ';', '비록', '하지만', '말할것도 없고', '거바', '같다', '혼자', '하든지', '#', '갖고말하자면', '이 밖에', '오르다', '전자', '저것만큼', '만약에', '말하자면', '이러이러하다', '아이', '이상', '하지 않는다면', '붕붕', '에 대해', '이르기까지', '타인', '설령', '삐걱거리다', '게우다', '정도에 이르다', '지말고', '소생', '요컨대', '즈음하여', '잠깐', '가령', '를', '그리하여', '뒤이어', '하마터면', '로써', '오', '하기보다는', '에 달려 있다', '앞에서', '함께', '거니와', '해요', '어떤것', '잠시', '이때', '총적으로', '그럼', '다수', '있다', '예를 들자면', '의거하여', '동시에', '본대로', '바꾸어말하면', '그래도', '및', '이천팔', '약간', \"'\", '_', '중의하나', '하구나', '다만', '-', '알았어', '응당', '오호', '셋', '저', '같이', '을', '아홉', '불구하고', '로부터', '논하지 않다', '얼마 안 되는 것', '플레이어', '안 그러면', '향해서', '아하', '얼마나', '+', '했어요', '하지마라', '하기만 하면', '어느 년도', '하', '해도좋다', '그리고', '그렇지 않다면', '어느해', '다시말하면', '에서', '무렵', '그에 따르는', '그만이다', '할수있어', '하고 있다', '이리하여', '끙끙', '거의', '대하여', '할망정', '그럼에도 불구하고', '헐떡헐떡', '도달하다', '곧', '심지어', '하게하다', '일단', '자', '까지', '하하', '어느쪽', '때문', '무릎쓰고', '하겠는가', '입장에서', '무엇', '구토하다', '입각하여', '>', '지든지', '불문하고', '일지라도', '한다면', '만이 아니다', '뉴스', '그래서', '무엇때문에', '무슨', '조차', '아무거나', '설마', '실로', '할 지경이다', '그렇게 함으로써', '@', '비길수 없다', '관련이 있다', '아니었다면', '힘입어', '의해', '겨우', '둘', '바와같이', '개의치않고', '휴', '부류의 사람들', '그때', '그런 까닭에', '육', '할 줄 안다', '%', '비하면', '답다', '그위에', '쉿', '끼익', '모', '진짜로', '여섯', '봐', '어찌하든지', '줄은모른다', '토하다', '펄렁', '/', '좋아', '어쩔수 없다', '놀라다', '와아', '쾅쾅', '사', '할때', '혹은', '통하여', '아이쿠', '까지도', '여전히', '흐흐', '탕탕', '대해서', '매', '의', '든간에', '일반적으로', '형식으로 쓰여', '겸사겸사', '어떻해', '이어서', '어떤', '참', '다음으로', '이었다', '보다더', '아이야', '이천구', '하려고하다', '더라도', '아야', '여기', '어때', '상대적으로 말하자면', '어떤것들', '건강', '한 까닭에', '할지언정', '해도된다', '주저하지 않고', '뚝뚝', '이렇게 많은 것', '여덟', '얼마든지', '자마자', '본문', '이럴정도로', '아래윗', '막론하고', '이천칠', '흥', '더구나', '어쨋든', '더불어', '=', '예', '연관되다', '딱', '어떻게', '하지 않도록', '의해되다', '이봐', '퍽', '근거하여', '여보시오', '정보', '좀', '때문에', '관계없이', '매번', '얼마', '만약', '기준으로', '하더라도', '얼마큼', '옆사람', '줄은 몰랏다', '만큼\\t어찌됏든', '따지지 않다', '가까스로', '어느', '하게될것이다', '허걱', '제', '견지에서', '`', '버금', '}', '그러므로', '등등', '것', '어느때', '이번', '하고있었다', '결론을 낼 수 있다', '아니라면', '얼마간', '또', '관하여', '으로써', '여러분', '어느곳', '시초에', '이유만으로', '.', '솨', '으로', '~', '예를 들면', '하는 김에', '하도다', '삐걱', '때가 되어', '그러한즉', '아니나다를가', '뒤따라', '까악', '등', '하기는한데', '영', '참나', '의해서', '위해서', '한항목', '기타', '에 가서', '동안', '그저', '뿐이다', '총적으로 말하면', '어찌', '당장', '요만한걸', '할 생각이다', '어째서', '졸졸', '음식', '모두', '이로 인하여', '아', '여차', '주룩주룩', '봐라', '어이', '비슷하다', '대해 말하자면', '그렇지 않으면', '에 한하다', '이것', '기점으로', '이라면', '누구', '오자마자', '다시 말하자면', '않기 위해서', '타다', '여부', '에', '때', '할뿐', '전부', '어기여차', '운운', '오히려', '$', '딩동', '중에서', '양자', '아니', '비추어 보아', '자기집', '것과 같이', '각각', '즉', '아니면', '이렇게말하자면', '각종', '하여야', '하나', '바꾸어말하자면', '에게', '차라리', '만은 아니다', '바꿔 말하면', '구체적으로', '당신', '과', '하면서', '임에 틀림없다', '비걱거리다', '까지 미치다', '하면 할수록', '이만큼', '만 못하다\\t하기보다는', '그러면', '여', '한켠으로는', '누가 알겠는가', '에 있다', '연이서', '왜', '밖에 안된다', '즉시', '반대로 말하자면', '얼마만큼', '왜냐하면', '뿐만 아니라', '할 힘이 있다', '이외에도', '년', '경우', '프로그램', '(', '좍좍', '이렇게되면', '이 되다', '기대여', '이렇구나', '그러나', '이 외에', '와르르', '하는 편이 낫다', '않기 위하여', '해봐요', '몇', '와 같은 사람들', '할만하다', '이쪽', '자기', '이러한', '결과에 이르다', '예컨대', '소인', '쪽으로', '우리들', '조금', '다소', '팍', '자신', '삼', '알 수 있다', '반드시', '것들', '단지', '언젠가', '저것', '이', '하면된다', '로 인하여', '너', '보드득', '비로소', '령', '첫번째로', '각자', '서울', '추가', '하도록시키다', '된이상', '다른 방면으로', '한데', '\"', '쿵', '일때', '관한', '이 정도의', '향하다', '생각한대로', '남짓', '인젠', '한적이있다', '나', '하지마', '앗', '가', '댕그', '한 후', '근거로', '하곤하였다', '그치지 않다', '외에도', '마음대로', '시작하여', '하기 위하여', '된바에야', '따라서', '그렇지', '결국', '제외하고', '&', '너희', '이와 반대로', '마저도', '훨씬', '그래', '아이구', '해야한다', '그중에서', '다섯', '*', '게다가', '하는것이 낫다', '의지하여', '그', '하는바', '잇따라', '물론', '하물며', '반대로', '구', '일곱', ']', '할 따름이다', '우리', '습니다', '콸콸', '이와 같은', '따라', '야', '꽈당', '총적으로 보면', '그런데', '따위', '이와 같다', '?', '그들', '이래', '관해서는', '륙', '|', '일', '이곳', '할줄알다', '들', '앞의것', '메쓰겁다', '헉', '점에서 보아', '어떠한', '습니까', '퉤', '아울러', '틈타', '이용하여', '혹시', '헉헉', '일것이다', '다음', '그러니까', '월', '로', '나머지는', '으로서', '!', '남들', '어찌하여', '휘익', '이젠', '아이고', '툭', '더군다나', '공동으로', '지만', '우에 종합한것과같이', '언제', '하는것만 못하다', '그렇지만', '조차도', '인 듯하다', '관계가 있다', '어느것', '더욱더', '어찌됏어', '오직', '이지만', '마저', '오로지', '사용', '예하면', '다른', '어', '아무도', '할수있다', '^', '우르르', '부터', '만일', '과연', '허허', '한다면 몰라도', '라 해도', '각', '영차', '[', ',', '와', '하자마자', '요만한 것', '이 때문에', '전후', '네', '너희들', '그러니', '하기에', '우선', '그런즉', '칠', '마치', '기능', '하는것도', '해서는 안된다'}\n"
     ]
    },
    {
     "data": {
      "application/vnd.jupyter.widget-view+json": {
       "model_id": "c91c6e00c3d34623b09874129c813abf",
       "version_major": 2,
       "version_minor": 0
      },
      "text/plain": [
       "HBox(children=(FloatProgress(value=0.0, description='Preprocessing', max=20.0, style=ProgressStyle(description…"
      ]
     },
     "metadata": {},
     "output_type": "display_data"
    },
    {
     "name": "stdout",
     "output_type": "stream",
     "text": [
      "\n",
      "end :: 섭취 | 다이어트 | 명절 | 다년 | 기름 | 조리 | 방법 | 보관 | 경제 | 열량\n",
      "4번째 반복 중\n",
      "['keyword/keyword_0', 'keyword/keyword_1', 'keyword/keyword_3', 'keyword/keyword_2']\n",
      "4\n",
      "\n",
      "start :: 섭취 | 다이어트 | 명절 | 다년 | 기름 | 조리 | 방법 | 보관 | 경제 | 열량+\"음식 건강\"\n"
     ]
    },
    {
     "data": {
      "application/vnd.jupyter.widget-view+json": {
       "model_id": "c8721969ee1f4691bd3714fa29d782e2",
       "version_major": 2,
       "version_minor": 0
      },
      "text/plain": [
       "HBox(children=(FloatProgress(value=0.0, max=20.0), HTML(value='')))"
      ]
     },
     "metadata": {},
     "output_type": "display_data"
    },
    {
     "name": "stdout",
     "output_type": "stream",
     "text": [
      "\n"
     ]
    },
    {
     "data": {
      "application/vnd.jupyter.widget-view+json": {
       "model_id": "7675d15bb98b4dd58dc42f87128e7ede",
       "version_major": 2,
       "version_minor": 0
      },
      "text/plain": [
       "HBox(children=(FloatProgress(value=0.0, max=20.0), HTML(value='')))"
      ]
     },
     "metadata": {},
     "output_type": "display_data"
    },
    {
     "name": "stderr",
     "output_type": "stream",
     "text": [
      "/opt/conda/lib/python3.7/site-packages/selenium/webdriver/chrome/webdriver.py:50: DeprecationWarning: use options instead of chrome_options\n",
      "  warnings.warn('use options instead of chrome_options', DeprecationWarning)\n"
     ]
    },
    {
     "data": {
      "application/vnd.jupyter.widget-view+json": {
       "model_id": "126a846e97da4f3ca7dc488228e6f9c1",
       "version_major": 2,
       "version_minor": 0
      },
      "text/plain": [
       "HBox(children=(FloatProgress(value=0.0, max=3.0), HTML(value='')))"
      ]
     },
     "metadata": {},
     "output_type": "display_data"
    },
    {
     "name": "stdout",
     "output_type": "stream",
     "text": [
      "\n"
     ]
    },
    {
     "data": {
      "application/vnd.jupyter.widget-view+json": {
       "model_id": "880f7f2f7c0a4f8e8722d2ea10ad1921",
       "version_major": 2,
       "version_minor": 0
      },
      "text/plain": [
       "HBox(children=(FloatProgress(value=0.0, max=4.0), HTML(value='')))"
      ]
     },
     "metadata": {},
     "output_type": "display_data"
    },
    {
     "name": "stdout",
     "output_type": "stream",
     "text": [
      "\n"
     ]
    },
    {
     "data": {
      "application/vnd.jupyter.widget-view+json": {
       "model_id": "697efb3a4d544db3977d4090c037d5f3",
       "version_major": 2,
       "version_minor": 0
      },
      "text/plain": [
       "HBox(children=(FloatProgress(value=0.0, max=2.0), HTML(value='')))"
      ]
     },
     "metadata": {},
     "output_type": "display_data"
    },
    {
     "name": "stdout",
     "output_type": "stream",
     "text": [
      "\n"
     ]
    },
    {
     "data": {
      "application/vnd.jupyter.widget-view+json": {
       "model_id": "04fa745689bb49919f0640c57f4dc031",
       "version_major": 2,
       "version_minor": 0
      },
      "text/plain": [
       "HBox(children=(FloatProgress(value=0.0, max=3.0), HTML(value='')))"
      ]
     },
     "metadata": {},
     "output_type": "display_data"
    },
    {
     "name": "stdout",
     "output_type": "stream",
     "text": [
      "\n"
     ]
    },
    {
     "data": {
      "application/vnd.jupyter.widget-view+json": {
       "model_id": "7c8ece3827f54e28bc53948999f4747b",
       "version_major": 2,
       "version_minor": 0
      },
      "text/plain": [
       "HBox(children=(FloatProgress(value=0.0, max=5.0), HTML(value='')))"
      ]
     },
     "metadata": {},
     "output_type": "display_data"
    },
    {
     "name": "stdout",
     "output_type": "stream",
     "text": [
      "\n"
     ]
    },
    {
     "name": "stderr",
     "output_type": "stream",
     "text": [
      "/opt/conda/lib/python3.7/site-packages/selenium/webdriver/chrome/webdriver.py:50: DeprecationWarning: use options instead of chrome_options\n",
      "  warnings.warn('use options instead of chrome_options', DeprecationWarning)\n"
     ]
    },
    {
     "data": {
      "application/vnd.jupyter.widget-view+json": {
       "model_id": "b1eaef8d59844f66bf40e38c4e2b9a54",
       "version_major": 2,
       "version_minor": 0
      },
      "text/plain": [
       "HBox(children=(FloatProgress(value=0.0, max=2.0), HTML(value='')))"
      ]
     },
     "metadata": {},
     "output_type": "display_data"
    },
    {
     "name": "stdout",
     "output_type": "stream",
     "text": [
      "\n"
     ]
    },
    {
     "data": {
      "application/vnd.jupyter.widget-view+json": {
       "model_id": "b43b34ce17ca45e786dd4d064ef18f17",
       "version_major": 2,
       "version_minor": 0
      },
      "text/plain": [
       "HBox(children=(FloatProgress(value=0.0, max=2.0), HTML(value='')))"
      ]
     },
     "metadata": {},
     "output_type": "display_data"
    },
    {
     "name": "stdout",
     "output_type": "stream",
     "text": [
      "\n"
     ]
    },
    {
     "data": {
      "application/vnd.jupyter.widget-view+json": {
       "model_id": "f484f7b35f18463d9d610f3c775accb6",
       "version_major": 2,
       "version_minor": 0
      },
      "text/plain": [
       "HBox(children=(FloatProgress(value=0.0, max=3.0), HTML(value='')))"
      ]
     },
     "metadata": {},
     "output_type": "display_data"
    },
    {
     "name": "stdout",
     "output_type": "stream",
     "text": [
      "\n"
     ]
    },
    {
     "data": {
      "application/vnd.jupyter.widget-view+json": {
       "model_id": "1282a23e6bfd443ba4b5ad31a7de4d4e",
       "version_major": 2,
       "version_minor": 0
      },
      "text/plain": [
       "HBox(children=(FloatProgress(value=0.0, max=2.0), HTML(value='')))"
      ]
     },
     "metadata": {},
     "output_type": "display_data"
    },
    {
     "name": "stdout",
     "output_type": "stream",
     "text": [
      "\n"
     ]
    },
    {
     "data": {
      "application/vnd.jupyter.widget-view+json": {
       "model_id": "d22a637bf0de4889a4cea64e7c56e783",
       "version_major": 2,
       "version_minor": 0
      },
      "text/plain": [
       "HBox(children=(FloatProgress(value=0.0, max=1.0), HTML(value='')))"
      ]
     },
     "metadata": {},
     "output_type": "display_data"
    },
    {
     "name": "stdout",
     "output_type": "stream",
     "text": [
      "\n"
     ]
    },
    {
     "name": "stderr",
     "output_type": "stream",
     "text": [
      "/opt/conda/lib/python3.7/site-packages/selenium/webdriver/chrome/webdriver.py:50: DeprecationWarning: use options instead of chrome_options\n",
      "  warnings.warn('use options instead of chrome_options', DeprecationWarning)\n"
     ]
    },
    {
     "data": {
      "application/vnd.jupyter.widget-view+json": {
       "model_id": "c938c7f4005a450593b267f08ba1e697",
       "version_major": 2,
       "version_minor": 0
      },
      "text/plain": [
       "HBox(children=(FloatProgress(value=0.0, max=8.0), HTML(value='')))"
      ]
     },
     "metadata": {},
     "output_type": "display_data"
    },
    {
     "name": "stdout",
     "output_type": "stream",
     "text": [
      "\n"
     ]
    },
    {
     "data": {
      "application/vnd.jupyter.widget-view+json": {
       "model_id": "eccaeffa27c04a989c1c8fa46ba90e00",
       "version_major": 2,
       "version_minor": 0
      },
      "text/plain": [
       "HBox(children=(FloatProgress(value=0.0, max=4.0), HTML(value='')))"
      ]
     },
     "metadata": {},
     "output_type": "display_data"
    },
    {
     "name": "stdout",
     "output_type": "stream",
     "text": [
      "\n"
     ]
    },
    {
     "data": {
      "application/vnd.jupyter.widget-view+json": {
       "model_id": "5087c2f06b754be2b85cf48630793786",
       "version_major": 2,
       "version_minor": 0
      },
      "text/plain": [
       "HBox(children=(FloatProgress(value=0.0, max=9.0), HTML(value='')))"
      ]
     },
     "metadata": {},
     "output_type": "display_data"
    },
    {
     "name": "stdout",
     "output_type": "stream",
     "text": [
      "\n"
     ]
    },
    {
     "data": {
      "application/vnd.jupyter.widget-view+json": {
       "model_id": "c56dc95e7bf44962816c9f4875075ffa",
       "version_major": 2,
       "version_minor": 0
      },
      "text/plain": [
       "HBox(children=(FloatProgress(value=0.0, max=7.0), HTML(value='')))"
      ]
     },
     "metadata": {},
     "output_type": "display_data"
    },
    {
     "name": "stdout",
     "output_type": "stream",
     "text": [
      "\n"
     ]
    },
    {
     "data": {
      "application/vnd.jupyter.widget-view+json": {
       "model_id": "dce625c5362a4ad09219eb1e54220610",
       "version_major": 2,
       "version_minor": 0
      },
      "text/plain": [
       "HBox(children=(FloatProgress(value=0.0, max=6.0), HTML(value='')))"
      ]
     },
     "metadata": {},
     "output_type": "display_data"
    },
    {
     "name": "stdout",
     "output_type": "stream",
     "text": [
      "\n"
     ]
    },
    {
     "name": "stderr",
     "output_type": "stream",
     "text": [
      "/opt/conda/lib/python3.7/site-packages/selenium/webdriver/chrome/webdriver.py:50: DeprecationWarning: use options instead of chrome_options\n",
      "  warnings.warn('use options instead of chrome_options', DeprecationWarning)\n"
     ]
    },
    {
     "data": {
      "application/vnd.jupyter.widget-view+json": {
       "model_id": "39b1ca54c7db4d9387f0dd242755d8d7",
       "version_major": 2,
       "version_minor": 0
      },
      "text/plain": [
       "HBox(children=(FloatProgress(value=0.0, max=5.0), HTML(value='')))"
      ]
     },
     "metadata": {},
     "output_type": "display_data"
    },
    {
     "name": "stdout",
     "output_type": "stream",
     "text": [
      "\n"
     ]
    },
    {
     "data": {
      "application/vnd.jupyter.widget-view+json": {
       "model_id": "6ab9d64eeca6465a80420e82f3f9a79a",
       "version_major": 2,
       "version_minor": 0
      },
      "text/plain": [
       "HBox(children=(FloatProgress(value=0.0, max=3.0), HTML(value='')))"
      ]
     },
     "metadata": {},
     "output_type": "display_data"
    },
    {
     "name": "stdout",
     "output_type": "stream",
     "text": [
      "\n"
     ]
    },
    {
     "data": {
      "application/vnd.jupyter.widget-view+json": {
       "model_id": "3ec87a1cfa884b6a8a17db7d631fc221",
       "version_major": 2,
       "version_minor": 0
      },
      "text/plain": [
       "HBox(children=(FloatProgress(value=0.0, max=5.0), HTML(value='')))"
      ]
     },
     "metadata": {},
     "output_type": "display_data"
    },
    {
     "name": "stdout",
     "output_type": "stream",
     "text": [
      "\n"
     ]
    },
    {
     "data": {
      "application/vnd.jupyter.widget-view+json": {
       "model_id": "2e2ae4a5b24b4d2db888438a8512bdeb",
       "version_major": 2,
       "version_minor": 0
      },
      "text/plain": [
       "HBox(children=(FloatProgress(value=0.0, max=7.0), HTML(value='')))"
      ]
     },
     "metadata": {},
     "output_type": "display_data"
    },
    {
     "name": "stdout",
     "output_type": "stream",
     "text": [
      "\n"
     ]
    },
    {
     "data": {
      "application/vnd.jupyter.widget-view+json": {
       "model_id": "e2ef80852e1e4f1c8c12ea2db080f433",
       "version_major": 2,
       "version_minor": 0
      },
      "text/plain": [
       "HBox(children=(FloatProgress(value=0.0, max=4.0), HTML(value='')))"
      ]
     },
     "metadata": {},
     "output_type": "display_data"
    },
    {
     "name": "stdout",
     "output_type": "stream",
     "text": [
      "\n",
      "\n",
      "{'바꾸어서 말하면', '쳇', '위하여', ':', '제각기', '대하면', '팔', '저쪽', '저희', '시간', '뿐만아니라', '위에서 서술한바와같이', '까닭으로', '넷', '또한', '두번째로', '시키다', '바로', '바꾸어서 한다면', '<', '이와같다면', '대로 하다', '보는데서', '고로', '한마디', '{', '이런', '고려하면', '윙윙', '하도록하다', '응', '이천육', '하기 때문에', '어디', '다음에', '더욱이는', ')', '설사', '\\\\', '허', '요만큼', '내용', '둥둥', '엉엉', '도착하다', '만 못하다', '저기', '으로 인하여', '할지라도', '시각', '하여금', '그렇지않으면', '한 이유는', '향하여', '비교적', '하느니', ';', '비록', '하지만', '말할것도 없고', '거바', '같다', '혼자', '하든지', '#', '갖고말하자면', '이 밖에', '오르다', '전자', '저것만큼', '만약에', '말하자면', '이러이러하다', '아이', '이상', '하지 않는다면', '붕붕', '에 대해', '이르기까지', '타인', '설령', '삐걱거리다', '게우다', '정도에 이르다', '지말고', '소생', '요컨대', '즈음하여', '잠깐', '가령', '를', '그리하여', '뒤이어', '하마터면', '로써', '오', '하기보다는', '에 달려 있다', '앞에서', '함께', '거니와', '해요', '어떤것', '잠시', '이때', '총적으로', '그럼', '다수', '있다', '예를 들자면', '의거하여', '동시에', '본대로', '바꾸어말하면', '그래도', '및', '이천팔', '약간', \"'\", '_', '중의하나', '하구나', '다만', '-', '알았어', '응당', '오호', '셋', '저', '같이', '을', '아홉', '불구하고', '로부터', '논하지 않다', '얼마 안 되는 것', '플레이어', '안 그러면', '향해서', '아하', '얼마나', '+', '했어요', '하지마라', '하기만 하면', '어느 년도', '하', '해도좋다', '그리고', '그렇지 않다면', '어느해', '다시말하면', '에서', '무렵', '그에 따르는', '그만이다', '할수있어', '하고 있다', '이리하여', '끙끙', '거의', '대하여', '할망정', '그럼에도 불구하고', '헐떡헐떡', '도달하다', '곧', '심지어', '하게하다', '일단', '자', '까지', '하하', '어느쪽', '때문', '무릎쓰고', '하겠는가', '입장에서', '무엇', '구토하다', '입각하여', '>', '지든지', '불문하고', '일지라도', '한다면', '만이 아니다', '뉴스', '그래서', '무엇때문에', '무슨', '조차', '아무거나', '설마', '실로', '할 지경이다', '그렇게 함으로써', '@', '비길수 없다', '관련이 있다', '아니었다면', '힘입어', '의해', '겨우', '둘', '바와같이', '개의치않고', '휴', '부류의 사람들', '그때', '그런 까닭에', '육', '할 줄 안다', '%', '비하면', '답다', '그위에', '쉿', '끼익', '모', '진짜로', '여섯', '봐', '어찌하든지', '줄은모른다', '토하다', '펄렁', '/', '좋아', '어쩔수 없다', '놀라다', '와아', '쾅쾅', '사', '할때', '혹은', '통하여', '아이쿠', '까지도', '여전히', '흐흐', '탕탕', '대해서', '매', '의', '든간에', '일반적으로', '형식으로 쓰여', '겸사겸사', '어떻해', '이어서', '어떤', '참', '다음으로', '이었다', '보다더', '아이야', '이천구', '하려고하다', '더라도', '아야', '여기', '어때', '상대적으로 말하자면', '어떤것들', '건강', '한 까닭에', '할지언정', '해도된다', '주저하지 않고', '뚝뚝', '이렇게 많은 것', '여덟', '얼마든지', '자마자', '본문', '이럴정도로', '아래윗', '막론하고', '이천칠', '흥', '더구나', '어쨋든', '더불어', '=', '예', '연관되다', '딱', '어떻게', '하지 않도록', '의해되다', '이봐', '퍽', '근거하여', '여보시오', '정보', '좀', '때문에', '관계없이', '매번', '얼마', '만약', '기준으로', '하더라도', '얼마큼', '옆사람', '줄은 몰랏다', '만큼\\t어찌됏든', '따지지 않다', '가까스로', '어느', '하게될것이다', '허걱', '제', '견지에서', '`', '버금', '}', '그러므로', '등등', '것', '어느때', '이번', '하고있었다', '결론을 낼 수 있다', '아니라면', '얼마간', '또', '관하여', '으로써', '여러분', '어느곳', '시초에', '이유만으로', '.', '솨', '으로', '~', '예를 들면', '하는 김에', '하도다', '삐걱', '때가 되어', '그러한즉', '아니나다를가', '뒤따라', '까악', '등', '하기는한데', '영', '참나', '의해서', '위해서', '한항목', '기타', '에 가서', '동안', '그저', '뿐이다', '총적으로 말하면', '어찌', '당장', '요만한걸', '할 생각이다', '어째서', '졸졸', '음식', '모두', '이로 인하여', '아', '여차', '주룩주룩', '봐라', '어이', '비슷하다', '대해 말하자면', '그렇지 않으면', '에 한하다', '이것', '기점으로', '이라면', '누구', '오자마자', '다시 말하자면', '않기 위해서', '타다', '여부', '에', '때', '할뿐', '전부', '어기여차', '운운', '오히려', '$', '딩동', '중에서', '양자', '아니', '비추어 보아', '자기집', '것과 같이', '각각', '즉', '아니면', '이렇게말하자면', '각종', '하여야', '하나', '바꾸어말하자면', '에게', '차라리', '만은 아니다', '바꿔 말하면', '구체적으로', '당신', '과', '하면서', '임에 틀림없다', '비걱거리다', '까지 미치다', '하면 할수록', '이만큼', '만 못하다\\t하기보다는', '그러면', '여', '한켠으로는', '누가 알겠는가', '에 있다', '연이서', '왜', '밖에 안된다', '즉시', '반대로 말하자면', '얼마만큼', '왜냐하면', '뿐만 아니라', '할 힘이 있다', '이외에도', '년', '경우', '프로그램', '(', '좍좍', '이렇게되면', '이 되다', '기대여', '이렇구나', '그러나', '이 외에', '와르르', '하는 편이 낫다', '않기 위하여', '해봐요', '몇', '와 같은 사람들', '할만하다', '이쪽', '자기', '이러한', '결과에 이르다', '예컨대', '소인', '쪽으로', '우리들', '조금', '다소', '팍', '자신', '삼', '알 수 있다', '반드시', '것들', '단지', '언젠가', '저것', '이', '하면된다', '로 인하여', '너', '보드득', '비로소', '령', '첫번째로', '각자', '서울', '추가', '하도록시키다', '된이상', '다른 방면으로', '한데', '\"', '쿵', '일때', '관한', '이 정도의', '향하다', '생각한대로', '남짓', '인젠', '한적이있다', '나', '하지마', '앗', '가', '댕그', '한 후', '근거로', '하곤하였다', '그치지 않다', '외에도', '마음대로', '시작하여', '하기 위하여', '된바에야', '따라서', '그렇지', '결국', '제외하고', '&', '너희', '이와 반대로', '마저도', '훨씬', '그래', '아이구', '해야한다', '그중에서', '다섯', '*', '게다가', '하는것이 낫다', '의지하여', '그', '하는바', '잇따라', '물론', '하물며', '반대로', '구', '일곱', ']', '할 따름이다', '우리', '습니다', '콸콸', '이와 같은', '따라', '야', '꽈당', '총적으로 보면', '그런데', '따위', '이와 같다', '?', '그들', '이래', '관해서는', '륙', '|', '일', '이곳', '할줄알다', '들', '앞의것', '메쓰겁다', '헉', '점에서 보아', '어떠한', '습니까', '퉤', '아울러', '틈타', '이용하여', '혹시', '헉헉', '일것이다', '다음', '그러니까', '월', '로', '나머지는', '으로서', '!', '남들', '어찌하여', '휘익', '이젠', '아이고', '툭', '더군다나', '공동으로', '지만', '우에 종합한것과같이', '언제', '하는것만 못하다', '그렇지만', '조차도', '인 듯하다', '관계가 있다', '어느것', '더욱더', '어찌됏어', '오직', '이지만', '마저', '오로지', '사용', '예하면', '다른', '어', '아무도', '할수있다', '^', '우르르', '부터', '만일', '과연', '허허', '한다면 몰라도', '라 해도', '각', '영차', '[', ',', '와', '하자마자', '요만한 것', '이 때문에', '전후', '네', '너희들', '그러니', '하기에', '우선', '그런즉', '칠', '마치', '기능', '하는것도', '해서는 안된다'}\n"
     ]
    },
    {
     "data": {
      "application/vnd.jupyter.widget-view+json": {
       "model_id": "776e1c88611248029e783a6a002fe7bc",
       "version_major": 2,
       "version_minor": 0
      },
      "text/plain": [
       "HBox(children=(FloatProgress(value=0.0, description='Preprocessing', max=20.0, style=ProgressStyle(description…"
      ]
     },
     "metadata": {},
     "output_type": "display_data"
    },
    {
     "name": "stdout",
     "output_type": "stream",
     "text": [
      "\n",
      "end :: 섭취 | 명절 | 기름 | 조리 | 생활 | 방법 | 다이어트 | 열량 | 경제 | 재료\n"
     ]
    }
   ],
   "source": [
    "client_id = \"\"\n",
    "client_secret = \"\"\n",
    "naver_id = \"\"\n",
    "naver_pw = \"\"\n",
    "import datetime\n",
    "from pyspark import SparkContext\n",
    "from pyspark import SparkConf\n",
    "import glob\n",
    "today = datetime.date.today()\n",
    "content_file_name = \"content_data/naver_news_content_today\".replace(\"today\",str(today))\n",
    "title_file_name = \"temp_data/naver_news_title_today\".replace(\"today\",str(today))\n",
    "#sc.stop()\n",
    "#sc = SparkContext(master=\"local\", appName=\"spark app\")\n",
    "\n",
    "\n",
    "keywords ='''\"음식 건강\"'''\n",
    "\n",
    "for i in range(4):\n",
    "    print(str(i+1) + \"번째 반복 중\" )\n",
    "    link_count = get_data(client_id, client_secret, naver_id, naver_pw, content_file_name, sc, keywords)\n",
    "    get_topics(link_count)\n"
   ]
  },
  {
   "cell_type": "code",
   "execution_count": 32,
   "metadata": {},
   "outputs": [],
   "source": [
    "def get_data(client_id, client_secret, naver_id, naver_pw, content_file_name, sc, keywords):\n",
    "    import os\n",
    "    import sys\n",
    "    import urllib.request\n",
    "    import requests\n",
    "\n",
    "    import pandas as pd\n",
    "    import numpy as np\n",
    "    from selenium import webdriver\n",
    "    from tqdm import notebook\n",
    "    import pickle\n",
    "    import re\n",
    "    import ast\n",
    "\n",
    "    from bs4 import BeautifulSoup\n",
    "    import urllib\n",
    "    import time\n",
    "\n",
    "    news_data = []\n",
    "    \n",
    "   \n",
    "    page_count = 20\n",
    "    print(glob.glob(\"keyword/keyword*\"))\n",
    "    print(len(glob.glob(\"keyword/keyword*\")))\n",
    "    print()\n",
    "    if len(glob.glob(\"keyword/keyword*\")) > 0 :\n",
    "        keywords_arr = sc.textFile(\"keyword/keyword_\"+str(len(glob.glob(\"keyword/keyword*\"))-1)).collect()\n",
    "        keywords = \"\"\n",
    "        for v in keywords_arr:\n",
    "            keywords += v\n",
    "        keywords += '''+\"음식 건강\"'''\n",
    "    else:\n",
    "        filecount=len(glob.glob(\"keyword/keyword*\"))\n",
    "        sc.parallelize(keywords).saveAsTextFile(\"keyword/keyword_\"+str(filecount))\n",
    "        \n",
    "    print(\"start :: \" + keywords)\n",
    "    encText = urllib.parse.quote(keywords)\n",
    "    \n",
    "    for idx in notebook.tqdm(range(page_count)):\n",
    "        url = \"https://openapi.naver.com/v1/search/news?query=\" + encText + \"&start=\" + str(idx *10 +1)\n",
    "        request = urllib.request.Request(url)\n",
    "        request.add_header(\"X-Naver-Client-Id\",client_id)\n",
    "        request.add_header(\"X-Naver-Client-Secret\",client_secret)\n",
    "        response = urllib.request.urlopen(request)\n",
    "        rescode = response.getcode()\n",
    "\n",
    "        if(rescode==200):\n",
    "            #response_body = response.read()\n",
    "            result = requests.get(response.geturl(),\n",
    "                             headers={\"X-Naver-Client-Id\":client_id,\"X-Naver-Client-Secret\":client_secret})\n",
    "            news_data.append(result.json())\n",
    "        else:\n",
    "            print(\"Error Code:\" + rescode)\n",
    "            break\n",
    "        time.sleep(1)    \n",
    "\n",
    "\n",
    "    naver_news_link = []\n",
    "\n",
    "    for page in news_data:\n",
    "        page_news_link=[]\n",
    "        for item in page['items']:\n",
    "            link = item['link']\n",
    "            #page_news_link.append(link)\n",
    "            if \"naver\" in link:\n",
    "                page_news_link.append(link)\n",
    "        naver_news_link.append(page_news_link)        \n",
    "\n",
    "    link_count = 0        \n",
    "    for page in naver_news_link:\n",
    "         for link in page:\n",
    "                link_count += 1 \n",
    "\n",
    "    naver_news_title = []\n",
    "    naver_news_content = []\n",
    "    \n",
    "    for n in notebook.tqdm(range(len(naver_news_link))):\n",
    "        news_page_title = []\n",
    "        news_page_content = []\n",
    "\n",
    "        if n==0 or n%5 == 0:\n",
    "            chrome_options = webdriver.ChromeOptions()\n",
    "            chrome_options.add_argument('--no-sandbox')\n",
    "            chrome_options.add_argument('--window-size=1420,1080')\n",
    "            chrome_options.add_argument('--headless')\n",
    "            chrome_options.add_argument('--disable-gpu')\n",
    "            chrome_options.add_argument('--disable-dev-shm-usage')        \n",
    "            driver = webdriver.Chrome(chrome_options=chrome_options)\n",
    "            driver.get(\"https://nid.naver.com/nidlogin.login\")\n",
    "            driver.find_element_by_name('id').send_keys(naver_id)\n",
    "            driver.find_element_by_name('pw').send_keys(naver_pw)\n",
    "\n",
    "        for idx in notebook.tqdm(range(len(naver_news_link[n]))):\n",
    "            time.sleep(2)\n",
    "\n",
    "            try:\n",
    "\n",
    "                driver.get(naver_news_link[n][idx])\n",
    "            except:\n",
    "                print(\"Timeout!\")\n",
    "                continue\n",
    "\n",
    "            try:\n",
    "                response = driver.page_source\n",
    "\n",
    "            except UnexpectedAlertPresentException:\n",
    "                driver.switch_to_alert().accept()\n",
    "                print(\"게시글이 삭제됨\")\n",
    "                continue\n",
    "\n",
    "            soup = BeautifulSoup(response, \"html.parser\")\n",
    "\n",
    "            title = None\n",
    "\n",
    "            try:\n",
    "                item = soup.find('div', class_=\"article_info\")\n",
    "                title = item.find('h3', class_=\"tts_head\").get_text()\n",
    "            except:\n",
    "                title = \"OUTLINK\"\n",
    "\n",
    "            news_page_title.append(title)\n",
    "\n",
    "            doc = None\n",
    "            text= \"\"\n",
    "\n",
    "            data = soup.find_all(\"div\",{\"class\" : \"_article_body_contents\"})\n",
    "            if data:\n",
    "                for item in data:\n",
    "                    text = text + str(item.find_all(text=True)).strip()\n",
    "                    text = ast.literal_eval(text)\n",
    "                    doc = ' '.join(text)\n",
    "            else:\n",
    "                doc = \"OUTLINK\"\n",
    "\n",
    "            news_page_content.append(doc.replace('\\n',' '))\n",
    "\n",
    "        naver_news_title.append(news_page_title)\n",
    "        naver_news_content.append(news_page_content)\n",
    "\n",
    "    filecount=len(glob.glob(\"content_data/*\"))\n",
    "    sc.parallelize(naver_news_content).saveAsTextFile(content_file_name+\"_\"+str(filecount))\n",
    "    \n",
    "    return link_count"
   ]
  },
  {
   "cell_type": "code",
   "execution_count": 35,
   "metadata": {},
   "outputs": [],
   "source": [
    "def get_topics(link_count):\n",
    "    import string\n",
    "    import re\n",
    "    from konlpy.tag import Mecab\n",
    "    from tqdm import notebook\n",
    "    from gensim import corpora\n",
    "    from gensim import models\n",
    "    import numpy as np\n",
    "    import json\n",
    "\n",
    "    \n",
    "    NUM_TOPICS = link_count \n",
    "    NUM_TOPIC_WORDS = 30 \n",
    "\n",
    "    def build_doc_term_mat(documents):\n",
    "        dictionary = corpora.Dictionary(documents)\n",
    "        corpus = [dictionary.doc2bow(document) for document in documents]\n",
    "        return corpus, dictionary\n",
    "\n",
    "\n",
    "    documents=[]\n",
    "    #for filename in glob.glob(\"content_data/*\"):\n",
    "        #documents += sc.textFile(filename).collect()\n",
    "    \n",
    "    documents += sc.textFile(glob.glob(\"content_data/*\")[(len(glob.glob(\"content_data/*\"))-1)]).collect()    \n",
    "    #documents = read_documents(content_file_name)\n",
    "    \n",
    "    #SW = define_stopwords(\"stopwords-ko.txt\")\n",
    "    SW = set()\n",
    "    for i in string.punctuation:\n",
    "        SW.add(i)\n",
    "\n",
    "    with open(\"stopwords-ko.txt\") as f:\n",
    "        for word in f:\n",
    "            SW.add(word.replace(\"\\n\",\"\"))\n",
    "   \n",
    "    \n",
    "    if len(glob.glob(\"keyword/keyword*\")) > 0 :\n",
    "        keywords_arr = sc.textFile(glob.glob(\"keyword/keyword*\")[(len(glob.glob(\"keyword/keyword*\"))-1)]).collect()\n",
    "        keywords = \"\"\n",
    "        for v in keywords_arr:\n",
    "            keywords += v \n",
    "    \n",
    "    print(SW)\n",
    "    cleaned_text = []\n",
    "    for doc in documents:\n",
    "        temp_doc = re.sub(\"[^ㄱ-ㅎㅏ-ㅣ가-힇 ]\",\"\",doc)\n",
    "        for v in keywords:\n",
    "            temp_doc = temp_doc.replace(v,\"\")\n",
    "        cleaned_text.append(temp_doc)\n",
    "    \n",
    "   \n",
    "    \n",
    "    mecab = Mecab()\n",
    "    tokenized_text = []\n",
    "    tokenizer=\"noun\"\n",
    "    if tokenizer == \"noun\":\n",
    "        for n in notebook.tqdm(range(len(cleaned_text)), desc=\"Preprocessing\"):\n",
    "            token_text = mecab.nouns(cleaned_text[n])\n",
    "            token_text = [word for word in token_text if word not in SW and len(word) > 1]\n",
    "            tokenized_text.append(token_text)\n",
    "    elif tokenized == \"morph\":\n",
    "        for n in notebook.tqdm(range(len(cleaned_text)), desc=\"Preprocessing\"):\n",
    "            token_text = mecab.morphs(cleaned_text[n])\n",
    "            token_text = [word for word in token_text if word not in SW and len(word) > 1]\n",
    "            tokenized_text.append(token_text)\n",
    "    elif tokenized == \"word\":\n",
    "        for n in notebook.tqdm(range(len(cleaned_text)), desc=\"Preprocessing\"):\n",
    "            token_text = cleaned_text[n].split()\n",
    "            token_text = [word for word in token_text if word not in SW and len(word) > 1]\n",
    "            tokenized_text.append(token_text)\n",
    "    \n",
    "\n",
    "    dictionary = corpora.Dictionary(tokenized_text)\n",
    "\n",
    "    corpus = [dictionary.doc2bow(text) for text in tokenized_text]\n",
    "\n",
    "    model = models.ldamodel.LdaModel(corpus, num_topics=link_count, id2word=dictionary)\n",
    "\n",
    "    # document-term matrix\n",
    "    dictionary = corpora.Dictionary(tokenized_text)\n",
    "    corpus = [dictionary.doc2bow(document) for document in tokenized_text]\n",
    "\n",
    "    # LDA 실행\n",
    "    model = models.ldamodel.LdaModel(corpus, num_topics=NUM_TOPICS, id2word=dictionary, alpha=\"auto\", eta=\"auto\")\n",
    "\n",
    "    import pyLDAvis\n",
    "    import pyLDAvis.gensim\n",
    "\n",
    "    pyLDAvis.enable_notebook()\n",
    "\n",
    "    data = pyLDAvis.gensim.prepare(model, corpus, dictionary)\n",
    "    \n",
    "    filecount=len(glob.glob(\"html_results/*\"))\n",
    "    \n",
    "    pyLDAvis.save_html(data, 'html_results/lda_'+str(filecount)+'.html')\n",
    "\n",
    "    \n",
    "    temp = data.topic_info.head(10)['Term'].values\n",
    "    topic_words =\"\"\n",
    "    for i,v in enumerate(temp):\n",
    "        if i == len(temp)-1:\n",
    "            topic_words += v \n",
    "        else:\n",
    "            topic_words += v + \" | \"\n",
    "    print(\"end :: \" + topic_words)\n",
    "\n",
    "    filecount=len(glob.glob(\"keyword/keyword*\"))\n",
    "    sc.parallelize(topic_words).saveAsTextFile(\"keyword/keyword_\"+str(filecount))\n",
    "    \n",
    "    #data"
   ]
  },
  {
   "cell_type": "code",
   "execution_count": null,
   "metadata": {},
   "outputs": [],
   "source": []
  },
  {
   "cell_type": "code",
   "execution_count": null,
   "metadata": {},
   "outputs": [],
   "source": []
  }
 ],
 "metadata": {
  "kernelspec": {
   "display_name": "Python 3",
   "language": "python",
   "name": "python3"
  },
  "language_info": {
   "codemirror_mode": {
    "name": "ipython",
    "version": 3
   },
   "file_extension": ".py",
   "mimetype": "text/x-python",
   "name": "python",
   "nbconvert_exporter": "python",
   "pygments_lexer": "ipython3",
   "version": "3.7.6"
  }
 },
 "nbformat": 4,
 "nbformat_minor": 4
}
