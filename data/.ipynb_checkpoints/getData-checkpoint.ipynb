{
 "cells": [
  {
   "cell_type": "code",
   "execution_count": 3,
   "metadata": {
    "scrolled": true
   },
   "outputs": [
    {
     "name": "stdout",
     "output_type": "stream",
     "text": [
      "1번째 반복 중\n",
      "['keyword/keyword_0', 'keyword/keyword_1', 'keyword/keyword_10', 'keyword/keyword_100', 'keyword/keyword_101', 'keyword/keyword_102', 'keyword/keyword_103', 'keyword/keyword_104', 'keyword/keyword_105', 'keyword/keyword_106', 'keyword/keyword_107', 'keyword/keyword_108', 'keyword/keyword_109', 'keyword/keyword_11', 'keyword/keyword_110', 'keyword/keyword_111', 'keyword/keyword_112', 'keyword/keyword_113', 'keyword/keyword_114', 'keyword/keyword_115', 'keyword/keyword_116', 'keyword/keyword_117', 'keyword/keyword_118', 'keyword/keyword_119', 'keyword/keyword_12', 'keyword/keyword_120', 'keyword/keyword_121', 'keyword/keyword_122', 'keyword/keyword_123', 'keyword/keyword_124', 'keyword/keyword_125', 'keyword/keyword_126', 'keyword/keyword_127', 'keyword/keyword_128', 'keyword/keyword_129', 'keyword/keyword_13', 'keyword/keyword_130', 'keyword/keyword_131', 'keyword/keyword_132', 'keyword/keyword_133', 'keyword/keyword_134', 'keyword/keyword_14', 'keyword/keyword_15', 'keyword/keyword_16', 'keyword/keyword_17', 'keyword/keyword_18', 'keyword/keyword_19', 'keyword/keyword_2', 'keyword/keyword_20', 'keyword/keyword_21', 'keyword/keyword_22', 'keyword/keyword_23', 'keyword/keyword_24', 'keyword/keyword_25', 'keyword/keyword_26', 'keyword/keyword_27', 'keyword/keyword_28', 'keyword/keyword_29', 'keyword/keyword_3', 'keyword/keyword_30', 'keyword/keyword_31', 'keyword/keyword_32', 'keyword/keyword_33', 'keyword/keyword_34', 'keyword/keyword_35', 'keyword/keyword_36', 'keyword/keyword_37', 'keyword/keyword_38', 'keyword/keyword_39', 'keyword/keyword_4', 'keyword/keyword_40', 'keyword/keyword_41', 'keyword/keyword_42', 'keyword/keyword_43', 'keyword/keyword_44', 'keyword/keyword_45', 'keyword/keyword_46', 'keyword/keyword_47', 'keyword/keyword_48', 'keyword/keyword_49', 'keyword/keyword_5', 'keyword/keyword_50', 'keyword/keyword_51', 'keyword/keyword_52', 'keyword/keyword_53', 'keyword/keyword_54', 'keyword/keyword_55', 'keyword/keyword_56', 'keyword/keyword_57', 'keyword/keyword_58', 'keyword/keyword_59', 'keyword/keyword_6', 'keyword/keyword_60', 'keyword/keyword_61', 'keyword/keyword_62', 'keyword/keyword_63', 'keyword/keyword_64', 'keyword/keyword_65', 'keyword/keyword_66', 'keyword/keyword_67', 'keyword/keyword_68', 'keyword/keyword_69', 'keyword/keyword_7', 'keyword/keyword_70', 'keyword/keyword_71', 'keyword/keyword_72', 'keyword/keyword_73', 'keyword/keyword_74', 'keyword/keyword_75', 'keyword/keyword_76', 'keyword/keyword_77', 'keyword/keyword_78', 'keyword/keyword_79', 'keyword/keyword_8', 'keyword/keyword_80', 'keyword/keyword_81', 'keyword/keyword_82', 'keyword/keyword_83', 'keyword/keyword_84', 'keyword/keyword_85', 'keyword/keyword_86', 'keyword/keyword_87', 'keyword/keyword_88', 'keyword/keyword_89', 'keyword/keyword_9', 'keyword/keyword_90', 'keyword/keyword_91', 'keyword/keyword_92', 'keyword/keyword_93', 'keyword/keyword_94', 'keyword/keyword_95', 'keyword/keyword_96', 'keyword/keyword_97', 'keyword/keyword_98', 'keyword/keyword_99']\n",
      "135\n",
      "\n",
      "start :: 만환 | 농사 | 사육 | 전염병 | 바버 | 퇴치 | 후대 | 제이틀린 | 농부 | 등심+\"음식 건강\"\n"
     ]
    },
    {
     "data": {
      "application/vnd.jupyter.widget-view+json": {
       "model_id": "c54d0c201bf142ff8d09d02ceb1b276b",
       "version_major": 2,
       "version_minor": 0
      },
      "text/plain": [
       "HBox(children=(FloatProgress(value=0.0, max=20.0), HTML(value='')))"
      ]
     },
     "metadata": {},
     "output_type": "display_data"
    },
    {
     "name": "stdout",
     "output_type": "stream",
     "text": [
      "\n"
     ]
    },
    {
     "data": {
      "application/vnd.jupyter.widget-view+json": {
       "model_id": "0537312fa1454a3bb8728a1dea6ebb28",
       "version_major": 2,
       "version_minor": 0
      },
      "text/plain": [
       "HBox(children=(FloatProgress(value=0.0, max=20.0), HTML(value='')))"
      ]
     },
     "metadata": {},
     "output_type": "display_data"
    },
    {
     "data": {
      "application/vnd.jupyter.widget-view+json": {
       "model_id": "29d2f72d41324ad9b1ffb4669b50617a",
       "version_major": 2,
       "version_minor": 0
      },
      "text/plain": [
       "HBox(children=(FloatProgress(value=0.0, max=5.0), HTML(value='')))"
      ]
     },
     "metadata": {},
     "output_type": "display_data"
    },
    {
     "name": "stdout",
     "output_type": "stream",
     "text": [
      "\n"
     ]
    },
    {
     "data": {
      "application/vnd.jupyter.widget-view+json": {
       "model_id": "c8959d7aba124957b9fe16d1a29296d2",
       "version_major": 2,
       "version_minor": 0
      },
      "text/plain": [
       "HBox(children=(FloatProgress(value=0.0, max=3.0), HTML(value='')))"
      ]
     },
     "metadata": {},
     "output_type": "display_data"
    },
    {
     "name": "stdout",
     "output_type": "stream",
     "text": [
      "\n"
     ]
    },
    {
     "data": {
      "application/vnd.jupyter.widget-view+json": {
       "model_id": "6291ca212c914b23a1f298cd297df02e",
       "version_major": 2,
       "version_minor": 0
      },
      "text/plain": [
       "HBox(children=(FloatProgress(value=0.0, max=7.0), HTML(value='')))"
      ]
     },
     "metadata": {},
     "output_type": "display_data"
    },
    {
     "name": "stdout",
     "output_type": "stream",
     "text": [
      "\n"
     ]
    },
    {
     "data": {
      "application/vnd.jupyter.widget-view+json": {
       "model_id": "0e8c4914ebc64c08baad8457038029b5",
       "version_major": 2,
       "version_minor": 0
      },
      "text/plain": [
       "HBox(children=(FloatProgress(value=1.0, bar_style='info', max=1.0), HTML(value='')))"
      ]
     },
     "metadata": {},
     "output_type": "display_data"
    },
    {
     "name": "stdout",
     "output_type": "stream",
     "text": [
      "\n"
     ]
    },
    {
     "data": {
      "application/vnd.jupyter.widget-view+json": {
       "model_id": "187fb1132b7340c4bfb386c6ea3e896c",
       "version_major": 2,
       "version_minor": 0
      },
      "text/plain": [
       "HBox(children=(FloatProgress(value=1.0, bar_style='info', max=1.0), HTML(value='')))"
      ]
     },
     "metadata": {},
     "output_type": "display_data"
    },
    {
     "name": "stdout",
     "output_type": "stream",
     "text": [
      "\n"
     ]
    },
    {
     "data": {
      "application/vnd.jupyter.widget-view+json": {
       "model_id": "5d1a5a393a484549b9c02e5480800c83",
       "version_major": 2,
       "version_minor": 0
      },
      "text/plain": [
       "HBox(children=(FloatProgress(value=1.0, bar_style='info', max=1.0), HTML(value='')))"
      ]
     },
     "metadata": {},
     "output_type": "display_data"
    },
    {
     "name": "stdout",
     "output_type": "stream",
     "text": [
      "\n"
     ]
    },
    {
     "data": {
      "application/vnd.jupyter.widget-view+json": {
       "model_id": "9a159bb8b7584e7eb696ece5767931e1",
       "version_major": 2,
       "version_minor": 0
      },
      "text/plain": [
       "HBox(children=(FloatProgress(value=1.0, bar_style='info', max=1.0), HTML(value='')))"
      ]
     },
     "metadata": {},
     "output_type": "display_data"
    },
    {
     "name": "stdout",
     "output_type": "stream",
     "text": [
      "\n"
     ]
    },
    {
     "data": {
      "application/vnd.jupyter.widget-view+json": {
       "model_id": "1d53605a609c4daebd481224bd6ae80f",
       "version_major": 2,
       "version_minor": 0
      },
      "text/plain": [
       "HBox(children=(FloatProgress(value=1.0, bar_style='info', max=1.0), HTML(value='')))"
      ]
     },
     "metadata": {},
     "output_type": "display_data"
    },
    {
     "name": "stdout",
     "output_type": "stream",
     "text": [
      "\n"
     ]
    },
    {
     "data": {
      "application/vnd.jupyter.widget-view+json": {
       "model_id": "341290edbd9b41b9aa0bc7ae89b4195f",
       "version_major": 2,
       "version_minor": 0
      },
      "text/plain": [
       "HBox(children=(FloatProgress(value=1.0, bar_style='info', max=1.0), HTML(value='')))"
      ]
     },
     "metadata": {},
     "output_type": "display_data"
    },
    {
     "name": "stdout",
     "output_type": "stream",
     "text": [
      "\n"
     ]
    },
    {
     "data": {
      "application/vnd.jupyter.widget-view+json": {
       "model_id": "3adea63f5694484392c0113e62ed1482",
       "version_major": 2,
       "version_minor": 0
      },
      "text/plain": [
       "HBox(children=(FloatProgress(value=1.0, bar_style='info', max=1.0), HTML(value='')))"
      ]
     },
     "metadata": {},
     "output_type": "display_data"
    },
    {
     "name": "stdout",
     "output_type": "stream",
     "text": [
      "\n"
     ]
    },
    {
     "data": {
      "application/vnd.jupyter.widget-view+json": {
       "model_id": "8eb238ca8f1e4ef69c410fb1a7d457dd",
       "version_major": 2,
       "version_minor": 0
      },
      "text/plain": [
       "HBox(children=(FloatProgress(value=1.0, bar_style='info', max=1.0), HTML(value='')))"
      ]
     },
     "metadata": {},
     "output_type": "display_data"
    },
    {
     "name": "stdout",
     "output_type": "stream",
     "text": [
      "\n"
     ]
    },
    {
     "data": {
      "application/vnd.jupyter.widget-view+json": {
       "model_id": "f7f5dabe9c174f37a5d340fd7e38b0ff",
       "version_major": 2,
       "version_minor": 0
      },
      "text/plain": [
       "HBox(children=(FloatProgress(value=1.0, bar_style='info', max=1.0), HTML(value='')))"
      ]
     },
     "metadata": {},
     "output_type": "display_data"
    },
    {
     "name": "stdout",
     "output_type": "stream",
     "text": [
      "\n"
     ]
    },
    {
     "data": {
      "application/vnd.jupyter.widget-view+json": {
       "model_id": "f0ebe796dd0145db875f01af62c441c7",
       "version_major": 2,
       "version_minor": 0
      },
      "text/plain": [
       "HBox(children=(FloatProgress(value=1.0, bar_style='info', max=1.0), HTML(value='')))"
      ]
     },
     "metadata": {},
     "output_type": "display_data"
    },
    {
     "name": "stdout",
     "output_type": "stream",
     "text": [
      "\n"
     ]
    },
    {
     "data": {
      "application/vnd.jupyter.widget-view+json": {
       "model_id": "fe2bcf1db2e74f4da0e477f86cd028fa",
       "version_major": 2,
       "version_minor": 0
      },
      "text/plain": [
       "HBox(children=(FloatProgress(value=1.0, bar_style='info', max=1.0), HTML(value='')))"
      ]
     },
     "metadata": {},
     "output_type": "display_data"
    },
    {
     "name": "stdout",
     "output_type": "stream",
     "text": [
      "\n"
     ]
    },
    {
     "data": {
      "application/vnd.jupyter.widget-view+json": {
       "model_id": "57259b38c80b45b9af88655cc2421b8b",
       "version_major": 2,
       "version_minor": 0
      },
      "text/plain": [
       "HBox(children=(FloatProgress(value=1.0, bar_style='info', max=1.0), HTML(value='')))"
      ]
     },
     "metadata": {},
     "output_type": "display_data"
    },
    {
     "name": "stdout",
     "output_type": "stream",
     "text": [
      "\n"
     ]
    },
    {
     "data": {
      "application/vnd.jupyter.widget-view+json": {
       "model_id": "c2cc8c790407468e8088b96cdd08d3a9",
       "version_major": 2,
       "version_minor": 0
      },
      "text/plain": [
       "HBox(children=(FloatProgress(value=1.0, bar_style='info', max=1.0), HTML(value='')))"
      ]
     },
     "metadata": {},
     "output_type": "display_data"
    },
    {
     "name": "stdout",
     "output_type": "stream",
     "text": [
      "\n"
     ]
    },
    {
     "data": {
      "application/vnd.jupyter.widget-view+json": {
       "model_id": "2fceda71fc634ccd9e2b946d3a3e0554",
       "version_major": 2,
       "version_minor": 0
      },
      "text/plain": [
       "HBox(children=(FloatProgress(value=1.0, bar_style='info', max=1.0), HTML(value='')))"
      ]
     },
     "metadata": {},
     "output_type": "display_data"
    },
    {
     "name": "stdout",
     "output_type": "stream",
     "text": [
      "\n"
     ]
    },
    {
     "data": {
      "application/vnd.jupyter.widget-view+json": {
       "model_id": "3247b042d9bd4fca9d954be9ceed5c9e",
       "version_major": 2,
       "version_minor": 0
      },
      "text/plain": [
       "HBox(children=(FloatProgress(value=1.0, bar_style='info', max=1.0), HTML(value='')))"
      ]
     },
     "metadata": {},
     "output_type": "display_data"
    },
    {
     "name": "stdout",
     "output_type": "stream",
     "text": [
      "\n"
     ]
    },
    {
     "data": {
      "application/vnd.jupyter.widget-view+json": {
       "model_id": "6ac2aa0ce8d64033bc9d2f88ec88143c",
       "version_major": 2,
       "version_minor": 0
      },
      "text/plain": [
       "HBox(children=(FloatProgress(value=1.0, bar_style='info', max=1.0), HTML(value='')))"
      ]
     },
     "metadata": {},
     "output_type": "display_data"
    },
    {
     "name": "stdout",
     "output_type": "stream",
     "text": [
      "\n"
     ]
    },
    {
     "data": {
      "application/vnd.jupyter.widget-view+json": {
       "model_id": "f9edaad79c954a3395d572d5ba2b3703",
       "version_major": 2,
       "version_minor": 0
      },
      "text/plain": [
       "HBox(children=(FloatProgress(value=1.0, bar_style='info', max=1.0), HTML(value='')))"
      ]
     },
     "metadata": {},
     "output_type": "display_data"
    },
    {
     "name": "stdout",
     "output_type": "stream",
     "text": [
      "\n",
      "\n"
     ]
    },
    {
     "data": {
      "application/vnd.jupyter.widget-view+json": {
       "model_id": "cce7e3a38d0543199b03b324d7022c9f",
       "version_major": 2,
       "version_minor": 0
      },
      "text/plain": [
       "HBox(children=(FloatProgress(value=0.0, description='Preprocessing', max=20.0, style=ProgressStyle(description…"
      ]
     },
     "metadata": {},
     "output_type": "display_data"
    },
    {
     "name": "stdout",
     "output_type": "stream",
     "text": [
      "\n",
      "end :: 풍진 | 드미 | 원주 | 결혼 | 삼계탕 | 지하 | 항체 | 세금 | 공존 | 입양\n",
      "2번째 반복 중\n",
      "['keyword/keyword_0', 'keyword/keyword_1', 'keyword/keyword_10', 'keyword/keyword_100', 'keyword/keyword_101', 'keyword/keyword_102', 'keyword/keyword_103', 'keyword/keyword_104', 'keyword/keyword_105', 'keyword/keyword_106', 'keyword/keyword_107', 'keyword/keyword_108', 'keyword/keyword_109', 'keyword/keyword_11', 'keyword/keyword_110', 'keyword/keyword_111', 'keyword/keyword_112', 'keyword/keyword_113', 'keyword/keyword_114', 'keyword/keyword_115', 'keyword/keyword_116', 'keyword/keyword_117', 'keyword/keyword_118', 'keyword/keyword_119', 'keyword/keyword_12', 'keyword/keyword_120', 'keyword/keyword_121', 'keyword/keyword_122', 'keyword/keyword_123', 'keyword/keyword_124', 'keyword/keyword_125', 'keyword/keyword_126', 'keyword/keyword_127', 'keyword/keyword_128', 'keyword/keyword_129', 'keyword/keyword_13', 'keyword/keyword_130', 'keyword/keyword_131', 'keyword/keyword_132', 'keyword/keyword_133', 'keyword/keyword_134', 'keyword/keyword_135', 'keyword/keyword_14', 'keyword/keyword_15', 'keyword/keyword_16', 'keyword/keyword_17', 'keyword/keyword_18', 'keyword/keyword_19', 'keyword/keyword_2', 'keyword/keyword_20', 'keyword/keyword_21', 'keyword/keyword_22', 'keyword/keyword_23', 'keyword/keyword_24', 'keyword/keyword_25', 'keyword/keyword_26', 'keyword/keyword_27', 'keyword/keyword_28', 'keyword/keyword_29', 'keyword/keyword_3', 'keyword/keyword_30', 'keyword/keyword_31', 'keyword/keyword_32', 'keyword/keyword_33', 'keyword/keyword_34', 'keyword/keyword_35', 'keyword/keyword_36', 'keyword/keyword_37', 'keyword/keyword_38', 'keyword/keyword_39', 'keyword/keyword_4', 'keyword/keyword_40', 'keyword/keyword_41', 'keyword/keyword_42', 'keyword/keyword_43', 'keyword/keyword_44', 'keyword/keyword_45', 'keyword/keyword_46', 'keyword/keyword_47', 'keyword/keyword_48', 'keyword/keyword_49', 'keyword/keyword_5', 'keyword/keyword_50', 'keyword/keyword_51', 'keyword/keyword_52', 'keyword/keyword_53', 'keyword/keyword_54', 'keyword/keyword_55', 'keyword/keyword_56', 'keyword/keyword_57', 'keyword/keyword_58', 'keyword/keyword_59', 'keyword/keyword_6', 'keyword/keyword_60', 'keyword/keyword_61', 'keyword/keyword_62', 'keyword/keyword_63', 'keyword/keyword_64', 'keyword/keyword_65', 'keyword/keyword_66', 'keyword/keyword_67', 'keyword/keyword_68', 'keyword/keyword_69', 'keyword/keyword_7', 'keyword/keyword_70', 'keyword/keyword_71', 'keyword/keyword_72', 'keyword/keyword_73', 'keyword/keyword_74', 'keyword/keyword_75', 'keyword/keyword_76', 'keyword/keyword_77', 'keyword/keyword_78', 'keyword/keyword_79', 'keyword/keyword_8', 'keyword/keyword_80', 'keyword/keyword_81', 'keyword/keyword_82', 'keyword/keyword_83', 'keyword/keyword_84', 'keyword/keyword_85', 'keyword/keyword_86', 'keyword/keyword_87', 'keyword/keyword_88', 'keyword/keyword_89', 'keyword/keyword_9', 'keyword/keyword_90', 'keyword/keyword_91', 'keyword/keyword_92', 'keyword/keyword_93', 'keyword/keyword_94', 'keyword/keyword_95', 'keyword/keyword_96', 'keyword/keyword_97', 'keyword/keyword_98', 'keyword/keyword_99']\n",
      "136\n",
      "\n",
      "start :: 풍진 | 드미 | 원주 | 결혼 | 삼계탕 | 지하 | 항체 | 세금 | 공존 | 입양+\"음식 건강\"\n"
     ]
    },
    {
     "data": {
      "application/vnd.jupyter.widget-view+json": {
       "model_id": "ec764859314b41c3b65718f7122c801c",
       "version_major": 2,
       "version_minor": 0
      },
      "text/plain": [
       "HBox(children=(FloatProgress(value=0.0, max=20.0), HTML(value='')))"
      ]
     },
     "metadata": {},
     "output_type": "display_data"
    },
    {
     "name": "stdout",
     "output_type": "stream",
     "text": [
      "\n"
     ]
    },
    {
     "data": {
      "application/vnd.jupyter.widget-view+json": {
       "model_id": "d3a4cdb5926e48fe989adb5105073af0",
       "version_major": 2,
       "version_minor": 0
      },
      "text/plain": [
       "HBox(children=(FloatProgress(value=0.0, max=20.0), HTML(value='')))"
      ]
     },
     "metadata": {},
     "output_type": "display_data"
    },
    {
     "name": "stderr",
     "output_type": "stream",
     "text": [
      "/opt/conda/lib/python3.7/site-packages/selenium/webdriver/chrome/webdriver.py:50: DeprecationWarning: use options instead of chrome_options\n",
      "  warnings.warn('use options instead of chrome_options', DeprecationWarning)\n"
     ]
    },
    {
     "data": {
      "application/vnd.jupyter.widget-view+json": {
       "model_id": "89d5107d34974445b3b5d62af612b230",
       "version_major": 2,
       "version_minor": 0
      },
      "text/plain": [
       "HBox(children=(FloatProgress(value=0.0, max=6.0), HTML(value='')))"
      ]
     },
     "metadata": {},
     "output_type": "display_data"
    },
    {
     "name": "stdout",
     "output_type": "stream",
     "text": [
      "\n"
     ]
    },
    {
     "data": {
      "application/vnd.jupyter.widget-view+json": {
       "model_id": "58f44fe10ceb46d8bf98de24a86774ba",
       "version_major": 2,
       "version_minor": 0
      },
      "text/plain": [
       "HBox(children=(FloatProgress(value=0.0, max=6.0), HTML(value='')))"
      ]
     },
     "metadata": {},
     "output_type": "display_data"
    },
    {
     "name": "stdout",
     "output_type": "stream",
     "text": [
      "\n"
     ]
    },
    {
     "data": {
      "application/vnd.jupyter.widget-view+json": {
       "model_id": "b6c9ee682e1444f7967d8e091fddabd8",
       "version_major": 2,
       "version_minor": 0
      },
      "text/plain": [
       "HBox(children=(FloatProgress(value=0.0, max=10.0), HTML(value='')))"
      ]
     },
     "metadata": {},
     "output_type": "display_data"
    },
    {
     "name": "stdout",
     "output_type": "stream",
     "text": [
      "\n"
     ]
    },
    {
     "data": {
      "application/vnd.jupyter.widget-view+json": {
       "model_id": "e628e2cbccb4403093a6fa297fe0bab6",
       "version_major": 2,
       "version_minor": 0
      },
      "text/plain": [
       "HBox(children=(FloatProgress(value=1.0, bar_style='info', max=1.0), HTML(value='')))"
      ]
     },
     "metadata": {},
     "output_type": "display_data"
    },
    {
     "name": "stdout",
     "output_type": "stream",
     "text": [
      "\n"
     ]
    },
    {
     "data": {
      "application/vnd.jupyter.widget-view+json": {
       "model_id": "6d76e9c5c9864feba5bf29e775c49fcf",
       "version_major": 2,
       "version_minor": 0
      },
      "text/plain": [
       "HBox(children=(FloatProgress(value=1.0, bar_style='info', max=1.0), HTML(value='')))"
      ]
     },
     "metadata": {},
     "output_type": "display_data"
    },
    {
     "name": "stdout",
     "output_type": "stream",
     "text": [
      "\n"
     ]
    },
    {
     "name": "stderr",
     "output_type": "stream",
     "text": [
      "/opt/conda/lib/python3.7/site-packages/selenium/webdriver/chrome/webdriver.py:50: DeprecationWarning: use options instead of chrome_options\n",
      "  warnings.warn('use options instead of chrome_options', DeprecationWarning)\n"
     ]
    },
    {
     "data": {
      "application/vnd.jupyter.widget-view+json": {
       "model_id": "720854de3e564df0ad28c45693486d72",
       "version_major": 2,
       "version_minor": 0
      },
      "text/plain": [
       "HBox(children=(FloatProgress(value=1.0, bar_style='info', max=1.0), HTML(value='')))"
      ]
     },
     "metadata": {},
     "output_type": "display_data"
    },
    {
     "name": "stdout",
     "output_type": "stream",
     "text": [
      "\n"
     ]
    },
    {
     "data": {
      "application/vnd.jupyter.widget-view+json": {
       "model_id": "c576bb44775b4e439256a864453373b3",
       "version_major": 2,
       "version_minor": 0
      },
      "text/plain": [
       "HBox(children=(FloatProgress(value=1.0, bar_style='info', max=1.0), HTML(value='')))"
      ]
     },
     "metadata": {},
     "output_type": "display_data"
    },
    {
     "name": "stdout",
     "output_type": "stream",
     "text": [
      "\n"
     ]
    },
    {
     "data": {
      "application/vnd.jupyter.widget-view+json": {
       "model_id": "7baa808c1d9f4132826eee3fc8a7e0ab",
       "version_major": 2,
       "version_minor": 0
      },
      "text/plain": [
       "HBox(children=(FloatProgress(value=1.0, bar_style='info', max=1.0), HTML(value='')))"
      ]
     },
     "metadata": {},
     "output_type": "display_data"
    },
    {
     "name": "stdout",
     "output_type": "stream",
     "text": [
      "\n"
     ]
    },
    {
     "data": {
      "application/vnd.jupyter.widget-view+json": {
       "model_id": "add9f8bb19a245d1813bc22cd85bdc17",
       "version_major": 2,
       "version_minor": 0
      },
      "text/plain": [
       "HBox(children=(FloatProgress(value=1.0, bar_style='info', max=1.0), HTML(value='')))"
      ]
     },
     "metadata": {},
     "output_type": "display_data"
    },
    {
     "name": "stdout",
     "output_type": "stream",
     "text": [
      "\n"
     ]
    },
    {
     "data": {
      "application/vnd.jupyter.widget-view+json": {
       "model_id": "10d7049ff5bb4462a48013ba21b5e235",
       "version_major": 2,
       "version_minor": 0
      },
      "text/plain": [
       "HBox(children=(FloatProgress(value=1.0, bar_style='info', max=1.0), HTML(value='')))"
      ]
     },
     "metadata": {},
     "output_type": "display_data"
    },
    {
     "name": "stdout",
     "output_type": "stream",
     "text": [
      "\n"
     ]
    },
    {
     "name": "stderr",
     "output_type": "stream",
     "text": [
      "/opt/conda/lib/python3.7/site-packages/selenium/webdriver/chrome/webdriver.py:50: DeprecationWarning: use options instead of chrome_options\n",
      "  warnings.warn('use options instead of chrome_options', DeprecationWarning)\n"
     ]
    },
    {
     "data": {
      "application/vnd.jupyter.widget-view+json": {
       "model_id": "c01b110ba76a4f698e92420565f2836c",
       "version_major": 2,
       "version_minor": 0
      },
      "text/plain": [
       "HBox(children=(FloatProgress(value=1.0, bar_style='info', max=1.0), HTML(value='')))"
      ]
     },
     "metadata": {},
     "output_type": "display_data"
    },
    {
     "name": "stdout",
     "output_type": "stream",
     "text": [
      "\n"
     ]
    },
    {
     "data": {
      "application/vnd.jupyter.widget-view+json": {
       "model_id": "fd36d336c66b43c9b8fd9d91f8c9141e",
       "version_major": 2,
       "version_minor": 0
      },
      "text/plain": [
       "HBox(children=(FloatProgress(value=1.0, bar_style='info', max=1.0), HTML(value='')))"
      ]
     },
     "metadata": {},
     "output_type": "display_data"
    },
    {
     "name": "stdout",
     "output_type": "stream",
     "text": [
      "\n"
     ]
    },
    {
     "data": {
      "application/vnd.jupyter.widget-view+json": {
       "model_id": "e81f069a053d46bb8e91cdd69dc52c94",
       "version_major": 2,
       "version_minor": 0
      },
      "text/plain": [
       "HBox(children=(FloatProgress(value=1.0, bar_style='info', max=1.0), HTML(value='')))"
      ]
     },
     "metadata": {},
     "output_type": "display_data"
    },
    {
     "name": "stdout",
     "output_type": "stream",
     "text": [
      "\n"
     ]
    },
    {
     "data": {
      "application/vnd.jupyter.widget-view+json": {
       "model_id": "b0a28e2e1f604e09b63f573ff8935e39",
       "version_major": 2,
       "version_minor": 0
      },
      "text/plain": [
       "HBox(children=(FloatProgress(value=1.0, bar_style='info', max=1.0), HTML(value='')))"
      ]
     },
     "metadata": {},
     "output_type": "display_data"
    },
    {
     "name": "stdout",
     "output_type": "stream",
     "text": [
      "\n"
     ]
    },
    {
     "data": {
      "application/vnd.jupyter.widget-view+json": {
       "model_id": "67bd4e7ce9944d5f9d23c12211b790f6",
       "version_major": 2,
       "version_minor": 0
      },
      "text/plain": [
       "HBox(children=(FloatProgress(value=1.0, bar_style='info', max=1.0), HTML(value='')))"
      ]
     },
     "metadata": {},
     "output_type": "display_data"
    },
    {
     "name": "stdout",
     "output_type": "stream",
     "text": [
      "\n"
     ]
    },
    {
     "name": "stderr",
     "output_type": "stream",
     "text": [
      "/opt/conda/lib/python3.7/site-packages/selenium/webdriver/chrome/webdriver.py:50: DeprecationWarning: use options instead of chrome_options\n",
      "  warnings.warn('use options instead of chrome_options', DeprecationWarning)\n"
     ]
    },
    {
     "data": {
      "application/vnd.jupyter.widget-view+json": {
       "model_id": "cba13a86f55547908fba58dd056f605a",
       "version_major": 2,
       "version_minor": 0
      },
      "text/plain": [
       "HBox(children=(FloatProgress(value=1.0, bar_style='info', max=1.0), HTML(value='')))"
      ]
     },
     "metadata": {},
     "output_type": "display_data"
    },
    {
     "name": "stdout",
     "output_type": "stream",
     "text": [
      "\n"
     ]
    },
    {
     "data": {
      "application/vnd.jupyter.widget-view+json": {
       "model_id": "87870f5fd04143afb8f57614dddc8f79",
       "version_major": 2,
       "version_minor": 0
      },
      "text/plain": [
       "HBox(children=(FloatProgress(value=1.0, bar_style='info', max=1.0), HTML(value='')))"
      ]
     },
     "metadata": {},
     "output_type": "display_data"
    },
    {
     "name": "stdout",
     "output_type": "stream",
     "text": [
      "\n"
     ]
    },
    {
     "data": {
      "application/vnd.jupyter.widget-view+json": {
       "model_id": "0bdafe9fe8e54a69991b07b7f7f09d16",
       "version_major": 2,
       "version_minor": 0
      },
      "text/plain": [
       "HBox(children=(FloatProgress(value=1.0, bar_style='info', max=1.0), HTML(value='')))"
      ]
     },
     "metadata": {},
     "output_type": "display_data"
    },
    {
     "name": "stdout",
     "output_type": "stream",
     "text": [
      "\n"
     ]
    },
    {
     "data": {
      "application/vnd.jupyter.widget-view+json": {
       "model_id": "69843cb7fdf44cb596ea28f9ed8a1be6",
       "version_major": 2,
       "version_minor": 0
      },
      "text/plain": [
       "HBox(children=(FloatProgress(value=1.0, bar_style='info', max=1.0), HTML(value='')))"
      ]
     },
     "metadata": {},
     "output_type": "display_data"
    },
    {
     "name": "stdout",
     "output_type": "stream",
     "text": [
      "\n"
     ]
    },
    {
     "data": {
      "application/vnd.jupyter.widget-view+json": {
       "model_id": "65e1dbda3a85402884d622691bc13423",
       "version_major": 2,
       "version_minor": 0
      },
      "text/plain": [
       "HBox(children=(FloatProgress(value=1.0, bar_style='info', max=1.0), HTML(value='')))"
      ]
     },
     "metadata": {},
     "output_type": "display_data"
    },
    {
     "name": "stdout",
     "output_type": "stream",
     "text": [
      "\n",
      "\n"
     ]
    },
    {
     "data": {
      "application/vnd.jupyter.widget-view+json": {
       "model_id": "753af953888f4fbd9e0d7b08fe04a575",
       "version_major": 2,
       "version_minor": 0
      },
      "text/plain": [
       "HBox(children=(FloatProgress(value=0.0, description='Preprocessing', max=20.0, style=ProgressStyle(description…"
      ]
     },
     "metadata": {},
     "output_type": "display_data"
    },
    {
     "name": "stdout",
     "output_type": "stream",
     "text": [
      "\n",
      "end :: 금초 | 신화 | 작가 | 웃음 | 대왕 | 자본 | 실용 | 발견 | 문의 | 예수\n",
      "3번째 반복 중\n",
      "['keyword/keyword_0', 'keyword/keyword_1', 'keyword/keyword_10', 'keyword/keyword_100', 'keyword/keyword_101', 'keyword/keyword_102', 'keyword/keyword_103', 'keyword/keyword_104', 'keyword/keyword_105', 'keyword/keyword_106', 'keyword/keyword_107', 'keyword/keyword_108', 'keyword/keyword_109', 'keyword/keyword_11', 'keyword/keyword_110', 'keyword/keyword_111', 'keyword/keyword_112', 'keyword/keyword_113', 'keyword/keyword_114', 'keyword/keyword_115', 'keyword/keyword_116', 'keyword/keyword_117', 'keyword/keyword_118', 'keyword/keyword_119', 'keyword/keyword_12', 'keyword/keyword_120', 'keyword/keyword_121', 'keyword/keyword_122', 'keyword/keyword_123', 'keyword/keyword_124', 'keyword/keyword_125', 'keyword/keyword_126', 'keyword/keyword_127', 'keyword/keyword_128', 'keyword/keyword_129', 'keyword/keyword_13', 'keyword/keyword_130', 'keyword/keyword_131', 'keyword/keyword_132', 'keyword/keyword_133', 'keyword/keyword_134', 'keyword/keyword_135', 'keyword/keyword_136', 'keyword/keyword_14', 'keyword/keyword_15', 'keyword/keyword_16', 'keyword/keyword_17', 'keyword/keyword_18', 'keyword/keyword_19', 'keyword/keyword_2', 'keyword/keyword_20', 'keyword/keyword_21', 'keyword/keyword_22', 'keyword/keyword_23', 'keyword/keyword_24', 'keyword/keyword_25', 'keyword/keyword_26', 'keyword/keyword_27', 'keyword/keyword_28', 'keyword/keyword_29', 'keyword/keyword_3', 'keyword/keyword_30', 'keyword/keyword_31', 'keyword/keyword_32', 'keyword/keyword_33', 'keyword/keyword_34', 'keyword/keyword_35', 'keyword/keyword_36', 'keyword/keyword_37', 'keyword/keyword_38', 'keyword/keyword_39', 'keyword/keyword_4', 'keyword/keyword_40', 'keyword/keyword_41', 'keyword/keyword_42', 'keyword/keyword_43', 'keyword/keyword_44', 'keyword/keyword_45', 'keyword/keyword_46', 'keyword/keyword_47', 'keyword/keyword_48', 'keyword/keyword_49', 'keyword/keyword_5', 'keyword/keyword_50', 'keyword/keyword_51', 'keyword/keyword_52', 'keyword/keyword_53', 'keyword/keyword_54', 'keyword/keyword_55', 'keyword/keyword_56', 'keyword/keyword_57', 'keyword/keyword_58', 'keyword/keyword_59', 'keyword/keyword_6', 'keyword/keyword_60', 'keyword/keyword_61', 'keyword/keyword_62', 'keyword/keyword_63', 'keyword/keyword_64', 'keyword/keyword_65', 'keyword/keyword_66', 'keyword/keyword_67', 'keyword/keyword_68', 'keyword/keyword_69', 'keyword/keyword_7', 'keyword/keyword_70', 'keyword/keyword_71', 'keyword/keyword_72', 'keyword/keyword_73', 'keyword/keyword_74', 'keyword/keyword_75', 'keyword/keyword_76', 'keyword/keyword_77', 'keyword/keyword_78', 'keyword/keyword_79', 'keyword/keyword_8', 'keyword/keyword_80', 'keyword/keyword_81', 'keyword/keyword_82', 'keyword/keyword_83', 'keyword/keyword_84', 'keyword/keyword_85', 'keyword/keyword_86', 'keyword/keyword_87', 'keyword/keyword_88', 'keyword/keyword_89', 'keyword/keyword_9', 'keyword/keyword_90', 'keyword/keyword_91', 'keyword/keyword_92', 'keyword/keyword_93', 'keyword/keyword_94', 'keyword/keyword_95', 'keyword/keyword_96', 'keyword/keyword_97', 'keyword/keyword_98', 'keyword/keyword_99']\n",
      "137\n",
      "\n",
      "start :: 금초 | 신화 | 작가 | 웃음 | 대왕 | 자본 | 실용 | 발견 | 문의 | 예수+\"음식 건강\"\n"
     ]
    },
    {
     "data": {
      "application/vnd.jupyter.widget-view+json": {
       "model_id": "28801406bec94a1398c2f3dc8ffdf507",
       "version_major": 2,
       "version_minor": 0
      },
      "text/plain": [
       "HBox(children=(FloatProgress(value=0.0, max=20.0), HTML(value='')))"
      ]
     },
     "metadata": {},
     "output_type": "display_data"
    },
    {
     "name": "stdout",
     "output_type": "stream",
     "text": [
      "\n"
     ]
    },
    {
     "data": {
      "application/vnd.jupyter.widget-view+json": {
       "model_id": "a5a037ddd0c743ce8b917655a56333ca",
       "version_major": 2,
       "version_minor": 0
      },
      "text/plain": [
       "HBox(children=(FloatProgress(value=0.0, max=20.0), HTML(value='')))"
      ]
     },
     "metadata": {},
     "output_type": "display_data"
    },
    {
     "name": "stderr",
     "output_type": "stream",
     "text": [
      "/opt/conda/lib/python3.7/site-packages/selenium/webdriver/chrome/webdriver.py:50: DeprecationWarning: use options instead of chrome_options\n",
      "  warnings.warn('use options instead of chrome_options', DeprecationWarning)\n"
     ]
    },
    {
     "data": {
      "application/vnd.jupyter.widget-view+json": {
       "model_id": "8823253047a340efac79782991d3fe0e",
       "version_major": 2,
       "version_minor": 0
      },
      "text/plain": [
       "HBox(children=(FloatProgress(value=0.0, max=3.0), HTML(value='')))"
      ]
     },
     "metadata": {},
     "output_type": "display_data"
    },
    {
     "name": "stdout",
     "output_type": "stream",
     "text": [
      "\n"
     ]
    },
    {
     "data": {
      "application/vnd.jupyter.widget-view+json": {
       "model_id": "2f10926ee3a54caaacb3a24353562772",
       "version_major": 2,
       "version_minor": 0
      },
      "text/plain": [
       "HBox(children=(FloatProgress(value=0.0, max=3.0), HTML(value='')))"
      ]
     },
     "metadata": {},
     "output_type": "display_data"
    },
    {
     "name": "stdout",
     "output_type": "stream",
     "text": [
      "\n"
     ]
    },
    {
     "data": {
      "application/vnd.jupyter.widget-view+json": {
       "model_id": "7e9ae48c25b0405393c6268f7f4e9175",
       "version_major": 2,
       "version_minor": 0
      },
      "text/plain": [
       "HBox(children=(FloatProgress(value=0.0, max=2.0), HTML(value='')))"
      ]
     },
     "metadata": {},
     "output_type": "display_data"
    },
    {
     "name": "stdout",
     "output_type": "stream",
     "text": [
      "\n"
     ]
    },
    {
     "data": {
      "application/vnd.jupyter.widget-view+json": {
       "model_id": "cf3077a330c64b46b6edfb8b1e4beb8f",
       "version_major": 2,
       "version_minor": 0
      },
      "text/plain": [
       "HBox(children=(FloatProgress(value=0.0, max=7.0), HTML(value='')))"
      ]
     },
     "metadata": {},
     "output_type": "display_data"
    },
    {
     "name": "stdout",
     "output_type": "stream",
     "text": [
      "\n"
     ]
    },
    {
     "data": {
      "application/vnd.jupyter.widget-view+json": {
       "model_id": "855646d11fdf4f268d6da6249e52cba0",
       "version_major": 2,
       "version_minor": 0
      },
      "text/plain": [
       "HBox(children=(FloatProgress(value=0.0, max=10.0), HTML(value='')))"
      ]
     },
     "metadata": {},
     "output_type": "display_data"
    },
    {
     "name": "stdout",
     "output_type": "stream",
     "text": [
      "\n"
     ]
    },
    {
     "name": "stderr",
     "output_type": "stream",
     "text": [
      "/opt/conda/lib/python3.7/site-packages/selenium/webdriver/chrome/webdriver.py:50: DeprecationWarning: use options instead of chrome_options\n",
      "  warnings.warn('use options instead of chrome_options', DeprecationWarning)\n"
     ]
    },
    {
     "data": {
      "application/vnd.jupyter.widget-view+json": {
       "model_id": "684422b5ab324b78b551040134e23c71",
       "version_major": 2,
       "version_minor": 0
      },
      "text/plain": [
       "HBox(children=(FloatProgress(value=0.0, max=7.0), HTML(value='')))"
      ]
     },
     "metadata": {},
     "output_type": "display_data"
    },
    {
     "name": "stdout",
     "output_type": "stream",
     "text": [
      "\n"
     ]
    },
    {
     "data": {
      "application/vnd.jupyter.widget-view+json": {
       "model_id": "464e778f49124059be0b741043328b5c",
       "version_major": 2,
       "version_minor": 0
      },
      "text/plain": [
       "HBox(children=(FloatProgress(value=1.0, bar_style='info', max=1.0), HTML(value='')))"
      ]
     },
     "metadata": {},
     "output_type": "display_data"
    },
    {
     "name": "stdout",
     "output_type": "stream",
     "text": [
      "\n"
     ]
    },
    {
     "data": {
      "application/vnd.jupyter.widget-view+json": {
       "model_id": "7dbe1f5354a14502ad09db77cbed3d96",
       "version_major": 2,
       "version_minor": 0
      },
      "text/plain": [
       "HBox(children=(FloatProgress(value=1.0, bar_style='info', max=1.0), HTML(value='')))"
      ]
     },
     "metadata": {},
     "output_type": "display_data"
    },
    {
     "name": "stdout",
     "output_type": "stream",
     "text": [
      "\n"
     ]
    },
    {
     "data": {
      "application/vnd.jupyter.widget-view+json": {
       "model_id": "dcac829db53242e9a8993035bdfdc135",
       "version_major": 2,
       "version_minor": 0
      },
      "text/plain": [
       "HBox(children=(FloatProgress(value=1.0, bar_style='info', max=1.0), HTML(value='')))"
      ]
     },
     "metadata": {},
     "output_type": "display_data"
    },
    {
     "name": "stdout",
     "output_type": "stream",
     "text": [
      "\n"
     ]
    },
    {
     "data": {
      "application/vnd.jupyter.widget-view+json": {
       "model_id": "43fa094ead4f4b369c8fac02c134e622",
       "version_major": 2,
       "version_minor": 0
      },
      "text/plain": [
       "HBox(children=(FloatProgress(value=1.0, bar_style='info', max=1.0), HTML(value='')))"
      ]
     },
     "metadata": {},
     "output_type": "display_data"
    },
    {
     "name": "stdout",
     "output_type": "stream",
     "text": [
      "\n"
     ]
    },
    {
     "name": "stderr",
     "output_type": "stream",
     "text": [
      "/opt/conda/lib/python3.7/site-packages/selenium/webdriver/chrome/webdriver.py:50: DeprecationWarning: use options instead of chrome_options\n",
      "  warnings.warn('use options instead of chrome_options', DeprecationWarning)\n"
     ]
    },
    {
     "data": {
      "application/vnd.jupyter.widget-view+json": {
       "model_id": "2f82c1ddd1a84a06b64789e8b955583d",
       "version_major": 2,
       "version_minor": 0
      },
      "text/plain": [
       "HBox(children=(FloatProgress(value=1.0, bar_style='info', max=1.0), HTML(value='')))"
      ]
     },
     "metadata": {},
     "output_type": "display_data"
    },
    {
     "name": "stdout",
     "output_type": "stream",
     "text": [
      "\n"
     ]
    },
    {
     "data": {
      "application/vnd.jupyter.widget-view+json": {
       "model_id": "ff45042d25e44e01a43f24158e89f718",
       "version_major": 2,
       "version_minor": 0
      },
      "text/plain": [
       "HBox(children=(FloatProgress(value=1.0, bar_style='info', max=1.0), HTML(value='')))"
      ]
     },
     "metadata": {},
     "output_type": "display_data"
    },
    {
     "name": "stdout",
     "output_type": "stream",
     "text": [
      "\n"
     ]
    },
    {
     "data": {
      "application/vnd.jupyter.widget-view+json": {
       "model_id": "1d551b94354f43159a3ec538112338e2",
       "version_major": 2,
       "version_minor": 0
      },
      "text/plain": [
       "HBox(children=(FloatProgress(value=1.0, bar_style='info', max=1.0), HTML(value='')))"
      ]
     },
     "metadata": {},
     "output_type": "display_data"
    },
    {
     "name": "stdout",
     "output_type": "stream",
     "text": [
      "\n"
     ]
    },
    {
     "data": {
      "application/vnd.jupyter.widget-view+json": {
       "model_id": "0e2131b323de4447a064dee194cb5b87",
       "version_major": 2,
       "version_minor": 0
      },
      "text/plain": [
       "HBox(children=(FloatProgress(value=1.0, bar_style='info', max=1.0), HTML(value='')))"
      ]
     },
     "metadata": {},
     "output_type": "display_data"
    },
    {
     "name": "stdout",
     "output_type": "stream",
     "text": [
      "\n"
     ]
    },
    {
     "data": {
      "application/vnd.jupyter.widget-view+json": {
       "model_id": "adf3bc5578fc4c098e5045eca3f3bfca",
       "version_major": 2,
       "version_minor": 0
      },
      "text/plain": [
       "HBox(children=(FloatProgress(value=1.0, bar_style='info', max=1.0), HTML(value='')))"
      ]
     },
     "metadata": {},
     "output_type": "display_data"
    },
    {
     "name": "stdout",
     "output_type": "stream",
     "text": [
      "\n"
     ]
    },
    {
     "name": "stderr",
     "output_type": "stream",
     "text": [
      "/opt/conda/lib/python3.7/site-packages/selenium/webdriver/chrome/webdriver.py:50: DeprecationWarning: use options instead of chrome_options\n",
      "  warnings.warn('use options instead of chrome_options', DeprecationWarning)\n"
     ]
    },
    {
     "data": {
      "application/vnd.jupyter.widget-view+json": {
       "model_id": "0b435f781b1d4931b21affc9b5597a48",
       "version_major": 2,
       "version_minor": 0
      },
      "text/plain": [
       "HBox(children=(FloatProgress(value=1.0, bar_style='info', max=1.0), HTML(value='')))"
      ]
     },
     "metadata": {},
     "output_type": "display_data"
    },
    {
     "name": "stdout",
     "output_type": "stream",
     "text": [
      "\n"
     ]
    },
    {
     "data": {
      "application/vnd.jupyter.widget-view+json": {
       "model_id": "3d0096683b774e3ea4b273a1188b1afe",
       "version_major": 2,
       "version_minor": 0
      },
      "text/plain": [
       "HBox(children=(FloatProgress(value=1.0, bar_style='info', max=1.0), HTML(value='')))"
      ]
     },
     "metadata": {},
     "output_type": "display_data"
    },
    {
     "name": "stdout",
     "output_type": "stream",
     "text": [
      "\n"
     ]
    },
    {
     "data": {
      "application/vnd.jupyter.widget-view+json": {
       "model_id": "764e056d0d61402e832d27c685a2ed70",
       "version_major": 2,
       "version_minor": 0
      },
      "text/plain": [
       "HBox(children=(FloatProgress(value=1.0, bar_style='info', max=1.0), HTML(value='')))"
      ]
     },
     "metadata": {},
     "output_type": "display_data"
    },
    {
     "name": "stdout",
     "output_type": "stream",
     "text": [
      "\n"
     ]
    },
    {
     "data": {
      "application/vnd.jupyter.widget-view+json": {
       "model_id": "98a1877c44824e9f9bef4de5f2e650d3",
       "version_major": 2,
       "version_minor": 0
      },
      "text/plain": [
       "HBox(children=(FloatProgress(value=1.0, bar_style='info', max=1.0), HTML(value='')))"
      ]
     },
     "metadata": {},
     "output_type": "display_data"
    },
    {
     "name": "stdout",
     "output_type": "stream",
     "text": [
      "\n"
     ]
    },
    {
     "data": {
      "application/vnd.jupyter.widget-view+json": {
       "model_id": "c3bd8dd62c9c475ab0710eb7ccd071d2",
       "version_major": 2,
       "version_minor": 0
      },
      "text/plain": [
       "HBox(children=(FloatProgress(value=1.0, bar_style='info', max=1.0), HTML(value='')))"
      ]
     },
     "metadata": {},
     "output_type": "display_data"
    },
    {
     "name": "stdout",
     "output_type": "stream",
     "text": [
      "\n",
      "\n"
     ]
    },
    {
     "data": {
      "application/vnd.jupyter.widget-view+json": {
       "model_id": "ec52d7a34ab449bfb10823cd7b1f0d60",
       "version_major": 2,
       "version_minor": 0
      },
      "text/plain": [
       "HBox(children=(FloatProgress(value=0.0, description='Preprocessing', max=20.0, style=ProgressStyle(description…"
      ]
     },
     "metadata": {},
     "output_type": "display_data"
    },
    {
     "name": "stdout",
     "output_type": "stream",
     "text": [
      "\n",
      "end :: 애니콜 | 지구 | 커뮤니케이션 | 맥심 | 편의 | 제회 | 임원 | 버스 | 금융 | 시리즈\n",
      "4번째 반복 중\n",
      "['keyword/keyword_0', 'keyword/keyword_1', 'keyword/keyword_10', 'keyword/keyword_100', 'keyword/keyword_101', 'keyword/keyword_102', 'keyword/keyword_103', 'keyword/keyword_104', 'keyword/keyword_105', 'keyword/keyword_106', 'keyword/keyword_107', 'keyword/keyword_108', 'keyword/keyword_109', 'keyword/keyword_11', 'keyword/keyword_110', 'keyword/keyword_111', 'keyword/keyword_112', 'keyword/keyword_113', 'keyword/keyword_114', 'keyword/keyword_115', 'keyword/keyword_116', 'keyword/keyword_117', 'keyword/keyword_118', 'keyword/keyword_119', 'keyword/keyword_12', 'keyword/keyword_120', 'keyword/keyword_121', 'keyword/keyword_122', 'keyword/keyword_123', 'keyword/keyword_124', 'keyword/keyword_125', 'keyword/keyword_126', 'keyword/keyword_127', 'keyword/keyword_128', 'keyword/keyword_129', 'keyword/keyword_13', 'keyword/keyword_130', 'keyword/keyword_131', 'keyword/keyword_132', 'keyword/keyword_133', 'keyword/keyword_134', 'keyword/keyword_135', 'keyword/keyword_136', 'keyword/keyword_137', 'keyword/keyword_14', 'keyword/keyword_15', 'keyword/keyword_16', 'keyword/keyword_17', 'keyword/keyword_18', 'keyword/keyword_19', 'keyword/keyword_2', 'keyword/keyword_20', 'keyword/keyword_21', 'keyword/keyword_22', 'keyword/keyword_23', 'keyword/keyword_24', 'keyword/keyword_25', 'keyword/keyword_26', 'keyword/keyword_27', 'keyword/keyword_28', 'keyword/keyword_29', 'keyword/keyword_3', 'keyword/keyword_30', 'keyword/keyword_31', 'keyword/keyword_32', 'keyword/keyword_33', 'keyword/keyword_34', 'keyword/keyword_35', 'keyword/keyword_36', 'keyword/keyword_37', 'keyword/keyword_38', 'keyword/keyword_39', 'keyword/keyword_4', 'keyword/keyword_40', 'keyword/keyword_41', 'keyword/keyword_42', 'keyword/keyword_43', 'keyword/keyword_44', 'keyword/keyword_45', 'keyword/keyword_46', 'keyword/keyword_47', 'keyword/keyword_48', 'keyword/keyword_49', 'keyword/keyword_5', 'keyword/keyword_50', 'keyword/keyword_51', 'keyword/keyword_52', 'keyword/keyword_53', 'keyword/keyword_54', 'keyword/keyword_55', 'keyword/keyword_56', 'keyword/keyword_57', 'keyword/keyword_58', 'keyword/keyword_59', 'keyword/keyword_6', 'keyword/keyword_60', 'keyword/keyword_61', 'keyword/keyword_62', 'keyword/keyword_63', 'keyword/keyword_64', 'keyword/keyword_65', 'keyword/keyword_66', 'keyword/keyword_67', 'keyword/keyword_68', 'keyword/keyword_69', 'keyword/keyword_7', 'keyword/keyword_70', 'keyword/keyword_71', 'keyword/keyword_72', 'keyword/keyword_73', 'keyword/keyword_74', 'keyword/keyword_75', 'keyword/keyword_76', 'keyword/keyword_77', 'keyword/keyword_78', 'keyword/keyword_79', 'keyword/keyword_8', 'keyword/keyword_80', 'keyword/keyword_81', 'keyword/keyword_82', 'keyword/keyword_83', 'keyword/keyword_84', 'keyword/keyword_85', 'keyword/keyword_86', 'keyword/keyword_87', 'keyword/keyword_88', 'keyword/keyword_89', 'keyword/keyword_9', 'keyword/keyword_90', 'keyword/keyword_91', 'keyword/keyword_92', 'keyword/keyword_93', 'keyword/keyword_94', 'keyword/keyword_95', 'keyword/keyword_96', 'keyword/keyword_97', 'keyword/keyword_98', 'keyword/keyword_99']\n",
      "138\n",
      "\n",
      "start :: 애니콜 | 지구 | 커뮤니케이션 | 맥심 | 편의 | 제회 | 임원 | 버스 | 금융 | 시리즈+\"음식 건강\"\n"
     ]
    },
    {
     "data": {
      "application/vnd.jupyter.widget-view+json": {
       "model_id": "ad9c2dfeb1b64f33a47c322413608118",
       "version_major": 2,
       "version_minor": 0
      },
      "text/plain": [
       "HBox(children=(FloatProgress(value=0.0, max=20.0), HTML(value='')))"
      ]
     },
     "metadata": {},
     "output_type": "display_data"
    },
    {
     "name": "stdout",
     "output_type": "stream",
     "text": [
      "\n"
     ]
    },
    {
     "data": {
      "application/vnd.jupyter.widget-view+json": {
       "model_id": "0f3ce6c00cb24d1d81fe7883ea14cb30",
       "version_major": 2,
       "version_minor": 0
      },
      "text/plain": [
       "HBox(children=(FloatProgress(value=0.0, max=20.0), HTML(value='')))"
      ]
     },
     "metadata": {},
     "output_type": "display_data"
    },
    {
     "name": "stderr",
     "output_type": "stream",
     "text": [
      "/opt/conda/lib/python3.7/site-packages/selenium/webdriver/chrome/webdriver.py:50: DeprecationWarning: use options instead of chrome_options\n",
      "  warnings.warn('use options instead of chrome_options', DeprecationWarning)\n"
     ]
    },
    {
     "data": {
      "application/vnd.jupyter.widget-view+json": {
       "model_id": "73aaf1b65edc4227a61199054c11e475",
       "version_major": 2,
       "version_minor": 0
      },
      "text/plain": [
       "HBox(children=(FloatProgress(value=0.0, max=2.0), HTML(value='')))"
      ]
     },
     "metadata": {},
     "output_type": "display_data"
    },
    {
     "name": "stdout",
     "output_type": "stream",
     "text": [
      "\n"
     ]
    },
    {
     "data": {
      "application/vnd.jupyter.widget-view+json": {
       "model_id": "b2586afa4d88411d8cf92f193fee67e2",
       "version_major": 2,
       "version_minor": 0
      },
      "text/plain": [
       "HBox(children=(FloatProgress(value=0.0, max=2.0), HTML(value='')))"
      ]
     },
     "metadata": {},
     "output_type": "display_data"
    },
    {
     "name": "stdout",
     "output_type": "stream",
     "text": [
      "\n"
     ]
    },
    {
     "data": {
      "application/vnd.jupyter.widget-view+json": {
       "model_id": "a89024c8e52c482b9458ca2b971b59ce",
       "version_major": 2,
       "version_minor": 0
      },
      "text/plain": [
       "HBox(children=(FloatProgress(value=0.0, max=4.0), HTML(value='')))"
      ]
     },
     "metadata": {},
     "output_type": "display_data"
    },
    {
     "name": "stdout",
     "output_type": "stream",
     "text": [
      "\n"
     ]
    },
    {
     "data": {
      "application/vnd.jupyter.widget-view+json": {
       "model_id": "a0de81020b254861b9c17efd528f76d2",
       "version_major": 2,
       "version_minor": 0
      },
      "text/plain": [
       "HBox(children=(FloatProgress(value=0.0, max=8.0), HTML(value='')))"
      ]
     },
     "metadata": {},
     "output_type": "display_data"
    },
    {
     "name": "stdout",
     "output_type": "stream",
     "text": [
      "\n"
     ]
    },
    {
     "data": {
      "application/vnd.jupyter.widget-view+json": {
       "model_id": "bc94b039609942ffa66b6373cab0aa87",
       "version_major": 2,
       "version_minor": 0
      },
      "text/plain": [
       "HBox(children=(FloatProgress(value=0.0, max=10.0), HTML(value='')))"
      ]
     },
     "metadata": {},
     "output_type": "display_data"
    },
    {
     "name": "stdout",
     "output_type": "stream",
     "text": [
      "\n"
     ]
    },
    {
     "name": "stderr",
     "output_type": "stream",
     "text": [
      "/opt/conda/lib/python3.7/site-packages/selenium/webdriver/chrome/webdriver.py:50: DeprecationWarning: use options instead of chrome_options\n",
      "  warnings.warn('use options instead of chrome_options', DeprecationWarning)\n"
     ]
    },
    {
     "data": {
      "application/vnd.jupyter.widget-view+json": {
       "model_id": "4f94bb1cf542471090e54edcbece46c4",
       "version_major": 2,
       "version_minor": 0
      },
      "text/plain": [
       "HBox(children=(FloatProgress(value=1.0, bar_style='info', max=1.0), HTML(value='')))"
      ]
     },
     "metadata": {},
     "output_type": "display_data"
    },
    {
     "name": "stdout",
     "output_type": "stream",
     "text": [
      "\n"
     ]
    },
    {
     "data": {
      "application/vnd.jupyter.widget-view+json": {
       "model_id": "041120377ffe4d4cb1a112d1e05bad41",
       "version_major": 2,
       "version_minor": 0
      },
      "text/plain": [
       "HBox(children=(FloatProgress(value=1.0, bar_style='info', max=1.0), HTML(value='')))"
      ]
     },
     "metadata": {},
     "output_type": "display_data"
    },
    {
     "name": "stdout",
     "output_type": "stream",
     "text": [
      "\n"
     ]
    },
    {
     "data": {
      "application/vnd.jupyter.widget-view+json": {
       "model_id": "9f4f2c111c7940c48fd1243c70e7fdad",
       "version_major": 2,
       "version_minor": 0
      },
      "text/plain": [
       "HBox(children=(FloatProgress(value=1.0, bar_style='info', max=1.0), HTML(value='')))"
      ]
     },
     "metadata": {},
     "output_type": "display_data"
    },
    {
     "name": "stdout",
     "output_type": "stream",
     "text": [
      "\n"
     ]
    },
    {
     "data": {
      "application/vnd.jupyter.widget-view+json": {
       "model_id": "f019c2633b49425bafefb2367a9edd11",
       "version_major": 2,
       "version_minor": 0
      },
      "text/plain": [
       "HBox(children=(FloatProgress(value=1.0, bar_style='info', max=1.0), HTML(value='')))"
      ]
     },
     "metadata": {},
     "output_type": "display_data"
    },
    {
     "name": "stdout",
     "output_type": "stream",
     "text": [
      "\n"
     ]
    },
    {
     "data": {
      "application/vnd.jupyter.widget-view+json": {
       "model_id": "44ac4f397e4449359089675d9cb38461",
       "version_major": 2,
       "version_minor": 0
      },
      "text/plain": [
       "HBox(children=(FloatProgress(value=1.0, bar_style='info', max=1.0), HTML(value='')))"
      ]
     },
     "metadata": {},
     "output_type": "display_data"
    },
    {
     "name": "stdout",
     "output_type": "stream",
     "text": [
      "\n"
     ]
    },
    {
     "name": "stderr",
     "output_type": "stream",
     "text": [
      "/opt/conda/lib/python3.7/site-packages/selenium/webdriver/chrome/webdriver.py:50: DeprecationWarning: use options instead of chrome_options\n",
      "  warnings.warn('use options instead of chrome_options', DeprecationWarning)\n"
     ]
    },
    {
     "data": {
      "application/vnd.jupyter.widget-view+json": {
       "model_id": "9848b63376574dfb94c1ca56baead591",
       "version_major": 2,
       "version_minor": 0
      },
      "text/plain": [
       "HBox(children=(FloatProgress(value=1.0, bar_style='info', max=1.0), HTML(value='')))"
      ]
     },
     "metadata": {},
     "output_type": "display_data"
    },
    {
     "name": "stdout",
     "output_type": "stream",
     "text": [
      "\n"
     ]
    },
    {
     "data": {
      "application/vnd.jupyter.widget-view+json": {
       "model_id": "963e4c05d9ab4883901c7906bb820d1d",
       "version_major": 2,
       "version_minor": 0
      },
      "text/plain": [
       "HBox(children=(FloatProgress(value=1.0, bar_style='info', max=1.0), HTML(value='')))"
      ]
     },
     "metadata": {},
     "output_type": "display_data"
    },
    {
     "name": "stdout",
     "output_type": "stream",
     "text": [
      "\n"
     ]
    },
    {
     "data": {
      "application/vnd.jupyter.widget-view+json": {
       "model_id": "baf702ef3f784eb1ab6f52d993c4e54c",
       "version_major": 2,
       "version_minor": 0
      },
      "text/plain": [
       "HBox(children=(FloatProgress(value=1.0, bar_style='info', max=1.0), HTML(value='')))"
      ]
     },
     "metadata": {},
     "output_type": "display_data"
    },
    {
     "name": "stdout",
     "output_type": "stream",
     "text": [
      "\n"
     ]
    },
    {
     "data": {
      "application/vnd.jupyter.widget-view+json": {
       "model_id": "6fc29953be324cae9d8ef411584fd928",
       "version_major": 2,
       "version_minor": 0
      },
      "text/plain": [
       "HBox(children=(FloatProgress(value=1.0, bar_style='info', max=1.0), HTML(value='')))"
      ]
     },
     "metadata": {},
     "output_type": "display_data"
    },
    {
     "name": "stdout",
     "output_type": "stream",
     "text": [
      "\n"
     ]
    },
    {
     "data": {
      "application/vnd.jupyter.widget-view+json": {
       "model_id": "0c622dc0b90445a7bf600e0f6f03981f",
       "version_major": 2,
       "version_minor": 0
      },
      "text/plain": [
       "HBox(children=(FloatProgress(value=1.0, bar_style='info', max=1.0), HTML(value='')))"
      ]
     },
     "metadata": {},
     "output_type": "display_data"
    },
    {
     "name": "stdout",
     "output_type": "stream",
     "text": [
      "\n"
     ]
    },
    {
     "name": "stderr",
     "output_type": "stream",
     "text": [
      "/opt/conda/lib/python3.7/site-packages/selenium/webdriver/chrome/webdriver.py:50: DeprecationWarning: use options instead of chrome_options\n",
      "  warnings.warn('use options instead of chrome_options', DeprecationWarning)\n"
     ]
    },
    {
     "data": {
      "application/vnd.jupyter.widget-view+json": {
       "model_id": "49e5d847d8e3499985c941b46f634164",
       "version_major": 2,
       "version_minor": 0
      },
      "text/plain": [
       "HBox(children=(FloatProgress(value=1.0, bar_style='info', max=1.0), HTML(value='')))"
      ]
     },
     "metadata": {},
     "output_type": "display_data"
    },
    {
     "name": "stdout",
     "output_type": "stream",
     "text": [
      "\n"
     ]
    },
    {
     "data": {
      "application/vnd.jupyter.widget-view+json": {
       "model_id": "41961aa0f71d4d9e85dd858bef35540b",
       "version_major": 2,
       "version_minor": 0
      },
      "text/plain": [
       "HBox(children=(FloatProgress(value=1.0, bar_style='info', max=1.0), HTML(value='')))"
      ]
     },
     "metadata": {},
     "output_type": "display_data"
    },
    {
     "name": "stdout",
     "output_type": "stream",
     "text": [
      "\n"
     ]
    },
    {
     "data": {
      "application/vnd.jupyter.widget-view+json": {
       "model_id": "7de9f16d483444229f63636bd6a17635",
       "version_major": 2,
       "version_minor": 0
      },
      "text/plain": [
       "HBox(children=(FloatProgress(value=1.0, bar_style='info', max=1.0), HTML(value='')))"
      ]
     },
     "metadata": {},
     "output_type": "display_data"
    },
    {
     "name": "stdout",
     "output_type": "stream",
     "text": [
      "\n"
     ]
    },
    {
     "data": {
      "application/vnd.jupyter.widget-view+json": {
       "model_id": "3955da6227de4498b4652fc371f75810",
       "version_major": 2,
       "version_minor": 0
      },
      "text/plain": [
       "HBox(children=(FloatProgress(value=1.0, bar_style='info', max=1.0), HTML(value='')))"
      ]
     },
     "metadata": {},
     "output_type": "display_data"
    },
    {
     "name": "stdout",
     "output_type": "stream",
     "text": [
      "\n"
     ]
    },
    {
     "data": {
      "application/vnd.jupyter.widget-view+json": {
       "model_id": "8c812e8681064d39aa66dcccf28b53b7",
       "version_major": 2,
       "version_minor": 0
      },
      "text/plain": [
       "HBox(children=(FloatProgress(value=1.0, bar_style='info', max=1.0), HTML(value='')))"
      ]
     },
     "metadata": {},
     "output_type": "display_data"
    },
    {
     "name": "stdout",
     "output_type": "stream",
     "text": [
      "\n",
      "\n"
     ]
    },
    {
     "data": {
      "application/vnd.jupyter.widget-view+json": {
       "model_id": "c718a93ef8ac4cf784091ba9f40e57df",
       "version_major": 2,
       "version_minor": 0
      },
      "text/plain": [
       "HBox(children=(FloatProgress(value=0.0, description='Preprocessing', max=20.0, style=ProgressStyle(description…"
      ]
     },
     "metadata": {},
     "output_type": "display_data"
    },
    {
     "name": "stdout",
     "output_type": "stream",
     "text": [
      "\n",
      "end :: 보장 | 도로 | 드라마 | 만남 | 업계 | 점수 | 비중 | 잡지 | 실내 | 영어\n",
      "5번째 반복 중\n",
      "['keyword/keyword_0', 'keyword/keyword_1', 'keyword/keyword_10', 'keyword/keyword_100', 'keyword/keyword_101', 'keyword/keyword_102', 'keyword/keyword_103', 'keyword/keyword_104', 'keyword/keyword_105', 'keyword/keyword_106', 'keyword/keyword_107', 'keyword/keyword_108', 'keyword/keyword_109', 'keyword/keyword_11', 'keyword/keyword_110', 'keyword/keyword_111', 'keyword/keyword_112', 'keyword/keyword_113', 'keyword/keyword_114', 'keyword/keyword_115', 'keyword/keyword_116', 'keyword/keyword_117', 'keyword/keyword_118', 'keyword/keyword_119', 'keyword/keyword_12', 'keyword/keyword_120', 'keyword/keyword_121', 'keyword/keyword_122', 'keyword/keyword_123', 'keyword/keyword_124', 'keyword/keyword_125', 'keyword/keyword_126', 'keyword/keyword_127', 'keyword/keyword_128', 'keyword/keyword_129', 'keyword/keyword_13', 'keyword/keyword_130', 'keyword/keyword_131', 'keyword/keyword_132', 'keyword/keyword_133', 'keyword/keyword_134', 'keyword/keyword_135', 'keyword/keyword_136', 'keyword/keyword_137', 'keyword/keyword_138', 'keyword/keyword_14', 'keyword/keyword_15', 'keyword/keyword_16', 'keyword/keyword_17', 'keyword/keyword_18', 'keyword/keyword_19', 'keyword/keyword_2', 'keyword/keyword_20', 'keyword/keyword_21', 'keyword/keyword_22', 'keyword/keyword_23', 'keyword/keyword_24', 'keyword/keyword_25', 'keyword/keyword_26', 'keyword/keyword_27', 'keyword/keyword_28', 'keyword/keyword_29', 'keyword/keyword_3', 'keyword/keyword_30', 'keyword/keyword_31', 'keyword/keyword_32', 'keyword/keyword_33', 'keyword/keyword_34', 'keyword/keyword_35', 'keyword/keyword_36', 'keyword/keyword_37', 'keyword/keyword_38', 'keyword/keyword_39', 'keyword/keyword_4', 'keyword/keyword_40', 'keyword/keyword_41', 'keyword/keyword_42', 'keyword/keyword_43', 'keyword/keyword_44', 'keyword/keyword_45', 'keyword/keyword_46', 'keyword/keyword_47', 'keyword/keyword_48', 'keyword/keyword_49', 'keyword/keyword_5', 'keyword/keyword_50', 'keyword/keyword_51', 'keyword/keyword_52', 'keyword/keyword_53', 'keyword/keyword_54', 'keyword/keyword_55', 'keyword/keyword_56', 'keyword/keyword_57', 'keyword/keyword_58', 'keyword/keyword_59', 'keyword/keyword_6', 'keyword/keyword_60', 'keyword/keyword_61', 'keyword/keyword_62', 'keyword/keyword_63', 'keyword/keyword_64', 'keyword/keyword_65', 'keyword/keyword_66', 'keyword/keyword_67', 'keyword/keyword_68', 'keyword/keyword_69', 'keyword/keyword_7', 'keyword/keyword_70', 'keyword/keyword_71', 'keyword/keyword_72', 'keyword/keyword_73', 'keyword/keyword_74', 'keyword/keyword_75', 'keyword/keyword_76', 'keyword/keyword_77', 'keyword/keyword_78', 'keyword/keyword_79', 'keyword/keyword_8', 'keyword/keyword_80', 'keyword/keyword_81', 'keyword/keyword_82', 'keyword/keyword_83', 'keyword/keyword_84', 'keyword/keyword_85', 'keyword/keyword_86', 'keyword/keyword_87', 'keyword/keyword_88', 'keyword/keyword_89', 'keyword/keyword_9', 'keyword/keyword_90', 'keyword/keyword_91', 'keyword/keyword_92', 'keyword/keyword_93', 'keyword/keyword_94', 'keyword/keyword_95', 'keyword/keyword_96', 'keyword/keyword_97', 'keyword/keyword_98', 'keyword/keyword_99']\n",
      "139\n",
      "\n",
      "start :: 보장 | 도로 | 드라마 | 만남 | 업계 | 점수 | 비중 | 잡지 | 실내 | 영어+\"음식 건강\"\n"
     ]
    },
    {
     "data": {
      "application/vnd.jupyter.widget-view+json": {
       "model_id": "208ec0ddc76a40bfa42e2045bd42c34c",
       "version_major": 2,
       "version_minor": 0
      },
      "text/plain": [
       "HBox(children=(FloatProgress(value=0.0, max=20.0), HTML(value='')))"
      ]
     },
     "metadata": {},
     "output_type": "display_data"
    },
    {
     "name": "stdout",
     "output_type": "stream",
     "text": [
      "\n"
     ]
    },
    {
     "data": {
      "application/vnd.jupyter.widget-view+json": {
       "model_id": "074730ec7c2e47a287a013cc45596706",
       "version_major": 2,
       "version_minor": 0
      },
      "text/plain": [
       "HBox(children=(FloatProgress(value=0.0, max=20.0), HTML(value='')))"
      ]
     },
     "metadata": {},
     "output_type": "display_data"
    },
    {
     "name": "stderr",
     "output_type": "stream",
     "text": [
      "/opt/conda/lib/python3.7/site-packages/selenium/webdriver/chrome/webdriver.py:50: DeprecationWarning: use options instead of chrome_options\n",
      "  warnings.warn('use options instead of chrome_options', DeprecationWarning)\n"
     ]
    },
    {
     "data": {
      "application/vnd.jupyter.widget-view+json": {
       "model_id": "ead9fbb9a19f4793a3bbd5959a3d44be",
       "version_major": 2,
       "version_minor": 0
      },
      "text/plain": [
       "HBox(children=(FloatProgress(value=0.0, max=4.0), HTML(value='')))"
      ]
     },
     "metadata": {},
     "output_type": "display_data"
    },
    {
     "name": "stdout",
     "output_type": "stream",
     "text": [
      "\n"
     ]
    },
    {
     "data": {
      "application/vnd.jupyter.widget-view+json": {
       "model_id": "d372650f9e184ee093069a4b94406e52",
       "version_major": 2,
       "version_minor": 0
      },
      "text/plain": [
       "HBox(children=(FloatProgress(value=0.0, max=7.0), HTML(value='')))"
      ]
     },
     "metadata": {},
     "output_type": "display_data"
    },
    {
     "name": "stdout",
     "output_type": "stream",
     "text": [
      "\n"
     ]
    },
    {
     "data": {
      "application/vnd.jupyter.widget-view+json": {
       "model_id": "d2eadcc6f1dc4688aad88385b6bbb185",
       "version_major": 2,
       "version_minor": 0
      },
      "text/plain": [
       "HBox(children=(FloatProgress(value=0.0, max=4.0), HTML(value='')))"
      ]
     },
     "metadata": {},
     "output_type": "display_data"
    },
    {
     "name": "stdout",
     "output_type": "stream",
     "text": [
      "\n"
     ]
    },
    {
     "data": {
      "application/vnd.jupyter.widget-view+json": {
       "model_id": "b54b8198c6734b52b5ae8599ee9f8959",
       "version_major": 2,
       "version_minor": 0
      },
      "text/plain": [
       "HBox(children=(FloatProgress(value=0.0, max=10.0), HTML(value='')))"
      ]
     },
     "metadata": {},
     "output_type": "display_data"
    },
    {
     "name": "stdout",
     "output_type": "stream",
     "text": [
      "\n"
     ]
    },
    {
     "data": {
      "application/vnd.jupyter.widget-view+json": {
       "model_id": "01bc2881bd82463fb3934e4faa110d38",
       "version_major": 2,
       "version_minor": 0
      },
      "text/plain": [
       "HBox(children=(FloatProgress(value=0.0, max=10.0), HTML(value='')))"
      ]
     },
     "metadata": {},
     "output_type": "display_data"
    },
    {
     "name": "stdout",
     "output_type": "stream",
     "text": [
      "\n"
     ]
    },
    {
     "name": "stderr",
     "output_type": "stream",
     "text": [
      "/opt/conda/lib/python3.7/site-packages/selenium/webdriver/chrome/webdriver.py:50: DeprecationWarning: use options instead of chrome_options\n",
      "  warnings.warn('use options instead of chrome_options', DeprecationWarning)\n"
     ]
    },
    {
     "data": {
      "application/vnd.jupyter.widget-view+json": {
       "model_id": "7ca8b2146442451b90e0be8b14e4b7b3",
       "version_major": 2,
       "version_minor": 0
      },
      "text/plain": [
       "HBox(children=(FloatProgress(value=0.0, max=1.0), HTML(value='')))"
      ]
     },
     "metadata": {},
     "output_type": "display_data"
    },
    {
     "name": "stdout",
     "output_type": "stream",
     "text": [
      "\n"
     ]
    },
    {
     "data": {
      "application/vnd.jupyter.widget-view+json": {
       "model_id": "549fed5eb8da462f88772d38a802cc3c",
       "version_major": 2,
       "version_minor": 0
      },
      "text/plain": [
       "HBox(children=(FloatProgress(value=1.0, bar_style='info', max=1.0), HTML(value='')))"
      ]
     },
     "metadata": {},
     "output_type": "display_data"
    },
    {
     "name": "stdout",
     "output_type": "stream",
     "text": [
      "\n"
     ]
    },
    {
     "data": {
      "application/vnd.jupyter.widget-view+json": {
       "model_id": "391ef8f84eb64f6eb9a281cde19ce83d",
       "version_major": 2,
       "version_minor": 0
      },
      "text/plain": [
       "HBox(children=(FloatProgress(value=1.0, bar_style='info', max=1.0), HTML(value='')))"
      ]
     },
     "metadata": {},
     "output_type": "display_data"
    },
    {
     "name": "stdout",
     "output_type": "stream",
     "text": [
      "\n"
     ]
    },
    {
     "data": {
      "application/vnd.jupyter.widget-view+json": {
       "model_id": "f157159edc3e42c6b1ab3b6f0ceb6e17",
       "version_major": 2,
       "version_minor": 0
      },
      "text/plain": [
       "HBox(children=(FloatProgress(value=1.0, bar_style='info', max=1.0), HTML(value='')))"
      ]
     },
     "metadata": {},
     "output_type": "display_data"
    },
    {
     "name": "stdout",
     "output_type": "stream",
     "text": [
      "\n"
     ]
    },
    {
     "data": {
      "application/vnd.jupyter.widget-view+json": {
       "model_id": "0160af4732e34e579285d09303908572",
       "version_major": 2,
       "version_minor": 0
      },
      "text/plain": [
       "HBox(children=(FloatProgress(value=1.0, bar_style='info', max=1.0), HTML(value='')))"
      ]
     },
     "metadata": {},
     "output_type": "display_data"
    },
    {
     "name": "stdout",
     "output_type": "stream",
     "text": [
      "\n"
     ]
    },
    {
     "name": "stderr",
     "output_type": "stream",
     "text": [
      "/opt/conda/lib/python3.7/site-packages/selenium/webdriver/chrome/webdriver.py:50: DeprecationWarning: use options instead of chrome_options\n",
      "  warnings.warn('use options instead of chrome_options', DeprecationWarning)\n"
     ]
    },
    {
     "data": {
      "application/vnd.jupyter.widget-view+json": {
       "model_id": "f4083fa7f6f443eaa29e466f57c8b439",
       "version_major": 2,
       "version_minor": 0
      },
      "text/plain": [
       "HBox(children=(FloatProgress(value=1.0, bar_style='info', max=1.0), HTML(value='')))"
      ]
     },
     "metadata": {},
     "output_type": "display_data"
    },
    {
     "name": "stdout",
     "output_type": "stream",
     "text": [
      "\n"
     ]
    },
    {
     "data": {
      "application/vnd.jupyter.widget-view+json": {
       "model_id": "49024710d425464cbff0c7fd1297383d",
       "version_major": 2,
       "version_minor": 0
      },
      "text/plain": [
       "HBox(children=(FloatProgress(value=1.0, bar_style='info', max=1.0), HTML(value='')))"
      ]
     },
     "metadata": {},
     "output_type": "display_data"
    },
    {
     "name": "stdout",
     "output_type": "stream",
     "text": [
      "\n"
     ]
    },
    {
     "data": {
      "application/vnd.jupyter.widget-view+json": {
       "model_id": "ca6f34fb398143d48550d804c7a511ce",
       "version_major": 2,
       "version_minor": 0
      },
      "text/plain": [
       "HBox(children=(FloatProgress(value=1.0, bar_style='info', max=1.0), HTML(value='')))"
      ]
     },
     "metadata": {},
     "output_type": "display_data"
    },
    {
     "name": "stdout",
     "output_type": "stream",
     "text": [
      "\n"
     ]
    },
    {
     "data": {
      "application/vnd.jupyter.widget-view+json": {
       "model_id": "47f67c047ad0498d9f798d2878e82332",
       "version_major": 2,
       "version_minor": 0
      },
      "text/plain": [
       "HBox(children=(FloatProgress(value=1.0, bar_style='info', max=1.0), HTML(value='')))"
      ]
     },
     "metadata": {},
     "output_type": "display_data"
    },
    {
     "name": "stdout",
     "output_type": "stream",
     "text": [
      "\n"
     ]
    },
    {
     "data": {
      "application/vnd.jupyter.widget-view+json": {
       "model_id": "d2f5d8212c9c42f1941a189c07dd5c70",
       "version_major": 2,
       "version_minor": 0
      },
      "text/plain": [
       "HBox(children=(FloatProgress(value=1.0, bar_style='info', max=1.0), HTML(value='')))"
      ]
     },
     "metadata": {},
     "output_type": "display_data"
    },
    {
     "name": "stdout",
     "output_type": "stream",
     "text": [
      "\n"
     ]
    },
    {
     "name": "stderr",
     "output_type": "stream",
     "text": [
      "/opt/conda/lib/python3.7/site-packages/selenium/webdriver/chrome/webdriver.py:50: DeprecationWarning: use options instead of chrome_options\n",
      "  warnings.warn('use options instead of chrome_options', DeprecationWarning)\n"
     ]
    },
    {
     "data": {
      "application/vnd.jupyter.widget-view+json": {
       "model_id": "dd49184949c145eba023bc65a7f1e787",
       "version_major": 2,
       "version_minor": 0
      },
      "text/plain": [
       "HBox(children=(FloatProgress(value=1.0, bar_style='info', max=1.0), HTML(value='')))"
      ]
     },
     "metadata": {},
     "output_type": "display_data"
    },
    {
     "name": "stdout",
     "output_type": "stream",
     "text": [
      "\n"
     ]
    },
    {
     "data": {
      "application/vnd.jupyter.widget-view+json": {
       "model_id": "d158cc2ff365425790d06628f833eff5",
       "version_major": 2,
       "version_minor": 0
      },
      "text/plain": [
       "HBox(children=(FloatProgress(value=1.0, bar_style='info', max=1.0), HTML(value='')))"
      ]
     },
     "metadata": {},
     "output_type": "display_data"
    },
    {
     "name": "stdout",
     "output_type": "stream",
     "text": [
      "\n"
     ]
    },
    {
     "data": {
      "application/vnd.jupyter.widget-view+json": {
       "model_id": "3eae0b94830a4efa88cf28d5220abb6e",
       "version_major": 2,
       "version_minor": 0
      },
      "text/plain": [
       "HBox(children=(FloatProgress(value=1.0, bar_style='info', max=1.0), HTML(value='')))"
      ]
     },
     "metadata": {},
     "output_type": "display_data"
    },
    {
     "name": "stdout",
     "output_type": "stream",
     "text": [
      "\n"
     ]
    },
    {
     "data": {
      "application/vnd.jupyter.widget-view+json": {
       "model_id": "4c902b0a5987423e953522e8457cf9b7",
       "version_major": 2,
       "version_minor": 0
      },
      "text/plain": [
       "HBox(children=(FloatProgress(value=1.0, bar_style='info', max=1.0), HTML(value='')))"
      ]
     },
     "metadata": {},
     "output_type": "display_data"
    },
    {
     "name": "stdout",
     "output_type": "stream",
     "text": [
      "\n"
     ]
    },
    {
     "data": {
      "application/vnd.jupyter.widget-view+json": {
       "model_id": "b48e14df8f7c452bac9c57ea3fceb216",
       "version_major": 2,
       "version_minor": 0
      },
      "text/plain": [
       "HBox(children=(FloatProgress(value=1.0, bar_style='info', max=1.0), HTML(value='')))"
      ]
     },
     "metadata": {},
     "output_type": "display_data"
    },
    {
     "name": "stdout",
     "output_type": "stream",
     "text": [
      "\n",
      "\n"
     ]
    },
    {
     "data": {
      "application/vnd.jupyter.widget-view+json": {
       "model_id": "05ac89f64cab4386916e8a431dfa76ff",
       "version_major": 2,
       "version_minor": 0
      },
      "text/plain": [
       "HBox(children=(FloatProgress(value=0.0, description='Preprocessing', max=20.0, style=ProgressStyle(description…"
      ]
     },
     "metadata": {},
     "output_type": "display_data"
    },
    {
     "name": "stdout",
     "output_type": "stream",
     "text": [
      "\n",
      "end :: 점유 | 진입 | 신용 | 영화 | 느낌 | 비빔밥 | 대화 | 외국 | 멤버 | 관점\n",
      "6번째 반복 중\n",
      "['keyword/keyword_0', 'keyword/keyword_1', 'keyword/keyword_10', 'keyword/keyword_100', 'keyword/keyword_101', 'keyword/keyword_102', 'keyword/keyword_103', 'keyword/keyword_104', 'keyword/keyword_105', 'keyword/keyword_106', 'keyword/keyword_107', 'keyword/keyword_108', 'keyword/keyword_109', 'keyword/keyword_11', 'keyword/keyword_110', 'keyword/keyword_111', 'keyword/keyword_112', 'keyword/keyword_113', 'keyword/keyword_114', 'keyword/keyword_115', 'keyword/keyword_116', 'keyword/keyword_117', 'keyword/keyword_118', 'keyword/keyword_119', 'keyword/keyword_12', 'keyword/keyword_120', 'keyword/keyword_121', 'keyword/keyword_122', 'keyword/keyword_123', 'keyword/keyword_124', 'keyword/keyword_125', 'keyword/keyword_126', 'keyword/keyword_127', 'keyword/keyword_128', 'keyword/keyword_129', 'keyword/keyword_13', 'keyword/keyword_130', 'keyword/keyword_131', 'keyword/keyword_132', 'keyword/keyword_133', 'keyword/keyword_134', 'keyword/keyword_135', 'keyword/keyword_136', 'keyword/keyword_137', 'keyword/keyword_138', 'keyword/keyword_139', 'keyword/keyword_14', 'keyword/keyword_15', 'keyword/keyword_16', 'keyword/keyword_17', 'keyword/keyword_18', 'keyword/keyword_19', 'keyword/keyword_2', 'keyword/keyword_20', 'keyword/keyword_21', 'keyword/keyword_22', 'keyword/keyword_23', 'keyword/keyword_24', 'keyword/keyword_25', 'keyword/keyword_26', 'keyword/keyword_27', 'keyword/keyword_28', 'keyword/keyword_29', 'keyword/keyword_3', 'keyword/keyword_30', 'keyword/keyword_31', 'keyword/keyword_32', 'keyword/keyword_33', 'keyword/keyword_34', 'keyword/keyword_35', 'keyword/keyword_36', 'keyword/keyword_37', 'keyword/keyword_38', 'keyword/keyword_39', 'keyword/keyword_4', 'keyword/keyword_40', 'keyword/keyword_41', 'keyword/keyword_42', 'keyword/keyword_43', 'keyword/keyword_44', 'keyword/keyword_45', 'keyword/keyword_46', 'keyword/keyword_47', 'keyword/keyword_48', 'keyword/keyword_49', 'keyword/keyword_5', 'keyword/keyword_50', 'keyword/keyword_51', 'keyword/keyword_52', 'keyword/keyword_53', 'keyword/keyword_54', 'keyword/keyword_55', 'keyword/keyword_56', 'keyword/keyword_57', 'keyword/keyword_58', 'keyword/keyword_59', 'keyword/keyword_6', 'keyword/keyword_60', 'keyword/keyword_61', 'keyword/keyword_62', 'keyword/keyword_63', 'keyword/keyword_64', 'keyword/keyword_65', 'keyword/keyword_66', 'keyword/keyword_67', 'keyword/keyword_68', 'keyword/keyword_69', 'keyword/keyword_7', 'keyword/keyword_70', 'keyword/keyword_71', 'keyword/keyword_72', 'keyword/keyword_73', 'keyword/keyword_74', 'keyword/keyword_75', 'keyword/keyword_76', 'keyword/keyword_77', 'keyword/keyword_78', 'keyword/keyword_79', 'keyword/keyword_8', 'keyword/keyword_80', 'keyword/keyword_81', 'keyword/keyword_82', 'keyword/keyword_83', 'keyword/keyword_84', 'keyword/keyword_85', 'keyword/keyword_86', 'keyword/keyword_87', 'keyword/keyword_88', 'keyword/keyword_89', 'keyword/keyword_9', 'keyword/keyword_90', 'keyword/keyword_91', 'keyword/keyword_92', 'keyword/keyword_93', 'keyword/keyword_94', 'keyword/keyword_95', 'keyword/keyword_96', 'keyword/keyword_97', 'keyword/keyword_98', 'keyword/keyword_99']\n",
      "140\n",
      "\n",
      "start :: 점유 | 진입 | 신용 | 영화 | 느낌 | 비빔밥 | 대화 | 외국 | 멤버 | 관점+\"음식 건강\"\n"
     ]
    },
    {
     "data": {
      "application/vnd.jupyter.widget-view+json": {
       "model_id": "a1dc62503a234757a866c09948b33c70",
       "version_major": 2,
       "version_minor": 0
      },
      "text/plain": [
       "HBox(children=(FloatProgress(value=0.0, max=20.0), HTML(value='')))"
      ]
     },
     "metadata": {},
     "output_type": "display_data"
    },
    {
     "name": "stdout",
     "output_type": "stream",
     "text": [
      "\n"
     ]
    },
    {
     "data": {
      "application/vnd.jupyter.widget-view+json": {
       "model_id": "469f1089399d4d65b15d9f63a0271368",
       "version_major": 2,
       "version_minor": 0
      },
      "text/plain": [
       "HBox(children=(FloatProgress(value=0.0, max=20.0), HTML(value='')))"
      ]
     },
     "metadata": {},
     "output_type": "display_data"
    },
    {
     "name": "stderr",
     "output_type": "stream",
     "text": [
      "/opt/conda/lib/python3.7/site-packages/selenium/webdriver/chrome/webdriver.py:50: DeprecationWarning: use options instead of chrome_options\n",
      "  warnings.warn('use options instead of chrome_options', DeprecationWarning)\n"
     ]
    },
    {
     "data": {
      "application/vnd.jupyter.widget-view+json": {
       "model_id": "7d6817fdeb4544adb431bf33ad4cea56",
       "version_major": 2,
       "version_minor": 0
      },
      "text/plain": [
       "HBox(children=(FloatProgress(value=0.0, max=6.0), HTML(value='')))"
      ]
     },
     "metadata": {},
     "output_type": "display_data"
    },
    {
     "name": "stdout",
     "output_type": "stream",
     "text": [
      "\n"
     ]
    },
    {
     "data": {
      "application/vnd.jupyter.widget-view+json": {
       "model_id": "f91bc3cea3ad400794a0949bcc278525",
       "version_major": 2,
       "version_minor": 0
      },
      "text/plain": [
       "HBox(children=(FloatProgress(value=0.0, max=6.0), HTML(value='')))"
      ]
     },
     "metadata": {},
     "output_type": "display_data"
    },
    {
     "name": "stdout",
     "output_type": "stream",
     "text": [
      "\n"
     ]
    },
    {
     "data": {
      "application/vnd.jupyter.widget-view+json": {
       "model_id": "820f79870424408a9d8354d2c853a03e",
       "version_major": 2,
       "version_minor": 0
      },
      "text/plain": [
       "HBox(children=(FloatProgress(value=0.0, max=7.0), HTML(value='')))"
      ]
     },
     "metadata": {},
     "output_type": "display_data"
    },
    {
     "name": "stdout",
     "output_type": "stream",
     "text": [
      "\n"
     ]
    },
    {
     "data": {
      "application/vnd.jupyter.widget-view+json": {
       "model_id": "4abe45d24ed04f77971bbb572deda2f5",
       "version_major": 2,
       "version_minor": 0
      },
      "text/plain": [
       "HBox(children=(FloatProgress(value=0.0, max=6.0), HTML(value='')))"
      ]
     },
     "metadata": {},
     "output_type": "display_data"
    },
    {
     "name": "stdout",
     "output_type": "stream",
     "text": [
      "\n"
     ]
    },
    {
     "data": {
      "application/vnd.jupyter.widget-view+json": {
       "model_id": "cdde3a1625134e37ada9e8569d313ce1",
       "version_major": 2,
       "version_minor": 0
      },
      "text/plain": [
       "HBox(children=(FloatProgress(value=0.0, max=9.0), HTML(value='')))"
      ]
     },
     "metadata": {},
     "output_type": "display_data"
    },
    {
     "name": "stdout",
     "output_type": "stream",
     "text": [
      "\n"
     ]
    },
    {
     "name": "stderr",
     "output_type": "stream",
     "text": [
      "/opt/conda/lib/python3.7/site-packages/selenium/webdriver/chrome/webdriver.py:50: DeprecationWarning: use options instead of chrome_options\n",
      "  warnings.warn('use options instead of chrome_options', DeprecationWarning)\n"
     ]
    },
    {
     "data": {
      "application/vnd.jupyter.widget-view+json": {
       "model_id": "7bc68b79e663411b951c2d65943019b3",
       "version_major": 2,
       "version_minor": 0
      },
      "text/plain": [
       "HBox(children=(FloatProgress(value=0.0, max=10.0), HTML(value='')))"
      ]
     },
     "metadata": {},
     "output_type": "display_data"
    },
    {
     "name": "stdout",
     "output_type": "stream",
     "text": [
      "\n"
     ]
    },
    {
     "data": {
      "application/vnd.jupyter.widget-view+json": {
       "model_id": "17e62e20c82c4746b7651eba10209917",
       "version_major": 2,
       "version_minor": 0
      },
      "text/plain": [
       "HBox(children=(FloatProgress(value=0.0, max=7.0), HTML(value='')))"
      ]
     },
     "metadata": {},
     "output_type": "display_data"
    },
    {
     "name": "stdout",
     "output_type": "stream",
     "text": [
      "\n"
     ]
    },
    {
     "data": {
      "application/vnd.jupyter.widget-view+json": {
       "model_id": "18537c5505744781a8b95a6c8f9bffce",
       "version_major": 2,
       "version_minor": 0
      },
      "text/plain": [
       "HBox(children=(FloatProgress(value=1.0, bar_style='info', max=1.0), HTML(value='')))"
      ]
     },
     "metadata": {},
     "output_type": "display_data"
    },
    {
     "name": "stdout",
     "output_type": "stream",
     "text": [
      "\n"
     ]
    },
    {
     "data": {
      "application/vnd.jupyter.widget-view+json": {
       "model_id": "8808ed42c650459e8968eff4ea1ae1ba",
       "version_major": 2,
       "version_minor": 0
      },
      "text/plain": [
       "HBox(children=(FloatProgress(value=1.0, bar_style='info', max=1.0), HTML(value='')))"
      ]
     },
     "metadata": {},
     "output_type": "display_data"
    },
    {
     "name": "stdout",
     "output_type": "stream",
     "text": [
      "\n"
     ]
    },
    {
     "data": {
      "application/vnd.jupyter.widget-view+json": {
       "model_id": "830b908e59324af195efc48708c3edcf",
       "version_major": 2,
       "version_minor": 0
      },
      "text/plain": [
       "HBox(children=(FloatProgress(value=1.0, bar_style='info', max=1.0), HTML(value='')))"
      ]
     },
     "metadata": {},
     "output_type": "display_data"
    },
    {
     "name": "stdout",
     "output_type": "stream",
     "text": [
      "\n"
     ]
    },
    {
     "name": "stderr",
     "output_type": "stream",
     "text": [
      "/opt/conda/lib/python3.7/site-packages/selenium/webdriver/chrome/webdriver.py:50: DeprecationWarning: use options instead of chrome_options\n",
      "  warnings.warn('use options instead of chrome_options', DeprecationWarning)\n"
     ]
    },
    {
     "data": {
      "application/vnd.jupyter.widget-view+json": {
       "model_id": "c5dbc7ee35fc44d8bdc2fdcfe941ac53",
       "version_major": 2,
       "version_minor": 0
      },
      "text/plain": [
       "HBox(children=(FloatProgress(value=1.0, bar_style='info', max=1.0), HTML(value='')))"
      ]
     },
     "metadata": {},
     "output_type": "display_data"
    },
    {
     "name": "stdout",
     "output_type": "stream",
     "text": [
      "\n"
     ]
    },
    {
     "data": {
      "application/vnd.jupyter.widget-view+json": {
       "model_id": "3aab177488ae4e57b9a952bce6faed58",
       "version_major": 2,
       "version_minor": 0
      },
      "text/plain": [
       "HBox(children=(FloatProgress(value=1.0, bar_style='info', max=1.0), HTML(value='')))"
      ]
     },
     "metadata": {},
     "output_type": "display_data"
    },
    {
     "name": "stdout",
     "output_type": "stream",
     "text": [
      "\n"
     ]
    },
    {
     "data": {
      "application/vnd.jupyter.widget-view+json": {
       "model_id": "d321b352bc024b0282aaf97dc2deae71",
       "version_major": 2,
       "version_minor": 0
      },
      "text/plain": [
       "HBox(children=(FloatProgress(value=1.0, bar_style='info', max=1.0), HTML(value='')))"
      ]
     },
     "metadata": {},
     "output_type": "display_data"
    },
    {
     "name": "stdout",
     "output_type": "stream",
     "text": [
      "\n"
     ]
    },
    {
     "data": {
      "application/vnd.jupyter.widget-view+json": {
       "model_id": "8646669c3c934b7bbe08ff3c55466d17",
       "version_major": 2,
       "version_minor": 0
      },
      "text/plain": [
       "HBox(children=(FloatProgress(value=1.0, bar_style='info', max=1.0), HTML(value='')))"
      ]
     },
     "metadata": {},
     "output_type": "display_data"
    },
    {
     "name": "stdout",
     "output_type": "stream",
     "text": [
      "\n"
     ]
    },
    {
     "data": {
      "application/vnd.jupyter.widget-view+json": {
       "model_id": "5de3171c549647bd81947d1527f412a5",
       "version_major": 2,
       "version_minor": 0
      },
      "text/plain": [
       "HBox(children=(FloatProgress(value=1.0, bar_style='info', max=1.0), HTML(value='')))"
      ]
     },
     "metadata": {},
     "output_type": "display_data"
    },
    {
     "name": "stdout",
     "output_type": "stream",
     "text": [
      "\n"
     ]
    },
    {
     "name": "stderr",
     "output_type": "stream",
     "text": [
      "/opt/conda/lib/python3.7/site-packages/selenium/webdriver/chrome/webdriver.py:50: DeprecationWarning: use options instead of chrome_options\n",
      "  warnings.warn('use options instead of chrome_options', DeprecationWarning)\n"
     ]
    },
    {
     "data": {
      "application/vnd.jupyter.widget-view+json": {
       "model_id": "01b6c079ebcf40a69bf44806e723fb14",
       "version_major": 2,
       "version_minor": 0
      },
      "text/plain": [
       "HBox(children=(FloatProgress(value=1.0, bar_style='info', max=1.0), HTML(value='')))"
      ]
     },
     "metadata": {},
     "output_type": "display_data"
    },
    {
     "name": "stdout",
     "output_type": "stream",
     "text": [
      "\n"
     ]
    },
    {
     "data": {
      "application/vnd.jupyter.widget-view+json": {
       "model_id": "a68919a3302340c6a9155abc55f63d96",
       "version_major": 2,
       "version_minor": 0
      },
      "text/plain": [
       "HBox(children=(FloatProgress(value=1.0, bar_style='info', max=1.0), HTML(value='')))"
      ]
     },
     "metadata": {},
     "output_type": "display_data"
    },
    {
     "name": "stdout",
     "output_type": "stream",
     "text": [
      "\n"
     ]
    },
    {
     "data": {
      "application/vnd.jupyter.widget-view+json": {
       "model_id": "e14a81bc357f4b9db3b7375eca299c4d",
       "version_major": 2,
       "version_minor": 0
      },
      "text/plain": [
       "HBox(children=(FloatProgress(value=1.0, bar_style='info', max=1.0), HTML(value='')))"
      ]
     },
     "metadata": {},
     "output_type": "display_data"
    },
    {
     "name": "stdout",
     "output_type": "stream",
     "text": [
      "\n"
     ]
    },
    {
     "data": {
      "application/vnd.jupyter.widget-view+json": {
       "model_id": "bce6ed962dba49d9ac180c77a3e789ea",
       "version_major": 2,
       "version_minor": 0
      },
      "text/plain": [
       "HBox(children=(FloatProgress(value=1.0, bar_style='info', max=1.0), HTML(value='')))"
      ]
     },
     "metadata": {},
     "output_type": "display_data"
    },
    {
     "name": "stdout",
     "output_type": "stream",
     "text": [
      "\n"
     ]
    },
    {
     "data": {
      "application/vnd.jupyter.widget-view+json": {
       "model_id": "46c8e896e6dd448282f986988f8d7c40",
       "version_major": 2,
       "version_minor": 0
      },
      "text/plain": [
       "HBox(children=(FloatProgress(value=1.0, bar_style='info', max=1.0), HTML(value='')))"
      ]
     },
     "metadata": {},
     "output_type": "display_data"
    },
    {
     "name": "stdout",
     "output_type": "stream",
     "text": [
      "\n",
      "\n"
     ]
    },
    {
     "data": {
      "application/vnd.jupyter.widget-view+json": {
       "model_id": "bae3b804e427437abf0f05d04c08ea65",
       "version_major": 2,
       "version_minor": 0
      },
      "text/plain": [
       "HBox(children=(FloatProgress(value=0.0, description='Preprocessing', max=20.0, style=ProgressStyle(description…"
      ]
     },
     "metadata": {},
     "output_type": "display_data"
    },
    {
     "name": "stdout",
     "output_type": "stream",
     "text": [
      "\n",
      "end :: 공연 | 장점 | 담양 | 정비 | 흥미 | 차원 | 검토 | 회로 | 등장 | 과장\n",
      "7번째 반복 중\n",
      "['keyword/keyword_0', 'keyword/keyword_1', 'keyword/keyword_10', 'keyword/keyword_100', 'keyword/keyword_101', 'keyword/keyword_102', 'keyword/keyword_103', 'keyword/keyword_104', 'keyword/keyword_105', 'keyword/keyword_106', 'keyword/keyword_107', 'keyword/keyword_108', 'keyword/keyword_109', 'keyword/keyword_11', 'keyword/keyword_110', 'keyword/keyword_111', 'keyword/keyword_112', 'keyword/keyword_113', 'keyword/keyword_114', 'keyword/keyword_115', 'keyword/keyword_116', 'keyword/keyword_117', 'keyword/keyword_118', 'keyword/keyword_119', 'keyword/keyword_12', 'keyword/keyword_120', 'keyword/keyword_121', 'keyword/keyword_122', 'keyword/keyword_123', 'keyword/keyword_124', 'keyword/keyword_125', 'keyword/keyword_126', 'keyword/keyword_127', 'keyword/keyword_128', 'keyword/keyword_129', 'keyword/keyword_13', 'keyword/keyword_130', 'keyword/keyword_131', 'keyword/keyword_132', 'keyword/keyword_133', 'keyword/keyword_134', 'keyword/keyword_135', 'keyword/keyword_136', 'keyword/keyword_137', 'keyword/keyword_138', 'keyword/keyword_139', 'keyword/keyword_14', 'keyword/keyword_140', 'keyword/keyword_15', 'keyword/keyword_16', 'keyword/keyword_17', 'keyword/keyword_18', 'keyword/keyword_19', 'keyword/keyword_2', 'keyword/keyword_20', 'keyword/keyword_21', 'keyword/keyword_22', 'keyword/keyword_23', 'keyword/keyword_24', 'keyword/keyword_25', 'keyword/keyword_26', 'keyword/keyword_27', 'keyword/keyword_28', 'keyword/keyword_29', 'keyword/keyword_3', 'keyword/keyword_30', 'keyword/keyword_31', 'keyword/keyword_32', 'keyword/keyword_33', 'keyword/keyword_34', 'keyword/keyword_35', 'keyword/keyword_36', 'keyword/keyword_37', 'keyword/keyword_38', 'keyword/keyword_39', 'keyword/keyword_4', 'keyword/keyword_40', 'keyword/keyword_41', 'keyword/keyword_42', 'keyword/keyword_43', 'keyword/keyword_44', 'keyword/keyword_45', 'keyword/keyword_46', 'keyword/keyword_47', 'keyword/keyword_48', 'keyword/keyword_49', 'keyword/keyword_5', 'keyword/keyword_50', 'keyword/keyword_51', 'keyword/keyword_52', 'keyword/keyword_53', 'keyword/keyword_54', 'keyword/keyword_55', 'keyword/keyword_56', 'keyword/keyword_57', 'keyword/keyword_58', 'keyword/keyword_59', 'keyword/keyword_6', 'keyword/keyword_60', 'keyword/keyword_61', 'keyword/keyword_62', 'keyword/keyword_63', 'keyword/keyword_64', 'keyword/keyword_65', 'keyword/keyword_66', 'keyword/keyword_67', 'keyword/keyword_68', 'keyword/keyword_69', 'keyword/keyword_7', 'keyword/keyword_70', 'keyword/keyword_71', 'keyword/keyword_72', 'keyword/keyword_73', 'keyword/keyword_74', 'keyword/keyword_75', 'keyword/keyword_76', 'keyword/keyword_77', 'keyword/keyword_78', 'keyword/keyword_79', 'keyword/keyword_8', 'keyword/keyword_80', 'keyword/keyword_81', 'keyword/keyword_82', 'keyword/keyword_83', 'keyword/keyword_84', 'keyword/keyword_85', 'keyword/keyword_86', 'keyword/keyword_87', 'keyword/keyword_88', 'keyword/keyword_89', 'keyword/keyword_9', 'keyword/keyword_90', 'keyword/keyword_91', 'keyword/keyword_92', 'keyword/keyword_93', 'keyword/keyword_94', 'keyword/keyword_95', 'keyword/keyword_96', 'keyword/keyword_97', 'keyword/keyword_98', 'keyword/keyword_99']\n",
      "141\n",
      "\n",
      "start :: 공연 | 장점 | 담양 | 정비 | 흥미 | 차원 | 검토 | 회로 | 등장 | 과장+\"음식 건강\"\n"
     ]
    },
    {
     "data": {
      "application/vnd.jupyter.widget-view+json": {
       "model_id": "904c85c560084115a0c937668c94442b",
       "version_major": 2,
       "version_minor": 0
      },
      "text/plain": [
       "HBox(children=(FloatProgress(value=0.0, max=20.0), HTML(value='')))"
      ]
     },
     "metadata": {},
     "output_type": "display_data"
    },
    {
     "name": "stdout",
     "output_type": "stream",
     "text": [
      "\n"
     ]
    },
    {
     "data": {
      "application/vnd.jupyter.widget-view+json": {
       "model_id": "774bb56c2d344b06826ea19708163ecb",
       "version_major": 2,
       "version_minor": 0
      },
      "text/plain": [
       "HBox(children=(FloatProgress(value=0.0, max=20.0), HTML(value='')))"
      ]
     },
     "metadata": {},
     "output_type": "display_data"
    },
    {
     "name": "stderr",
     "output_type": "stream",
     "text": [
      "/opt/conda/lib/python3.7/site-packages/selenium/webdriver/chrome/webdriver.py:50: DeprecationWarning: use options instead of chrome_options\n",
      "  warnings.warn('use options instead of chrome_options', DeprecationWarning)\n"
     ]
    },
    {
     "data": {
      "application/vnd.jupyter.widget-view+json": {
       "model_id": "69fa33f4ffb24e91b40df37bddfe12bf",
       "version_major": 2,
       "version_minor": 0
      },
      "text/plain": [
       "HBox(children=(FloatProgress(value=0.0, max=3.0), HTML(value='')))"
      ]
     },
     "metadata": {},
     "output_type": "display_data"
    },
    {
     "name": "stdout",
     "output_type": "stream",
     "text": [
      "\n"
     ]
    },
    {
     "data": {
      "application/vnd.jupyter.widget-view+json": {
       "model_id": "1bd47d740b0d450a9c0db00568fefd1d",
       "version_major": 2,
       "version_minor": 0
      },
      "text/plain": [
       "HBox(children=(FloatProgress(value=0.0, max=2.0), HTML(value='')))"
      ]
     },
     "metadata": {},
     "output_type": "display_data"
    },
    {
     "name": "stdout",
     "output_type": "stream",
     "text": [
      "\n"
     ]
    },
    {
     "data": {
      "application/vnd.jupyter.widget-view+json": {
       "model_id": "929f98e22de44e879359cef115908b88",
       "version_major": 2,
       "version_minor": 0
      },
      "text/plain": [
       "HBox(children=(FloatProgress(value=0.0, max=5.0), HTML(value='')))"
      ]
     },
     "metadata": {},
     "output_type": "display_data"
    },
    {
     "name": "stdout",
     "output_type": "stream",
     "text": [
      "\n"
     ]
    },
    {
     "data": {
      "application/vnd.jupyter.widget-view+json": {
       "model_id": "aa1fbd7eaeaf40d9a70341d3ca0a91ca",
       "version_major": 2,
       "version_minor": 0
      },
      "text/plain": [
       "HBox(children=(FloatProgress(value=0.0, max=8.0), HTML(value='')))"
      ]
     },
     "metadata": {},
     "output_type": "display_data"
    },
    {
     "name": "stdout",
     "output_type": "stream",
     "text": [
      "\n"
     ]
    },
    {
     "data": {
      "application/vnd.jupyter.widget-view+json": {
       "model_id": "c958edc7ffb54a3ebefbbb6f8e14b728",
       "version_major": 2,
       "version_minor": 0
      },
      "text/plain": [
       "HBox(children=(FloatProgress(value=0.0, max=5.0), HTML(value='')))"
      ]
     },
     "metadata": {},
     "output_type": "display_data"
    },
    {
     "name": "stdout",
     "output_type": "stream",
     "text": [
      "\n"
     ]
    },
    {
     "name": "stderr",
     "output_type": "stream",
     "text": [
      "/opt/conda/lib/python3.7/site-packages/selenium/webdriver/chrome/webdriver.py:50: DeprecationWarning: use options instead of chrome_options\n",
      "  warnings.warn('use options instead of chrome_options', DeprecationWarning)\n"
     ]
    },
    {
     "data": {
      "application/vnd.jupyter.widget-view+json": {
       "model_id": "da0dc1c0874f41408c426d67e3b7339f",
       "version_major": 2,
       "version_minor": 0
      },
      "text/plain": [
       "HBox(children=(FloatProgress(value=0.0, max=10.0), HTML(value='')))"
      ]
     },
     "metadata": {},
     "output_type": "display_data"
    },
    {
     "name": "stdout",
     "output_type": "stream",
     "text": [
      "\n"
     ]
    },
    {
     "data": {
      "application/vnd.jupyter.widget-view+json": {
       "model_id": "6dddac123aff41128aedb86d8f980fdc",
       "version_major": 2,
       "version_minor": 0
      },
      "text/plain": [
       "HBox(children=(FloatProgress(value=0.0, max=9.0), HTML(value='')))"
      ]
     },
     "metadata": {},
     "output_type": "display_data"
    },
    {
     "name": "stdout",
     "output_type": "stream",
     "text": [
      "\n"
     ]
    },
    {
     "data": {
      "application/vnd.jupyter.widget-view+json": {
       "model_id": "ede26bf3eef84ee596bdf82040437770",
       "version_major": 2,
       "version_minor": 0
      },
      "text/plain": [
       "HBox(children=(FloatProgress(value=0.0, max=10.0), HTML(value='')))"
      ]
     },
     "metadata": {},
     "output_type": "display_data"
    },
    {
     "name": "stdout",
     "output_type": "stream",
     "text": [
      "\n"
     ]
    },
    {
     "data": {
      "application/vnd.jupyter.widget-view+json": {
       "model_id": "056a01f3d24c4597ae656f1bbf21471e",
       "version_major": 2,
       "version_minor": 0
      },
      "text/plain": [
       "HBox(children=(FloatProgress(value=0.0, max=4.0), HTML(value='')))"
      ]
     },
     "metadata": {},
     "output_type": "display_data"
    },
    {
     "name": "stdout",
     "output_type": "stream",
     "text": [
      "\n"
     ]
    },
    {
     "data": {
      "application/vnd.jupyter.widget-view+json": {
       "model_id": "db04d7909f194cec916b7645e51b97e0",
       "version_major": 2,
       "version_minor": 0
      },
      "text/plain": [
       "HBox(children=(FloatProgress(value=1.0, bar_style='info', max=1.0), HTML(value='')))"
      ]
     },
     "metadata": {},
     "output_type": "display_data"
    },
    {
     "name": "stdout",
     "output_type": "stream",
     "text": [
      "\n"
     ]
    },
    {
     "name": "stderr",
     "output_type": "stream",
     "text": [
      "/opt/conda/lib/python3.7/site-packages/selenium/webdriver/chrome/webdriver.py:50: DeprecationWarning: use options instead of chrome_options\n",
      "  warnings.warn('use options instead of chrome_options', DeprecationWarning)\n"
     ]
    },
    {
     "data": {
      "application/vnd.jupyter.widget-view+json": {
       "model_id": "60f752b64a6e4d8b98c51d04059720a7",
       "version_major": 2,
       "version_minor": 0
      },
      "text/plain": [
       "HBox(children=(FloatProgress(value=1.0, bar_style='info', max=1.0), HTML(value='')))"
      ]
     },
     "metadata": {},
     "output_type": "display_data"
    },
    {
     "name": "stdout",
     "output_type": "stream",
     "text": [
      "\n"
     ]
    },
    {
     "data": {
      "application/vnd.jupyter.widget-view+json": {
       "model_id": "b919efb046d34a3b9ba4c46183e4f9b1",
       "version_major": 2,
       "version_minor": 0
      },
      "text/plain": [
       "HBox(children=(FloatProgress(value=1.0, bar_style='info', max=1.0), HTML(value='')))"
      ]
     },
     "metadata": {},
     "output_type": "display_data"
    },
    {
     "name": "stdout",
     "output_type": "stream",
     "text": [
      "\n"
     ]
    },
    {
     "data": {
      "application/vnd.jupyter.widget-view+json": {
       "model_id": "696da88b24464fc1935071a3d46b4ab4",
       "version_major": 2,
       "version_minor": 0
      },
      "text/plain": [
       "HBox(children=(FloatProgress(value=1.0, bar_style='info', max=1.0), HTML(value='')))"
      ]
     },
     "metadata": {},
     "output_type": "display_data"
    },
    {
     "name": "stdout",
     "output_type": "stream",
     "text": [
      "\n"
     ]
    },
    {
     "data": {
      "application/vnd.jupyter.widget-view+json": {
       "model_id": "c6e1a3cff23645a3875b07efe14c1b80",
       "version_major": 2,
       "version_minor": 0
      },
      "text/plain": [
       "HBox(children=(FloatProgress(value=1.0, bar_style='info', max=1.0), HTML(value='')))"
      ]
     },
     "metadata": {},
     "output_type": "display_data"
    },
    {
     "name": "stdout",
     "output_type": "stream",
     "text": [
      "\n"
     ]
    },
    {
     "data": {
      "application/vnd.jupyter.widget-view+json": {
       "model_id": "e42d314b37b64a64abaf96608229c34f",
       "version_major": 2,
       "version_minor": 0
      },
      "text/plain": [
       "HBox(children=(FloatProgress(value=1.0, bar_style='info', max=1.0), HTML(value='')))"
      ]
     },
     "metadata": {},
     "output_type": "display_data"
    },
    {
     "name": "stdout",
     "output_type": "stream",
     "text": [
      "\n"
     ]
    },
    {
     "name": "stderr",
     "output_type": "stream",
     "text": [
      "/opt/conda/lib/python3.7/site-packages/selenium/webdriver/chrome/webdriver.py:50: DeprecationWarning: use options instead of chrome_options\n",
      "  warnings.warn('use options instead of chrome_options', DeprecationWarning)\n"
     ]
    },
    {
     "data": {
      "application/vnd.jupyter.widget-view+json": {
       "model_id": "f6d0ed0937a54ab3bf747d988b1f9efc",
       "version_major": 2,
       "version_minor": 0
      },
      "text/plain": [
       "HBox(children=(FloatProgress(value=1.0, bar_style='info', max=1.0), HTML(value='')))"
      ]
     },
     "metadata": {},
     "output_type": "display_data"
    },
    {
     "name": "stdout",
     "output_type": "stream",
     "text": [
      "\n"
     ]
    },
    {
     "data": {
      "application/vnd.jupyter.widget-view+json": {
       "model_id": "396123e069af4e1ea470d66c5f09327e",
       "version_major": 2,
       "version_minor": 0
      },
      "text/plain": [
       "HBox(children=(FloatProgress(value=1.0, bar_style='info', max=1.0), HTML(value='')))"
      ]
     },
     "metadata": {},
     "output_type": "display_data"
    },
    {
     "name": "stdout",
     "output_type": "stream",
     "text": [
      "\n"
     ]
    },
    {
     "data": {
      "application/vnd.jupyter.widget-view+json": {
       "model_id": "82b0613648ef4687b22466f0b721bfa7",
       "version_major": 2,
       "version_minor": 0
      },
      "text/plain": [
       "HBox(children=(FloatProgress(value=1.0, bar_style='info', max=1.0), HTML(value='')))"
      ]
     },
     "metadata": {},
     "output_type": "display_data"
    },
    {
     "name": "stdout",
     "output_type": "stream",
     "text": [
      "\n"
     ]
    },
    {
     "data": {
      "application/vnd.jupyter.widget-view+json": {
       "model_id": "6c0fafb50cff47bbab8430e6678e2dcc",
       "version_major": 2,
       "version_minor": 0
      },
      "text/plain": [
       "HBox(children=(FloatProgress(value=1.0, bar_style='info', max=1.0), HTML(value='')))"
      ]
     },
     "metadata": {},
     "output_type": "display_data"
    },
    {
     "name": "stdout",
     "output_type": "stream",
     "text": [
      "\n"
     ]
    },
    {
     "data": {
      "application/vnd.jupyter.widget-view+json": {
       "model_id": "83fb40424b6847b0a33970aed1baad07",
       "version_major": 2,
       "version_minor": 0
      },
      "text/plain": [
       "HBox(children=(FloatProgress(value=1.0, bar_style='info', max=1.0), HTML(value='')))"
      ]
     },
     "metadata": {},
     "output_type": "display_data"
    },
    {
     "name": "stdout",
     "output_type": "stream",
     "text": [
      "\n",
      "\n"
     ]
    },
    {
     "data": {
      "application/vnd.jupyter.widget-view+json": {
       "model_id": "c512bfdfac03435690387a45a8070e16",
       "version_major": 2,
       "version_minor": 0
      },
      "text/plain": [
       "HBox(children=(FloatProgress(value=0.0, description='Preprocessing', max=20.0, style=ProgressStyle(description…"
      ]
     },
     "metadata": {},
     "output_type": "display_data"
    },
    {
     "name": "stdout",
     "output_type": "stream",
     "text": [
      "\n",
      "end :: 문헌 | 칼럼 | 디자인 | 프리미엄 | 램버트 | 화재 | 바다 | 민간 | 와인 | 소재\n",
      "8번째 반복 중\n",
      "['keyword/keyword_0', 'keyword/keyword_1', 'keyword/keyword_10', 'keyword/keyword_100', 'keyword/keyword_101', 'keyword/keyword_102', 'keyword/keyword_103', 'keyword/keyword_104', 'keyword/keyword_105', 'keyword/keyword_106', 'keyword/keyword_107', 'keyword/keyword_108', 'keyword/keyword_109', 'keyword/keyword_11', 'keyword/keyword_110', 'keyword/keyword_111', 'keyword/keyword_112', 'keyword/keyword_113', 'keyword/keyword_114', 'keyword/keyword_115', 'keyword/keyword_116', 'keyword/keyword_117', 'keyword/keyword_118', 'keyword/keyword_119', 'keyword/keyword_12', 'keyword/keyword_120', 'keyword/keyword_121', 'keyword/keyword_122', 'keyword/keyword_123', 'keyword/keyword_124', 'keyword/keyword_125', 'keyword/keyword_126', 'keyword/keyword_127', 'keyword/keyword_128', 'keyword/keyword_129', 'keyword/keyword_13', 'keyword/keyword_130', 'keyword/keyword_131', 'keyword/keyword_132', 'keyword/keyword_133', 'keyword/keyword_134', 'keyword/keyword_135', 'keyword/keyword_136', 'keyword/keyword_137', 'keyword/keyword_138', 'keyword/keyword_139', 'keyword/keyword_14', 'keyword/keyword_140', 'keyword/keyword_141', 'keyword/keyword_15', 'keyword/keyword_16', 'keyword/keyword_17', 'keyword/keyword_18', 'keyword/keyword_19', 'keyword/keyword_2', 'keyword/keyword_20', 'keyword/keyword_21', 'keyword/keyword_22', 'keyword/keyword_23', 'keyword/keyword_24', 'keyword/keyword_25', 'keyword/keyword_26', 'keyword/keyword_27', 'keyword/keyword_28', 'keyword/keyword_29', 'keyword/keyword_3', 'keyword/keyword_30', 'keyword/keyword_31', 'keyword/keyword_32', 'keyword/keyword_33', 'keyword/keyword_34', 'keyword/keyword_35', 'keyword/keyword_36', 'keyword/keyword_37', 'keyword/keyword_38', 'keyword/keyword_39', 'keyword/keyword_4', 'keyword/keyword_40', 'keyword/keyword_41', 'keyword/keyword_42', 'keyword/keyword_43', 'keyword/keyword_44', 'keyword/keyword_45', 'keyword/keyword_46', 'keyword/keyword_47', 'keyword/keyword_48', 'keyword/keyword_49', 'keyword/keyword_5', 'keyword/keyword_50', 'keyword/keyword_51', 'keyword/keyword_52', 'keyword/keyword_53', 'keyword/keyword_54', 'keyword/keyword_55', 'keyword/keyword_56', 'keyword/keyword_57', 'keyword/keyword_58', 'keyword/keyword_59', 'keyword/keyword_6', 'keyword/keyword_60', 'keyword/keyword_61', 'keyword/keyword_62', 'keyword/keyword_63', 'keyword/keyword_64', 'keyword/keyword_65', 'keyword/keyword_66', 'keyword/keyword_67', 'keyword/keyword_68', 'keyword/keyword_69', 'keyword/keyword_7', 'keyword/keyword_70', 'keyword/keyword_71', 'keyword/keyword_72', 'keyword/keyword_73', 'keyword/keyword_74', 'keyword/keyword_75', 'keyword/keyword_76', 'keyword/keyword_77', 'keyword/keyword_78', 'keyword/keyword_79', 'keyword/keyword_8', 'keyword/keyword_80', 'keyword/keyword_81', 'keyword/keyword_82', 'keyword/keyword_83', 'keyword/keyword_84', 'keyword/keyword_85', 'keyword/keyword_86', 'keyword/keyword_87', 'keyword/keyword_88', 'keyword/keyword_89', 'keyword/keyword_9', 'keyword/keyword_90', 'keyword/keyword_91', 'keyword/keyword_92', 'keyword/keyword_93', 'keyword/keyword_94', 'keyword/keyword_95', 'keyword/keyword_96', 'keyword/keyword_97', 'keyword/keyword_98', 'keyword/keyword_99']\n",
      "142\n",
      "\n",
      "start :: 문헌 | 칼럼 | 디자인 | 프리미엄 | 램버트 | 화재 | 바다 | 민간 | 와인 | 소재+\"음식 건강\"\n"
     ]
    },
    {
     "data": {
      "application/vnd.jupyter.widget-view+json": {
       "model_id": "87fcff06f4fd4cebb9484c4664cf5d3f",
       "version_major": 2,
       "version_minor": 0
      },
      "text/plain": [
       "HBox(children=(FloatProgress(value=0.0, max=20.0), HTML(value='')))"
      ]
     },
     "metadata": {},
     "output_type": "display_data"
    },
    {
     "name": "stdout",
     "output_type": "stream",
     "text": [
      "\n"
     ]
    },
    {
     "data": {
      "application/vnd.jupyter.widget-view+json": {
       "model_id": "4d29bcdd2d164ccfb9eae5882610dfc4",
       "version_major": 2,
       "version_minor": 0
      },
      "text/plain": [
       "HBox(children=(FloatProgress(value=0.0, max=20.0), HTML(value='')))"
      ]
     },
     "metadata": {},
     "output_type": "display_data"
    },
    {
     "name": "stderr",
     "output_type": "stream",
     "text": [
      "/opt/conda/lib/python3.7/site-packages/selenium/webdriver/chrome/webdriver.py:50: DeprecationWarning: use options instead of chrome_options\n",
      "  warnings.warn('use options instead of chrome_options', DeprecationWarning)\n"
     ]
    },
    {
     "data": {
      "application/vnd.jupyter.widget-view+json": {
       "model_id": "e38b72b98f7a421ba72e525579bcbf1f",
       "version_major": 2,
       "version_minor": 0
      },
      "text/plain": [
       "HBox(children=(FloatProgress(value=0.0, max=6.0), HTML(value='')))"
      ]
     },
     "metadata": {},
     "output_type": "display_data"
    },
    {
     "name": "stdout",
     "output_type": "stream",
     "text": [
      "\n"
     ]
    },
    {
     "data": {
      "application/vnd.jupyter.widget-view+json": {
       "model_id": "4d15cd88cbdd48d3854bc36874e4b018",
       "version_major": 2,
       "version_minor": 0
      },
      "text/plain": [
       "HBox(children=(FloatProgress(value=0.0, max=6.0), HTML(value='')))"
      ]
     },
     "metadata": {},
     "output_type": "display_data"
    },
    {
     "name": "stdout",
     "output_type": "stream",
     "text": [
      "\n"
     ]
    },
    {
     "data": {
      "application/vnd.jupyter.widget-view+json": {
       "model_id": "d29a67cc7b6a436894f81d4e07df8044",
       "version_major": 2,
       "version_minor": 0
      },
      "text/plain": [
       "HBox(children=(FloatProgress(value=0.0, max=10.0), HTML(value='')))"
      ]
     },
     "metadata": {},
     "output_type": "display_data"
    },
    {
     "name": "stdout",
     "output_type": "stream",
     "text": [
      "\n"
     ]
    },
    {
     "data": {
      "application/vnd.jupyter.widget-view+json": {
       "model_id": "7a403eec98e040e7956d495719af06c8",
       "version_major": 2,
       "version_minor": 0
      },
      "text/plain": [
       "HBox(children=(FloatProgress(value=0.0, max=10.0), HTML(value='')))"
      ]
     },
     "metadata": {},
     "output_type": "display_data"
    },
    {
     "name": "stdout",
     "output_type": "stream",
     "text": [
      "\n"
     ]
    },
    {
     "data": {
      "application/vnd.jupyter.widget-view+json": {
       "model_id": "178efb9ad09246adaffe38c045bca5f4",
       "version_major": 2,
       "version_minor": 0
      },
      "text/plain": [
       "HBox(children=(FloatProgress(value=0.0, max=10.0), HTML(value='')))"
      ]
     },
     "metadata": {},
     "output_type": "display_data"
    },
    {
     "name": "stdout",
     "output_type": "stream",
     "text": [
      "\n"
     ]
    },
    {
     "name": "stderr",
     "output_type": "stream",
     "text": [
      "/opt/conda/lib/python3.7/site-packages/selenium/webdriver/chrome/webdriver.py:50: DeprecationWarning: use options instead of chrome_options\n",
      "  warnings.warn('use options instead of chrome_options', DeprecationWarning)\n"
     ]
    },
    {
     "data": {
      "application/vnd.jupyter.widget-view+json": {
       "model_id": "ab56e8fc31ec4a7b88930f7dc871b57b",
       "version_major": 2,
       "version_minor": 0
      },
      "text/plain": [
       "HBox(children=(FloatProgress(value=0.0, max=4.0), HTML(value='')))"
      ]
     },
     "metadata": {},
     "output_type": "display_data"
    },
    {
     "name": "stdout",
     "output_type": "stream",
     "text": [
      "\n"
     ]
    },
    {
     "data": {
      "application/vnd.jupyter.widget-view+json": {
       "model_id": "02c098325be64fc1b3105bb03933f2af",
       "version_major": 2,
       "version_minor": 0
      },
      "text/plain": [
       "HBox(children=(FloatProgress(value=1.0, bar_style='info', max=1.0), HTML(value='')))"
      ]
     },
     "metadata": {},
     "output_type": "display_data"
    },
    {
     "name": "stdout",
     "output_type": "stream",
     "text": [
      "\n"
     ]
    },
    {
     "data": {
      "application/vnd.jupyter.widget-view+json": {
       "model_id": "e712271b062a48a6bbb3514f63632a99",
       "version_major": 2,
       "version_minor": 0
      },
      "text/plain": [
       "HBox(children=(FloatProgress(value=1.0, bar_style='info', max=1.0), HTML(value='')))"
      ]
     },
     "metadata": {},
     "output_type": "display_data"
    },
    {
     "name": "stdout",
     "output_type": "stream",
     "text": [
      "\n"
     ]
    },
    {
     "data": {
      "application/vnd.jupyter.widget-view+json": {
       "model_id": "6c1ce7b71a624bfba8be60f48a9f3edd",
       "version_major": 2,
       "version_minor": 0
      },
      "text/plain": [
       "HBox(children=(FloatProgress(value=1.0, bar_style='info', max=1.0), HTML(value='')))"
      ]
     },
     "metadata": {},
     "output_type": "display_data"
    },
    {
     "name": "stdout",
     "output_type": "stream",
     "text": [
      "\n"
     ]
    },
    {
     "data": {
      "application/vnd.jupyter.widget-view+json": {
       "model_id": "0591cda975f441f38a5663a6a601bfa3",
       "version_major": 2,
       "version_minor": 0
      },
      "text/plain": [
       "HBox(children=(FloatProgress(value=1.0, bar_style='info', max=1.0), HTML(value='')))"
      ]
     },
     "metadata": {},
     "output_type": "display_data"
    },
    {
     "name": "stdout",
     "output_type": "stream",
     "text": [
      "\n"
     ]
    },
    {
     "name": "stderr",
     "output_type": "stream",
     "text": [
      "/opt/conda/lib/python3.7/site-packages/selenium/webdriver/chrome/webdriver.py:50: DeprecationWarning: use options instead of chrome_options\n",
      "  warnings.warn('use options instead of chrome_options', DeprecationWarning)\n"
     ]
    },
    {
     "data": {
      "application/vnd.jupyter.widget-view+json": {
       "model_id": "8dc778d2740c4d90bf1a43d5aeb6207b",
       "version_major": 2,
       "version_minor": 0
      },
      "text/plain": [
       "HBox(children=(FloatProgress(value=1.0, bar_style='info', max=1.0), HTML(value='')))"
      ]
     },
     "metadata": {},
     "output_type": "display_data"
    },
    {
     "name": "stdout",
     "output_type": "stream",
     "text": [
      "\n"
     ]
    },
    {
     "data": {
      "application/vnd.jupyter.widget-view+json": {
       "model_id": "0d1a41fc5ac24aeebb83f8ae1d1b274e",
       "version_major": 2,
       "version_minor": 0
      },
      "text/plain": [
       "HBox(children=(FloatProgress(value=1.0, bar_style='info', max=1.0), HTML(value='')))"
      ]
     },
     "metadata": {},
     "output_type": "display_data"
    },
    {
     "name": "stdout",
     "output_type": "stream",
     "text": [
      "\n"
     ]
    },
    {
     "data": {
      "application/vnd.jupyter.widget-view+json": {
       "model_id": "63542e87e9fe49f886a51862e5190194",
       "version_major": 2,
       "version_minor": 0
      },
      "text/plain": [
       "HBox(children=(FloatProgress(value=1.0, bar_style='info', max=1.0), HTML(value='')))"
      ]
     },
     "metadata": {},
     "output_type": "display_data"
    },
    {
     "name": "stdout",
     "output_type": "stream",
     "text": [
      "\n"
     ]
    },
    {
     "data": {
      "application/vnd.jupyter.widget-view+json": {
       "model_id": "8e2def910f6b416998cb4b6ca18c6b65",
       "version_major": 2,
       "version_minor": 0
      },
      "text/plain": [
       "HBox(children=(FloatProgress(value=1.0, bar_style='info', max=1.0), HTML(value='')))"
      ]
     },
     "metadata": {},
     "output_type": "display_data"
    },
    {
     "name": "stdout",
     "output_type": "stream",
     "text": [
      "\n"
     ]
    },
    {
     "data": {
      "application/vnd.jupyter.widget-view+json": {
       "model_id": "4e14304d2ac64458a860e9e590c978d8",
       "version_major": 2,
       "version_minor": 0
      },
      "text/plain": [
       "HBox(children=(FloatProgress(value=1.0, bar_style='info', max=1.0), HTML(value='')))"
      ]
     },
     "metadata": {},
     "output_type": "display_data"
    },
    {
     "name": "stdout",
     "output_type": "stream",
     "text": [
      "\n"
     ]
    },
    {
     "name": "stderr",
     "output_type": "stream",
     "text": [
      "/opt/conda/lib/python3.7/site-packages/selenium/webdriver/chrome/webdriver.py:50: DeprecationWarning: use options instead of chrome_options\n",
      "  warnings.warn('use options instead of chrome_options', DeprecationWarning)\n"
     ]
    },
    {
     "data": {
      "application/vnd.jupyter.widget-view+json": {
       "model_id": "172badbd71f646189f5416e51a881443",
       "version_major": 2,
       "version_minor": 0
      },
      "text/plain": [
       "HBox(children=(FloatProgress(value=1.0, bar_style='info', max=1.0), HTML(value='')))"
      ]
     },
     "metadata": {},
     "output_type": "display_data"
    },
    {
     "name": "stdout",
     "output_type": "stream",
     "text": [
      "\n"
     ]
    },
    {
     "data": {
      "application/vnd.jupyter.widget-view+json": {
       "model_id": "d1578105083743c68aae5e8b181c52e9",
       "version_major": 2,
       "version_minor": 0
      },
      "text/plain": [
       "HBox(children=(FloatProgress(value=1.0, bar_style='info', max=1.0), HTML(value='')))"
      ]
     },
     "metadata": {},
     "output_type": "display_data"
    },
    {
     "name": "stdout",
     "output_type": "stream",
     "text": [
      "\n"
     ]
    },
    {
     "data": {
      "application/vnd.jupyter.widget-view+json": {
       "model_id": "0fa80529d9af4bd69778b3be6a051f41",
       "version_major": 2,
       "version_minor": 0
      },
      "text/plain": [
       "HBox(children=(FloatProgress(value=1.0, bar_style='info', max=1.0), HTML(value='')))"
      ]
     },
     "metadata": {},
     "output_type": "display_data"
    },
    {
     "name": "stdout",
     "output_type": "stream",
     "text": [
      "\n"
     ]
    },
    {
     "data": {
      "application/vnd.jupyter.widget-view+json": {
       "model_id": "96a17467a2034b63884a6973e19c0929",
       "version_major": 2,
       "version_minor": 0
      },
      "text/plain": [
       "HBox(children=(FloatProgress(value=1.0, bar_style='info', max=1.0), HTML(value='')))"
      ]
     },
     "metadata": {},
     "output_type": "display_data"
    },
    {
     "name": "stdout",
     "output_type": "stream",
     "text": [
      "\n"
     ]
    },
    {
     "data": {
      "application/vnd.jupyter.widget-view+json": {
       "model_id": "b2e60c14e1ea4068889e36e0985be0d2",
       "version_major": 2,
       "version_minor": 0
      },
      "text/plain": [
       "HBox(children=(FloatProgress(value=1.0, bar_style='info', max=1.0), HTML(value='')))"
      ]
     },
     "metadata": {},
     "output_type": "display_data"
    },
    {
     "name": "stdout",
     "output_type": "stream",
     "text": [
      "\n",
      "\n"
     ]
    },
    {
     "data": {
      "application/vnd.jupyter.widget-view+json": {
       "model_id": "b777b535971d458d89555a9cfdc23837",
       "version_major": 2,
       "version_minor": 0
      },
      "text/plain": [
       "HBox(children=(FloatProgress(value=0.0, description='Preprocessing', max=20.0, style=ProgressStyle(description…"
      ]
     },
     "metadata": {},
     "output_type": "display_data"
    },
    {
     "name": "stdout",
     "output_type": "stream",
     "text": [
      "\n",
      "end :: 테일러 | 접근 | 합병 | 진실 | 자체 | 예전 | 여경 | 살균 | 국한 | 녹말\n",
      "9번째 반복 중\n",
      "['keyword/keyword_0', 'keyword/keyword_1', 'keyword/keyword_10', 'keyword/keyword_100', 'keyword/keyword_101', 'keyword/keyword_102', 'keyword/keyword_103', 'keyword/keyword_104', 'keyword/keyword_105', 'keyword/keyword_106', 'keyword/keyword_107', 'keyword/keyword_108', 'keyword/keyword_109', 'keyword/keyword_11', 'keyword/keyword_110', 'keyword/keyword_111', 'keyword/keyword_112', 'keyword/keyword_113', 'keyword/keyword_114', 'keyword/keyword_115', 'keyword/keyword_116', 'keyword/keyword_117', 'keyword/keyword_118', 'keyword/keyword_119', 'keyword/keyword_12', 'keyword/keyword_120', 'keyword/keyword_121', 'keyword/keyword_122', 'keyword/keyword_123', 'keyword/keyword_124', 'keyword/keyword_125', 'keyword/keyword_126', 'keyword/keyword_127', 'keyword/keyword_128', 'keyword/keyword_129', 'keyword/keyword_13', 'keyword/keyword_130', 'keyword/keyword_131', 'keyword/keyword_132', 'keyword/keyword_133', 'keyword/keyword_134', 'keyword/keyword_135', 'keyword/keyword_136', 'keyword/keyword_137', 'keyword/keyword_138', 'keyword/keyword_139', 'keyword/keyword_14', 'keyword/keyword_140', 'keyword/keyword_141', 'keyword/keyword_142', 'keyword/keyword_15', 'keyword/keyword_16', 'keyword/keyword_17', 'keyword/keyword_18', 'keyword/keyword_19', 'keyword/keyword_2', 'keyword/keyword_20', 'keyword/keyword_21', 'keyword/keyword_22', 'keyword/keyword_23', 'keyword/keyword_24', 'keyword/keyword_25', 'keyword/keyword_26', 'keyword/keyword_27', 'keyword/keyword_28', 'keyword/keyword_29', 'keyword/keyword_3', 'keyword/keyword_30', 'keyword/keyword_31', 'keyword/keyword_32', 'keyword/keyword_33', 'keyword/keyword_34', 'keyword/keyword_35', 'keyword/keyword_36', 'keyword/keyword_37', 'keyword/keyword_38', 'keyword/keyword_39', 'keyword/keyword_4', 'keyword/keyword_40', 'keyword/keyword_41', 'keyword/keyword_42', 'keyword/keyword_43', 'keyword/keyword_44', 'keyword/keyword_45', 'keyword/keyword_46', 'keyword/keyword_47', 'keyword/keyword_48', 'keyword/keyword_49', 'keyword/keyword_5', 'keyword/keyword_50', 'keyword/keyword_51', 'keyword/keyword_52', 'keyword/keyword_53', 'keyword/keyword_54', 'keyword/keyword_55', 'keyword/keyword_56', 'keyword/keyword_57', 'keyword/keyword_58', 'keyword/keyword_59', 'keyword/keyword_6', 'keyword/keyword_60', 'keyword/keyword_61', 'keyword/keyword_62', 'keyword/keyword_63', 'keyword/keyword_64', 'keyword/keyword_65', 'keyword/keyword_66', 'keyword/keyword_67', 'keyword/keyword_68', 'keyword/keyword_69', 'keyword/keyword_7', 'keyword/keyword_70', 'keyword/keyword_71', 'keyword/keyword_72', 'keyword/keyword_73', 'keyword/keyword_74', 'keyword/keyword_75', 'keyword/keyword_76', 'keyword/keyword_77', 'keyword/keyword_78', 'keyword/keyword_79', 'keyword/keyword_8', 'keyword/keyword_80', 'keyword/keyword_81', 'keyword/keyword_82', 'keyword/keyword_83', 'keyword/keyword_84', 'keyword/keyword_85', 'keyword/keyword_86', 'keyword/keyword_87', 'keyword/keyword_88', 'keyword/keyword_89', 'keyword/keyword_9', 'keyword/keyword_90', 'keyword/keyword_91', 'keyword/keyword_92', 'keyword/keyword_93', 'keyword/keyword_94', 'keyword/keyword_95', 'keyword/keyword_96', 'keyword/keyword_97', 'keyword/keyword_98', 'keyword/keyword_99']\n",
      "143\n",
      "\n",
      "start :: 테일러 | 접근 | 합병 | 진실 | 자체 | 예전 | 여경 | 살균 | 국한 | 녹말+\"음식 건강\"\n"
     ]
    },
    {
     "data": {
      "application/vnd.jupyter.widget-view+json": {
       "model_id": "4243637634bc4747a9ee383592894c37",
       "version_major": 2,
       "version_minor": 0
      },
      "text/plain": [
       "HBox(children=(FloatProgress(value=0.0, max=20.0), HTML(value='')))"
      ]
     },
     "metadata": {},
     "output_type": "display_data"
    },
    {
     "name": "stdout",
     "output_type": "stream",
     "text": [
      "\n"
     ]
    },
    {
     "data": {
      "application/vnd.jupyter.widget-view+json": {
       "model_id": "5bc1302d7ee2431a9c5a3a5510f0dd16",
       "version_major": 2,
       "version_minor": 0
      },
      "text/plain": [
       "HBox(children=(FloatProgress(value=0.0, max=20.0), HTML(value='')))"
      ]
     },
     "metadata": {},
     "output_type": "display_data"
    },
    {
     "name": "stderr",
     "output_type": "stream",
     "text": [
      "/opt/conda/lib/python3.7/site-packages/selenium/webdriver/chrome/webdriver.py:50: DeprecationWarning: use options instead of chrome_options\n",
      "  warnings.warn('use options instead of chrome_options', DeprecationWarning)\n"
     ]
    },
    {
     "data": {
      "application/vnd.jupyter.widget-view+json": {
       "model_id": "ab7f2c5182104d1a941f48bcb39271b3",
       "version_major": 2,
       "version_minor": 0
      },
      "text/plain": [
       "HBox(children=(FloatProgress(value=0.0, max=3.0), HTML(value='')))"
      ]
     },
     "metadata": {},
     "output_type": "display_data"
    },
    {
     "name": "stdout",
     "output_type": "stream",
     "text": [
      "\n"
     ]
    },
    {
     "data": {
      "application/vnd.jupyter.widget-view+json": {
       "model_id": "40f083d199884a2a950cdea4a3b75068",
       "version_major": 2,
       "version_minor": 0
      },
      "text/plain": [
       "HBox(children=(FloatProgress(value=0.0, max=4.0), HTML(value='')))"
      ]
     },
     "metadata": {},
     "output_type": "display_data"
    },
    {
     "name": "stdout",
     "output_type": "stream",
     "text": [
      "\n"
     ]
    },
    {
     "data": {
      "application/vnd.jupyter.widget-view+json": {
       "model_id": "1f20351b9e584ae89032ac7c9946fdcc",
       "version_major": 2,
       "version_minor": 0
      },
      "text/plain": [
       "HBox(children=(FloatProgress(value=0.0, max=6.0), HTML(value='')))"
      ]
     },
     "metadata": {},
     "output_type": "display_data"
    },
    {
     "name": "stdout",
     "output_type": "stream",
     "text": [
      "\n"
     ]
    },
    {
     "data": {
      "application/vnd.jupyter.widget-view+json": {
       "model_id": "6529551d56354eea94aaa7b64b9d798c",
       "version_major": 2,
       "version_minor": 0
      },
      "text/plain": [
       "HBox(children=(FloatProgress(value=0.0, max=7.0), HTML(value='')))"
      ]
     },
     "metadata": {},
     "output_type": "display_data"
    },
    {
     "name": "stdout",
     "output_type": "stream",
     "text": [
      "\n"
     ]
    },
    {
     "data": {
      "application/vnd.jupyter.widget-view+json": {
       "model_id": "0d9352605a3f4498a43c018d53c15d8e",
       "version_major": 2,
       "version_minor": 0
      },
      "text/plain": [
       "HBox(children=(FloatProgress(value=0.0, max=8.0), HTML(value='')))"
      ]
     },
     "metadata": {},
     "output_type": "display_data"
    },
    {
     "name": "stdout",
     "output_type": "stream",
     "text": [
      "\n"
     ]
    },
    {
     "name": "stderr",
     "output_type": "stream",
     "text": [
      "/opt/conda/lib/python3.7/site-packages/selenium/webdriver/chrome/webdriver.py:50: DeprecationWarning: use options instead of chrome_options\n",
      "  warnings.warn('use options instead of chrome_options', DeprecationWarning)\n"
     ]
    },
    {
     "data": {
      "application/vnd.jupyter.widget-view+json": {
       "model_id": "8f15e4c9e0324e9781f31870a5a980d9",
       "version_major": 2,
       "version_minor": 0
      },
      "text/plain": [
       "HBox(children=(FloatProgress(value=0.0, max=9.0), HTML(value='')))"
      ]
     },
     "metadata": {},
     "output_type": "display_data"
    },
    {
     "name": "stdout",
     "output_type": "stream",
     "text": [
      "\n"
     ]
    },
    {
     "data": {
      "application/vnd.jupyter.widget-view+json": {
       "model_id": "a98799bd9ff944cb9e20231adfb0bbac",
       "version_major": 2,
       "version_minor": 0
      },
      "text/plain": [
       "HBox(children=(FloatProgress(value=0.0, max=10.0), HTML(value='')))"
      ]
     },
     "metadata": {},
     "output_type": "display_data"
    },
    {
     "name": "stdout",
     "output_type": "stream",
     "text": [
      "\n"
     ]
    },
    {
     "data": {
      "application/vnd.jupyter.widget-view+json": {
       "model_id": "464fd4838e9e4c53ab8397f4b1b49497",
       "version_major": 2,
       "version_minor": 0
      },
      "text/plain": [
       "HBox(children=(FloatProgress(value=0.0, max=3.0), HTML(value='')))"
      ]
     },
     "metadata": {},
     "output_type": "display_data"
    },
    {
     "name": "stdout",
     "output_type": "stream",
     "text": [
      "\n"
     ]
    },
    {
     "data": {
      "application/vnd.jupyter.widget-view+json": {
       "model_id": "fb0480ea50c540f2afd2c771d6dde163",
       "version_major": 2,
       "version_minor": 0
      },
      "text/plain": [
       "HBox(children=(FloatProgress(value=1.0, bar_style='info', max=1.0), HTML(value='')))"
      ]
     },
     "metadata": {},
     "output_type": "display_data"
    },
    {
     "name": "stdout",
     "output_type": "stream",
     "text": [
      "\n"
     ]
    },
    {
     "data": {
      "application/vnd.jupyter.widget-view+json": {
       "model_id": "257f7504c2c94150a2d4f3e930d9e049",
       "version_major": 2,
       "version_minor": 0
      },
      "text/plain": [
       "HBox(children=(FloatProgress(value=1.0, bar_style='info', max=1.0), HTML(value='')))"
      ]
     },
     "metadata": {},
     "output_type": "display_data"
    },
    {
     "name": "stdout",
     "output_type": "stream",
     "text": [
      "\n"
     ]
    },
    {
     "name": "stderr",
     "output_type": "stream",
     "text": [
      "/opt/conda/lib/python3.7/site-packages/selenium/webdriver/chrome/webdriver.py:50: DeprecationWarning: use options instead of chrome_options\n",
      "  warnings.warn('use options instead of chrome_options', DeprecationWarning)\n"
     ]
    },
    {
     "data": {
      "application/vnd.jupyter.widget-view+json": {
       "model_id": "475e8466657c4891a99074838708bf86",
       "version_major": 2,
       "version_minor": 0
      },
      "text/plain": [
       "HBox(children=(FloatProgress(value=1.0, bar_style='info', max=1.0), HTML(value='')))"
      ]
     },
     "metadata": {},
     "output_type": "display_data"
    },
    {
     "name": "stdout",
     "output_type": "stream",
     "text": [
      "\n"
     ]
    },
    {
     "data": {
      "application/vnd.jupyter.widget-view+json": {
       "model_id": "e8c05b24eecb4f9fa0a728a6988dc64b",
       "version_major": 2,
       "version_minor": 0
      },
      "text/plain": [
       "HBox(children=(FloatProgress(value=1.0, bar_style='info', max=1.0), HTML(value='')))"
      ]
     },
     "metadata": {},
     "output_type": "display_data"
    },
    {
     "name": "stdout",
     "output_type": "stream",
     "text": [
      "\n"
     ]
    },
    {
     "data": {
      "application/vnd.jupyter.widget-view+json": {
       "model_id": "314d5814dea84a2d8dd8696136f19d73",
       "version_major": 2,
       "version_minor": 0
      },
      "text/plain": [
       "HBox(children=(FloatProgress(value=1.0, bar_style='info', max=1.0), HTML(value='')))"
      ]
     },
     "metadata": {},
     "output_type": "display_data"
    },
    {
     "name": "stdout",
     "output_type": "stream",
     "text": [
      "\n"
     ]
    },
    {
     "data": {
      "application/vnd.jupyter.widget-view+json": {
       "model_id": "dfae23ac635d42168cc516b57676ca61",
       "version_major": 2,
       "version_minor": 0
      },
      "text/plain": [
       "HBox(children=(FloatProgress(value=1.0, bar_style='info', max=1.0), HTML(value='')))"
      ]
     },
     "metadata": {},
     "output_type": "display_data"
    },
    {
     "name": "stdout",
     "output_type": "stream",
     "text": [
      "\n"
     ]
    },
    {
     "data": {
      "application/vnd.jupyter.widget-view+json": {
       "model_id": "80aa71f238dd401faf75695e2783b3c2",
       "version_major": 2,
       "version_minor": 0
      },
      "text/plain": [
       "HBox(children=(FloatProgress(value=1.0, bar_style='info', max=1.0), HTML(value='')))"
      ]
     },
     "metadata": {},
     "output_type": "display_data"
    },
    {
     "name": "stdout",
     "output_type": "stream",
     "text": [
      "\n"
     ]
    },
    {
     "name": "stderr",
     "output_type": "stream",
     "text": [
      "/opt/conda/lib/python3.7/site-packages/selenium/webdriver/chrome/webdriver.py:50: DeprecationWarning: use options instead of chrome_options\n",
      "  warnings.warn('use options instead of chrome_options', DeprecationWarning)\n"
     ]
    },
    {
     "data": {
      "application/vnd.jupyter.widget-view+json": {
       "model_id": "7e33e05e54c848c4becf546b83d9b451",
       "version_major": 2,
       "version_minor": 0
      },
      "text/plain": [
       "HBox(children=(FloatProgress(value=1.0, bar_style='info', max=1.0), HTML(value='')))"
      ]
     },
     "metadata": {},
     "output_type": "display_data"
    },
    {
     "name": "stdout",
     "output_type": "stream",
     "text": [
      "\n"
     ]
    },
    {
     "data": {
      "application/vnd.jupyter.widget-view+json": {
       "model_id": "6ce308d0d81340408ba5747a8d6d95d3",
       "version_major": 2,
       "version_minor": 0
      },
      "text/plain": [
       "HBox(children=(FloatProgress(value=1.0, bar_style='info', max=1.0), HTML(value='')))"
      ]
     },
     "metadata": {},
     "output_type": "display_data"
    },
    {
     "name": "stdout",
     "output_type": "stream",
     "text": [
      "\n"
     ]
    },
    {
     "data": {
      "application/vnd.jupyter.widget-view+json": {
       "model_id": "379e4c0e0f134355991a4e93ac063b27",
       "version_major": 2,
       "version_minor": 0
      },
      "text/plain": [
       "HBox(children=(FloatProgress(value=1.0, bar_style='info', max=1.0), HTML(value='')))"
      ]
     },
     "metadata": {},
     "output_type": "display_data"
    },
    {
     "name": "stdout",
     "output_type": "stream",
     "text": [
      "\n"
     ]
    },
    {
     "data": {
      "application/vnd.jupyter.widget-view+json": {
       "model_id": "c3c448a49c9c442db54bacf17c4bb790",
       "version_major": 2,
       "version_minor": 0
      },
      "text/plain": [
       "HBox(children=(FloatProgress(value=1.0, bar_style='info', max=1.0), HTML(value='')))"
      ]
     },
     "metadata": {},
     "output_type": "display_data"
    },
    {
     "name": "stdout",
     "output_type": "stream",
     "text": [
      "\n"
     ]
    },
    {
     "data": {
      "application/vnd.jupyter.widget-view+json": {
       "model_id": "5df8fffb87514c0db2b034365c3ebd01",
       "version_major": 2,
       "version_minor": 0
      },
      "text/plain": [
       "HBox(children=(FloatProgress(value=1.0, bar_style='info', max=1.0), HTML(value='')))"
      ]
     },
     "metadata": {},
     "output_type": "display_data"
    },
    {
     "name": "stdout",
     "output_type": "stream",
     "text": [
      "\n",
      "\n"
     ]
    },
    {
     "data": {
      "application/vnd.jupyter.widget-view+json": {
       "model_id": "7f63c792ee694376880c2b6967f831c6",
       "version_major": 2,
       "version_minor": 0
      },
      "text/plain": [
       "HBox(children=(FloatProgress(value=0.0, description='Preprocessing', max=20.0, style=ProgressStyle(description…"
      ]
     },
     "metadata": {},
     "output_type": "display_data"
    },
    {
     "name": "stdout",
     "output_type": "stream",
     "text": [
      "\n",
      "end :: 쿠키 | 관절 | 애덤 | 후추 | 내장 | 메이 | 건축 | 로고 | 그동안 | 야생\n",
      "10번째 반복 중\n",
      "['keyword/keyword_0', 'keyword/keyword_1', 'keyword/keyword_10', 'keyword/keyword_100', 'keyword/keyword_101', 'keyword/keyword_102', 'keyword/keyword_103', 'keyword/keyword_104', 'keyword/keyword_105', 'keyword/keyword_106', 'keyword/keyword_107', 'keyword/keyword_108', 'keyword/keyword_109', 'keyword/keyword_11', 'keyword/keyword_110', 'keyword/keyword_111', 'keyword/keyword_112', 'keyword/keyword_113', 'keyword/keyword_114', 'keyword/keyword_115', 'keyword/keyword_116', 'keyword/keyword_117', 'keyword/keyword_118', 'keyword/keyword_119', 'keyword/keyword_12', 'keyword/keyword_120', 'keyword/keyword_121', 'keyword/keyword_122', 'keyword/keyword_123', 'keyword/keyword_124', 'keyword/keyword_125', 'keyword/keyword_126', 'keyword/keyword_127', 'keyword/keyword_128', 'keyword/keyword_129', 'keyword/keyword_13', 'keyword/keyword_130', 'keyword/keyword_131', 'keyword/keyword_132', 'keyword/keyword_133', 'keyword/keyword_134', 'keyword/keyword_135', 'keyword/keyword_136', 'keyword/keyword_137', 'keyword/keyword_138', 'keyword/keyword_139', 'keyword/keyword_14', 'keyword/keyword_140', 'keyword/keyword_141', 'keyword/keyword_142', 'keyword/keyword_143', 'keyword/keyword_15', 'keyword/keyword_16', 'keyword/keyword_17', 'keyword/keyword_18', 'keyword/keyword_19', 'keyword/keyword_2', 'keyword/keyword_20', 'keyword/keyword_21', 'keyword/keyword_22', 'keyword/keyword_23', 'keyword/keyword_24', 'keyword/keyword_25', 'keyword/keyword_26', 'keyword/keyword_27', 'keyword/keyword_28', 'keyword/keyword_29', 'keyword/keyword_3', 'keyword/keyword_30', 'keyword/keyword_31', 'keyword/keyword_32', 'keyword/keyword_33', 'keyword/keyword_34', 'keyword/keyword_35', 'keyword/keyword_36', 'keyword/keyword_37', 'keyword/keyword_38', 'keyword/keyword_39', 'keyword/keyword_4', 'keyword/keyword_40', 'keyword/keyword_41', 'keyword/keyword_42', 'keyword/keyword_43', 'keyword/keyword_44', 'keyword/keyword_45', 'keyword/keyword_46', 'keyword/keyword_47', 'keyword/keyword_48', 'keyword/keyword_49', 'keyword/keyword_5', 'keyword/keyword_50', 'keyword/keyword_51', 'keyword/keyword_52', 'keyword/keyword_53', 'keyword/keyword_54', 'keyword/keyword_55', 'keyword/keyword_56', 'keyword/keyword_57', 'keyword/keyword_58', 'keyword/keyword_59', 'keyword/keyword_6', 'keyword/keyword_60', 'keyword/keyword_61', 'keyword/keyword_62', 'keyword/keyword_63', 'keyword/keyword_64', 'keyword/keyword_65', 'keyword/keyword_66', 'keyword/keyword_67', 'keyword/keyword_68', 'keyword/keyword_69', 'keyword/keyword_7', 'keyword/keyword_70', 'keyword/keyword_71', 'keyword/keyword_72', 'keyword/keyword_73', 'keyword/keyword_74', 'keyword/keyword_75', 'keyword/keyword_76', 'keyword/keyword_77', 'keyword/keyword_78', 'keyword/keyword_79', 'keyword/keyword_8', 'keyword/keyword_80', 'keyword/keyword_81', 'keyword/keyword_82', 'keyword/keyword_83', 'keyword/keyword_84', 'keyword/keyword_85', 'keyword/keyword_86', 'keyword/keyword_87', 'keyword/keyword_88', 'keyword/keyword_89', 'keyword/keyword_9', 'keyword/keyword_90', 'keyword/keyword_91', 'keyword/keyword_92', 'keyword/keyword_93', 'keyword/keyword_94', 'keyword/keyword_95', 'keyword/keyword_96', 'keyword/keyword_97', 'keyword/keyword_98', 'keyword/keyword_99']\n",
      "144\n",
      "\n",
      "start :: 쿠키 | 관절 | 애덤 | 후추 | 내장 | 메이 | 건축 | 로고 | 그동안 | 야생+\"음식 건강\"\n"
     ]
    },
    {
     "data": {
      "application/vnd.jupyter.widget-view+json": {
       "model_id": "b392fd2ef0cd4e5a82e1d889542375e8",
       "version_major": 2,
       "version_minor": 0
      },
      "text/plain": [
       "HBox(children=(FloatProgress(value=0.0, max=20.0), HTML(value='')))"
      ]
     },
     "metadata": {},
     "output_type": "display_data"
    },
    {
     "name": "stdout",
     "output_type": "stream",
     "text": [
      "\n"
     ]
    },
    {
     "data": {
      "application/vnd.jupyter.widget-view+json": {
       "model_id": "f0bf6f3ca9be493fa47ebd1b7d5477f1",
       "version_major": 2,
       "version_minor": 0
      },
      "text/plain": [
       "HBox(children=(FloatProgress(value=0.0, max=20.0), HTML(value='')))"
      ]
     },
     "metadata": {},
     "output_type": "display_data"
    },
    {
     "name": "stderr",
     "output_type": "stream",
     "text": [
      "/opt/conda/lib/python3.7/site-packages/selenium/webdriver/chrome/webdriver.py:50: DeprecationWarning: use options instead of chrome_options\n",
      "  warnings.warn('use options instead of chrome_options', DeprecationWarning)\n"
     ]
    },
    {
     "data": {
      "application/vnd.jupyter.widget-view+json": {
       "model_id": "372a33e305104904bb4832a4e9bf5053",
       "version_major": 2,
       "version_minor": 0
      },
      "text/plain": [
       "HBox(children=(FloatProgress(value=0.0, max=4.0), HTML(value='')))"
      ]
     },
     "metadata": {},
     "output_type": "display_data"
    },
    {
     "name": "stdout",
     "output_type": "stream",
     "text": [
      "\n"
     ]
    },
    {
     "data": {
      "application/vnd.jupyter.widget-view+json": {
       "model_id": "9bcabb6a1c4044b6a0155c55edac3872",
       "version_major": 2,
       "version_minor": 0
      },
      "text/plain": [
       "HBox(children=(FloatProgress(value=0.0, max=2.0), HTML(value='')))"
      ]
     },
     "metadata": {},
     "output_type": "display_data"
    },
    {
     "name": "stdout",
     "output_type": "stream",
     "text": [
      "\n"
     ]
    },
    {
     "data": {
      "application/vnd.jupyter.widget-view+json": {
       "model_id": "c62a1693f9c148ea841518d41a0cde99",
       "version_major": 2,
       "version_minor": 0
      },
      "text/plain": [
       "HBox(children=(FloatProgress(value=0.0, max=2.0), HTML(value='')))"
      ]
     },
     "metadata": {},
     "output_type": "display_data"
    },
    {
     "name": "stdout",
     "output_type": "stream",
     "text": [
      "\n"
     ]
    },
    {
     "data": {
      "application/vnd.jupyter.widget-view+json": {
       "model_id": "f5d0a6ddfaeb47baaef26b543084bbda",
       "version_major": 2,
       "version_minor": 0
      },
      "text/plain": [
       "HBox(children=(FloatProgress(value=0.0, max=3.0), HTML(value='')))"
      ]
     },
     "metadata": {},
     "output_type": "display_data"
    },
    {
     "name": "stdout",
     "output_type": "stream",
     "text": [
      "\n"
     ]
    },
    {
     "data": {
      "application/vnd.jupyter.widget-view+json": {
       "model_id": "a4a65be3cd2c44a69594cf66d442cbb0",
       "version_major": 2,
       "version_minor": 0
      },
      "text/plain": [
       "HBox(children=(FloatProgress(value=0.0, max=8.0), HTML(value='')))"
      ]
     },
     "metadata": {},
     "output_type": "display_data"
    },
    {
     "name": "stdout",
     "output_type": "stream",
     "text": [
      "\n"
     ]
    },
    {
     "name": "stderr",
     "output_type": "stream",
     "text": [
      "/opt/conda/lib/python3.7/site-packages/selenium/webdriver/chrome/webdriver.py:50: DeprecationWarning: use options instead of chrome_options\n",
      "  warnings.warn('use options instead of chrome_options', DeprecationWarning)\n"
     ]
    },
    {
     "data": {
      "application/vnd.jupyter.widget-view+json": {
       "model_id": "c16279c2c2a745e9a0a212b0f57618b0",
       "version_major": 2,
       "version_minor": 0
      },
      "text/plain": [
       "HBox(children=(FloatProgress(value=0.0, max=5.0), HTML(value='')))"
      ]
     },
     "metadata": {},
     "output_type": "display_data"
    },
    {
     "name": "stdout",
     "output_type": "stream",
     "text": [
      "\n"
     ]
    },
    {
     "data": {
      "application/vnd.jupyter.widget-view+json": {
       "model_id": "44ba26ff28c54bcfbc8bcf5f11055292",
       "version_major": 2,
       "version_minor": 0
      },
      "text/plain": [
       "HBox(children=(FloatProgress(value=0.0, max=10.0), HTML(value='')))"
      ]
     },
     "metadata": {},
     "output_type": "display_data"
    },
    {
     "name": "stdout",
     "output_type": "stream",
     "text": [
      "\n"
     ]
    },
    {
     "data": {
      "application/vnd.jupyter.widget-view+json": {
       "model_id": "64de33685c924e068180aac0e3f6e54c",
       "version_major": 2,
       "version_minor": 0
      },
      "text/plain": [
       "HBox(children=(FloatProgress(value=0.0, max=10.0), HTML(value='')))"
      ]
     },
     "metadata": {},
     "output_type": "display_data"
    },
    {
     "name": "stdout",
     "output_type": "stream",
     "text": [
      "\n"
     ]
    },
    {
     "data": {
      "application/vnd.jupyter.widget-view+json": {
       "model_id": "80a62211acdc4b51bfe1a09692e04f69",
       "version_major": 2,
       "version_minor": 0
      },
      "text/plain": [
       "HBox(children=(FloatProgress(value=0.0, max=10.0), HTML(value='')))"
      ]
     },
     "metadata": {},
     "output_type": "display_data"
    },
    {
     "name": "stdout",
     "output_type": "stream",
     "text": [
      "\n"
     ]
    },
    {
     "data": {
      "application/vnd.jupyter.widget-view+json": {
       "model_id": "024967d9d29f4bf698ad12a122a81644",
       "version_major": 2,
       "version_minor": 0
      },
      "text/plain": [
       "HBox(children=(FloatProgress(value=0.0, max=1.0), HTML(value='')))"
      ]
     },
     "metadata": {},
     "output_type": "display_data"
    },
    {
     "name": "stdout",
     "output_type": "stream",
     "text": [
      "\n"
     ]
    },
    {
     "name": "stderr",
     "output_type": "stream",
     "text": [
      "/opt/conda/lib/python3.7/site-packages/selenium/webdriver/chrome/webdriver.py:50: DeprecationWarning: use options instead of chrome_options\n",
      "  warnings.warn('use options instead of chrome_options', DeprecationWarning)\n"
     ]
    },
    {
     "data": {
      "application/vnd.jupyter.widget-view+json": {
       "model_id": "5afb515a902e47baa36e13d325603901",
       "version_major": 2,
       "version_minor": 0
      },
      "text/plain": [
       "HBox(children=(FloatProgress(value=1.0, bar_style='info', max=1.0), HTML(value='')))"
      ]
     },
     "metadata": {},
     "output_type": "display_data"
    },
    {
     "name": "stdout",
     "output_type": "stream",
     "text": [
      "\n"
     ]
    },
    {
     "data": {
      "application/vnd.jupyter.widget-view+json": {
       "model_id": "8724007d159f4b5a864db0142be5be0b",
       "version_major": 2,
       "version_minor": 0
      },
      "text/plain": [
       "HBox(children=(FloatProgress(value=1.0, bar_style='info', max=1.0), HTML(value='')))"
      ]
     },
     "metadata": {},
     "output_type": "display_data"
    },
    {
     "name": "stdout",
     "output_type": "stream",
     "text": [
      "\n"
     ]
    },
    {
     "data": {
      "application/vnd.jupyter.widget-view+json": {
       "model_id": "e06a8b8d960c4dc08912ef737f4be60b",
       "version_major": 2,
       "version_minor": 0
      },
      "text/plain": [
       "HBox(children=(FloatProgress(value=1.0, bar_style='info', max=1.0), HTML(value='')))"
      ]
     },
     "metadata": {},
     "output_type": "display_data"
    },
    {
     "name": "stdout",
     "output_type": "stream",
     "text": [
      "\n"
     ]
    },
    {
     "data": {
      "application/vnd.jupyter.widget-view+json": {
       "model_id": "ee4ecbbe755e404aae8799a7e6efc0a6",
       "version_major": 2,
       "version_minor": 0
      },
      "text/plain": [
       "HBox(children=(FloatProgress(value=1.0, bar_style='info', max=1.0), HTML(value='')))"
      ]
     },
     "metadata": {},
     "output_type": "display_data"
    },
    {
     "name": "stdout",
     "output_type": "stream",
     "text": [
      "\n"
     ]
    },
    {
     "data": {
      "application/vnd.jupyter.widget-view+json": {
       "model_id": "875053c6eaf44ea6abf1bcfc9ec89592",
       "version_major": 2,
       "version_minor": 0
      },
      "text/plain": [
       "HBox(children=(FloatProgress(value=1.0, bar_style='info', max=1.0), HTML(value='')))"
      ]
     },
     "metadata": {},
     "output_type": "display_data"
    },
    {
     "name": "stdout",
     "output_type": "stream",
     "text": [
      "\n"
     ]
    },
    {
     "name": "stderr",
     "output_type": "stream",
     "text": [
      "/opt/conda/lib/python3.7/site-packages/selenium/webdriver/chrome/webdriver.py:50: DeprecationWarning: use options instead of chrome_options\n",
      "  warnings.warn('use options instead of chrome_options', DeprecationWarning)\n"
     ]
    },
    {
     "data": {
      "application/vnd.jupyter.widget-view+json": {
       "model_id": "5d603df4fe9c4ed4a0e4442fdef7ec8f",
       "version_major": 2,
       "version_minor": 0
      },
      "text/plain": [
       "HBox(children=(FloatProgress(value=1.0, bar_style='info', max=1.0), HTML(value='')))"
      ]
     },
     "metadata": {},
     "output_type": "display_data"
    },
    {
     "name": "stdout",
     "output_type": "stream",
     "text": [
      "\n"
     ]
    },
    {
     "data": {
      "application/vnd.jupyter.widget-view+json": {
       "model_id": "0bc8e450df564f0a8b72903272b5958f",
       "version_major": 2,
       "version_minor": 0
      },
      "text/plain": [
       "HBox(children=(FloatProgress(value=1.0, bar_style='info', max=1.0), HTML(value='')))"
      ]
     },
     "metadata": {},
     "output_type": "display_data"
    },
    {
     "name": "stdout",
     "output_type": "stream",
     "text": [
      "\n"
     ]
    },
    {
     "data": {
      "application/vnd.jupyter.widget-view+json": {
       "model_id": "62fc8a56fb094e459f5e4a8cfe8e7cb4",
       "version_major": 2,
       "version_minor": 0
      },
      "text/plain": [
       "HBox(children=(FloatProgress(value=1.0, bar_style='info', max=1.0), HTML(value='')))"
      ]
     },
     "metadata": {},
     "output_type": "display_data"
    },
    {
     "name": "stdout",
     "output_type": "stream",
     "text": [
      "\n"
     ]
    },
    {
     "data": {
      "application/vnd.jupyter.widget-view+json": {
       "model_id": "4d63312c0d1b4aa98cfd24361cc7c305",
       "version_major": 2,
       "version_minor": 0
      },
      "text/plain": [
       "HBox(children=(FloatProgress(value=1.0, bar_style='info', max=1.0), HTML(value='')))"
      ]
     },
     "metadata": {},
     "output_type": "display_data"
    },
    {
     "name": "stdout",
     "output_type": "stream",
     "text": [
      "\n"
     ]
    },
    {
     "data": {
      "application/vnd.jupyter.widget-view+json": {
       "model_id": "724bc40139d7460aacdb153ddc202b90",
       "version_major": 2,
       "version_minor": 0
      },
      "text/plain": [
       "HBox(children=(FloatProgress(value=1.0, bar_style='info', max=1.0), HTML(value='')))"
      ]
     },
     "metadata": {},
     "output_type": "display_data"
    },
    {
     "name": "stdout",
     "output_type": "stream",
     "text": [
      "\n",
      "\n"
     ]
    },
    {
     "data": {
      "application/vnd.jupyter.widget-view+json": {
       "model_id": "4e7e88452d6c404d96a987b044219d25",
       "version_major": 2,
       "version_minor": 0
      },
      "text/plain": [
       "HBox(children=(FloatProgress(value=0.0, description='Preprocessing', max=20.0, style=ProgressStyle(description…"
      ]
     },
     "metadata": {},
     "output_type": "display_data"
    },
    {
     "name": "stdout",
     "output_type": "stream",
     "text": [
      "\n",
      "end :: 가을 | 다리 | 내부 | 바람 | 햇빛 | 효소 | 킬로 | 마당 | 전복 | 찻집\n",
      "11번째 반복 중\n",
      "['keyword/keyword_0', 'keyword/keyword_1', 'keyword/keyword_10', 'keyword/keyword_100', 'keyword/keyword_101', 'keyword/keyword_102', 'keyword/keyword_103', 'keyword/keyword_104', 'keyword/keyword_105', 'keyword/keyword_106', 'keyword/keyword_107', 'keyword/keyword_108', 'keyword/keyword_109', 'keyword/keyword_11', 'keyword/keyword_110', 'keyword/keyword_111', 'keyword/keyword_112', 'keyword/keyword_113', 'keyword/keyword_114', 'keyword/keyword_115', 'keyword/keyword_116', 'keyword/keyword_117', 'keyword/keyword_118', 'keyword/keyword_119', 'keyword/keyword_12', 'keyword/keyword_120', 'keyword/keyword_121', 'keyword/keyword_122', 'keyword/keyword_123', 'keyword/keyword_124', 'keyword/keyword_125', 'keyword/keyword_126', 'keyword/keyword_127', 'keyword/keyword_128', 'keyword/keyword_129', 'keyword/keyword_13', 'keyword/keyword_130', 'keyword/keyword_131', 'keyword/keyword_132', 'keyword/keyword_133', 'keyword/keyword_134', 'keyword/keyword_135', 'keyword/keyword_136', 'keyword/keyword_137', 'keyword/keyword_138', 'keyword/keyword_139', 'keyword/keyword_14', 'keyword/keyword_140', 'keyword/keyword_141', 'keyword/keyword_142', 'keyword/keyword_143', 'keyword/keyword_144', 'keyword/keyword_15', 'keyword/keyword_16', 'keyword/keyword_17', 'keyword/keyword_18', 'keyword/keyword_19', 'keyword/keyword_2', 'keyword/keyword_20', 'keyword/keyword_21', 'keyword/keyword_22', 'keyword/keyword_23', 'keyword/keyword_24', 'keyword/keyword_25', 'keyword/keyword_26', 'keyword/keyword_27', 'keyword/keyword_28', 'keyword/keyword_29', 'keyword/keyword_3', 'keyword/keyword_30', 'keyword/keyword_31', 'keyword/keyword_32', 'keyword/keyword_33', 'keyword/keyword_34', 'keyword/keyword_35', 'keyword/keyword_36', 'keyword/keyword_37', 'keyword/keyword_38', 'keyword/keyword_39', 'keyword/keyword_4', 'keyword/keyword_40', 'keyword/keyword_41', 'keyword/keyword_42', 'keyword/keyword_43', 'keyword/keyword_44', 'keyword/keyword_45', 'keyword/keyword_46', 'keyword/keyword_47', 'keyword/keyword_48', 'keyword/keyword_49', 'keyword/keyword_5', 'keyword/keyword_50', 'keyword/keyword_51', 'keyword/keyword_52', 'keyword/keyword_53', 'keyword/keyword_54', 'keyword/keyword_55', 'keyword/keyword_56', 'keyword/keyword_57', 'keyword/keyword_58', 'keyword/keyword_59', 'keyword/keyword_6', 'keyword/keyword_60', 'keyword/keyword_61', 'keyword/keyword_62', 'keyword/keyword_63', 'keyword/keyword_64', 'keyword/keyword_65', 'keyword/keyword_66', 'keyword/keyword_67', 'keyword/keyword_68', 'keyword/keyword_69', 'keyword/keyword_7', 'keyword/keyword_70', 'keyword/keyword_71', 'keyword/keyword_72', 'keyword/keyword_73', 'keyword/keyword_74', 'keyword/keyword_75', 'keyword/keyword_76', 'keyword/keyword_77', 'keyword/keyword_78', 'keyword/keyword_79', 'keyword/keyword_8', 'keyword/keyword_80', 'keyword/keyword_81', 'keyword/keyword_82', 'keyword/keyword_83', 'keyword/keyword_84', 'keyword/keyword_85', 'keyword/keyword_86', 'keyword/keyword_87', 'keyword/keyword_88', 'keyword/keyword_89', 'keyword/keyword_9', 'keyword/keyword_90', 'keyword/keyword_91', 'keyword/keyword_92', 'keyword/keyword_93', 'keyword/keyword_94', 'keyword/keyword_95', 'keyword/keyword_96', 'keyword/keyword_97', 'keyword/keyword_98', 'keyword/keyword_99']\n",
      "145\n",
      "\n",
      "start :: 가을 | 다리 | 내부 | 바람 | 햇빛 | 효소 | 킬로 | 마당 | 전복 | 찻집+\"음식 건강\"\n"
     ]
    },
    {
     "data": {
      "application/vnd.jupyter.widget-view+json": {
       "model_id": "d1a6281d15214694b8751c72a660b933",
       "version_major": 2,
       "version_minor": 0
      },
      "text/plain": [
       "HBox(children=(FloatProgress(value=0.0, max=20.0), HTML(value='')))"
      ]
     },
     "metadata": {},
     "output_type": "display_data"
    },
    {
     "name": "stdout",
     "output_type": "stream",
     "text": [
      "\n"
     ]
    },
    {
     "data": {
      "application/vnd.jupyter.widget-view+json": {
       "model_id": "bedb0def7c8c458091f7d984a65e41b9",
       "version_major": 2,
       "version_minor": 0
      },
      "text/plain": [
       "HBox(children=(FloatProgress(value=0.0, max=20.0), HTML(value='')))"
      ]
     },
     "metadata": {},
     "output_type": "display_data"
    },
    {
     "name": "stderr",
     "output_type": "stream",
     "text": [
      "/opt/conda/lib/python3.7/site-packages/selenium/webdriver/chrome/webdriver.py:50: DeprecationWarning: use options instead of chrome_options\n",
      "  warnings.warn('use options instead of chrome_options', DeprecationWarning)\n"
     ]
    },
    {
     "data": {
      "application/vnd.jupyter.widget-view+json": {
       "model_id": "fedad3e8ed4a46f2909d4909e88a9216",
       "version_major": 2,
       "version_minor": 0
      },
      "text/plain": [
       "HBox(children=(FloatProgress(value=0.0, max=1.0), HTML(value='')))"
      ]
     },
     "metadata": {},
     "output_type": "display_data"
    },
    {
     "name": "stdout",
     "output_type": "stream",
     "text": [
      "\n"
     ]
    },
    {
     "data": {
      "application/vnd.jupyter.widget-view+json": {
       "model_id": "84076637cab649919f6c3b48b33b6c64",
       "version_major": 2,
       "version_minor": 0
      },
      "text/plain": [
       "HBox(children=(FloatProgress(value=0.0, max=4.0), HTML(value='')))"
      ]
     },
     "metadata": {},
     "output_type": "display_data"
    },
    {
     "name": "stdout",
     "output_type": "stream",
     "text": [
      "\n"
     ]
    },
    {
     "data": {
      "application/vnd.jupyter.widget-view+json": {
       "model_id": "3b3c6959f99148e8b428e04bbd39c2b8",
       "version_major": 2,
       "version_minor": 0
      },
      "text/plain": [
       "HBox(children=(FloatProgress(value=0.0, max=3.0), HTML(value='')))"
      ]
     },
     "metadata": {},
     "output_type": "display_data"
    },
    {
     "name": "stdout",
     "output_type": "stream",
     "text": [
      "\n"
     ]
    },
    {
     "data": {
      "application/vnd.jupyter.widget-view+json": {
       "model_id": "a2c1ca4c144846b9b0e981880fd52ad8",
       "version_major": 2,
       "version_minor": 0
      },
      "text/plain": [
       "HBox(children=(FloatProgress(value=0.0, max=1.0), HTML(value='')))"
      ]
     },
     "metadata": {},
     "output_type": "display_data"
    },
    {
     "name": "stdout",
     "output_type": "stream",
     "text": [
      "\n"
     ]
    },
    {
     "data": {
      "application/vnd.jupyter.widget-view+json": {
       "model_id": "1597ddb6a76e4f0b870a0f0ffea3d4e1",
       "version_major": 2,
       "version_minor": 0
      },
      "text/plain": [
       "HBox(children=(FloatProgress(value=0.0, max=2.0), HTML(value='')))"
      ]
     },
     "metadata": {},
     "output_type": "display_data"
    },
    {
     "name": "stdout",
     "output_type": "stream",
     "text": [
      "\n"
     ]
    },
    {
     "name": "stderr",
     "output_type": "stream",
     "text": [
      "/opt/conda/lib/python3.7/site-packages/selenium/webdriver/chrome/webdriver.py:50: DeprecationWarning: use options instead of chrome_options\n",
      "  warnings.warn('use options instead of chrome_options', DeprecationWarning)\n"
     ]
    },
    {
     "data": {
      "application/vnd.jupyter.widget-view+json": {
       "model_id": "877c97fc19784bcc864025f534336252",
       "version_major": 2,
       "version_minor": 0
      },
      "text/plain": [
       "HBox(children=(FloatProgress(value=0.0, max=4.0), HTML(value='')))"
      ]
     },
     "metadata": {},
     "output_type": "display_data"
    },
    {
     "name": "stdout",
     "output_type": "stream",
     "text": [
      "\n"
     ]
    },
    {
     "data": {
      "application/vnd.jupyter.widget-view+json": {
       "model_id": "2f5b1294044d44a4a3c9f88bb0aed06d",
       "version_major": 2,
       "version_minor": 0
      },
      "text/plain": [
       "HBox(children=(FloatProgress(value=0.0, max=4.0), HTML(value='')))"
      ]
     },
     "metadata": {},
     "output_type": "display_data"
    },
    {
     "name": "stdout",
     "output_type": "stream",
     "text": [
      "\n"
     ]
    },
    {
     "data": {
      "application/vnd.jupyter.widget-view+json": {
       "model_id": "c98d43f485b848b790734f5852185bf0",
       "version_major": 2,
       "version_minor": 0
      },
      "text/plain": [
       "HBox(children=(FloatProgress(value=0.0, max=7.0), HTML(value='')))"
      ]
     },
     "metadata": {},
     "output_type": "display_data"
    },
    {
     "name": "stdout",
     "output_type": "stream",
     "text": [
      "\n"
     ]
    },
    {
     "data": {
      "application/vnd.jupyter.widget-view+json": {
       "model_id": "3fddb72ea5304e25a2a1da7481a2f1ba",
       "version_major": 2,
       "version_minor": 0
      },
      "text/plain": [
       "HBox(children=(FloatProgress(value=0.0, max=9.0), HTML(value='')))"
      ]
     },
     "metadata": {},
     "output_type": "display_data"
    },
    {
     "name": "stdout",
     "output_type": "stream",
     "text": [
      "\n"
     ]
    },
    {
     "data": {
      "application/vnd.jupyter.widget-view+json": {
       "model_id": "5d3a371cc4f842a5af9631dba164e282",
       "version_major": 2,
       "version_minor": 0
      },
      "text/plain": [
       "HBox(children=(FloatProgress(value=0.0, max=10.0), HTML(value='')))"
      ]
     },
     "metadata": {},
     "output_type": "display_data"
    },
    {
     "name": "stdout",
     "output_type": "stream",
     "text": [
      "\n"
     ]
    },
    {
     "name": "stderr",
     "output_type": "stream",
     "text": [
      "/opt/conda/lib/python3.7/site-packages/selenium/webdriver/chrome/webdriver.py:50: DeprecationWarning: use options instead of chrome_options\n",
      "  warnings.warn('use options instead of chrome_options', DeprecationWarning)\n"
     ]
    },
    {
     "data": {
      "application/vnd.jupyter.widget-view+json": {
       "model_id": "727e56d25b7245ee953692ecea5779de",
       "version_major": 2,
       "version_minor": 0
      },
      "text/plain": [
       "HBox(children=(FloatProgress(value=0.0, max=10.0), HTML(value='')))"
      ]
     },
     "metadata": {},
     "output_type": "display_data"
    },
    {
     "name": "stdout",
     "output_type": "stream",
     "text": [
      "\n"
     ]
    },
    {
     "data": {
      "application/vnd.jupyter.widget-view+json": {
       "model_id": "5449f63564b043a2a61e00fe5656f47e",
       "version_major": 2,
       "version_minor": 0
      },
      "text/plain": [
       "HBox(children=(FloatProgress(value=0.0, max=7.0), HTML(value='')))"
      ]
     },
     "metadata": {},
     "output_type": "display_data"
    },
    {
     "name": "stdout",
     "output_type": "stream",
     "text": [
      "\n"
     ]
    },
    {
     "data": {
      "application/vnd.jupyter.widget-view+json": {
       "model_id": "eb9b43db4627444d8f79814ace9f11cf",
       "version_major": 2,
       "version_minor": 0
      },
      "text/plain": [
       "HBox(children=(FloatProgress(value=1.0, bar_style='info', max=1.0), HTML(value='')))"
      ]
     },
     "metadata": {},
     "output_type": "display_data"
    },
    {
     "name": "stdout",
     "output_type": "stream",
     "text": [
      "\n"
     ]
    },
    {
     "data": {
      "application/vnd.jupyter.widget-view+json": {
       "model_id": "525bda66fef14691812103ef69ca7aa4",
       "version_major": 2,
       "version_minor": 0
      },
      "text/plain": [
       "HBox(children=(FloatProgress(value=1.0, bar_style='info', max=1.0), HTML(value='')))"
      ]
     },
     "metadata": {},
     "output_type": "display_data"
    },
    {
     "name": "stdout",
     "output_type": "stream",
     "text": [
      "\n"
     ]
    },
    {
     "data": {
      "application/vnd.jupyter.widget-view+json": {
       "model_id": "c9e8754cc79f48edb0833abf51e5f217",
       "version_major": 2,
       "version_minor": 0
      },
      "text/plain": [
       "HBox(children=(FloatProgress(value=1.0, bar_style='info', max=1.0), HTML(value='')))"
      ]
     },
     "metadata": {},
     "output_type": "display_data"
    },
    {
     "name": "stdout",
     "output_type": "stream",
     "text": [
      "\n"
     ]
    },
    {
     "name": "stderr",
     "output_type": "stream",
     "text": [
      "/opt/conda/lib/python3.7/site-packages/selenium/webdriver/chrome/webdriver.py:50: DeprecationWarning: use options instead of chrome_options\n",
      "  warnings.warn('use options instead of chrome_options', DeprecationWarning)\n"
     ]
    },
    {
     "data": {
      "application/vnd.jupyter.widget-view+json": {
       "model_id": "9a8bc111d84448f4b5308e2e2ec05352",
       "version_major": 2,
       "version_minor": 0
      },
      "text/plain": [
       "HBox(children=(FloatProgress(value=1.0, bar_style='info', max=1.0), HTML(value='')))"
      ]
     },
     "metadata": {},
     "output_type": "display_data"
    },
    {
     "name": "stdout",
     "output_type": "stream",
     "text": [
      "\n"
     ]
    },
    {
     "data": {
      "application/vnd.jupyter.widget-view+json": {
       "model_id": "69ef0053bf604d5da0d7d8e3c4e2bd84",
       "version_major": 2,
       "version_minor": 0
      },
      "text/plain": [
       "HBox(children=(FloatProgress(value=1.0, bar_style='info', max=1.0), HTML(value='')))"
      ]
     },
     "metadata": {},
     "output_type": "display_data"
    },
    {
     "name": "stdout",
     "output_type": "stream",
     "text": [
      "\n"
     ]
    },
    {
     "data": {
      "application/vnd.jupyter.widget-view+json": {
       "model_id": "1dcb1ce43bfb4e52b4909948bee9c52a",
       "version_major": 2,
       "version_minor": 0
      },
      "text/plain": [
       "HBox(children=(FloatProgress(value=1.0, bar_style='info', max=1.0), HTML(value='')))"
      ]
     },
     "metadata": {},
     "output_type": "display_data"
    },
    {
     "name": "stdout",
     "output_type": "stream",
     "text": [
      "\n"
     ]
    },
    {
     "data": {
      "application/vnd.jupyter.widget-view+json": {
       "model_id": "6b163f90092d41b49249a714d9401338",
       "version_major": 2,
       "version_minor": 0
      },
      "text/plain": [
       "HBox(children=(FloatProgress(value=1.0, bar_style='info', max=1.0), HTML(value='')))"
      ]
     },
     "metadata": {},
     "output_type": "display_data"
    },
    {
     "name": "stdout",
     "output_type": "stream",
     "text": [
      "\n"
     ]
    },
    {
     "data": {
      "application/vnd.jupyter.widget-view+json": {
       "model_id": "0ca6206446a44724b996f543dc30c6ce",
       "version_major": 2,
       "version_minor": 0
      },
      "text/plain": [
       "HBox(children=(FloatProgress(value=1.0, bar_style='info', max=1.0), HTML(value='')))"
      ]
     },
     "metadata": {},
     "output_type": "display_data"
    },
    {
     "name": "stdout",
     "output_type": "stream",
     "text": [
      "\n",
      "\n"
     ]
    },
    {
     "data": {
      "application/vnd.jupyter.widget-view+json": {
       "model_id": "9ba2f12f1d444b2aab085b39013c17a4",
       "version_major": 2,
       "version_minor": 0
      },
      "text/plain": [
       "HBox(children=(FloatProgress(value=0.0, description='Preprocessing', max=20.0, style=ProgressStyle(description…"
      ]
     },
     "metadata": {},
     "output_type": "display_data"
    },
    {
     "name": "stdout",
     "output_type": "stream",
     "text": [
      "\n",
      "end :: 계란 | 회춘 | 겨자 | 과잉 | 마트 | 생리 | 오랫동안 | 안동 | 백화점 | 세척\n",
      "12번째 반복 중\n",
      "['keyword/keyword_0', 'keyword/keyword_1', 'keyword/keyword_10', 'keyword/keyword_100', 'keyword/keyword_101', 'keyword/keyword_102', 'keyword/keyword_103', 'keyword/keyword_104', 'keyword/keyword_105', 'keyword/keyword_106', 'keyword/keyword_107', 'keyword/keyword_108', 'keyword/keyword_109', 'keyword/keyword_11', 'keyword/keyword_110', 'keyword/keyword_111', 'keyword/keyword_112', 'keyword/keyword_113', 'keyword/keyword_114', 'keyword/keyword_115', 'keyword/keyword_116', 'keyword/keyword_117', 'keyword/keyword_118', 'keyword/keyword_119', 'keyword/keyword_12', 'keyword/keyword_120', 'keyword/keyword_121', 'keyword/keyword_122', 'keyword/keyword_123', 'keyword/keyword_124', 'keyword/keyword_125', 'keyword/keyword_126', 'keyword/keyword_127', 'keyword/keyword_128', 'keyword/keyword_129', 'keyword/keyword_13', 'keyword/keyword_130', 'keyword/keyword_131', 'keyword/keyword_132', 'keyword/keyword_133', 'keyword/keyword_134', 'keyword/keyword_135', 'keyword/keyword_136', 'keyword/keyword_137', 'keyword/keyword_138', 'keyword/keyword_139', 'keyword/keyword_14', 'keyword/keyword_140', 'keyword/keyword_141', 'keyword/keyword_142', 'keyword/keyword_143', 'keyword/keyword_144', 'keyword/keyword_145', 'keyword/keyword_15', 'keyword/keyword_16', 'keyword/keyword_17', 'keyword/keyword_18', 'keyword/keyword_19', 'keyword/keyword_2', 'keyword/keyword_20', 'keyword/keyword_21', 'keyword/keyword_22', 'keyword/keyword_23', 'keyword/keyword_24', 'keyword/keyword_25', 'keyword/keyword_26', 'keyword/keyword_27', 'keyword/keyword_28', 'keyword/keyword_29', 'keyword/keyword_3', 'keyword/keyword_30', 'keyword/keyword_31', 'keyword/keyword_32', 'keyword/keyword_33', 'keyword/keyword_34', 'keyword/keyword_35', 'keyword/keyword_36', 'keyword/keyword_37', 'keyword/keyword_38', 'keyword/keyword_39', 'keyword/keyword_4', 'keyword/keyword_40', 'keyword/keyword_41', 'keyword/keyword_42', 'keyword/keyword_43', 'keyword/keyword_44', 'keyword/keyword_45', 'keyword/keyword_46', 'keyword/keyword_47', 'keyword/keyword_48', 'keyword/keyword_49', 'keyword/keyword_5', 'keyword/keyword_50', 'keyword/keyword_51', 'keyword/keyword_52', 'keyword/keyword_53', 'keyword/keyword_54', 'keyword/keyword_55', 'keyword/keyword_56', 'keyword/keyword_57', 'keyword/keyword_58', 'keyword/keyword_59', 'keyword/keyword_6', 'keyword/keyword_60', 'keyword/keyword_61', 'keyword/keyword_62', 'keyword/keyword_63', 'keyword/keyword_64', 'keyword/keyword_65', 'keyword/keyword_66', 'keyword/keyword_67', 'keyword/keyword_68', 'keyword/keyword_69', 'keyword/keyword_7', 'keyword/keyword_70', 'keyword/keyword_71', 'keyword/keyword_72', 'keyword/keyword_73', 'keyword/keyword_74', 'keyword/keyword_75', 'keyword/keyword_76', 'keyword/keyword_77', 'keyword/keyword_78', 'keyword/keyword_79', 'keyword/keyword_8', 'keyword/keyword_80', 'keyword/keyword_81', 'keyword/keyword_82', 'keyword/keyword_83', 'keyword/keyword_84', 'keyword/keyword_85', 'keyword/keyword_86', 'keyword/keyword_87', 'keyword/keyword_88', 'keyword/keyword_89', 'keyword/keyword_9', 'keyword/keyword_90', 'keyword/keyword_91', 'keyword/keyword_92', 'keyword/keyword_93', 'keyword/keyword_94', 'keyword/keyword_95', 'keyword/keyword_96', 'keyword/keyword_97', 'keyword/keyword_98', 'keyword/keyword_99']\n",
      "146\n",
      "\n",
      "start :: 계란 | 회춘 | 겨자 | 과잉 | 마트 | 생리 | 오랫동안 | 안동 | 백화점 | 세척+\"음식 건강\"\n"
     ]
    },
    {
     "data": {
      "application/vnd.jupyter.widget-view+json": {
       "model_id": "cf4e3aad6a98410d8a8872ce42008181",
       "version_major": 2,
       "version_minor": 0
      },
      "text/plain": [
       "HBox(children=(FloatProgress(value=0.0, max=20.0), HTML(value='')))"
      ]
     },
     "metadata": {},
     "output_type": "display_data"
    },
    {
     "name": "stdout",
     "output_type": "stream",
     "text": [
      "\n"
     ]
    },
    {
     "data": {
      "application/vnd.jupyter.widget-view+json": {
       "model_id": "674aeeab10fc48c6b42e8d49368f579d",
       "version_major": 2,
       "version_minor": 0
      },
      "text/plain": [
       "HBox(children=(FloatProgress(value=0.0, max=20.0), HTML(value='')))"
      ]
     },
     "metadata": {},
     "output_type": "display_data"
    },
    {
     "name": "stderr",
     "output_type": "stream",
     "text": [
      "/opt/conda/lib/python3.7/site-packages/selenium/webdriver/chrome/webdriver.py:50: DeprecationWarning: use options instead of chrome_options\n",
      "  warnings.warn('use options instead of chrome_options', DeprecationWarning)\n"
     ]
    },
    {
     "data": {
      "application/vnd.jupyter.widget-view+json": {
       "model_id": "a0c83580b55a4042a45b553ddeb20e36",
       "version_major": 2,
       "version_minor": 0
      },
      "text/plain": [
       "HBox(children=(FloatProgress(value=0.0, max=2.0), HTML(value='')))"
      ]
     },
     "metadata": {},
     "output_type": "display_data"
    },
    {
     "name": "stdout",
     "output_type": "stream",
     "text": [
      "\n"
     ]
    },
    {
     "data": {
      "application/vnd.jupyter.widget-view+json": {
       "model_id": "e770a38dad1e4adea00929c5e6ad3a1a",
       "version_major": 2,
       "version_minor": 0
      },
      "text/plain": [
       "HBox(children=(FloatProgress(value=0.0, max=1.0), HTML(value='')))"
      ]
     },
     "metadata": {},
     "output_type": "display_data"
    },
    {
     "name": "stdout",
     "output_type": "stream",
     "text": [
      "\n"
     ]
    },
    {
     "data": {
      "application/vnd.jupyter.widget-view+json": {
       "model_id": "c41f55042475465090ab74ba6cc93cef",
       "version_major": 2,
       "version_minor": 0
      },
      "text/plain": [
       "HBox(children=(FloatProgress(value=0.0, max=3.0), HTML(value='')))"
      ]
     },
     "metadata": {},
     "output_type": "display_data"
    },
    {
     "name": "stdout",
     "output_type": "stream",
     "text": [
      "\n"
     ]
    },
    {
     "data": {
      "application/vnd.jupyter.widget-view+json": {
       "model_id": "1e351ef951504e87b0e425c3b6f6496e",
       "version_major": 2,
       "version_minor": 0
      },
      "text/plain": [
       "HBox(children=(FloatProgress(value=0.0, max=1.0), HTML(value='')))"
      ]
     },
     "metadata": {},
     "output_type": "display_data"
    },
    {
     "name": "stdout",
     "output_type": "stream",
     "text": [
      "\n"
     ]
    },
    {
     "data": {
      "application/vnd.jupyter.widget-view+json": {
       "model_id": "34699cce416c4451842d38786d02704a",
       "version_major": 2,
       "version_minor": 0
      },
      "text/plain": [
       "HBox(children=(FloatProgress(value=0.0, max=3.0), HTML(value='')))"
      ]
     },
     "metadata": {},
     "output_type": "display_data"
    },
    {
     "name": "stdout",
     "output_type": "stream",
     "text": [
      "\n"
     ]
    },
    {
     "name": "stderr",
     "output_type": "stream",
     "text": [
      "/opt/conda/lib/python3.7/site-packages/selenium/webdriver/chrome/webdriver.py:50: DeprecationWarning: use options instead of chrome_options\n",
      "  warnings.warn('use options instead of chrome_options', DeprecationWarning)\n"
     ]
    },
    {
     "data": {
      "application/vnd.jupyter.widget-view+json": {
       "model_id": "f65b33ee523147e7ae1aaf8d4eb627df",
       "version_major": 2,
       "version_minor": 0
      },
      "text/plain": [
       "HBox(children=(FloatProgress(value=0.0, max=5.0), HTML(value='')))"
      ]
     },
     "metadata": {},
     "output_type": "display_data"
    },
    {
     "name": "stdout",
     "output_type": "stream",
     "text": [
      "\n"
     ]
    },
    {
     "data": {
      "application/vnd.jupyter.widget-view+json": {
       "model_id": "f561802bfeb94f23b92bc3908b7d1945",
       "version_major": 2,
       "version_minor": 0
      },
      "text/plain": [
       "HBox(children=(FloatProgress(value=0.0, max=5.0), HTML(value='')))"
      ]
     },
     "metadata": {},
     "output_type": "display_data"
    },
    {
     "name": "stdout",
     "output_type": "stream",
     "text": [
      "\n"
     ]
    },
    {
     "data": {
      "application/vnd.jupyter.widget-view+json": {
       "model_id": "e3561a870af94ee7aad0800552525282",
       "version_major": 2,
       "version_minor": 0
      },
      "text/plain": [
       "HBox(children=(FloatProgress(value=0.0, max=6.0), HTML(value='')))"
      ]
     },
     "metadata": {},
     "output_type": "display_data"
    },
    {
     "name": "stdout",
     "output_type": "stream",
     "text": [
      "\n"
     ]
    },
    {
     "data": {
      "application/vnd.jupyter.widget-view+json": {
       "model_id": "5371d7b4b8364ffa826483898977b661",
       "version_major": 2,
       "version_minor": 0
      },
      "text/plain": [
       "HBox(children=(FloatProgress(value=0.0, max=9.0), HTML(value='')))"
      ]
     },
     "metadata": {},
     "output_type": "display_data"
    },
    {
     "name": "stdout",
     "output_type": "stream",
     "text": [
      "\n"
     ]
    },
    {
     "data": {
      "application/vnd.jupyter.widget-view+json": {
       "model_id": "6e7010195c064460829094def673763f",
       "version_major": 2,
       "version_minor": 0
      },
      "text/plain": [
       "HBox(children=(FloatProgress(value=0.0, max=10.0), HTML(value='')))"
      ]
     },
     "metadata": {},
     "output_type": "display_data"
    },
    {
     "name": "stdout",
     "output_type": "stream",
     "text": [
      "\n"
     ]
    },
    {
     "name": "stderr",
     "output_type": "stream",
     "text": [
      "/opt/conda/lib/python3.7/site-packages/selenium/webdriver/chrome/webdriver.py:50: DeprecationWarning: use options instead of chrome_options\n",
      "  warnings.warn('use options instead of chrome_options', DeprecationWarning)\n"
     ]
    },
    {
     "data": {
      "application/vnd.jupyter.widget-view+json": {
       "model_id": "b2af516ff8ac4343a878af689b05607f",
       "version_major": 2,
       "version_minor": 0
      },
      "text/plain": [
       "HBox(children=(FloatProgress(value=0.0, max=10.0), HTML(value='')))"
      ]
     },
     "metadata": {},
     "output_type": "display_data"
    },
    {
     "name": "stdout",
     "output_type": "stream",
     "text": [
      "\n"
     ]
    },
    {
     "data": {
      "application/vnd.jupyter.widget-view+json": {
       "model_id": "e085c646562c48a8b07b38cd8a5bf59e",
       "version_major": 2,
       "version_minor": 0
      },
      "text/plain": [
       "HBox(children=(FloatProgress(value=1.0, bar_style='info', max=1.0), HTML(value='')))"
      ]
     },
     "metadata": {},
     "output_type": "display_data"
    },
    {
     "name": "stdout",
     "output_type": "stream",
     "text": [
      "\n"
     ]
    },
    {
     "data": {
      "application/vnd.jupyter.widget-view+json": {
       "model_id": "97f3002a5497442f8831ca763c0bc7fc",
       "version_major": 2,
       "version_minor": 0
      },
      "text/plain": [
       "HBox(children=(FloatProgress(value=1.0, bar_style='info', max=1.0), HTML(value='')))"
      ]
     },
     "metadata": {},
     "output_type": "display_data"
    },
    {
     "name": "stdout",
     "output_type": "stream",
     "text": [
      "\n"
     ]
    },
    {
     "data": {
      "application/vnd.jupyter.widget-view+json": {
       "model_id": "b2a6fd97b9f24505967f2a7437957ce5",
       "version_major": 2,
       "version_minor": 0
      },
      "text/plain": [
       "HBox(children=(FloatProgress(value=1.0, bar_style='info', max=1.0), HTML(value='')))"
      ]
     },
     "metadata": {},
     "output_type": "display_data"
    },
    {
     "name": "stdout",
     "output_type": "stream",
     "text": [
      "\n"
     ]
    },
    {
     "data": {
      "application/vnd.jupyter.widget-view+json": {
       "model_id": "b3fd4479c1d84dfeae86ef623792f930",
       "version_major": 2,
       "version_minor": 0
      },
      "text/plain": [
       "HBox(children=(FloatProgress(value=1.0, bar_style='info', max=1.0), HTML(value='')))"
      ]
     },
     "metadata": {},
     "output_type": "display_data"
    },
    {
     "name": "stdout",
     "output_type": "stream",
     "text": [
      "\n"
     ]
    },
    {
     "name": "stderr",
     "output_type": "stream",
     "text": [
      "/opt/conda/lib/python3.7/site-packages/selenium/webdriver/chrome/webdriver.py:50: DeprecationWarning: use options instead of chrome_options\n",
      "  warnings.warn('use options instead of chrome_options', DeprecationWarning)\n"
     ]
    },
    {
     "data": {
      "application/vnd.jupyter.widget-view+json": {
       "model_id": "c86c91acdc2949a78e76bca0178816d8",
       "version_major": 2,
       "version_minor": 0
      },
      "text/plain": [
       "HBox(children=(FloatProgress(value=1.0, bar_style='info', max=1.0), HTML(value='')))"
      ]
     },
     "metadata": {},
     "output_type": "display_data"
    },
    {
     "name": "stdout",
     "output_type": "stream",
     "text": [
      "\n"
     ]
    },
    {
     "data": {
      "application/vnd.jupyter.widget-view+json": {
       "model_id": "09ff9a1027fa43e4af3af5518e1d41cb",
       "version_major": 2,
       "version_minor": 0
      },
      "text/plain": [
       "HBox(children=(FloatProgress(value=1.0, bar_style='info', max=1.0), HTML(value='')))"
      ]
     },
     "metadata": {},
     "output_type": "display_data"
    },
    {
     "name": "stdout",
     "output_type": "stream",
     "text": [
      "\n"
     ]
    },
    {
     "data": {
      "application/vnd.jupyter.widget-view+json": {
       "model_id": "d0e21654c82c4f64b285b832c04199ad",
       "version_major": 2,
       "version_minor": 0
      },
      "text/plain": [
       "HBox(children=(FloatProgress(value=1.0, bar_style='info', max=1.0), HTML(value='')))"
      ]
     },
     "metadata": {},
     "output_type": "display_data"
    },
    {
     "name": "stdout",
     "output_type": "stream",
     "text": [
      "\n"
     ]
    },
    {
     "data": {
      "application/vnd.jupyter.widget-view+json": {
       "model_id": "f17e4c51fba74673b3525e36facf08d0",
       "version_major": 2,
       "version_minor": 0
      },
      "text/plain": [
       "HBox(children=(FloatProgress(value=1.0, bar_style='info', max=1.0), HTML(value='')))"
      ]
     },
     "metadata": {},
     "output_type": "display_data"
    },
    {
     "name": "stdout",
     "output_type": "stream",
     "text": [
      "\n"
     ]
    },
    {
     "data": {
      "application/vnd.jupyter.widget-view+json": {
       "model_id": "43b1975abe054f418fd30fd9f7571e9d",
       "version_major": 2,
       "version_minor": 0
      },
      "text/plain": [
       "HBox(children=(FloatProgress(value=1.0, bar_style='info', max=1.0), HTML(value='')))"
      ]
     },
     "metadata": {},
     "output_type": "display_data"
    },
    {
     "name": "stdout",
     "output_type": "stream",
     "text": [
      "\n",
      "\n"
     ]
    },
    {
     "data": {
      "application/vnd.jupyter.widget-view+json": {
       "model_id": "d0c89fe503104ac48a3b1aa2a8262ec5",
       "version_major": 2,
       "version_minor": 0
      },
      "text/plain": [
       "HBox(children=(FloatProgress(value=0.0, description='Preprocessing', max=20.0, style=ProgressStyle(description…"
      ]
     },
     "metadata": {},
     "output_type": "display_data"
    },
    {
     "name": "stdout",
     "output_type": "stream",
     "text": [
      "\n",
      "end :: 탕평채 | 거즈 | 중독 | 식기 | 홍차 | 카페 | 숙주 | 청매 | 의심 | 게재\n",
      "13번째 반복 중\n",
      "['keyword/keyword_0', 'keyword/keyword_1', 'keyword/keyword_10', 'keyword/keyword_100', 'keyword/keyword_101', 'keyword/keyword_102', 'keyword/keyword_103', 'keyword/keyword_104', 'keyword/keyword_105', 'keyword/keyword_106', 'keyword/keyword_107', 'keyword/keyword_108', 'keyword/keyword_109', 'keyword/keyword_11', 'keyword/keyword_110', 'keyword/keyword_111', 'keyword/keyword_112', 'keyword/keyword_113', 'keyword/keyword_114', 'keyword/keyword_115', 'keyword/keyword_116', 'keyword/keyword_117', 'keyword/keyword_118', 'keyword/keyword_119', 'keyword/keyword_12', 'keyword/keyword_120', 'keyword/keyword_121', 'keyword/keyword_122', 'keyword/keyword_123', 'keyword/keyword_124', 'keyword/keyword_125', 'keyword/keyword_126', 'keyword/keyword_127', 'keyword/keyword_128', 'keyword/keyword_129', 'keyword/keyword_13', 'keyword/keyword_130', 'keyword/keyword_131', 'keyword/keyword_132', 'keyword/keyword_133', 'keyword/keyword_134', 'keyword/keyword_135', 'keyword/keyword_136', 'keyword/keyword_137', 'keyword/keyword_138', 'keyword/keyword_139', 'keyword/keyword_14', 'keyword/keyword_140', 'keyword/keyword_141', 'keyword/keyword_142', 'keyword/keyword_143', 'keyword/keyword_144', 'keyword/keyword_145', 'keyword/keyword_146', 'keyword/keyword_15', 'keyword/keyword_16', 'keyword/keyword_17', 'keyword/keyword_18', 'keyword/keyword_19', 'keyword/keyword_2', 'keyword/keyword_20', 'keyword/keyword_21', 'keyword/keyword_22', 'keyword/keyword_23', 'keyword/keyword_24', 'keyword/keyword_25', 'keyword/keyword_26', 'keyword/keyword_27', 'keyword/keyword_28', 'keyword/keyword_29', 'keyword/keyword_3', 'keyword/keyword_30', 'keyword/keyword_31', 'keyword/keyword_32', 'keyword/keyword_33', 'keyword/keyword_34', 'keyword/keyword_35', 'keyword/keyword_36', 'keyword/keyword_37', 'keyword/keyword_38', 'keyword/keyword_39', 'keyword/keyword_4', 'keyword/keyword_40', 'keyword/keyword_41', 'keyword/keyword_42', 'keyword/keyword_43', 'keyword/keyword_44', 'keyword/keyword_45', 'keyword/keyword_46', 'keyword/keyword_47', 'keyword/keyword_48', 'keyword/keyword_49', 'keyword/keyword_5', 'keyword/keyword_50', 'keyword/keyword_51', 'keyword/keyword_52', 'keyword/keyword_53', 'keyword/keyword_54', 'keyword/keyword_55', 'keyword/keyword_56', 'keyword/keyword_57', 'keyword/keyword_58', 'keyword/keyword_59', 'keyword/keyword_6', 'keyword/keyword_60', 'keyword/keyword_61', 'keyword/keyword_62', 'keyword/keyword_63', 'keyword/keyword_64', 'keyword/keyword_65', 'keyword/keyword_66', 'keyword/keyword_67', 'keyword/keyword_68', 'keyword/keyword_69', 'keyword/keyword_7', 'keyword/keyword_70', 'keyword/keyword_71', 'keyword/keyword_72', 'keyword/keyword_73', 'keyword/keyword_74', 'keyword/keyword_75', 'keyword/keyword_76', 'keyword/keyword_77', 'keyword/keyword_78', 'keyword/keyword_79', 'keyword/keyword_8', 'keyword/keyword_80', 'keyword/keyword_81', 'keyword/keyword_82', 'keyword/keyword_83', 'keyword/keyword_84', 'keyword/keyword_85', 'keyword/keyword_86', 'keyword/keyword_87', 'keyword/keyword_88', 'keyword/keyword_89', 'keyword/keyword_9', 'keyword/keyword_90', 'keyword/keyword_91', 'keyword/keyword_92', 'keyword/keyword_93', 'keyword/keyword_94', 'keyword/keyword_95', 'keyword/keyword_96', 'keyword/keyword_97', 'keyword/keyword_98', 'keyword/keyword_99']\n",
      "147\n",
      "\n",
      "start :: 탕평채 | 거즈 | 중독 | 식기 | 홍차 | 카페 | 숙주 | 청매 | 의심 | 게재+\"음식 건강\"\n"
     ]
    },
    {
     "data": {
      "application/vnd.jupyter.widget-view+json": {
       "model_id": "74eb6e476de6403da27dfdfc70628e32",
       "version_major": 2,
       "version_minor": 0
      },
      "text/plain": [
       "HBox(children=(FloatProgress(value=0.0, max=20.0), HTML(value='')))"
      ]
     },
     "metadata": {},
     "output_type": "display_data"
    },
    {
     "name": "stdout",
     "output_type": "stream",
     "text": [
      "\n"
     ]
    },
    {
     "data": {
      "application/vnd.jupyter.widget-view+json": {
       "model_id": "9c2db054e6e044b3ad6104c0975671ba",
       "version_major": 2,
       "version_minor": 0
      },
      "text/plain": [
       "HBox(children=(FloatProgress(value=0.0, max=20.0), HTML(value='')))"
      ]
     },
     "metadata": {},
     "output_type": "display_data"
    },
    {
     "name": "stderr",
     "output_type": "stream",
     "text": [
      "/opt/conda/lib/python3.7/site-packages/selenium/webdriver/chrome/webdriver.py:50: DeprecationWarning: use options instead of chrome_options\n",
      "  warnings.warn('use options instead of chrome_options', DeprecationWarning)\n"
     ]
    },
    {
     "data": {
      "application/vnd.jupyter.widget-view+json": {
       "model_id": "416d8b290dad4359b911fd136dead6b6",
       "version_major": 2,
       "version_minor": 0
      },
      "text/plain": [
       "HBox(children=(FloatProgress(value=1.0, bar_style='info', max=1.0), HTML(value='')))"
      ]
     },
     "metadata": {},
     "output_type": "display_data"
    },
    {
     "name": "stdout",
     "output_type": "stream",
     "text": [
      "\n"
     ]
    },
    {
     "data": {
      "application/vnd.jupyter.widget-view+json": {
       "model_id": "36865089f6ec4da0bcf7208235a27b95",
       "version_major": 2,
       "version_minor": 0
      },
      "text/plain": [
       "HBox(children=(FloatProgress(value=0.0, max=5.0), HTML(value='')))"
      ]
     },
     "metadata": {},
     "output_type": "display_data"
    },
    {
     "name": "stdout",
     "output_type": "stream",
     "text": [
      "\n"
     ]
    },
    {
     "data": {
      "application/vnd.jupyter.widget-view+json": {
       "model_id": "0764f1f44b7d44f9b26f207ef396efc6",
       "version_major": 2,
       "version_minor": 0
      },
      "text/plain": [
       "HBox(children=(FloatProgress(value=0.0, max=7.0), HTML(value='')))"
      ]
     },
     "metadata": {},
     "output_type": "display_data"
    },
    {
     "name": "stdout",
     "output_type": "stream",
     "text": [
      "\n"
     ]
    },
    {
     "data": {
      "application/vnd.jupyter.widget-view+json": {
       "model_id": "34639b223b5a4c7ba42f7864d73bc311",
       "version_major": 2,
       "version_minor": 0
      },
      "text/plain": [
       "HBox(children=(FloatProgress(value=0.0, max=8.0), HTML(value='')))"
      ]
     },
     "metadata": {},
     "output_type": "display_data"
    },
    {
     "name": "stdout",
     "output_type": "stream",
     "text": [
      "\n"
     ]
    },
    {
     "data": {
      "application/vnd.jupyter.widget-view+json": {
       "model_id": "fdc575d5258b4fc0aed3395e58104ab2",
       "version_major": 2,
       "version_minor": 0
      },
      "text/plain": [
       "HBox(children=(FloatProgress(value=0.0, max=10.0), HTML(value='')))"
      ]
     },
     "metadata": {},
     "output_type": "display_data"
    },
    {
     "name": "stdout",
     "output_type": "stream",
     "text": [
      "\n"
     ]
    },
    {
     "name": "stderr",
     "output_type": "stream",
     "text": [
      "/opt/conda/lib/python3.7/site-packages/selenium/webdriver/chrome/webdriver.py:50: DeprecationWarning: use options instead of chrome_options\n",
      "  warnings.warn('use options instead of chrome_options', DeprecationWarning)\n"
     ]
    },
    {
     "data": {
      "application/vnd.jupyter.widget-view+json": {
       "model_id": "426c525710424b6990e1391d6b6c0661",
       "version_major": 2,
       "version_minor": 0
      },
      "text/plain": [
       "HBox(children=(FloatProgress(value=0.0, max=4.0), HTML(value='')))"
      ]
     },
     "metadata": {},
     "output_type": "display_data"
    },
    {
     "name": "stdout",
     "output_type": "stream",
     "text": [
      "\n"
     ]
    },
    {
     "data": {
      "application/vnd.jupyter.widget-view+json": {
       "model_id": "1fa53a01bf5446dbbab45df1d9661479",
       "version_major": 2,
       "version_minor": 0
      },
      "text/plain": [
       "HBox(children=(FloatProgress(value=1.0, bar_style='info', max=1.0), HTML(value='')))"
      ]
     },
     "metadata": {},
     "output_type": "display_data"
    },
    {
     "name": "stdout",
     "output_type": "stream",
     "text": [
      "\n"
     ]
    },
    {
     "data": {
      "application/vnd.jupyter.widget-view+json": {
       "model_id": "008605c8f77449258191a06354e00f90",
       "version_major": 2,
       "version_minor": 0
      },
      "text/plain": [
       "HBox(children=(FloatProgress(value=1.0, bar_style='info', max=1.0), HTML(value='')))"
      ]
     },
     "metadata": {},
     "output_type": "display_data"
    },
    {
     "name": "stdout",
     "output_type": "stream",
     "text": [
      "\n"
     ]
    },
    {
     "data": {
      "application/vnd.jupyter.widget-view+json": {
       "model_id": "fde712e341ea4bd7a667f1944c86bf41",
       "version_major": 2,
       "version_minor": 0
      },
      "text/plain": [
       "HBox(children=(FloatProgress(value=1.0, bar_style='info', max=1.0), HTML(value='')))"
      ]
     },
     "metadata": {},
     "output_type": "display_data"
    },
    {
     "name": "stdout",
     "output_type": "stream",
     "text": [
      "\n"
     ]
    },
    {
     "data": {
      "application/vnd.jupyter.widget-view+json": {
       "model_id": "d4514817b5ba444c9bf335fbbf81a78f",
       "version_major": 2,
       "version_minor": 0
      },
      "text/plain": [
       "HBox(children=(FloatProgress(value=1.0, bar_style='info', max=1.0), HTML(value='')))"
      ]
     },
     "metadata": {},
     "output_type": "display_data"
    },
    {
     "name": "stdout",
     "output_type": "stream",
     "text": [
      "\n"
     ]
    },
    {
     "name": "stderr",
     "output_type": "stream",
     "text": [
      "/opt/conda/lib/python3.7/site-packages/selenium/webdriver/chrome/webdriver.py:50: DeprecationWarning: use options instead of chrome_options\n",
      "  warnings.warn('use options instead of chrome_options', DeprecationWarning)\n"
     ]
    },
    {
     "data": {
      "application/vnd.jupyter.widget-view+json": {
       "model_id": "a03ba849d4ca45d8b33d7cfcf75d96fe",
       "version_major": 2,
       "version_minor": 0
      },
      "text/plain": [
       "HBox(children=(FloatProgress(value=1.0, bar_style='info', max=1.0), HTML(value='')))"
      ]
     },
     "metadata": {},
     "output_type": "display_data"
    },
    {
     "name": "stdout",
     "output_type": "stream",
     "text": [
      "\n"
     ]
    },
    {
     "data": {
      "application/vnd.jupyter.widget-view+json": {
       "model_id": "83ee2250fd6f4c858cf051cf448edde2",
       "version_major": 2,
       "version_minor": 0
      },
      "text/plain": [
       "HBox(children=(FloatProgress(value=1.0, bar_style='info', max=1.0), HTML(value='')))"
      ]
     },
     "metadata": {},
     "output_type": "display_data"
    },
    {
     "name": "stdout",
     "output_type": "stream",
     "text": [
      "\n"
     ]
    },
    {
     "data": {
      "application/vnd.jupyter.widget-view+json": {
       "model_id": "f1e9ed2a298b4fab8a7a5d3ad268e08a",
       "version_major": 2,
       "version_minor": 0
      },
      "text/plain": [
       "HBox(children=(FloatProgress(value=1.0, bar_style='info', max=1.0), HTML(value='')))"
      ]
     },
     "metadata": {},
     "output_type": "display_data"
    },
    {
     "name": "stdout",
     "output_type": "stream",
     "text": [
      "\n"
     ]
    },
    {
     "data": {
      "application/vnd.jupyter.widget-view+json": {
       "model_id": "b4d45630bb234de8b4eca9ab392f0890",
       "version_major": 2,
       "version_minor": 0
      },
      "text/plain": [
       "HBox(children=(FloatProgress(value=1.0, bar_style='info', max=1.0), HTML(value='')))"
      ]
     },
     "metadata": {},
     "output_type": "display_data"
    },
    {
     "name": "stdout",
     "output_type": "stream",
     "text": [
      "\n"
     ]
    },
    {
     "data": {
      "application/vnd.jupyter.widget-view+json": {
       "model_id": "86c0e407e1ab4ea1aca8cf34f3424fe0",
       "version_major": 2,
       "version_minor": 0
      },
      "text/plain": [
       "HBox(children=(FloatProgress(value=1.0, bar_style='info', max=1.0), HTML(value='')))"
      ]
     },
     "metadata": {},
     "output_type": "display_data"
    },
    {
     "name": "stdout",
     "output_type": "stream",
     "text": [
      "\n"
     ]
    },
    {
     "name": "stderr",
     "output_type": "stream",
     "text": [
      "/opt/conda/lib/python3.7/site-packages/selenium/webdriver/chrome/webdriver.py:50: DeprecationWarning: use options instead of chrome_options\n",
      "  warnings.warn('use options instead of chrome_options', DeprecationWarning)\n"
     ]
    },
    {
     "data": {
      "application/vnd.jupyter.widget-view+json": {
       "model_id": "b6cd646d1243455286f60abb36173454",
       "version_major": 2,
       "version_minor": 0
      },
      "text/plain": [
       "HBox(children=(FloatProgress(value=1.0, bar_style='info', max=1.0), HTML(value='')))"
      ]
     },
     "metadata": {},
     "output_type": "display_data"
    },
    {
     "name": "stdout",
     "output_type": "stream",
     "text": [
      "\n"
     ]
    },
    {
     "data": {
      "application/vnd.jupyter.widget-view+json": {
       "model_id": "340750e1703445f787ab1be2fe9f5da5",
       "version_major": 2,
       "version_minor": 0
      },
      "text/plain": [
       "HBox(children=(FloatProgress(value=1.0, bar_style='info', max=1.0), HTML(value='')))"
      ]
     },
     "metadata": {},
     "output_type": "display_data"
    },
    {
     "name": "stdout",
     "output_type": "stream",
     "text": [
      "\n"
     ]
    },
    {
     "data": {
      "application/vnd.jupyter.widget-view+json": {
       "model_id": "0a43e78e2def47228df2e96500ebe141",
       "version_major": 2,
       "version_minor": 0
      },
      "text/plain": [
       "HBox(children=(FloatProgress(value=1.0, bar_style='info', max=1.0), HTML(value='')))"
      ]
     },
     "metadata": {},
     "output_type": "display_data"
    },
    {
     "name": "stdout",
     "output_type": "stream",
     "text": [
      "\n"
     ]
    },
    {
     "data": {
      "application/vnd.jupyter.widget-view+json": {
       "model_id": "9c32827e086346f0a836d20cf4dffd05",
       "version_major": 2,
       "version_minor": 0
      },
      "text/plain": [
       "HBox(children=(FloatProgress(value=1.0, bar_style='info', max=1.0), HTML(value='')))"
      ]
     },
     "metadata": {},
     "output_type": "display_data"
    },
    {
     "name": "stdout",
     "output_type": "stream",
     "text": [
      "\n"
     ]
    },
    {
     "data": {
      "application/vnd.jupyter.widget-view+json": {
       "model_id": "38df2bd56eaa48c5be83d65fa4b943e5",
       "version_major": 2,
       "version_minor": 0
      },
      "text/plain": [
       "HBox(children=(FloatProgress(value=1.0, bar_style='info', max=1.0), HTML(value='')))"
      ]
     },
     "metadata": {},
     "output_type": "display_data"
    },
    {
     "name": "stdout",
     "output_type": "stream",
     "text": [
      "\n",
      "\n"
     ]
    },
    {
     "data": {
      "application/vnd.jupyter.widget-view+json": {
       "model_id": "0b110813a5464ca7acce9fcb2d042a0a",
       "version_major": 2,
       "version_minor": 0
      },
      "text/plain": [
       "HBox(children=(FloatProgress(value=0.0, description='Preprocessing', max=20.0, style=ProgressStyle(description…"
      ]
     },
     "metadata": {},
     "output_type": "display_data"
    },
    {
     "name": "stdout",
     "output_type": "stream",
     "text": [
      "\n",
      "end :: 비염 | 맞춤 | 천식 | 보청기 | 자외선 | 구강 | 수축 | 사용법 | 처리 | 대의\n",
      "14번째 반복 중\n",
      "['keyword/keyword_0', 'keyword/keyword_1', 'keyword/keyword_10', 'keyword/keyword_100', 'keyword/keyword_101', 'keyword/keyword_102', 'keyword/keyword_103', 'keyword/keyword_104', 'keyword/keyword_105', 'keyword/keyword_106', 'keyword/keyword_107', 'keyword/keyword_108', 'keyword/keyword_109', 'keyword/keyword_11', 'keyword/keyword_110', 'keyword/keyword_111', 'keyword/keyword_112', 'keyword/keyword_113', 'keyword/keyword_114', 'keyword/keyword_115', 'keyword/keyword_116', 'keyword/keyword_117', 'keyword/keyword_118', 'keyword/keyword_119', 'keyword/keyword_12', 'keyword/keyword_120', 'keyword/keyword_121', 'keyword/keyword_122', 'keyword/keyword_123', 'keyword/keyword_124', 'keyword/keyword_125', 'keyword/keyword_126', 'keyword/keyword_127', 'keyword/keyword_128', 'keyword/keyword_129', 'keyword/keyword_13', 'keyword/keyword_130', 'keyword/keyword_131', 'keyword/keyword_132', 'keyword/keyword_133', 'keyword/keyword_134', 'keyword/keyword_135', 'keyword/keyword_136', 'keyword/keyword_137', 'keyword/keyword_138', 'keyword/keyword_139', 'keyword/keyword_14', 'keyword/keyword_140', 'keyword/keyword_141', 'keyword/keyword_142', 'keyword/keyword_143', 'keyword/keyword_144', 'keyword/keyword_145', 'keyword/keyword_146', 'keyword/keyword_147', 'keyword/keyword_15', 'keyword/keyword_16', 'keyword/keyword_17', 'keyword/keyword_18', 'keyword/keyword_19', 'keyword/keyword_2', 'keyword/keyword_20', 'keyword/keyword_21', 'keyword/keyword_22', 'keyword/keyword_23', 'keyword/keyword_24', 'keyword/keyword_25', 'keyword/keyword_26', 'keyword/keyword_27', 'keyword/keyword_28', 'keyword/keyword_29', 'keyword/keyword_3', 'keyword/keyword_30', 'keyword/keyword_31', 'keyword/keyword_32', 'keyword/keyword_33', 'keyword/keyword_34', 'keyword/keyword_35', 'keyword/keyword_36', 'keyword/keyword_37', 'keyword/keyword_38', 'keyword/keyword_39', 'keyword/keyword_4', 'keyword/keyword_40', 'keyword/keyword_41', 'keyword/keyword_42', 'keyword/keyword_43', 'keyword/keyword_44', 'keyword/keyword_45', 'keyword/keyword_46', 'keyword/keyword_47', 'keyword/keyword_48', 'keyword/keyword_49', 'keyword/keyword_5', 'keyword/keyword_50', 'keyword/keyword_51', 'keyword/keyword_52', 'keyword/keyword_53', 'keyword/keyword_54', 'keyword/keyword_55', 'keyword/keyword_56', 'keyword/keyword_57', 'keyword/keyword_58', 'keyword/keyword_59', 'keyword/keyword_6', 'keyword/keyword_60', 'keyword/keyword_61', 'keyword/keyword_62', 'keyword/keyword_63', 'keyword/keyword_64', 'keyword/keyword_65', 'keyword/keyword_66', 'keyword/keyword_67', 'keyword/keyword_68', 'keyword/keyword_69', 'keyword/keyword_7', 'keyword/keyword_70', 'keyword/keyword_71', 'keyword/keyword_72', 'keyword/keyword_73', 'keyword/keyword_74', 'keyword/keyword_75', 'keyword/keyword_76', 'keyword/keyword_77', 'keyword/keyword_78', 'keyword/keyword_79', 'keyword/keyword_8', 'keyword/keyword_80', 'keyword/keyword_81', 'keyword/keyword_82', 'keyword/keyword_83', 'keyword/keyword_84', 'keyword/keyword_85', 'keyword/keyword_86', 'keyword/keyword_87', 'keyword/keyword_88', 'keyword/keyword_89', 'keyword/keyword_9', 'keyword/keyword_90', 'keyword/keyword_91', 'keyword/keyword_92', 'keyword/keyword_93', 'keyword/keyword_94', 'keyword/keyword_95', 'keyword/keyword_96', 'keyword/keyword_97', 'keyword/keyword_98', 'keyword/keyword_99']\n",
      "148\n",
      "\n",
      "start :: 비염 | 맞춤 | 천식 | 보청기 | 자외선 | 구강 | 수축 | 사용법 | 처리 | 대의+\"음식 건강\"\n"
     ]
    },
    {
     "data": {
      "application/vnd.jupyter.widget-view+json": {
       "model_id": "d1da558d8b4a4eeab92bcf295e12b4bf",
       "version_major": 2,
       "version_minor": 0
      },
      "text/plain": [
       "HBox(children=(FloatProgress(value=0.0, max=20.0), HTML(value='')))"
      ]
     },
     "metadata": {},
     "output_type": "display_data"
    },
    {
     "name": "stdout",
     "output_type": "stream",
     "text": [
      "\n"
     ]
    },
    {
     "data": {
      "application/vnd.jupyter.widget-view+json": {
       "model_id": "fa30008ea00140eb8f1ed6abe201cbf8",
       "version_major": 2,
       "version_minor": 0
      },
      "text/plain": [
       "HBox(children=(FloatProgress(value=0.0, max=20.0), HTML(value='')))"
      ]
     },
     "metadata": {},
     "output_type": "display_data"
    },
    {
     "name": "stderr",
     "output_type": "stream",
     "text": [
      "/opt/conda/lib/python3.7/site-packages/selenium/webdriver/chrome/webdriver.py:50: DeprecationWarning: use options instead of chrome_options\n",
      "  warnings.warn('use options instead of chrome_options', DeprecationWarning)\n"
     ]
    },
    {
     "data": {
      "application/vnd.jupyter.widget-view+json": {
       "model_id": "8192088fcb654242a3677d928cfaa2f4",
       "version_major": 2,
       "version_minor": 0
      },
      "text/plain": [
       "HBox(children=(FloatProgress(value=0.0, max=2.0), HTML(value='')))"
      ]
     },
     "metadata": {},
     "output_type": "display_data"
    },
    {
     "name": "stdout",
     "output_type": "stream",
     "text": [
      "\n"
     ]
    },
    {
     "data": {
      "application/vnd.jupyter.widget-view+json": {
       "model_id": "f69370b3a7a14bf5a083a92dbaa9d277",
       "version_major": 2,
       "version_minor": 0
      },
      "text/plain": [
       "HBox(children=(FloatProgress(value=0.0, max=3.0), HTML(value='')))"
      ]
     },
     "metadata": {},
     "output_type": "display_data"
    },
    {
     "name": "stdout",
     "output_type": "stream",
     "text": [
      "\n"
     ]
    },
    {
     "data": {
      "application/vnd.jupyter.widget-view+json": {
       "model_id": "2c9e574ae65a4b1c97a7f01f28ad3d8f",
       "version_major": 2,
       "version_minor": 0
      },
      "text/plain": [
       "HBox(children=(FloatProgress(value=0.0, max=6.0), HTML(value='')))"
      ]
     },
     "metadata": {},
     "output_type": "display_data"
    },
    {
     "name": "stdout",
     "output_type": "stream",
     "text": [
      "\n"
     ]
    },
    {
     "data": {
      "application/vnd.jupyter.widget-view+json": {
       "model_id": "e80ff4e139c54e24bc806e1d1327be85",
       "version_major": 2,
       "version_minor": 0
      },
      "text/plain": [
       "HBox(children=(FloatProgress(value=0.0, max=1.0), HTML(value='')))"
      ]
     },
     "metadata": {},
     "output_type": "display_data"
    },
    {
     "name": "stdout",
     "output_type": "stream",
     "text": [
      "\n"
     ]
    },
    {
     "data": {
      "application/vnd.jupyter.widget-view+json": {
       "model_id": "c37c002ddaaf45f5be5f2aa993c6ec07",
       "version_major": 2,
       "version_minor": 0
      },
      "text/plain": [
       "HBox(children=(FloatProgress(value=0.0, max=7.0), HTML(value='')))"
      ]
     },
     "metadata": {},
     "output_type": "display_data"
    },
    {
     "name": "stdout",
     "output_type": "stream",
     "text": [
      "\n"
     ]
    },
    {
     "name": "stderr",
     "output_type": "stream",
     "text": [
      "/opt/conda/lib/python3.7/site-packages/selenium/webdriver/chrome/webdriver.py:50: DeprecationWarning: use options instead of chrome_options\n",
      "  warnings.warn('use options instead of chrome_options', DeprecationWarning)\n"
     ]
    },
    {
     "data": {
      "application/vnd.jupyter.widget-view+json": {
       "model_id": "c899040ee67140cbb96bc47c056400a1",
       "version_major": 2,
       "version_minor": 0
      },
      "text/plain": [
       "HBox(children=(FloatProgress(value=0.0, max=7.0), HTML(value='')))"
      ]
     },
     "metadata": {},
     "output_type": "display_data"
    },
    {
     "name": "stdout",
     "output_type": "stream",
     "text": [
      "\n"
     ]
    },
    {
     "data": {
      "application/vnd.jupyter.widget-view+json": {
       "model_id": "c2cfa80b61e64108b6583d09fca52285",
       "version_major": 2,
       "version_minor": 0
      },
      "text/plain": [
       "HBox(children=(FloatProgress(value=0.0, max=5.0), HTML(value='')))"
      ]
     },
     "metadata": {},
     "output_type": "display_data"
    },
    {
     "name": "stdout",
     "output_type": "stream",
     "text": [
      "\n"
     ]
    },
    {
     "data": {
      "application/vnd.jupyter.widget-view+json": {
       "model_id": "e17faee82ed7429ca7a3b4101d222946",
       "version_major": 2,
       "version_minor": 0
      },
      "text/plain": [
       "HBox(children=(FloatProgress(value=1.0, bar_style='info', max=1.0), HTML(value='')))"
      ]
     },
     "metadata": {},
     "output_type": "display_data"
    },
    {
     "name": "stdout",
     "output_type": "stream",
     "text": [
      "\n"
     ]
    },
    {
     "data": {
      "application/vnd.jupyter.widget-view+json": {
       "model_id": "c15fc094c1c84517a1132f730eed3536",
       "version_major": 2,
       "version_minor": 0
      },
      "text/plain": [
       "HBox(children=(FloatProgress(value=1.0, bar_style='info', max=1.0), HTML(value='')))"
      ]
     },
     "metadata": {},
     "output_type": "display_data"
    },
    {
     "name": "stdout",
     "output_type": "stream",
     "text": [
      "\n"
     ]
    },
    {
     "data": {
      "application/vnd.jupyter.widget-view+json": {
       "model_id": "f28e4bfeff9d4d228ad70ebc82f9cc91",
       "version_major": 2,
       "version_minor": 0
      },
      "text/plain": [
       "HBox(children=(FloatProgress(value=1.0, bar_style='info', max=1.0), HTML(value='')))"
      ]
     },
     "metadata": {},
     "output_type": "display_data"
    },
    {
     "name": "stdout",
     "output_type": "stream",
     "text": [
      "\n"
     ]
    },
    {
     "name": "stderr",
     "output_type": "stream",
     "text": [
      "/opt/conda/lib/python3.7/site-packages/selenium/webdriver/chrome/webdriver.py:50: DeprecationWarning: use options instead of chrome_options\n",
      "  warnings.warn('use options instead of chrome_options', DeprecationWarning)\n"
     ]
    },
    {
     "data": {
      "application/vnd.jupyter.widget-view+json": {
       "model_id": "f2326dede1bb4f36bfc782730f122932",
       "version_major": 2,
       "version_minor": 0
      },
      "text/plain": [
       "HBox(children=(FloatProgress(value=1.0, bar_style='info', max=1.0), HTML(value='')))"
      ]
     },
     "metadata": {},
     "output_type": "display_data"
    },
    {
     "name": "stdout",
     "output_type": "stream",
     "text": [
      "\n"
     ]
    },
    {
     "data": {
      "application/vnd.jupyter.widget-view+json": {
       "model_id": "94cd95e2ebe44f789ab34b6e89e23b4c",
       "version_major": 2,
       "version_minor": 0
      },
      "text/plain": [
       "HBox(children=(FloatProgress(value=1.0, bar_style='info', max=1.0), HTML(value='')))"
      ]
     },
     "metadata": {},
     "output_type": "display_data"
    },
    {
     "name": "stdout",
     "output_type": "stream",
     "text": [
      "\n"
     ]
    },
    {
     "data": {
      "application/vnd.jupyter.widget-view+json": {
       "model_id": "b7a30bc9da6f4624a98d78ea66a28fc0",
       "version_major": 2,
       "version_minor": 0
      },
      "text/plain": [
       "HBox(children=(FloatProgress(value=1.0, bar_style='info', max=1.0), HTML(value='')))"
      ]
     },
     "metadata": {},
     "output_type": "display_data"
    },
    {
     "name": "stdout",
     "output_type": "stream",
     "text": [
      "\n"
     ]
    },
    {
     "data": {
      "application/vnd.jupyter.widget-view+json": {
       "model_id": "2e00e295225348b6a90c76a366e309e5",
       "version_major": 2,
       "version_minor": 0
      },
      "text/plain": [
       "HBox(children=(FloatProgress(value=1.0, bar_style='info', max=1.0), HTML(value='')))"
      ]
     },
     "metadata": {},
     "output_type": "display_data"
    },
    {
     "name": "stdout",
     "output_type": "stream",
     "text": [
      "\n"
     ]
    },
    {
     "data": {
      "application/vnd.jupyter.widget-view+json": {
       "model_id": "d31633d278ac41188e83f3a6994263f1",
       "version_major": 2,
       "version_minor": 0
      },
      "text/plain": [
       "HBox(children=(FloatProgress(value=1.0, bar_style='info', max=1.0), HTML(value='')))"
      ]
     },
     "metadata": {},
     "output_type": "display_data"
    },
    {
     "name": "stdout",
     "output_type": "stream",
     "text": [
      "\n"
     ]
    },
    {
     "name": "stderr",
     "output_type": "stream",
     "text": [
      "/opt/conda/lib/python3.7/site-packages/selenium/webdriver/chrome/webdriver.py:50: DeprecationWarning: use options instead of chrome_options\n",
      "  warnings.warn('use options instead of chrome_options', DeprecationWarning)\n"
     ]
    },
    {
     "data": {
      "application/vnd.jupyter.widget-view+json": {
       "model_id": "9a3137d217504aab8e2582813acca11c",
       "version_major": 2,
       "version_minor": 0
      },
      "text/plain": [
       "HBox(children=(FloatProgress(value=1.0, bar_style='info', max=1.0), HTML(value='')))"
      ]
     },
     "metadata": {},
     "output_type": "display_data"
    },
    {
     "name": "stdout",
     "output_type": "stream",
     "text": [
      "\n"
     ]
    },
    {
     "data": {
      "application/vnd.jupyter.widget-view+json": {
       "model_id": "338562e7cf0c407ebaa5654a99411243",
       "version_major": 2,
       "version_minor": 0
      },
      "text/plain": [
       "HBox(children=(FloatProgress(value=1.0, bar_style='info', max=1.0), HTML(value='')))"
      ]
     },
     "metadata": {},
     "output_type": "display_data"
    },
    {
     "name": "stdout",
     "output_type": "stream",
     "text": [
      "\n"
     ]
    },
    {
     "data": {
      "application/vnd.jupyter.widget-view+json": {
       "model_id": "067492d23f324155981f7e55251b077f",
       "version_major": 2,
       "version_minor": 0
      },
      "text/plain": [
       "HBox(children=(FloatProgress(value=1.0, bar_style='info', max=1.0), HTML(value='')))"
      ]
     },
     "metadata": {},
     "output_type": "display_data"
    },
    {
     "name": "stdout",
     "output_type": "stream",
     "text": [
      "\n"
     ]
    },
    {
     "data": {
      "application/vnd.jupyter.widget-view+json": {
       "model_id": "e073aeb48c004b678b3e39c22ff11b9f",
       "version_major": 2,
       "version_minor": 0
      },
      "text/plain": [
       "HBox(children=(FloatProgress(value=1.0, bar_style='info', max=1.0), HTML(value='')))"
      ]
     },
     "metadata": {},
     "output_type": "display_data"
    },
    {
     "name": "stdout",
     "output_type": "stream",
     "text": [
      "\n"
     ]
    },
    {
     "data": {
      "application/vnd.jupyter.widget-view+json": {
       "model_id": "fa3d348481f84e0394676f6925a2bc52",
       "version_major": 2,
       "version_minor": 0
      },
      "text/plain": [
       "HBox(children=(FloatProgress(value=1.0, bar_style='info', max=1.0), HTML(value='')))"
      ]
     },
     "metadata": {},
     "output_type": "display_data"
    },
    {
     "name": "stdout",
     "output_type": "stream",
     "text": [
      "\n",
      "\n"
     ]
    },
    {
     "data": {
      "application/vnd.jupyter.widget-view+json": {
       "model_id": "ab4145928b8e44cd84e34422e1cee878",
       "version_major": 2,
       "version_minor": 0
      },
      "text/plain": [
       "HBox(children=(FloatProgress(value=0.0, description='Preprocessing', max=20.0, style=ProgressStyle(description…"
      ]
     },
     "metadata": {},
     "output_type": "display_data"
    },
    {
     "name": "stdout",
     "output_type": "stream",
     "text": [
      "\n",
      "end :: 충치 | 차단제 | 부식 | 방학 | 투약 | 냉채 | 여자 | 오렌지 | 보도 | 발굴\n",
      "15번째 반복 중\n",
      "['keyword/keyword_0', 'keyword/keyword_1', 'keyword/keyword_10', 'keyword/keyword_100', 'keyword/keyword_101', 'keyword/keyword_102', 'keyword/keyword_103', 'keyword/keyword_104', 'keyword/keyword_105', 'keyword/keyword_106', 'keyword/keyword_107', 'keyword/keyword_108', 'keyword/keyword_109', 'keyword/keyword_11', 'keyword/keyword_110', 'keyword/keyword_111', 'keyword/keyword_112', 'keyword/keyword_113', 'keyword/keyword_114', 'keyword/keyword_115', 'keyword/keyword_116', 'keyword/keyword_117', 'keyword/keyword_118', 'keyword/keyword_119', 'keyword/keyword_12', 'keyword/keyword_120', 'keyword/keyword_121', 'keyword/keyword_122', 'keyword/keyword_123', 'keyword/keyword_124', 'keyword/keyword_125', 'keyword/keyword_126', 'keyword/keyword_127', 'keyword/keyword_128', 'keyword/keyword_129', 'keyword/keyword_13', 'keyword/keyword_130', 'keyword/keyword_131', 'keyword/keyword_132', 'keyword/keyword_133', 'keyword/keyword_134', 'keyword/keyword_135', 'keyword/keyword_136', 'keyword/keyword_137', 'keyword/keyword_138', 'keyword/keyword_139', 'keyword/keyword_14', 'keyword/keyword_140', 'keyword/keyword_141', 'keyword/keyword_142', 'keyword/keyword_143', 'keyword/keyword_144', 'keyword/keyword_145', 'keyword/keyword_146', 'keyword/keyword_147', 'keyword/keyword_148', 'keyword/keyword_15', 'keyword/keyword_16', 'keyword/keyword_17', 'keyword/keyword_18', 'keyword/keyword_19', 'keyword/keyword_2', 'keyword/keyword_20', 'keyword/keyword_21', 'keyword/keyword_22', 'keyword/keyword_23', 'keyword/keyword_24', 'keyword/keyword_25', 'keyword/keyword_26', 'keyword/keyword_27', 'keyword/keyword_28', 'keyword/keyword_29', 'keyword/keyword_3', 'keyword/keyword_30', 'keyword/keyword_31', 'keyword/keyword_32', 'keyword/keyword_33', 'keyword/keyword_34', 'keyword/keyword_35', 'keyword/keyword_36', 'keyword/keyword_37', 'keyword/keyword_38', 'keyword/keyword_39', 'keyword/keyword_4', 'keyword/keyword_40', 'keyword/keyword_41', 'keyword/keyword_42', 'keyword/keyword_43', 'keyword/keyword_44', 'keyword/keyword_45', 'keyword/keyword_46', 'keyword/keyword_47', 'keyword/keyword_48', 'keyword/keyword_49', 'keyword/keyword_5', 'keyword/keyword_50', 'keyword/keyword_51', 'keyword/keyword_52', 'keyword/keyword_53', 'keyword/keyword_54', 'keyword/keyword_55', 'keyword/keyword_56', 'keyword/keyword_57', 'keyword/keyword_58', 'keyword/keyword_59', 'keyword/keyword_6', 'keyword/keyword_60', 'keyword/keyword_61', 'keyword/keyword_62', 'keyword/keyword_63', 'keyword/keyword_64', 'keyword/keyword_65', 'keyword/keyword_66', 'keyword/keyword_67', 'keyword/keyword_68', 'keyword/keyword_69', 'keyword/keyword_7', 'keyword/keyword_70', 'keyword/keyword_71', 'keyword/keyword_72', 'keyword/keyword_73', 'keyword/keyword_74', 'keyword/keyword_75', 'keyword/keyword_76', 'keyword/keyword_77', 'keyword/keyword_78', 'keyword/keyword_79', 'keyword/keyword_8', 'keyword/keyword_80', 'keyword/keyword_81', 'keyword/keyword_82', 'keyword/keyword_83', 'keyword/keyword_84', 'keyword/keyword_85', 'keyword/keyword_86', 'keyword/keyword_87', 'keyword/keyword_88', 'keyword/keyword_89', 'keyword/keyword_9', 'keyword/keyword_90', 'keyword/keyword_91', 'keyword/keyword_92', 'keyword/keyword_93', 'keyword/keyword_94', 'keyword/keyword_95', 'keyword/keyword_96', 'keyword/keyword_97', 'keyword/keyword_98', 'keyword/keyword_99']\n",
      "149\n",
      "\n",
      "start :: 충치 | 차단제 | 부식 | 방학 | 투약 | 냉채 | 여자 | 오렌지 | 보도 | 발굴+\"음식 건강\"\n"
     ]
    },
    {
     "data": {
      "application/vnd.jupyter.widget-view+json": {
       "model_id": "3e5bdbb1154c4d829edb1bdbcd19259e",
       "version_major": 2,
       "version_minor": 0
      },
      "text/plain": [
       "HBox(children=(FloatProgress(value=0.0, max=20.0), HTML(value='')))"
      ]
     },
     "metadata": {},
     "output_type": "display_data"
    },
    {
     "name": "stdout",
     "output_type": "stream",
     "text": [
      "\n"
     ]
    },
    {
     "data": {
      "application/vnd.jupyter.widget-view+json": {
       "model_id": "0acee89734e844cc9c3643d55a98ada2",
       "version_major": 2,
       "version_minor": 0
      },
      "text/plain": [
       "HBox(children=(FloatProgress(value=0.0, max=20.0), HTML(value='')))"
      ]
     },
     "metadata": {},
     "output_type": "display_data"
    },
    {
     "name": "stderr",
     "output_type": "stream",
     "text": [
      "/opt/conda/lib/python3.7/site-packages/selenium/webdriver/chrome/webdriver.py:50: DeprecationWarning: use options instead of chrome_options\n",
      "  warnings.warn('use options instead of chrome_options', DeprecationWarning)\n"
     ]
    },
    {
     "data": {
      "application/vnd.jupyter.widget-view+json": {
       "model_id": "4cf7f95bd5424c6db544deab27053892",
       "version_major": 2,
       "version_minor": 0
      },
      "text/plain": [
       "HBox(children=(FloatProgress(value=0.0, max=4.0), HTML(value='')))"
      ]
     },
     "metadata": {},
     "output_type": "display_data"
    },
    {
     "name": "stdout",
     "output_type": "stream",
     "text": [
      "\n"
     ]
    },
    {
     "data": {
      "application/vnd.jupyter.widget-view+json": {
       "model_id": "c001ca6b6ed64f55aaf6f96e985ef853",
       "version_major": 2,
       "version_minor": 0
      },
      "text/plain": [
       "HBox(children=(FloatProgress(value=0.0, max=3.0), HTML(value='')))"
      ]
     },
     "metadata": {},
     "output_type": "display_data"
    },
    {
     "name": "stdout",
     "output_type": "stream",
     "text": [
      "\n"
     ]
    },
    {
     "data": {
      "application/vnd.jupyter.widget-view+json": {
       "model_id": "b8e6d01df5734340a2238135e68133b8",
       "version_major": 2,
       "version_minor": 0
      },
      "text/plain": [
       "HBox(children=(FloatProgress(value=0.0, max=8.0), HTML(value='')))"
      ]
     },
     "metadata": {},
     "output_type": "display_data"
    },
    {
     "name": "stdout",
     "output_type": "stream",
     "text": [
      "\n"
     ]
    },
    {
     "data": {
      "application/vnd.jupyter.widget-view+json": {
       "model_id": "b1e8d5cdd6cc4b1a9722639599d03ac5",
       "version_major": 2,
       "version_minor": 0
      },
      "text/plain": [
       "HBox(children=(FloatProgress(value=0.0, max=3.0), HTML(value='')))"
      ]
     },
     "metadata": {},
     "output_type": "display_data"
    },
    {
     "name": "stdout",
     "output_type": "stream",
     "text": [
      "\n"
     ]
    },
    {
     "data": {
      "application/vnd.jupyter.widget-view+json": {
       "model_id": "a5ef07489313433e97c111d134e974b3",
       "version_major": 2,
       "version_minor": 0
      },
      "text/plain": [
       "HBox(children=(FloatProgress(value=0.0, max=7.0), HTML(value='')))"
      ]
     },
     "metadata": {},
     "output_type": "display_data"
    },
    {
     "name": "stdout",
     "output_type": "stream",
     "text": [
      "\n"
     ]
    },
    {
     "name": "stderr",
     "output_type": "stream",
     "text": [
      "/opt/conda/lib/python3.7/site-packages/selenium/webdriver/chrome/webdriver.py:50: DeprecationWarning: use options instead of chrome_options\n",
      "  warnings.warn('use options instead of chrome_options', DeprecationWarning)\n"
     ]
    },
    {
     "data": {
      "application/vnd.jupyter.widget-view+json": {
       "model_id": "8cb54fd646374d5c82dc2798cdc2bb12",
       "version_major": 2,
       "version_minor": 0
      },
      "text/plain": [
       "HBox(children=(FloatProgress(value=0.0, max=10.0), HTML(value='')))"
      ]
     },
     "metadata": {},
     "output_type": "display_data"
    },
    {
     "name": "stdout",
     "output_type": "stream",
     "text": [
      "\n"
     ]
    },
    {
     "data": {
      "application/vnd.jupyter.widget-view+json": {
       "model_id": "f9952b4ca250479bb07d52013cef0ca3",
       "version_major": 2,
       "version_minor": 0
      },
      "text/plain": [
       "HBox(children=(FloatProgress(value=0.0, max=2.0), HTML(value='')))"
      ]
     },
     "metadata": {},
     "output_type": "display_data"
    },
    {
     "name": "stdout",
     "output_type": "stream",
     "text": [
      "\n"
     ]
    },
    {
     "data": {
      "application/vnd.jupyter.widget-view+json": {
       "model_id": "2ba5d070a29c413b8ee19832e8c8de99",
       "version_major": 2,
       "version_minor": 0
      },
      "text/plain": [
       "HBox(children=(FloatProgress(value=1.0, bar_style='info', max=1.0), HTML(value='')))"
      ]
     },
     "metadata": {},
     "output_type": "display_data"
    },
    {
     "name": "stdout",
     "output_type": "stream",
     "text": [
      "\n"
     ]
    },
    {
     "data": {
      "application/vnd.jupyter.widget-view+json": {
       "model_id": "acbf3999b3be46fca824dd6871b2e899",
       "version_major": 2,
       "version_minor": 0
      },
      "text/plain": [
       "HBox(children=(FloatProgress(value=1.0, bar_style='info', max=1.0), HTML(value='')))"
      ]
     },
     "metadata": {},
     "output_type": "display_data"
    },
    {
     "name": "stdout",
     "output_type": "stream",
     "text": [
      "\n"
     ]
    },
    {
     "data": {
      "application/vnd.jupyter.widget-view+json": {
       "model_id": "e249500f2345482aaf8c72d7e981f002",
       "version_major": 2,
       "version_minor": 0
      },
      "text/plain": [
       "HBox(children=(FloatProgress(value=1.0, bar_style='info', max=1.0), HTML(value='')))"
      ]
     },
     "metadata": {},
     "output_type": "display_data"
    },
    {
     "name": "stdout",
     "output_type": "stream",
     "text": [
      "\n"
     ]
    },
    {
     "name": "stderr",
     "output_type": "stream",
     "text": [
      "/opt/conda/lib/python3.7/site-packages/selenium/webdriver/chrome/webdriver.py:50: DeprecationWarning: use options instead of chrome_options\n",
      "  warnings.warn('use options instead of chrome_options', DeprecationWarning)\n"
     ]
    },
    {
     "data": {
      "application/vnd.jupyter.widget-view+json": {
       "model_id": "08c16397720a428eb2fd3ba9aa993b99",
       "version_major": 2,
       "version_minor": 0
      },
      "text/plain": [
       "HBox(children=(FloatProgress(value=1.0, bar_style='info', max=1.0), HTML(value='')))"
      ]
     },
     "metadata": {},
     "output_type": "display_data"
    },
    {
     "name": "stdout",
     "output_type": "stream",
     "text": [
      "\n"
     ]
    },
    {
     "data": {
      "application/vnd.jupyter.widget-view+json": {
       "model_id": "9bc13506f518437892a51f34bb8cb9c6",
       "version_major": 2,
       "version_minor": 0
      },
      "text/plain": [
       "HBox(children=(FloatProgress(value=1.0, bar_style='info', max=1.0), HTML(value='')))"
      ]
     },
     "metadata": {},
     "output_type": "display_data"
    },
    {
     "name": "stdout",
     "output_type": "stream",
     "text": [
      "\n"
     ]
    },
    {
     "data": {
      "application/vnd.jupyter.widget-view+json": {
       "model_id": "2492749bfdf14b95949853acd79422fa",
       "version_major": 2,
       "version_minor": 0
      },
      "text/plain": [
       "HBox(children=(FloatProgress(value=1.0, bar_style='info', max=1.0), HTML(value='')))"
      ]
     },
     "metadata": {},
     "output_type": "display_data"
    },
    {
     "name": "stdout",
     "output_type": "stream",
     "text": [
      "\n"
     ]
    },
    {
     "data": {
      "application/vnd.jupyter.widget-view+json": {
       "model_id": "e4e71b9873d74db39128c10c47e84133",
       "version_major": 2,
       "version_minor": 0
      },
      "text/plain": [
       "HBox(children=(FloatProgress(value=1.0, bar_style='info', max=1.0), HTML(value='')))"
      ]
     },
     "metadata": {},
     "output_type": "display_data"
    },
    {
     "name": "stdout",
     "output_type": "stream",
     "text": [
      "\n"
     ]
    },
    {
     "data": {
      "application/vnd.jupyter.widget-view+json": {
       "model_id": "ec5d2d287ddb4a84b45891618b3973f3",
       "version_major": 2,
       "version_minor": 0
      },
      "text/plain": [
       "HBox(children=(FloatProgress(value=1.0, bar_style='info', max=1.0), HTML(value='')))"
      ]
     },
     "metadata": {},
     "output_type": "display_data"
    },
    {
     "name": "stdout",
     "output_type": "stream",
     "text": [
      "\n"
     ]
    },
    {
     "name": "stderr",
     "output_type": "stream",
     "text": [
      "/opt/conda/lib/python3.7/site-packages/selenium/webdriver/chrome/webdriver.py:50: DeprecationWarning: use options instead of chrome_options\n",
      "  warnings.warn('use options instead of chrome_options', DeprecationWarning)\n"
     ]
    },
    {
     "data": {
      "application/vnd.jupyter.widget-view+json": {
       "model_id": "4e781be7bc6045f6aa6cda88eeb68ac3",
       "version_major": 2,
       "version_minor": 0
      },
      "text/plain": [
       "HBox(children=(FloatProgress(value=1.0, bar_style='info', max=1.0), HTML(value='')))"
      ]
     },
     "metadata": {},
     "output_type": "display_data"
    },
    {
     "name": "stdout",
     "output_type": "stream",
     "text": [
      "\n"
     ]
    },
    {
     "data": {
      "application/vnd.jupyter.widget-view+json": {
       "model_id": "d44b82e8fec541e2a0ad207dfa982b0f",
       "version_major": 2,
       "version_minor": 0
      },
      "text/plain": [
       "HBox(children=(FloatProgress(value=1.0, bar_style='info', max=1.0), HTML(value='')))"
      ]
     },
     "metadata": {},
     "output_type": "display_data"
    },
    {
     "name": "stdout",
     "output_type": "stream",
     "text": [
      "\n"
     ]
    },
    {
     "data": {
      "application/vnd.jupyter.widget-view+json": {
       "model_id": "caaa1b268af7456399ce983564788f3b",
       "version_major": 2,
       "version_minor": 0
      },
      "text/plain": [
       "HBox(children=(FloatProgress(value=1.0, bar_style='info', max=1.0), HTML(value='')))"
      ]
     },
     "metadata": {},
     "output_type": "display_data"
    },
    {
     "name": "stdout",
     "output_type": "stream",
     "text": [
      "\n"
     ]
    },
    {
     "data": {
      "application/vnd.jupyter.widget-view+json": {
       "model_id": "452f8f135f4b4f1cb660e11fcdb55fc7",
       "version_major": 2,
       "version_minor": 0
      },
      "text/plain": [
       "HBox(children=(FloatProgress(value=1.0, bar_style='info', max=1.0), HTML(value='')))"
      ]
     },
     "metadata": {},
     "output_type": "display_data"
    },
    {
     "name": "stdout",
     "output_type": "stream",
     "text": [
      "\n"
     ]
    },
    {
     "data": {
      "application/vnd.jupyter.widget-view+json": {
       "model_id": "bc2190e9fc83482d8e412647202d50e4",
       "version_major": 2,
       "version_minor": 0
      },
      "text/plain": [
       "HBox(children=(FloatProgress(value=1.0, bar_style='info', max=1.0), HTML(value='')))"
      ]
     },
     "metadata": {},
     "output_type": "display_data"
    },
    {
     "name": "stdout",
     "output_type": "stream",
     "text": [
      "\n",
      "\n"
     ]
    },
    {
     "data": {
      "application/vnd.jupyter.widget-view+json": {
       "model_id": "2c51d63fe7a84a668fdcc8a3a502b8ec",
       "version_major": 2,
       "version_minor": 0
      },
      "text/plain": [
       "HBox(children=(FloatProgress(value=0.0, description='Preprocessing', max=20.0, style=ProgressStyle(description…"
      ]
     },
     "metadata": {},
     "output_type": "display_data"
    },
    {
     "name": "stdout",
     "output_type": "stream",
     "text": [
      "\n",
      "end :: 걱정 | 대체 | 들이 | 실제 | 피니언 | 사탕 | 강북 | 공유 | 국장 | 대담\n",
      "16번째 반복 중\n",
      "['keyword/keyword_0', 'keyword/keyword_1', 'keyword/keyword_10', 'keyword/keyword_100', 'keyword/keyword_101', 'keyword/keyword_102', 'keyword/keyword_103', 'keyword/keyword_104', 'keyword/keyword_105', 'keyword/keyword_106', 'keyword/keyword_107', 'keyword/keyword_108', 'keyword/keyword_109', 'keyword/keyword_11', 'keyword/keyword_110', 'keyword/keyword_111', 'keyword/keyword_112', 'keyword/keyword_113', 'keyword/keyword_114', 'keyword/keyword_115', 'keyword/keyword_116', 'keyword/keyword_117', 'keyword/keyword_118', 'keyword/keyword_119', 'keyword/keyword_12', 'keyword/keyword_120', 'keyword/keyword_121', 'keyword/keyword_122', 'keyword/keyword_123', 'keyword/keyword_124', 'keyword/keyword_125', 'keyword/keyword_126', 'keyword/keyword_127', 'keyword/keyword_128', 'keyword/keyword_129', 'keyword/keyword_13', 'keyword/keyword_130', 'keyword/keyword_131', 'keyword/keyword_132', 'keyword/keyword_133', 'keyword/keyword_134', 'keyword/keyword_135', 'keyword/keyword_136', 'keyword/keyword_137', 'keyword/keyword_138', 'keyword/keyword_139', 'keyword/keyword_14', 'keyword/keyword_140', 'keyword/keyword_141', 'keyword/keyword_142', 'keyword/keyword_143', 'keyword/keyword_144', 'keyword/keyword_145', 'keyword/keyword_146', 'keyword/keyword_147', 'keyword/keyword_148', 'keyword/keyword_149', 'keyword/keyword_15', 'keyword/keyword_16', 'keyword/keyword_17', 'keyword/keyword_18', 'keyword/keyword_19', 'keyword/keyword_2', 'keyword/keyword_20', 'keyword/keyword_21', 'keyword/keyword_22', 'keyword/keyword_23', 'keyword/keyword_24', 'keyword/keyword_25', 'keyword/keyword_26', 'keyword/keyword_27', 'keyword/keyword_28', 'keyword/keyword_29', 'keyword/keyword_3', 'keyword/keyword_30', 'keyword/keyword_31', 'keyword/keyword_32', 'keyword/keyword_33', 'keyword/keyword_34', 'keyword/keyword_35', 'keyword/keyword_36', 'keyword/keyword_37', 'keyword/keyword_38', 'keyword/keyword_39', 'keyword/keyword_4', 'keyword/keyword_40', 'keyword/keyword_41', 'keyword/keyword_42', 'keyword/keyword_43', 'keyword/keyword_44', 'keyword/keyword_45', 'keyword/keyword_46', 'keyword/keyword_47', 'keyword/keyword_48', 'keyword/keyword_49', 'keyword/keyword_5', 'keyword/keyword_50', 'keyword/keyword_51', 'keyword/keyword_52', 'keyword/keyword_53', 'keyword/keyword_54', 'keyword/keyword_55', 'keyword/keyword_56', 'keyword/keyword_57', 'keyword/keyword_58', 'keyword/keyword_59', 'keyword/keyword_6', 'keyword/keyword_60', 'keyword/keyword_61', 'keyword/keyword_62', 'keyword/keyword_63', 'keyword/keyword_64', 'keyword/keyword_65', 'keyword/keyword_66', 'keyword/keyword_67', 'keyword/keyword_68', 'keyword/keyword_69', 'keyword/keyword_7', 'keyword/keyword_70', 'keyword/keyword_71', 'keyword/keyword_72', 'keyword/keyword_73', 'keyword/keyword_74', 'keyword/keyword_75', 'keyword/keyword_76', 'keyword/keyword_77', 'keyword/keyword_78', 'keyword/keyword_79', 'keyword/keyword_8', 'keyword/keyword_80', 'keyword/keyword_81', 'keyword/keyword_82', 'keyword/keyword_83', 'keyword/keyword_84', 'keyword/keyword_85', 'keyword/keyword_86', 'keyword/keyword_87', 'keyword/keyword_88', 'keyword/keyword_89', 'keyword/keyword_9', 'keyword/keyword_90', 'keyword/keyword_91', 'keyword/keyword_92', 'keyword/keyword_93', 'keyword/keyword_94', 'keyword/keyword_95', 'keyword/keyword_96', 'keyword/keyword_97', 'keyword/keyword_98', 'keyword/keyword_99']\n",
      "150\n",
      "\n",
      "start :: 걱정 | 대체 | 들이 | 실제 | 피니언 | 사탕 | 강북 | 공유 | 국장 | 대담+\"음식 건강\"\n"
     ]
    },
    {
     "data": {
      "application/vnd.jupyter.widget-view+json": {
       "model_id": "5e65f406a1b1480b8a5e00ae6a6894c2",
       "version_major": 2,
       "version_minor": 0
      },
      "text/plain": [
       "HBox(children=(FloatProgress(value=0.0, max=20.0), HTML(value='')))"
      ]
     },
     "metadata": {},
     "output_type": "display_data"
    },
    {
     "name": "stdout",
     "output_type": "stream",
     "text": [
      "\n"
     ]
    },
    {
     "data": {
      "application/vnd.jupyter.widget-view+json": {
       "model_id": "0a75cadea52a4c8982e1fb5f6edba8f1",
       "version_major": 2,
       "version_minor": 0
      },
      "text/plain": [
       "HBox(children=(FloatProgress(value=0.0, max=20.0), HTML(value='')))"
      ]
     },
     "metadata": {},
     "output_type": "display_data"
    },
    {
     "name": "stderr",
     "output_type": "stream",
     "text": [
      "/opt/conda/lib/python3.7/site-packages/selenium/webdriver/chrome/webdriver.py:50: DeprecationWarning: use options instead of chrome_options\n",
      "  warnings.warn('use options instead of chrome_options', DeprecationWarning)\n"
     ]
    },
    {
     "data": {
      "application/vnd.jupyter.widget-view+json": {
       "model_id": "16e852b361a742f3bfb41f99260f8835",
       "version_major": 2,
       "version_minor": 0
      },
      "text/plain": [
       "HBox(children=(FloatProgress(value=0.0, max=3.0), HTML(value='')))"
      ]
     },
     "metadata": {},
     "output_type": "display_data"
    },
    {
     "name": "stdout",
     "output_type": "stream",
     "text": [
      "\n"
     ]
    },
    {
     "data": {
      "application/vnd.jupyter.widget-view+json": {
       "model_id": "473fdd783b02461d93aaa4e09465c768",
       "version_major": 2,
       "version_minor": 0
      },
      "text/plain": [
       "HBox(children=(FloatProgress(value=0.0, max=2.0), HTML(value='')))"
      ]
     },
     "metadata": {},
     "output_type": "display_data"
    },
    {
     "name": "stdout",
     "output_type": "stream",
     "text": [
      "\n"
     ]
    },
    {
     "data": {
      "application/vnd.jupyter.widget-view+json": {
       "model_id": "43ddcbf39a8e4c488e302e4be39103f5",
       "version_major": 2,
       "version_minor": 0
      },
      "text/plain": [
       "HBox(children=(FloatProgress(value=0.0, max=6.0), HTML(value='')))"
      ]
     },
     "metadata": {},
     "output_type": "display_data"
    },
    {
     "name": "stdout",
     "output_type": "stream",
     "text": [
      "\n"
     ]
    },
    {
     "data": {
      "application/vnd.jupyter.widget-view+json": {
       "model_id": "7c1771cc70da4e44bf31b3c642caf20e",
       "version_major": 2,
       "version_minor": 0
      },
      "text/plain": [
       "HBox(children=(FloatProgress(value=0.0, max=3.0), HTML(value='')))"
      ]
     },
     "metadata": {},
     "output_type": "display_data"
    },
    {
     "name": "stdout",
     "output_type": "stream",
     "text": [
      "\n"
     ]
    },
    {
     "data": {
      "application/vnd.jupyter.widget-view+json": {
       "model_id": "97a09fe310204cf0be13e6fd0da284c9",
       "version_major": 2,
       "version_minor": 0
      },
      "text/plain": [
       "HBox(children=(FloatProgress(value=0.0, max=8.0), HTML(value='')))"
      ]
     },
     "metadata": {},
     "output_type": "display_data"
    },
    {
     "name": "stdout",
     "output_type": "stream",
     "text": [
      "\n"
     ]
    },
    {
     "name": "stderr",
     "output_type": "stream",
     "text": [
      "/opt/conda/lib/python3.7/site-packages/selenium/webdriver/chrome/webdriver.py:50: DeprecationWarning: use options instead of chrome_options\n",
      "  warnings.warn('use options instead of chrome_options', DeprecationWarning)\n"
     ]
    },
    {
     "data": {
      "application/vnd.jupyter.widget-view+json": {
       "model_id": "2b90263cb6bc4b3c9faf91e6095ab4db",
       "version_major": 2,
       "version_minor": 0
      },
      "text/plain": [
       "HBox(children=(FloatProgress(value=0.0, max=4.0), HTML(value='')))"
      ]
     },
     "metadata": {},
     "output_type": "display_data"
    },
    {
     "name": "stdout",
     "output_type": "stream",
     "text": [
      "\n"
     ]
    },
    {
     "data": {
      "application/vnd.jupyter.widget-view+json": {
       "model_id": "c4e49ddbe13140dcbcb023c582b1d5ff",
       "version_major": 2,
       "version_minor": 0
      },
      "text/plain": [
       "HBox(children=(FloatProgress(value=0.0, max=4.0), HTML(value='')))"
      ]
     },
     "metadata": {},
     "output_type": "display_data"
    },
    {
     "name": "stdout",
     "output_type": "stream",
     "text": [
      "\n"
     ]
    },
    {
     "data": {
      "application/vnd.jupyter.widget-view+json": {
       "model_id": "4681436ea0b94e5c8746359de5de59e4",
       "version_major": 2,
       "version_minor": 0
      },
      "text/plain": [
       "HBox(children=(FloatProgress(value=0.0, max=8.0), HTML(value='')))"
      ]
     },
     "metadata": {},
     "output_type": "display_data"
    },
    {
     "name": "stdout",
     "output_type": "stream",
     "text": [
      "\n"
     ]
    },
    {
     "data": {
      "application/vnd.jupyter.widget-view+json": {
       "model_id": "2bd693cb274746248e6d8ade1384cd75",
       "version_major": 2,
       "version_minor": 0
      },
      "text/plain": [
       "HBox(children=(FloatProgress(value=0.0, max=10.0), HTML(value='')))"
      ]
     },
     "metadata": {},
     "output_type": "display_data"
    },
    {
     "name": "stdout",
     "output_type": "stream",
     "text": [
      "\n"
     ]
    },
    {
     "data": {
      "application/vnd.jupyter.widget-view+json": {
       "model_id": "a0ea58ff76c849fbb43b2a9a73a751dc",
       "version_major": 2,
       "version_minor": 0
      },
      "text/plain": [
       "HBox(children=(FloatProgress(value=1.0, bar_style='info', max=1.0), HTML(value='')))"
      ]
     },
     "metadata": {},
     "output_type": "display_data"
    },
    {
     "name": "stdout",
     "output_type": "stream",
     "text": [
      "\n"
     ]
    },
    {
     "name": "stderr",
     "output_type": "stream",
     "text": [
      "/opt/conda/lib/python3.7/site-packages/selenium/webdriver/chrome/webdriver.py:50: DeprecationWarning: use options instead of chrome_options\n",
      "  warnings.warn('use options instead of chrome_options', DeprecationWarning)\n"
     ]
    },
    {
     "data": {
      "application/vnd.jupyter.widget-view+json": {
       "model_id": "c8d54e8b5c6e400ca50ca54a647df485",
       "version_major": 2,
       "version_minor": 0
      },
      "text/plain": [
       "HBox(children=(FloatProgress(value=1.0, bar_style='info', max=1.0), HTML(value='')))"
      ]
     },
     "metadata": {},
     "output_type": "display_data"
    },
    {
     "name": "stdout",
     "output_type": "stream",
     "text": [
      "\n"
     ]
    },
    {
     "data": {
      "application/vnd.jupyter.widget-view+json": {
       "model_id": "57a9840ecd834a6888911762fc0af58e",
       "version_major": 2,
       "version_minor": 0
      },
      "text/plain": [
       "HBox(children=(FloatProgress(value=1.0, bar_style='info', max=1.0), HTML(value='')))"
      ]
     },
     "metadata": {},
     "output_type": "display_data"
    },
    {
     "name": "stdout",
     "output_type": "stream",
     "text": [
      "\n"
     ]
    },
    {
     "data": {
      "application/vnd.jupyter.widget-view+json": {
       "model_id": "d83ec21f517e4b5aa2e89d7ecb538e37",
       "version_major": 2,
       "version_minor": 0
      },
      "text/plain": [
       "HBox(children=(FloatProgress(value=1.0, bar_style='info', max=1.0), HTML(value='')))"
      ]
     },
     "metadata": {},
     "output_type": "display_data"
    },
    {
     "name": "stdout",
     "output_type": "stream",
     "text": [
      "\n"
     ]
    },
    {
     "data": {
      "application/vnd.jupyter.widget-view+json": {
       "model_id": "3a64914ea5bd49c8aadd89ac03de0c13",
       "version_major": 2,
       "version_minor": 0
      },
      "text/plain": [
       "HBox(children=(FloatProgress(value=1.0, bar_style='info', max=1.0), HTML(value='')))"
      ]
     },
     "metadata": {},
     "output_type": "display_data"
    },
    {
     "name": "stdout",
     "output_type": "stream",
     "text": [
      "\n"
     ]
    },
    {
     "data": {
      "application/vnd.jupyter.widget-view+json": {
       "model_id": "8d4a6a3ea91d4a7bb6156680651daf2e",
       "version_major": 2,
       "version_minor": 0
      },
      "text/plain": [
       "HBox(children=(FloatProgress(value=1.0, bar_style='info', max=1.0), HTML(value='')))"
      ]
     },
     "metadata": {},
     "output_type": "display_data"
    },
    {
     "name": "stdout",
     "output_type": "stream",
     "text": [
      "\n"
     ]
    },
    {
     "name": "stderr",
     "output_type": "stream",
     "text": [
      "/opt/conda/lib/python3.7/site-packages/selenium/webdriver/chrome/webdriver.py:50: DeprecationWarning: use options instead of chrome_options\n",
      "  warnings.warn('use options instead of chrome_options', DeprecationWarning)\n"
     ]
    },
    {
     "data": {
      "application/vnd.jupyter.widget-view+json": {
       "model_id": "91f12b7e7b904946bf8d2d62dd6b42fe",
       "version_major": 2,
       "version_minor": 0
      },
      "text/plain": [
       "HBox(children=(FloatProgress(value=1.0, bar_style='info', max=1.0), HTML(value='')))"
      ]
     },
     "metadata": {},
     "output_type": "display_data"
    },
    {
     "name": "stdout",
     "output_type": "stream",
     "text": [
      "\n"
     ]
    },
    {
     "data": {
      "application/vnd.jupyter.widget-view+json": {
       "model_id": "e9bd87b865734498a7f1334ce5e9eb4f",
       "version_major": 2,
       "version_minor": 0
      },
      "text/plain": [
       "HBox(children=(FloatProgress(value=1.0, bar_style='info', max=1.0), HTML(value='')))"
      ]
     },
     "metadata": {},
     "output_type": "display_data"
    },
    {
     "name": "stdout",
     "output_type": "stream",
     "text": [
      "\n"
     ]
    },
    {
     "data": {
      "application/vnd.jupyter.widget-view+json": {
       "model_id": "6b443be2dee74380a58ae9f6cf102c72",
       "version_major": 2,
       "version_minor": 0
      },
      "text/plain": [
       "HBox(children=(FloatProgress(value=1.0, bar_style='info', max=1.0), HTML(value='')))"
      ]
     },
     "metadata": {},
     "output_type": "display_data"
    },
    {
     "name": "stdout",
     "output_type": "stream",
     "text": [
      "\n"
     ]
    },
    {
     "data": {
      "application/vnd.jupyter.widget-view+json": {
       "model_id": "d3a75e92c9e24637a42588d53e3d1d3b",
       "version_major": 2,
       "version_minor": 0
      },
      "text/plain": [
       "HBox(children=(FloatProgress(value=1.0, bar_style='info', max=1.0), HTML(value='')))"
      ]
     },
     "metadata": {},
     "output_type": "display_data"
    },
    {
     "name": "stdout",
     "output_type": "stream",
     "text": [
      "\n"
     ]
    },
    {
     "data": {
      "application/vnd.jupyter.widget-view+json": {
       "model_id": "074718ac3da34bf583e693b92ba0d87c",
       "version_major": 2,
       "version_minor": 0
      },
      "text/plain": [
       "HBox(children=(FloatProgress(value=1.0, bar_style='info', max=1.0), HTML(value='')))"
      ]
     },
     "metadata": {},
     "output_type": "display_data"
    },
    {
     "name": "stdout",
     "output_type": "stream",
     "text": [
      "\n",
      "\n"
     ]
    },
    {
     "data": {
      "application/vnd.jupyter.widget-view+json": {
       "model_id": "8a8a2ffb0ad64778bf5566482c960efa",
       "version_major": 2,
       "version_minor": 0
      },
      "text/plain": [
       "HBox(children=(FloatProgress(value=0.0, description='Preprocessing', max=20.0, style=ProgressStyle(description…"
      ]
     },
     "metadata": {},
     "output_type": "display_data"
    },
    {
     "name": "stdout",
     "output_type": "stream",
     "text": [
      "\n",
      "end :: 정예 | 최성훈 | 리포트 | 복제 | 패치 | 트위터 | 이게 | 멀미 | 매거진 | 송학\n",
      "17번째 반복 중\n",
      "['keyword/keyword_0', 'keyword/keyword_1', 'keyword/keyword_10', 'keyword/keyword_100', 'keyword/keyword_101', 'keyword/keyword_102', 'keyword/keyword_103', 'keyword/keyword_104', 'keyword/keyword_105', 'keyword/keyword_106', 'keyword/keyword_107', 'keyword/keyword_108', 'keyword/keyword_109', 'keyword/keyword_11', 'keyword/keyword_110', 'keyword/keyword_111', 'keyword/keyword_112', 'keyword/keyword_113', 'keyword/keyword_114', 'keyword/keyword_115', 'keyword/keyword_116', 'keyword/keyword_117', 'keyword/keyword_118', 'keyword/keyword_119', 'keyword/keyword_12', 'keyword/keyword_120', 'keyword/keyword_121', 'keyword/keyword_122', 'keyword/keyword_123', 'keyword/keyword_124', 'keyword/keyword_125', 'keyword/keyword_126', 'keyword/keyword_127', 'keyword/keyword_128', 'keyword/keyword_129', 'keyword/keyword_13', 'keyword/keyword_130', 'keyword/keyword_131', 'keyword/keyword_132', 'keyword/keyword_133', 'keyword/keyword_134', 'keyword/keyword_135', 'keyword/keyword_136', 'keyword/keyword_137', 'keyword/keyword_138', 'keyword/keyword_139', 'keyword/keyword_14', 'keyword/keyword_140', 'keyword/keyword_141', 'keyword/keyword_142', 'keyword/keyword_143', 'keyword/keyword_144', 'keyword/keyword_145', 'keyword/keyword_146', 'keyword/keyword_147', 'keyword/keyword_148', 'keyword/keyword_149', 'keyword/keyword_15', 'keyword/keyword_150', 'keyword/keyword_16', 'keyword/keyword_17', 'keyword/keyword_18', 'keyword/keyword_19', 'keyword/keyword_2', 'keyword/keyword_20', 'keyword/keyword_21', 'keyword/keyword_22', 'keyword/keyword_23', 'keyword/keyword_24', 'keyword/keyword_25', 'keyword/keyword_26', 'keyword/keyword_27', 'keyword/keyword_28', 'keyword/keyword_29', 'keyword/keyword_3', 'keyword/keyword_30', 'keyword/keyword_31', 'keyword/keyword_32', 'keyword/keyword_33', 'keyword/keyword_34', 'keyword/keyword_35', 'keyword/keyword_36', 'keyword/keyword_37', 'keyword/keyword_38', 'keyword/keyword_39', 'keyword/keyword_4', 'keyword/keyword_40', 'keyword/keyword_41', 'keyword/keyword_42', 'keyword/keyword_43', 'keyword/keyword_44', 'keyword/keyword_45', 'keyword/keyword_46', 'keyword/keyword_47', 'keyword/keyword_48', 'keyword/keyword_49', 'keyword/keyword_5', 'keyword/keyword_50', 'keyword/keyword_51', 'keyword/keyword_52', 'keyword/keyword_53', 'keyword/keyword_54', 'keyword/keyword_55', 'keyword/keyword_56', 'keyword/keyword_57', 'keyword/keyword_58', 'keyword/keyword_59', 'keyword/keyword_6', 'keyword/keyword_60', 'keyword/keyword_61', 'keyword/keyword_62', 'keyword/keyword_63', 'keyword/keyword_64', 'keyword/keyword_65', 'keyword/keyword_66', 'keyword/keyword_67', 'keyword/keyword_68', 'keyword/keyword_69', 'keyword/keyword_7', 'keyword/keyword_70', 'keyword/keyword_71', 'keyword/keyword_72', 'keyword/keyword_73', 'keyword/keyword_74', 'keyword/keyword_75', 'keyword/keyword_76', 'keyword/keyword_77', 'keyword/keyword_78', 'keyword/keyword_79', 'keyword/keyword_8', 'keyword/keyword_80', 'keyword/keyword_81', 'keyword/keyword_82', 'keyword/keyword_83', 'keyword/keyword_84', 'keyword/keyword_85', 'keyword/keyword_86', 'keyword/keyword_87', 'keyword/keyword_88', 'keyword/keyword_89', 'keyword/keyword_9', 'keyword/keyword_90', 'keyword/keyword_91', 'keyword/keyword_92', 'keyword/keyword_93', 'keyword/keyword_94', 'keyword/keyword_95', 'keyword/keyword_96', 'keyword/keyword_97', 'keyword/keyword_98', 'keyword/keyword_99']\n",
      "151\n",
      "\n",
      "start :: 정예 | 최성훈 | 리포트 | 복제 | 패치 | 트위터 | 이게 | 멀미 | 매거진 | 송학+\"음식 건강\"\n"
     ]
    },
    {
     "data": {
      "application/vnd.jupyter.widget-view+json": {
       "model_id": "2f88499861624072adc21eb480cb925d",
       "version_major": 2,
       "version_minor": 0
      },
      "text/plain": [
       "HBox(children=(FloatProgress(value=0.0, max=20.0), HTML(value='')))"
      ]
     },
     "metadata": {},
     "output_type": "display_data"
    },
    {
     "name": "stdout",
     "output_type": "stream",
     "text": [
      "\n"
     ]
    },
    {
     "data": {
      "application/vnd.jupyter.widget-view+json": {
       "model_id": "96fa7a45c9b642bfa2990fb45be1ddf8",
       "version_major": 2,
       "version_minor": 0
      },
      "text/plain": [
       "HBox(children=(FloatProgress(value=0.0, max=20.0), HTML(value='')))"
      ]
     },
     "metadata": {},
     "output_type": "display_data"
    },
    {
     "name": "stderr",
     "output_type": "stream",
     "text": [
      "/opt/conda/lib/python3.7/site-packages/selenium/webdriver/chrome/webdriver.py:50: DeprecationWarning: use options instead of chrome_options\n",
      "  warnings.warn('use options instead of chrome_options', DeprecationWarning)\n"
     ]
    },
    {
     "data": {
      "application/vnd.jupyter.widget-view+json": {
       "model_id": "e0d86816630248e3be40392b42614747",
       "version_major": 2,
       "version_minor": 0
      },
      "text/plain": [
       "HBox(children=(FloatProgress(value=0.0, max=6.0), HTML(value='')))"
      ]
     },
     "metadata": {},
     "output_type": "display_data"
    },
    {
     "name": "stdout",
     "output_type": "stream",
     "text": [
      "\n"
     ]
    },
    {
     "data": {
      "application/vnd.jupyter.widget-view+json": {
       "model_id": "96c2610480ff4107ad38e6b2cef118e3",
       "version_major": 2,
       "version_minor": 0
      },
      "text/plain": [
       "HBox(children=(FloatProgress(value=0.0, max=10.0), HTML(value='')))"
      ]
     },
     "metadata": {},
     "output_type": "display_data"
    },
    {
     "name": "stdout",
     "output_type": "stream",
     "text": [
      "\n"
     ]
    },
    {
     "data": {
      "application/vnd.jupyter.widget-view+json": {
       "model_id": "175cf77610dc4892a10f4c8ce2e0a4eb",
       "version_major": 2,
       "version_minor": 0
      },
      "text/plain": [
       "HBox(children=(FloatProgress(value=0.0, max=6.0), HTML(value='')))"
      ]
     },
     "metadata": {},
     "output_type": "display_data"
    },
    {
     "name": "stdout",
     "output_type": "stream",
     "text": [
      "\n"
     ]
    },
    {
     "data": {
      "application/vnd.jupyter.widget-view+json": {
       "model_id": "a3a2145039d74a22837630aee6a5857d",
       "version_major": 2,
       "version_minor": 0
      },
      "text/plain": [
       "HBox(children=(FloatProgress(value=1.0, bar_style='info', max=1.0), HTML(value='')))"
      ]
     },
     "metadata": {},
     "output_type": "display_data"
    },
    {
     "name": "stdout",
     "output_type": "stream",
     "text": [
      "\n"
     ]
    },
    {
     "data": {
      "application/vnd.jupyter.widget-view+json": {
       "model_id": "d20dd43b56114317ae4cb2035ab6c628",
       "version_major": 2,
       "version_minor": 0
      },
      "text/plain": [
       "HBox(children=(FloatProgress(value=1.0, bar_style='info', max=1.0), HTML(value='')))"
      ]
     },
     "metadata": {},
     "output_type": "display_data"
    },
    {
     "name": "stdout",
     "output_type": "stream",
     "text": [
      "\n"
     ]
    },
    {
     "name": "stderr",
     "output_type": "stream",
     "text": [
      "/opt/conda/lib/python3.7/site-packages/selenium/webdriver/chrome/webdriver.py:50: DeprecationWarning: use options instead of chrome_options\n",
      "  warnings.warn('use options instead of chrome_options', DeprecationWarning)\n"
     ]
    },
    {
     "data": {
      "application/vnd.jupyter.widget-view+json": {
       "model_id": "fba31473e609462799922c42e3614625",
       "version_major": 2,
       "version_minor": 0
      },
      "text/plain": [
       "HBox(children=(FloatProgress(value=1.0, bar_style='info', max=1.0), HTML(value='')))"
      ]
     },
     "metadata": {},
     "output_type": "display_data"
    },
    {
     "name": "stdout",
     "output_type": "stream",
     "text": [
      "\n"
     ]
    },
    {
     "data": {
      "application/vnd.jupyter.widget-view+json": {
       "model_id": "e38887737f7446b59dfe53ceec864060",
       "version_major": 2,
       "version_minor": 0
      },
      "text/plain": [
       "HBox(children=(FloatProgress(value=1.0, bar_style='info', max=1.0), HTML(value='')))"
      ]
     },
     "metadata": {},
     "output_type": "display_data"
    },
    {
     "name": "stdout",
     "output_type": "stream",
     "text": [
      "\n"
     ]
    },
    {
     "data": {
      "application/vnd.jupyter.widget-view+json": {
       "model_id": "a6c960a7093f42dc8c51d488141841e5",
       "version_major": 2,
       "version_minor": 0
      },
      "text/plain": [
       "HBox(children=(FloatProgress(value=1.0, bar_style='info', max=1.0), HTML(value='')))"
      ]
     },
     "metadata": {},
     "output_type": "display_data"
    },
    {
     "name": "stdout",
     "output_type": "stream",
     "text": [
      "\n"
     ]
    },
    {
     "data": {
      "application/vnd.jupyter.widget-view+json": {
       "model_id": "05039653a9d44c3bb8886d1b57d38b15",
       "version_major": 2,
       "version_minor": 0
      },
      "text/plain": [
       "HBox(children=(FloatProgress(value=1.0, bar_style='info', max=1.0), HTML(value='')))"
      ]
     },
     "metadata": {},
     "output_type": "display_data"
    },
    {
     "name": "stdout",
     "output_type": "stream",
     "text": [
      "\n"
     ]
    },
    {
     "data": {
      "application/vnd.jupyter.widget-view+json": {
       "model_id": "2266dd486c524cc8b485e273d0ffda2c",
       "version_major": 2,
       "version_minor": 0
      },
      "text/plain": [
       "HBox(children=(FloatProgress(value=1.0, bar_style='info', max=1.0), HTML(value='')))"
      ]
     },
     "metadata": {},
     "output_type": "display_data"
    },
    {
     "name": "stdout",
     "output_type": "stream",
     "text": [
      "\n"
     ]
    },
    {
     "name": "stderr",
     "output_type": "stream",
     "text": [
      "/opt/conda/lib/python3.7/site-packages/selenium/webdriver/chrome/webdriver.py:50: DeprecationWarning: use options instead of chrome_options\n",
      "  warnings.warn('use options instead of chrome_options', DeprecationWarning)\n"
     ]
    },
    {
     "data": {
      "application/vnd.jupyter.widget-view+json": {
       "model_id": "9863dc35b37b43119b47e69e5c068255",
       "version_major": 2,
       "version_minor": 0
      },
      "text/plain": [
       "HBox(children=(FloatProgress(value=1.0, bar_style='info', max=1.0), HTML(value='')))"
      ]
     },
     "metadata": {},
     "output_type": "display_data"
    },
    {
     "name": "stdout",
     "output_type": "stream",
     "text": [
      "\n"
     ]
    },
    {
     "data": {
      "application/vnd.jupyter.widget-view+json": {
       "model_id": "59db1178c241458cad9ce68ba3bb95b1",
       "version_major": 2,
       "version_minor": 0
      },
      "text/plain": [
       "HBox(children=(FloatProgress(value=1.0, bar_style='info', max=1.0), HTML(value='')))"
      ]
     },
     "metadata": {},
     "output_type": "display_data"
    },
    {
     "name": "stdout",
     "output_type": "stream",
     "text": [
      "\n"
     ]
    },
    {
     "data": {
      "application/vnd.jupyter.widget-view+json": {
       "model_id": "4bccc1c44dec4cab938f978c5d21fd39",
       "version_major": 2,
       "version_minor": 0
      },
      "text/plain": [
       "HBox(children=(FloatProgress(value=1.0, bar_style='info', max=1.0), HTML(value='')))"
      ]
     },
     "metadata": {},
     "output_type": "display_data"
    },
    {
     "name": "stdout",
     "output_type": "stream",
     "text": [
      "\n"
     ]
    },
    {
     "data": {
      "application/vnd.jupyter.widget-view+json": {
       "model_id": "dfae97acb1fb4ae1841b18f485fd6165",
       "version_major": 2,
       "version_minor": 0
      },
      "text/plain": [
       "HBox(children=(FloatProgress(value=1.0, bar_style='info', max=1.0), HTML(value='')))"
      ]
     },
     "metadata": {},
     "output_type": "display_data"
    },
    {
     "name": "stdout",
     "output_type": "stream",
     "text": [
      "\n"
     ]
    },
    {
     "data": {
      "application/vnd.jupyter.widget-view+json": {
       "model_id": "c521d1f59e5548b4ac10fa283b63f907",
       "version_major": 2,
       "version_minor": 0
      },
      "text/plain": [
       "HBox(children=(FloatProgress(value=1.0, bar_style='info', max=1.0), HTML(value='')))"
      ]
     },
     "metadata": {},
     "output_type": "display_data"
    },
    {
     "name": "stdout",
     "output_type": "stream",
     "text": [
      "\n"
     ]
    },
    {
     "name": "stderr",
     "output_type": "stream",
     "text": [
      "/opt/conda/lib/python3.7/site-packages/selenium/webdriver/chrome/webdriver.py:50: DeprecationWarning: use options instead of chrome_options\n",
      "  warnings.warn('use options instead of chrome_options', DeprecationWarning)\n"
     ]
    },
    {
     "data": {
      "application/vnd.jupyter.widget-view+json": {
       "model_id": "f95311a3cf4d4dc2b180a57c9265b700",
       "version_major": 2,
       "version_minor": 0
      },
      "text/plain": [
       "HBox(children=(FloatProgress(value=1.0, bar_style='info', max=1.0), HTML(value='')))"
      ]
     },
     "metadata": {},
     "output_type": "display_data"
    },
    {
     "name": "stdout",
     "output_type": "stream",
     "text": [
      "\n"
     ]
    },
    {
     "data": {
      "application/vnd.jupyter.widget-view+json": {
       "model_id": "fa6a972d7e3142f0a60abba34c587e47",
       "version_major": 2,
       "version_minor": 0
      },
      "text/plain": [
       "HBox(children=(FloatProgress(value=1.0, bar_style='info', max=1.0), HTML(value='')))"
      ]
     },
     "metadata": {},
     "output_type": "display_data"
    },
    {
     "name": "stdout",
     "output_type": "stream",
     "text": [
      "\n"
     ]
    },
    {
     "data": {
      "application/vnd.jupyter.widget-view+json": {
       "model_id": "dbe87ee141714af9ae40f708230517a5",
       "version_major": 2,
       "version_minor": 0
      },
      "text/plain": [
       "HBox(children=(FloatProgress(value=1.0, bar_style='info', max=1.0), HTML(value='')))"
      ]
     },
     "metadata": {},
     "output_type": "display_data"
    },
    {
     "name": "stdout",
     "output_type": "stream",
     "text": [
      "\n"
     ]
    },
    {
     "data": {
      "application/vnd.jupyter.widget-view+json": {
       "model_id": "44e45b5cdf914acd8d2b3381a3254599",
       "version_major": 2,
       "version_minor": 0
      },
      "text/plain": [
       "HBox(children=(FloatProgress(value=1.0, bar_style='info', max=1.0), HTML(value='')))"
      ]
     },
     "metadata": {},
     "output_type": "display_data"
    },
    {
     "name": "stdout",
     "output_type": "stream",
     "text": [
      "\n"
     ]
    },
    {
     "data": {
      "application/vnd.jupyter.widget-view+json": {
       "model_id": "7cdf99841c924ded84df8dd4b237fc0b",
       "version_major": 2,
       "version_minor": 0
      },
      "text/plain": [
       "HBox(children=(FloatProgress(value=1.0, bar_style='info', max=1.0), HTML(value='')))"
      ]
     },
     "metadata": {},
     "output_type": "display_data"
    },
    {
     "name": "stdout",
     "output_type": "stream",
     "text": [
      "\n",
      "\n"
     ]
    },
    {
     "data": {
      "application/vnd.jupyter.widget-view+json": {
       "model_id": "1e49279df8974245be9245c965fb47b8",
       "version_major": 2,
       "version_minor": 0
      },
      "text/plain": [
       "HBox(children=(FloatProgress(value=0.0, description='Preprocessing', max=20.0, style=ProgressStyle(description…"
      ]
     },
     "metadata": {},
     "output_type": "display_data"
    },
    {
     "name": "stdout",
     "output_type": "stream",
     "text": [
      "\n",
      "end :: 김민영 | 산소 | 손상 | 식탐 | 이슬 | 반복 | 역류 | 왕혜문 | 확률 | 승차\n",
      "18번째 반복 중\n",
      "['keyword/keyword_0', 'keyword/keyword_1', 'keyword/keyword_10', 'keyword/keyword_100', 'keyword/keyword_101', 'keyword/keyword_102', 'keyword/keyword_103', 'keyword/keyword_104', 'keyword/keyword_105', 'keyword/keyword_106', 'keyword/keyword_107', 'keyword/keyword_108', 'keyword/keyword_109', 'keyword/keyword_11', 'keyword/keyword_110', 'keyword/keyword_111', 'keyword/keyword_112', 'keyword/keyword_113', 'keyword/keyword_114', 'keyword/keyword_115', 'keyword/keyword_116', 'keyword/keyword_117', 'keyword/keyword_118', 'keyword/keyword_119', 'keyword/keyword_12', 'keyword/keyword_120', 'keyword/keyword_121', 'keyword/keyword_122', 'keyword/keyword_123', 'keyword/keyword_124', 'keyword/keyword_125', 'keyword/keyword_126', 'keyword/keyword_127', 'keyword/keyword_128', 'keyword/keyword_129', 'keyword/keyword_13', 'keyword/keyword_130', 'keyword/keyword_131', 'keyword/keyword_132', 'keyword/keyword_133', 'keyword/keyword_134', 'keyword/keyword_135', 'keyword/keyword_136', 'keyword/keyword_137', 'keyword/keyword_138', 'keyword/keyword_139', 'keyword/keyword_14', 'keyword/keyword_140', 'keyword/keyword_141', 'keyword/keyword_142', 'keyword/keyword_143', 'keyword/keyword_144', 'keyword/keyword_145', 'keyword/keyword_146', 'keyword/keyword_147', 'keyword/keyword_148', 'keyword/keyword_149', 'keyword/keyword_15', 'keyword/keyword_150', 'keyword/keyword_151', 'keyword/keyword_16', 'keyword/keyword_17', 'keyword/keyword_18', 'keyword/keyword_19', 'keyword/keyword_2', 'keyword/keyword_20', 'keyword/keyword_21', 'keyword/keyword_22', 'keyword/keyword_23', 'keyword/keyword_24', 'keyword/keyword_25', 'keyword/keyword_26', 'keyword/keyword_27', 'keyword/keyword_28', 'keyword/keyword_29', 'keyword/keyword_3', 'keyword/keyword_30', 'keyword/keyword_31', 'keyword/keyword_32', 'keyword/keyword_33', 'keyword/keyword_34', 'keyword/keyword_35', 'keyword/keyword_36', 'keyword/keyword_37', 'keyword/keyword_38', 'keyword/keyword_39', 'keyword/keyword_4', 'keyword/keyword_40', 'keyword/keyword_41', 'keyword/keyword_42', 'keyword/keyword_43', 'keyword/keyword_44', 'keyword/keyword_45', 'keyword/keyword_46', 'keyword/keyword_47', 'keyword/keyword_48', 'keyword/keyword_49', 'keyword/keyword_5', 'keyword/keyword_50', 'keyword/keyword_51', 'keyword/keyword_52', 'keyword/keyword_53', 'keyword/keyword_54', 'keyword/keyword_55', 'keyword/keyword_56', 'keyword/keyword_57', 'keyword/keyword_58', 'keyword/keyword_59', 'keyword/keyword_6', 'keyword/keyword_60', 'keyword/keyword_61', 'keyword/keyword_62', 'keyword/keyword_63', 'keyword/keyword_64', 'keyword/keyword_65', 'keyword/keyword_66', 'keyword/keyword_67', 'keyword/keyword_68', 'keyword/keyword_69', 'keyword/keyword_7', 'keyword/keyword_70', 'keyword/keyword_71', 'keyword/keyword_72', 'keyword/keyword_73', 'keyword/keyword_74', 'keyword/keyword_75', 'keyword/keyword_76', 'keyword/keyword_77', 'keyword/keyword_78', 'keyword/keyword_79', 'keyword/keyword_8', 'keyword/keyword_80', 'keyword/keyword_81', 'keyword/keyword_82', 'keyword/keyword_83', 'keyword/keyword_84', 'keyword/keyword_85', 'keyword/keyword_86', 'keyword/keyword_87', 'keyword/keyword_88', 'keyword/keyword_89', 'keyword/keyword_9', 'keyword/keyword_90', 'keyword/keyword_91', 'keyword/keyword_92', 'keyword/keyword_93', 'keyword/keyword_94', 'keyword/keyword_95', 'keyword/keyword_96', 'keyword/keyword_97', 'keyword/keyword_98', 'keyword/keyword_99']\n",
      "152\n",
      "\n",
      "start :: 김민영 | 산소 | 손상 | 식탐 | 이슬 | 반복 | 역류 | 왕혜문 | 확률 | 승차+\"음식 건강\"\n"
     ]
    },
    {
     "data": {
      "application/vnd.jupyter.widget-view+json": {
       "model_id": "0235967099c544fe922c16e7e0c676db",
       "version_major": 2,
       "version_minor": 0
      },
      "text/plain": [
       "HBox(children=(FloatProgress(value=0.0, max=20.0), HTML(value='')))"
      ]
     },
     "metadata": {},
     "output_type": "display_data"
    },
    {
     "name": "stdout",
     "output_type": "stream",
     "text": [
      "\n"
     ]
    },
    {
     "data": {
      "application/vnd.jupyter.widget-view+json": {
       "model_id": "2065788224e94dc791ef617a91ee5782",
       "version_major": 2,
       "version_minor": 0
      },
      "text/plain": [
       "HBox(children=(FloatProgress(value=0.0, max=20.0), HTML(value='')))"
      ]
     },
     "metadata": {},
     "output_type": "display_data"
    },
    {
     "name": "stderr",
     "output_type": "stream",
     "text": [
      "/opt/conda/lib/python3.7/site-packages/selenium/webdriver/chrome/webdriver.py:50: DeprecationWarning: use options instead of chrome_options\n",
      "  warnings.warn('use options instead of chrome_options', DeprecationWarning)\n"
     ]
    },
    {
     "data": {
      "application/vnd.jupyter.widget-view+json": {
       "model_id": "a334533a0a314657a13ff47a91e154bf",
       "version_major": 2,
       "version_minor": 0
      },
      "text/plain": [
       "HBox(children=(FloatProgress(value=0.0, max=2.0), HTML(value='')))"
      ]
     },
     "metadata": {},
     "output_type": "display_data"
    },
    {
     "name": "stdout",
     "output_type": "stream",
     "text": [
      "\n"
     ]
    },
    {
     "data": {
      "application/vnd.jupyter.widget-view+json": {
       "model_id": "1eb054d056cd40479e4d9f8616a398e4",
       "version_major": 2,
       "version_minor": 0
      },
      "text/plain": [
       "HBox(children=(FloatProgress(value=0.0, max=1.0), HTML(value='')))"
      ]
     },
     "metadata": {},
     "output_type": "display_data"
    },
    {
     "name": "stdout",
     "output_type": "stream",
     "text": [
      "\n"
     ]
    },
    {
     "data": {
      "application/vnd.jupyter.widget-view+json": {
       "model_id": "0329c2c08817436f923a4626ee906736",
       "version_major": 2,
       "version_minor": 0
      },
      "text/plain": [
       "HBox(children=(FloatProgress(value=0.0, max=10.0), HTML(value='')))"
      ]
     },
     "metadata": {},
     "output_type": "display_data"
    },
    {
     "name": "stdout",
     "output_type": "stream",
     "text": [
      "\n"
     ]
    },
    {
     "data": {
      "application/vnd.jupyter.widget-view+json": {
       "model_id": "849a56dec35f4a49ba6942195a4f1a56",
       "version_major": 2,
       "version_minor": 0
      },
      "text/plain": [
       "HBox(children=(FloatProgress(value=0.0, max=7.0), HTML(value='')))"
      ]
     },
     "metadata": {},
     "output_type": "display_data"
    },
    {
     "name": "stdout",
     "output_type": "stream",
     "text": [
      "\n"
     ]
    },
    {
     "data": {
      "application/vnd.jupyter.widget-view+json": {
       "model_id": "039f374d52674a37a563e673dc53db6f",
       "version_major": 2,
       "version_minor": 0
      },
      "text/plain": [
       "HBox(children=(FloatProgress(value=0.0, max=7.0), HTML(value='')))"
      ]
     },
     "metadata": {},
     "output_type": "display_data"
    },
    {
     "name": "stdout",
     "output_type": "stream",
     "text": [
      "\n"
     ]
    },
    {
     "name": "stderr",
     "output_type": "stream",
     "text": [
      "/opt/conda/lib/python3.7/site-packages/selenium/webdriver/chrome/webdriver.py:50: DeprecationWarning: use options instead of chrome_options\n",
      "  warnings.warn('use options instead of chrome_options', DeprecationWarning)\n"
     ]
    },
    {
     "data": {
      "application/vnd.jupyter.widget-view+json": {
       "model_id": "33561f75981e4874a743f0080d4c76c7",
       "version_major": 2,
       "version_minor": 0
      },
      "text/plain": [
       "HBox(children=(FloatProgress(value=1.0, bar_style='info', max=1.0), HTML(value='')))"
      ]
     },
     "metadata": {},
     "output_type": "display_data"
    },
    {
     "name": "stdout",
     "output_type": "stream",
     "text": [
      "\n"
     ]
    },
    {
     "data": {
      "application/vnd.jupyter.widget-view+json": {
       "model_id": "b7f2db65546b40ff97d775fe1d5301b7",
       "version_major": 2,
       "version_minor": 0
      },
      "text/plain": [
       "HBox(children=(FloatProgress(value=1.0, bar_style='info', max=1.0), HTML(value='')))"
      ]
     },
     "metadata": {},
     "output_type": "display_data"
    },
    {
     "name": "stdout",
     "output_type": "stream",
     "text": [
      "\n"
     ]
    },
    {
     "data": {
      "application/vnd.jupyter.widget-view+json": {
       "model_id": "0f26272e8bb0460d99a18029fc978605",
       "version_major": 2,
       "version_minor": 0
      },
      "text/plain": [
       "HBox(children=(FloatProgress(value=1.0, bar_style='info', max=1.0), HTML(value='')))"
      ]
     },
     "metadata": {},
     "output_type": "display_data"
    },
    {
     "name": "stdout",
     "output_type": "stream",
     "text": [
      "\n"
     ]
    },
    {
     "data": {
      "application/vnd.jupyter.widget-view+json": {
       "model_id": "73761d6db06240379c63c94f73c9d0bd",
       "version_major": 2,
       "version_minor": 0
      },
      "text/plain": [
       "HBox(children=(FloatProgress(value=1.0, bar_style='info', max=1.0), HTML(value='')))"
      ]
     },
     "metadata": {},
     "output_type": "display_data"
    },
    {
     "name": "stdout",
     "output_type": "stream",
     "text": [
      "\n"
     ]
    },
    {
     "data": {
      "application/vnd.jupyter.widget-view+json": {
       "model_id": "34bed1375cb14fb184676eca0aced9e6",
       "version_major": 2,
       "version_minor": 0
      },
      "text/plain": [
       "HBox(children=(FloatProgress(value=1.0, bar_style='info', max=1.0), HTML(value='')))"
      ]
     },
     "metadata": {},
     "output_type": "display_data"
    },
    {
     "name": "stdout",
     "output_type": "stream",
     "text": [
      "\n"
     ]
    },
    {
     "name": "stderr",
     "output_type": "stream",
     "text": [
      "/opt/conda/lib/python3.7/site-packages/selenium/webdriver/chrome/webdriver.py:50: DeprecationWarning: use options instead of chrome_options\n",
      "  warnings.warn('use options instead of chrome_options', DeprecationWarning)\n"
     ]
    },
    {
     "data": {
      "application/vnd.jupyter.widget-view+json": {
       "model_id": "d398077aeb344873b6cdaf0d05cd4aab",
       "version_major": 2,
       "version_minor": 0
      },
      "text/plain": [
       "HBox(children=(FloatProgress(value=1.0, bar_style='info', max=1.0), HTML(value='')))"
      ]
     },
     "metadata": {},
     "output_type": "display_data"
    },
    {
     "name": "stdout",
     "output_type": "stream",
     "text": [
      "\n"
     ]
    },
    {
     "data": {
      "application/vnd.jupyter.widget-view+json": {
       "model_id": "5c60c5d93cf6438398a7b7c3080900f3",
       "version_major": 2,
       "version_minor": 0
      },
      "text/plain": [
       "HBox(children=(FloatProgress(value=1.0, bar_style='info', max=1.0), HTML(value='')))"
      ]
     },
     "metadata": {},
     "output_type": "display_data"
    },
    {
     "name": "stdout",
     "output_type": "stream",
     "text": [
      "\n"
     ]
    },
    {
     "data": {
      "application/vnd.jupyter.widget-view+json": {
       "model_id": "4704baefac29485f84379a32bfb72792",
       "version_major": 2,
       "version_minor": 0
      },
      "text/plain": [
       "HBox(children=(FloatProgress(value=1.0, bar_style='info', max=1.0), HTML(value='')))"
      ]
     },
     "metadata": {},
     "output_type": "display_data"
    },
    {
     "name": "stdout",
     "output_type": "stream",
     "text": [
      "\n"
     ]
    },
    {
     "data": {
      "application/vnd.jupyter.widget-view+json": {
       "model_id": "ed3b4efc609d4d0ea4f5b1b5380ecdd8",
       "version_major": 2,
       "version_minor": 0
      },
      "text/plain": [
       "HBox(children=(FloatProgress(value=1.0, bar_style='info', max=1.0), HTML(value='')))"
      ]
     },
     "metadata": {},
     "output_type": "display_data"
    },
    {
     "name": "stdout",
     "output_type": "stream",
     "text": [
      "\n"
     ]
    },
    {
     "data": {
      "application/vnd.jupyter.widget-view+json": {
       "model_id": "b1183c4513bf4901880421994bbb3bc8",
       "version_major": 2,
       "version_minor": 0
      },
      "text/plain": [
       "HBox(children=(FloatProgress(value=1.0, bar_style='info', max=1.0), HTML(value='')))"
      ]
     },
     "metadata": {},
     "output_type": "display_data"
    },
    {
     "name": "stdout",
     "output_type": "stream",
     "text": [
      "\n"
     ]
    },
    {
     "name": "stderr",
     "output_type": "stream",
     "text": [
      "/opt/conda/lib/python3.7/site-packages/selenium/webdriver/chrome/webdriver.py:50: DeprecationWarning: use options instead of chrome_options\n",
      "  warnings.warn('use options instead of chrome_options', DeprecationWarning)\n"
     ]
    },
    {
     "data": {
      "application/vnd.jupyter.widget-view+json": {
       "model_id": "7bda649d5de540afa8534f564f22d8c7",
       "version_major": 2,
       "version_minor": 0
      },
      "text/plain": [
       "HBox(children=(FloatProgress(value=1.0, bar_style='info', max=1.0), HTML(value='')))"
      ]
     },
     "metadata": {},
     "output_type": "display_data"
    },
    {
     "name": "stdout",
     "output_type": "stream",
     "text": [
      "\n"
     ]
    },
    {
     "data": {
      "application/vnd.jupyter.widget-view+json": {
       "model_id": "2a828d5dfe0d43e9912c45dc93112735",
       "version_major": 2,
       "version_minor": 0
      },
      "text/plain": [
       "HBox(children=(FloatProgress(value=1.0, bar_style='info', max=1.0), HTML(value='')))"
      ]
     },
     "metadata": {},
     "output_type": "display_data"
    },
    {
     "name": "stdout",
     "output_type": "stream",
     "text": [
      "\n"
     ]
    },
    {
     "data": {
      "application/vnd.jupyter.widget-view+json": {
       "model_id": "6b28655a85fb474eb7c6f5b91ce0eba7",
       "version_major": 2,
       "version_minor": 0
      },
      "text/plain": [
       "HBox(children=(FloatProgress(value=1.0, bar_style='info', max=1.0), HTML(value='')))"
      ]
     },
     "metadata": {},
     "output_type": "display_data"
    },
    {
     "name": "stdout",
     "output_type": "stream",
     "text": [
      "\n"
     ]
    },
    {
     "data": {
      "application/vnd.jupyter.widget-view+json": {
       "model_id": "f37fe437ebba478c814e6a1aaefb285f",
       "version_major": 2,
       "version_minor": 0
      },
      "text/plain": [
       "HBox(children=(FloatProgress(value=1.0, bar_style='info', max=1.0), HTML(value='')))"
      ]
     },
     "metadata": {},
     "output_type": "display_data"
    },
    {
     "name": "stdout",
     "output_type": "stream",
     "text": [
      "\n"
     ]
    },
    {
     "data": {
      "application/vnd.jupyter.widget-view+json": {
       "model_id": "2d742d49a7a24f6abd1d5f90459293bc",
       "version_major": 2,
       "version_minor": 0
      },
      "text/plain": [
       "HBox(children=(FloatProgress(value=1.0, bar_style='info', max=1.0), HTML(value='')))"
      ]
     },
     "metadata": {},
     "output_type": "display_data"
    },
    {
     "name": "stdout",
     "output_type": "stream",
     "text": [
      "\n",
      "\n"
     ]
    },
    {
     "data": {
      "application/vnd.jupyter.widget-view+json": {
       "model_id": "72c1c7bdc7dd4e37a43277906e26ec0e",
       "version_major": 2,
       "version_minor": 0
      },
      "text/plain": [
       "HBox(children=(FloatProgress(value=0.0, description='Preprocessing', max=20.0, style=ProgressStyle(description…"
      ]
     },
     "metadata": {},
     "output_type": "display_data"
    },
    {
     "name": "stdout",
     "output_type": "stream",
     "text": [
      "\n",
      "end :: 에나멜 | 자제 | 식도염 | 연세 | 장시간 | 강호동 | 미만 | 흉터 | 기관 | 중인\n",
      "19번째 반복 중\n",
      "['keyword/keyword_0', 'keyword/keyword_1', 'keyword/keyword_10', 'keyword/keyword_100', 'keyword/keyword_101', 'keyword/keyword_102', 'keyword/keyword_103', 'keyword/keyword_104', 'keyword/keyword_105', 'keyword/keyword_106', 'keyword/keyword_107', 'keyword/keyword_108', 'keyword/keyword_109', 'keyword/keyword_11', 'keyword/keyword_110', 'keyword/keyword_111', 'keyword/keyword_112', 'keyword/keyword_113', 'keyword/keyword_114', 'keyword/keyword_115', 'keyword/keyword_116', 'keyword/keyword_117', 'keyword/keyword_118', 'keyword/keyword_119', 'keyword/keyword_12', 'keyword/keyword_120', 'keyword/keyword_121', 'keyword/keyword_122', 'keyword/keyword_123', 'keyword/keyword_124', 'keyword/keyword_125', 'keyword/keyword_126', 'keyword/keyword_127', 'keyword/keyword_128', 'keyword/keyword_129', 'keyword/keyword_13', 'keyword/keyword_130', 'keyword/keyword_131', 'keyword/keyword_132', 'keyword/keyword_133', 'keyword/keyword_134', 'keyword/keyword_135', 'keyword/keyword_136', 'keyword/keyword_137', 'keyword/keyword_138', 'keyword/keyword_139', 'keyword/keyword_14', 'keyword/keyword_140', 'keyword/keyword_141', 'keyword/keyword_142', 'keyword/keyword_143', 'keyword/keyword_144', 'keyword/keyword_145', 'keyword/keyword_146', 'keyword/keyword_147', 'keyword/keyword_148', 'keyword/keyword_149', 'keyword/keyword_15', 'keyword/keyword_150', 'keyword/keyword_151', 'keyword/keyword_152', 'keyword/keyword_16', 'keyword/keyword_17', 'keyword/keyword_18', 'keyword/keyword_19', 'keyword/keyword_2', 'keyword/keyword_20', 'keyword/keyword_21', 'keyword/keyword_22', 'keyword/keyword_23', 'keyword/keyword_24', 'keyword/keyword_25', 'keyword/keyword_26', 'keyword/keyword_27', 'keyword/keyword_28', 'keyword/keyword_29', 'keyword/keyword_3', 'keyword/keyword_30', 'keyword/keyword_31', 'keyword/keyword_32', 'keyword/keyword_33', 'keyword/keyword_34', 'keyword/keyword_35', 'keyword/keyword_36', 'keyword/keyword_37', 'keyword/keyword_38', 'keyword/keyword_39', 'keyword/keyword_4', 'keyword/keyword_40', 'keyword/keyword_41', 'keyword/keyword_42', 'keyword/keyword_43', 'keyword/keyword_44', 'keyword/keyword_45', 'keyword/keyword_46', 'keyword/keyword_47', 'keyword/keyword_48', 'keyword/keyword_49', 'keyword/keyword_5', 'keyword/keyword_50', 'keyword/keyword_51', 'keyword/keyword_52', 'keyword/keyword_53', 'keyword/keyword_54', 'keyword/keyword_55', 'keyword/keyword_56', 'keyword/keyword_57', 'keyword/keyword_58', 'keyword/keyword_59', 'keyword/keyword_6', 'keyword/keyword_60', 'keyword/keyword_61', 'keyword/keyword_62', 'keyword/keyword_63', 'keyword/keyword_64', 'keyword/keyword_65', 'keyword/keyword_66', 'keyword/keyword_67', 'keyword/keyword_68', 'keyword/keyword_69', 'keyword/keyword_7', 'keyword/keyword_70', 'keyword/keyword_71', 'keyword/keyword_72', 'keyword/keyword_73', 'keyword/keyword_74', 'keyword/keyword_75', 'keyword/keyword_76', 'keyword/keyword_77', 'keyword/keyword_78', 'keyword/keyword_79', 'keyword/keyword_8', 'keyword/keyword_80', 'keyword/keyword_81', 'keyword/keyword_82', 'keyword/keyword_83', 'keyword/keyword_84', 'keyword/keyword_85', 'keyword/keyword_86', 'keyword/keyword_87', 'keyword/keyword_88', 'keyword/keyword_89', 'keyword/keyword_9', 'keyword/keyword_90', 'keyword/keyword_91', 'keyword/keyword_92', 'keyword/keyword_93', 'keyword/keyword_94', 'keyword/keyword_95', 'keyword/keyword_96', 'keyword/keyword_97', 'keyword/keyword_98', 'keyword/keyword_99']\n",
      "153\n",
      "\n",
      "start :: 에나멜 | 자제 | 식도염 | 연세 | 장시간 | 강호동 | 미만 | 흉터 | 기관 | 중인+\"음식 건강\"\n"
     ]
    },
    {
     "data": {
      "application/vnd.jupyter.widget-view+json": {
       "model_id": "d5da5e9443a04d67b4b935b3204669ac",
       "version_major": 2,
       "version_minor": 0
      },
      "text/plain": [
       "HBox(children=(FloatProgress(value=0.0, max=20.0), HTML(value='')))"
      ]
     },
     "metadata": {},
     "output_type": "display_data"
    },
    {
     "name": "stdout",
     "output_type": "stream",
     "text": [
      "\n"
     ]
    },
    {
     "data": {
      "application/vnd.jupyter.widget-view+json": {
       "model_id": "dcfd106650a0469fbfe9c87ff48d2658",
       "version_major": 2,
       "version_minor": 0
      },
      "text/plain": [
       "HBox(children=(FloatProgress(value=0.0, max=20.0), HTML(value='')))"
      ]
     },
     "metadata": {},
     "output_type": "display_data"
    },
    {
     "name": "stderr",
     "output_type": "stream",
     "text": [
      "/opt/conda/lib/python3.7/site-packages/selenium/webdriver/chrome/webdriver.py:50: DeprecationWarning: use options instead of chrome_options\n",
      "  warnings.warn('use options instead of chrome_options', DeprecationWarning)\n"
     ]
    },
    {
     "data": {
      "application/vnd.jupyter.widget-view+json": {
       "model_id": "31dfb2536215418d990085d6f2970ec5",
       "version_major": 2,
       "version_minor": 0
      },
      "text/plain": [
       "HBox(children=(FloatProgress(value=0.0, max=2.0), HTML(value='')))"
      ]
     },
     "metadata": {},
     "output_type": "display_data"
    },
    {
     "name": "stdout",
     "output_type": "stream",
     "text": [
      "\n"
     ]
    },
    {
     "data": {
      "application/vnd.jupyter.widget-view+json": {
       "model_id": "ab14d529c3c94ef791923ae50b2e53c0",
       "version_major": 2,
       "version_minor": 0
      },
      "text/plain": [
       "HBox(children=(FloatProgress(value=0.0, max=4.0), HTML(value='')))"
      ]
     },
     "metadata": {},
     "output_type": "display_data"
    },
    {
     "name": "stdout",
     "output_type": "stream",
     "text": [
      "\n"
     ]
    },
    {
     "data": {
      "application/vnd.jupyter.widget-view+json": {
       "model_id": "1ec4ba7a4def4e07b0d436646ee8fc5e",
       "version_major": 2,
       "version_minor": 0
      },
      "text/plain": [
       "HBox(children=(FloatProgress(value=1.0, bar_style='info', max=1.0), HTML(value='')))"
      ]
     },
     "metadata": {},
     "output_type": "display_data"
    },
    {
     "name": "stdout",
     "output_type": "stream",
     "text": [
      "\n"
     ]
    },
    {
     "data": {
      "application/vnd.jupyter.widget-view+json": {
       "model_id": "dc5020188f46453c8620f6ff5e66ba9f",
       "version_major": 2,
       "version_minor": 0
      },
      "text/plain": [
       "HBox(children=(FloatProgress(value=0.0, max=3.0), HTML(value='')))"
      ]
     },
     "metadata": {},
     "output_type": "display_data"
    },
    {
     "name": "stdout",
     "output_type": "stream",
     "text": [
      "\n"
     ]
    },
    {
     "data": {
      "application/vnd.jupyter.widget-view+json": {
       "model_id": "f7357d7e328c4b688fffc0d2fa7d89aa",
       "version_major": 2,
       "version_minor": 0
      },
      "text/plain": [
       "HBox(children=(FloatProgress(value=0.0, max=4.0), HTML(value='')))"
      ]
     },
     "metadata": {},
     "output_type": "display_data"
    },
    {
     "name": "stdout",
     "output_type": "stream",
     "text": [
      "\n"
     ]
    },
    {
     "name": "stderr",
     "output_type": "stream",
     "text": [
      "/opt/conda/lib/python3.7/site-packages/selenium/webdriver/chrome/webdriver.py:50: DeprecationWarning: use options instead of chrome_options\n",
      "  warnings.warn('use options instead of chrome_options', DeprecationWarning)\n"
     ]
    },
    {
     "data": {
      "application/vnd.jupyter.widget-view+json": {
       "model_id": "a8e43b3a77914491a96ec697c5e4dd4d",
       "version_major": 2,
       "version_minor": 0
      },
      "text/plain": [
       "HBox(children=(FloatProgress(value=0.0, max=8.0), HTML(value='')))"
      ]
     },
     "metadata": {},
     "output_type": "display_data"
    },
    {
     "name": "stdout",
     "output_type": "stream",
     "text": [
      "\n"
     ]
    },
    {
     "data": {
      "application/vnd.jupyter.widget-view+json": {
       "model_id": "ac27e6f22f3c42f6b6773432c1dc8072",
       "version_major": 2,
       "version_minor": 0
      },
      "text/plain": [
       "HBox(children=(FloatProgress(value=0.0, max=3.0), HTML(value='')))"
      ]
     },
     "metadata": {},
     "output_type": "display_data"
    },
    {
     "name": "stdout",
     "output_type": "stream",
     "text": [
      "\n"
     ]
    },
    {
     "data": {
      "application/vnd.jupyter.widget-view+json": {
       "model_id": "93d4afba371e471eb84889dead634f0d",
       "version_major": 2,
       "version_minor": 0
      },
      "text/plain": [
       "HBox(children=(FloatProgress(value=0.0, max=4.0), HTML(value='')))"
      ]
     },
     "metadata": {},
     "output_type": "display_data"
    },
    {
     "name": "stdout",
     "output_type": "stream",
     "text": [
      "\n"
     ]
    },
    {
     "data": {
      "application/vnd.jupyter.widget-view+json": {
       "model_id": "ed5c6521605e4b2c999e5f8760e90e1d",
       "version_major": 2,
       "version_minor": 0
      },
      "text/plain": [
       "HBox(children=(FloatProgress(value=0.0, max=5.0), HTML(value='')))"
      ]
     },
     "metadata": {},
     "output_type": "display_data"
    },
    {
     "name": "stdout",
     "output_type": "stream",
     "text": [
      "\n"
     ]
    },
    {
     "data": {
      "application/vnd.jupyter.widget-view+json": {
       "model_id": "af1f77885d314f63ae8cdd71abffb2b1",
       "version_major": 2,
       "version_minor": 0
      },
      "text/plain": [
       "HBox(children=(FloatProgress(value=0.0, max=7.0), HTML(value='')))"
      ]
     },
     "metadata": {},
     "output_type": "display_data"
    },
    {
     "name": "stdout",
     "output_type": "stream",
     "text": [
      "\n"
     ]
    },
    {
     "name": "stderr",
     "output_type": "stream",
     "text": [
      "/opt/conda/lib/python3.7/site-packages/selenium/webdriver/chrome/webdriver.py:50: DeprecationWarning: use options instead of chrome_options\n",
      "  warnings.warn('use options instead of chrome_options', DeprecationWarning)\n"
     ]
    },
    {
     "data": {
      "application/vnd.jupyter.widget-view+json": {
       "model_id": "3cfcf50bdeb74d88a8e88f74badc3807",
       "version_major": 2,
       "version_minor": 0
      },
      "text/plain": [
       "HBox(children=(FloatProgress(value=1.0, bar_style='info', max=1.0), HTML(value='')))"
      ]
     },
     "metadata": {},
     "output_type": "display_data"
    },
    {
     "name": "stdout",
     "output_type": "stream",
     "text": [
      "\n"
     ]
    },
    {
     "data": {
      "application/vnd.jupyter.widget-view+json": {
       "model_id": "4d7b9ab63466436fb1f8025ed146996e",
       "version_major": 2,
       "version_minor": 0
      },
      "text/plain": [
       "HBox(children=(FloatProgress(value=1.0, bar_style='info', max=1.0), HTML(value='')))"
      ]
     },
     "metadata": {},
     "output_type": "display_data"
    },
    {
     "name": "stdout",
     "output_type": "stream",
     "text": [
      "\n"
     ]
    },
    {
     "data": {
      "application/vnd.jupyter.widget-view+json": {
       "model_id": "ebb47dac214b47c9b5fd1f793a2435d3",
       "version_major": 2,
       "version_minor": 0
      },
      "text/plain": [
       "HBox(children=(FloatProgress(value=1.0, bar_style='info', max=1.0), HTML(value='')))"
      ]
     },
     "metadata": {},
     "output_type": "display_data"
    },
    {
     "name": "stdout",
     "output_type": "stream",
     "text": [
      "\n"
     ]
    },
    {
     "data": {
      "application/vnd.jupyter.widget-view+json": {
       "model_id": "52eafc8e781f4a098e694ac56330081d",
       "version_major": 2,
       "version_minor": 0
      },
      "text/plain": [
       "HBox(children=(FloatProgress(value=1.0, bar_style='info', max=1.0), HTML(value='')))"
      ]
     },
     "metadata": {},
     "output_type": "display_data"
    },
    {
     "name": "stdout",
     "output_type": "stream",
     "text": [
      "\n"
     ]
    },
    {
     "data": {
      "application/vnd.jupyter.widget-view+json": {
       "model_id": "cecd176252124b2c84deb7faba939043",
       "version_major": 2,
       "version_minor": 0
      },
      "text/plain": [
       "HBox(children=(FloatProgress(value=1.0, bar_style='info', max=1.0), HTML(value='')))"
      ]
     },
     "metadata": {},
     "output_type": "display_data"
    },
    {
     "name": "stdout",
     "output_type": "stream",
     "text": [
      "\n"
     ]
    },
    {
     "name": "stderr",
     "output_type": "stream",
     "text": [
      "/opt/conda/lib/python3.7/site-packages/selenium/webdriver/chrome/webdriver.py:50: DeprecationWarning: use options instead of chrome_options\n",
      "  warnings.warn('use options instead of chrome_options', DeprecationWarning)\n"
     ]
    },
    {
     "data": {
      "application/vnd.jupyter.widget-view+json": {
       "model_id": "0903380d51274b34892bc59017e74d80",
       "version_major": 2,
       "version_minor": 0
      },
      "text/plain": [
       "HBox(children=(FloatProgress(value=1.0, bar_style='info', max=1.0), HTML(value='')))"
      ]
     },
     "metadata": {},
     "output_type": "display_data"
    },
    {
     "name": "stdout",
     "output_type": "stream",
     "text": [
      "\n"
     ]
    },
    {
     "data": {
      "application/vnd.jupyter.widget-view+json": {
       "model_id": "b46f4a83626e4368ac5435e89de2ebab",
       "version_major": 2,
       "version_minor": 0
      },
      "text/plain": [
       "HBox(children=(FloatProgress(value=1.0, bar_style='info', max=1.0), HTML(value='')))"
      ]
     },
     "metadata": {},
     "output_type": "display_data"
    },
    {
     "name": "stdout",
     "output_type": "stream",
     "text": [
      "\n"
     ]
    },
    {
     "data": {
      "application/vnd.jupyter.widget-view+json": {
       "model_id": "1ec11431c6344682b6657bcd30941178",
       "version_major": 2,
       "version_minor": 0
      },
      "text/plain": [
       "HBox(children=(FloatProgress(value=1.0, bar_style='info', max=1.0), HTML(value='')))"
      ]
     },
     "metadata": {},
     "output_type": "display_data"
    },
    {
     "name": "stdout",
     "output_type": "stream",
     "text": [
      "\n"
     ]
    },
    {
     "data": {
      "application/vnd.jupyter.widget-view+json": {
       "model_id": "f29e0349e46c4f7da9a4437aa5b3827c",
       "version_major": 2,
       "version_minor": 0
      },
      "text/plain": [
       "HBox(children=(FloatProgress(value=1.0, bar_style='info', max=1.0), HTML(value='')))"
      ]
     },
     "metadata": {},
     "output_type": "display_data"
    },
    {
     "name": "stdout",
     "output_type": "stream",
     "text": [
      "\n"
     ]
    },
    {
     "data": {
      "application/vnd.jupyter.widget-view+json": {
       "model_id": "a27de51e282f4bc4b723f0ee53631823",
       "version_major": 2,
       "version_minor": 0
      },
      "text/plain": [
       "HBox(children=(FloatProgress(value=1.0, bar_style='info', max=1.0), HTML(value='')))"
      ]
     },
     "metadata": {},
     "output_type": "display_data"
    },
    {
     "name": "stdout",
     "output_type": "stream",
     "text": [
      "\n",
      "\n"
     ]
    },
    {
     "data": {
      "application/vnd.jupyter.widget-view+json": {
       "model_id": "2ebc418aa7d34eaf972f5ce193ba0931",
       "version_major": 2,
       "version_minor": 0
      },
      "text/plain": [
       "HBox(children=(FloatProgress(value=0.0, description='Preprocessing', max=20.0, style=ProgressStyle(description…"
      ]
     },
     "metadata": {},
     "output_type": "display_data"
    },
    {
     "name": "stdout",
     "output_type": "stream",
     "text": [
      "\n",
      "end :: 정상 | 상체 | 안심 | 동아 | 후회 | 부이 | 응급 | 라임 | 순간 | 진단\n",
      "20번째 반복 중\n",
      "['keyword/keyword_0', 'keyword/keyword_1', 'keyword/keyword_10', 'keyword/keyword_100', 'keyword/keyword_101', 'keyword/keyword_102', 'keyword/keyword_103', 'keyword/keyword_104', 'keyword/keyword_105', 'keyword/keyword_106', 'keyword/keyword_107', 'keyword/keyword_108', 'keyword/keyword_109', 'keyword/keyword_11', 'keyword/keyword_110', 'keyword/keyword_111', 'keyword/keyword_112', 'keyword/keyword_113', 'keyword/keyword_114', 'keyword/keyword_115', 'keyword/keyword_116', 'keyword/keyword_117', 'keyword/keyword_118', 'keyword/keyword_119', 'keyword/keyword_12', 'keyword/keyword_120', 'keyword/keyword_121', 'keyword/keyword_122', 'keyword/keyword_123', 'keyword/keyword_124', 'keyword/keyword_125', 'keyword/keyword_126', 'keyword/keyword_127', 'keyword/keyword_128', 'keyword/keyword_129', 'keyword/keyword_13', 'keyword/keyword_130', 'keyword/keyword_131', 'keyword/keyword_132', 'keyword/keyword_133', 'keyword/keyword_134', 'keyword/keyword_135', 'keyword/keyword_136', 'keyword/keyword_137', 'keyword/keyword_138', 'keyword/keyword_139', 'keyword/keyword_14', 'keyword/keyword_140', 'keyword/keyword_141', 'keyword/keyword_142', 'keyword/keyword_143', 'keyword/keyword_144', 'keyword/keyword_145', 'keyword/keyword_146', 'keyword/keyword_147', 'keyword/keyword_148', 'keyword/keyword_149', 'keyword/keyword_15', 'keyword/keyword_150', 'keyword/keyword_151', 'keyword/keyword_152', 'keyword/keyword_153', 'keyword/keyword_16', 'keyword/keyword_17', 'keyword/keyword_18', 'keyword/keyword_19', 'keyword/keyword_2', 'keyword/keyword_20', 'keyword/keyword_21', 'keyword/keyword_22', 'keyword/keyword_23', 'keyword/keyword_24', 'keyword/keyword_25', 'keyword/keyword_26', 'keyword/keyword_27', 'keyword/keyword_28', 'keyword/keyword_29', 'keyword/keyword_3', 'keyword/keyword_30', 'keyword/keyword_31', 'keyword/keyword_32', 'keyword/keyword_33', 'keyword/keyword_34', 'keyword/keyword_35', 'keyword/keyword_36', 'keyword/keyword_37', 'keyword/keyword_38', 'keyword/keyword_39', 'keyword/keyword_4', 'keyword/keyword_40', 'keyword/keyword_41', 'keyword/keyword_42', 'keyword/keyword_43', 'keyword/keyword_44', 'keyword/keyword_45', 'keyword/keyword_46', 'keyword/keyword_47', 'keyword/keyword_48', 'keyword/keyword_49', 'keyword/keyword_5', 'keyword/keyword_50', 'keyword/keyword_51', 'keyword/keyword_52', 'keyword/keyword_53', 'keyword/keyword_54', 'keyword/keyword_55', 'keyword/keyword_56', 'keyword/keyword_57', 'keyword/keyword_58', 'keyword/keyword_59', 'keyword/keyword_6', 'keyword/keyword_60', 'keyword/keyword_61', 'keyword/keyword_62', 'keyword/keyword_63', 'keyword/keyword_64', 'keyword/keyword_65', 'keyword/keyword_66', 'keyword/keyword_67', 'keyword/keyword_68', 'keyword/keyword_69', 'keyword/keyword_7', 'keyword/keyword_70', 'keyword/keyword_71', 'keyword/keyword_72', 'keyword/keyword_73', 'keyword/keyword_74', 'keyword/keyword_75', 'keyword/keyword_76', 'keyword/keyword_77', 'keyword/keyword_78', 'keyword/keyword_79', 'keyword/keyword_8', 'keyword/keyword_80', 'keyword/keyword_81', 'keyword/keyword_82', 'keyword/keyword_83', 'keyword/keyword_84', 'keyword/keyword_85', 'keyword/keyword_86', 'keyword/keyword_87', 'keyword/keyword_88', 'keyword/keyword_89', 'keyword/keyword_9', 'keyword/keyword_90', 'keyword/keyword_91', 'keyword/keyword_92', 'keyword/keyword_93', 'keyword/keyword_94', 'keyword/keyword_95', 'keyword/keyword_96', 'keyword/keyword_97', 'keyword/keyword_98', 'keyword/keyword_99']\n",
      "154\n",
      "\n",
      "start :: 정상 | 상체 | 안심 | 동아 | 후회 | 부이 | 응급 | 라임 | 순간 | 진단+\"음식 건강\"\n"
     ]
    },
    {
     "data": {
      "application/vnd.jupyter.widget-view+json": {
       "model_id": "cb750b2ce3bc4dc7b1151debdc176cb5",
       "version_major": 2,
       "version_minor": 0
      },
      "text/plain": [
       "HBox(children=(FloatProgress(value=0.0, max=20.0), HTML(value='')))"
      ]
     },
     "metadata": {},
     "output_type": "display_data"
    },
    {
     "name": "stdout",
     "output_type": "stream",
     "text": [
      "\n"
     ]
    },
    {
     "data": {
      "application/vnd.jupyter.widget-view+json": {
       "model_id": "7b1fd888795d47d5a95893515e7ff56d",
       "version_major": 2,
       "version_minor": 0
      },
      "text/plain": [
       "HBox(children=(FloatProgress(value=0.0, max=20.0), HTML(value='')))"
      ]
     },
     "metadata": {},
     "output_type": "display_data"
    },
    {
     "name": "stderr",
     "output_type": "stream",
     "text": [
      "/opt/conda/lib/python3.7/site-packages/selenium/webdriver/chrome/webdriver.py:50: DeprecationWarning: use options instead of chrome_options\n",
      "  warnings.warn('use options instead of chrome_options', DeprecationWarning)\n"
     ]
    },
    {
     "data": {
      "application/vnd.jupyter.widget-view+json": {
       "model_id": "18a442860acb426e9a4d0cb055e26e89",
       "version_major": 2,
       "version_minor": 0
      },
      "text/plain": [
       "HBox(children=(FloatProgress(value=0.0, max=5.0), HTML(value='')))"
      ]
     },
     "metadata": {},
     "output_type": "display_data"
    },
    {
     "name": "stdout",
     "output_type": "stream",
     "text": [
      "\n"
     ]
    },
    {
     "data": {
      "application/vnd.jupyter.widget-view+json": {
       "model_id": "381288af249e4bd98696c68834442e98",
       "version_major": 2,
       "version_minor": 0
      },
      "text/plain": [
       "HBox(children=(FloatProgress(value=0.0, max=1.0), HTML(value='')))"
      ]
     },
     "metadata": {},
     "output_type": "display_data"
    },
    {
     "name": "stdout",
     "output_type": "stream",
     "text": [
      "\n"
     ]
    },
    {
     "data": {
      "application/vnd.jupyter.widget-view+json": {
       "model_id": "6f986352f9e74716bdc9d055c0846b91",
       "version_major": 2,
       "version_minor": 0
      },
      "text/plain": [
       "HBox(children=(FloatProgress(value=0.0, max=5.0), HTML(value='')))"
      ]
     },
     "metadata": {},
     "output_type": "display_data"
    },
    {
     "name": "stdout",
     "output_type": "stream",
     "text": [
      "\n"
     ]
    },
    {
     "data": {
      "application/vnd.jupyter.widget-view+json": {
       "model_id": "7939bac2ad4d421eaa65caea4f2d8fbe",
       "version_major": 2,
       "version_minor": 0
      },
      "text/plain": [
       "HBox(children=(FloatProgress(value=0.0, max=7.0), HTML(value='')))"
      ]
     },
     "metadata": {},
     "output_type": "display_data"
    },
    {
     "name": "stdout",
     "output_type": "stream",
     "text": [
      "\n"
     ]
    },
    {
     "data": {
      "application/vnd.jupyter.widget-view+json": {
       "model_id": "6ae1a40cfb2c4d2a9521b28a86614b49",
       "version_major": 2,
       "version_minor": 0
      },
      "text/plain": [
       "HBox(children=(FloatProgress(value=0.0, max=4.0), HTML(value='')))"
      ]
     },
     "metadata": {},
     "output_type": "display_data"
    },
    {
     "name": "stdout",
     "output_type": "stream",
     "text": [
      "\n"
     ]
    },
    {
     "name": "stderr",
     "output_type": "stream",
     "text": [
      "/opt/conda/lib/python3.7/site-packages/selenium/webdriver/chrome/webdriver.py:50: DeprecationWarning: use options instead of chrome_options\n",
      "  warnings.warn('use options instead of chrome_options', DeprecationWarning)\n"
     ]
    },
    {
     "data": {
      "application/vnd.jupyter.widget-view+json": {
       "model_id": "e1adc702f18b48c38fe95bc243fe12f7",
       "version_major": 2,
       "version_minor": 0
      },
      "text/plain": [
       "HBox(children=(FloatProgress(value=0.0, max=6.0), HTML(value='')))"
      ]
     },
     "metadata": {},
     "output_type": "display_data"
    },
    {
     "name": "stdout",
     "output_type": "stream",
     "text": [
      "\n"
     ]
    },
    {
     "data": {
      "application/vnd.jupyter.widget-view+json": {
       "model_id": "8016aee4969a41b3a2d0562ba2410361",
       "version_major": 2,
       "version_minor": 0
      },
      "text/plain": [
       "HBox(children=(FloatProgress(value=0.0, max=10.0), HTML(value='')))"
      ]
     },
     "metadata": {},
     "output_type": "display_data"
    },
    {
     "name": "stdout",
     "output_type": "stream",
     "text": [
      "\n"
     ]
    },
    {
     "data": {
      "application/vnd.jupyter.widget-view+json": {
       "model_id": "ec86e2da33e8407baf550a46bbc0c46e",
       "version_major": 2,
       "version_minor": 0
      },
      "text/plain": [
       "HBox(children=(FloatProgress(value=0.0, max=5.0), HTML(value='')))"
      ]
     },
     "metadata": {},
     "output_type": "display_data"
    },
    {
     "name": "stdout",
     "output_type": "stream",
     "text": [
      "\n"
     ]
    },
    {
     "data": {
      "application/vnd.jupyter.widget-view+json": {
       "model_id": "61ec15225f524a1999f81b7bae23975f",
       "version_major": 2,
       "version_minor": 0
      },
      "text/plain": [
       "HBox(children=(FloatProgress(value=1.0, bar_style='info', max=1.0), HTML(value='')))"
      ]
     },
     "metadata": {},
     "output_type": "display_data"
    },
    {
     "name": "stdout",
     "output_type": "stream",
     "text": [
      "\n"
     ]
    },
    {
     "data": {
      "application/vnd.jupyter.widget-view+json": {
       "model_id": "6d587ea450d84fe089f0a4afccb164ec",
       "version_major": 2,
       "version_minor": 0
      },
      "text/plain": [
       "HBox(children=(FloatProgress(value=1.0, bar_style='info', max=1.0), HTML(value='')))"
      ]
     },
     "metadata": {},
     "output_type": "display_data"
    },
    {
     "name": "stdout",
     "output_type": "stream",
     "text": [
      "\n"
     ]
    },
    {
     "name": "stderr",
     "output_type": "stream",
     "text": [
      "/opt/conda/lib/python3.7/site-packages/selenium/webdriver/chrome/webdriver.py:50: DeprecationWarning: use options instead of chrome_options\n",
      "  warnings.warn('use options instead of chrome_options', DeprecationWarning)\n"
     ]
    },
    {
     "data": {
      "application/vnd.jupyter.widget-view+json": {
       "model_id": "48c1828808d94ab9af700427c532d014",
       "version_major": 2,
       "version_minor": 0
      },
      "text/plain": [
       "HBox(children=(FloatProgress(value=1.0, bar_style='info', max=1.0), HTML(value='')))"
      ]
     },
     "metadata": {},
     "output_type": "display_data"
    },
    {
     "name": "stdout",
     "output_type": "stream",
     "text": [
      "\n"
     ]
    },
    {
     "data": {
      "application/vnd.jupyter.widget-view+json": {
       "model_id": "0eebad209d584a568102b6028000337e",
       "version_major": 2,
       "version_minor": 0
      },
      "text/plain": [
       "HBox(children=(FloatProgress(value=1.0, bar_style='info', max=1.0), HTML(value='')))"
      ]
     },
     "metadata": {},
     "output_type": "display_data"
    },
    {
     "name": "stdout",
     "output_type": "stream",
     "text": [
      "\n"
     ]
    },
    {
     "data": {
      "application/vnd.jupyter.widget-view+json": {
       "model_id": "87f1e1ae3dec4d848618231fe35b7245",
       "version_major": 2,
       "version_minor": 0
      },
      "text/plain": [
       "HBox(children=(FloatProgress(value=1.0, bar_style='info', max=1.0), HTML(value='')))"
      ]
     },
     "metadata": {},
     "output_type": "display_data"
    },
    {
     "name": "stdout",
     "output_type": "stream",
     "text": [
      "\n"
     ]
    },
    {
     "data": {
      "application/vnd.jupyter.widget-view+json": {
       "model_id": "cd519d2688ea4b15ab02f972b1587b56",
       "version_major": 2,
       "version_minor": 0
      },
      "text/plain": [
       "HBox(children=(FloatProgress(value=1.0, bar_style='info', max=1.0), HTML(value='')))"
      ]
     },
     "metadata": {},
     "output_type": "display_data"
    },
    {
     "name": "stdout",
     "output_type": "stream",
     "text": [
      "\n"
     ]
    },
    {
     "data": {
      "application/vnd.jupyter.widget-view+json": {
       "model_id": "8520a87787a243519029266d2f45c183",
       "version_major": 2,
       "version_minor": 0
      },
      "text/plain": [
       "HBox(children=(FloatProgress(value=1.0, bar_style='info', max=1.0), HTML(value='')))"
      ]
     },
     "metadata": {},
     "output_type": "display_data"
    },
    {
     "name": "stdout",
     "output_type": "stream",
     "text": [
      "\n"
     ]
    },
    {
     "name": "stderr",
     "output_type": "stream",
     "text": [
      "/opt/conda/lib/python3.7/site-packages/selenium/webdriver/chrome/webdriver.py:50: DeprecationWarning: use options instead of chrome_options\n",
      "  warnings.warn('use options instead of chrome_options', DeprecationWarning)\n"
     ]
    },
    {
     "data": {
      "application/vnd.jupyter.widget-view+json": {
       "model_id": "c997fabd55e44227825c9dcc7a163591",
       "version_major": 2,
       "version_minor": 0
      },
      "text/plain": [
       "HBox(children=(FloatProgress(value=1.0, bar_style='info', max=1.0), HTML(value='')))"
      ]
     },
     "metadata": {},
     "output_type": "display_data"
    },
    {
     "name": "stdout",
     "output_type": "stream",
     "text": [
      "\n"
     ]
    },
    {
     "data": {
      "application/vnd.jupyter.widget-view+json": {
       "model_id": "eeacfeed68f443088ae6f1f8a6869e61",
       "version_major": 2,
       "version_minor": 0
      },
      "text/plain": [
       "HBox(children=(FloatProgress(value=1.0, bar_style='info', max=1.0), HTML(value='')))"
      ]
     },
     "metadata": {},
     "output_type": "display_data"
    },
    {
     "name": "stdout",
     "output_type": "stream",
     "text": [
      "\n"
     ]
    },
    {
     "data": {
      "application/vnd.jupyter.widget-view+json": {
       "model_id": "57c17652e0f343b1bb9bcd6be046c05e",
       "version_major": 2,
       "version_minor": 0
      },
      "text/plain": [
       "HBox(children=(FloatProgress(value=1.0, bar_style='info', max=1.0), HTML(value='')))"
      ]
     },
     "metadata": {},
     "output_type": "display_data"
    },
    {
     "name": "stdout",
     "output_type": "stream",
     "text": [
      "\n"
     ]
    },
    {
     "data": {
      "application/vnd.jupyter.widget-view+json": {
       "model_id": "9344192fd89e40a79ef562b375ac4fc6",
       "version_major": 2,
       "version_minor": 0
      },
      "text/plain": [
       "HBox(children=(FloatProgress(value=1.0, bar_style='info', max=1.0), HTML(value='')))"
      ]
     },
     "metadata": {},
     "output_type": "display_data"
    },
    {
     "name": "stdout",
     "output_type": "stream",
     "text": [
      "\n"
     ]
    },
    {
     "data": {
      "application/vnd.jupyter.widget-view+json": {
       "model_id": "8179d0eb81c84288beb729112332552e",
       "version_major": 2,
       "version_minor": 0
      },
      "text/plain": [
       "HBox(children=(FloatProgress(value=1.0, bar_style='info', max=1.0), HTML(value='')))"
      ]
     },
     "metadata": {},
     "output_type": "display_data"
    },
    {
     "name": "stdout",
     "output_type": "stream",
     "text": [
      "\n",
      "\n"
     ]
    },
    {
     "data": {
      "application/vnd.jupyter.widget-view+json": {
       "model_id": "7ef76603c7e54f25a626976e7e8757d8",
       "version_major": 2,
       "version_minor": 0
      },
      "text/plain": [
       "HBox(children=(FloatProgress(value=0.0, description='Preprocessing', max=20.0, style=ProgressStyle(description…"
      ]
     },
     "metadata": {},
     "output_type": "display_data"
    },
    {
     "name": "stdout",
     "output_type": "stream",
     "text": [
      "\n",
      "end :: 절인 | 구연산 | 태양인 | 조각 | 대답 | 채식 | 짠맛 | 인과 | 의식 | 콜라\n",
      "21번째 반복 중\n",
      "['keyword/keyword_0', 'keyword/keyword_1', 'keyword/keyword_10', 'keyword/keyword_100', 'keyword/keyword_101', 'keyword/keyword_102', 'keyword/keyword_103', 'keyword/keyword_104', 'keyword/keyword_105', 'keyword/keyword_106', 'keyword/keyword_107', 'keyword/keyword_108', 'keyword/keyword_109', 'keyword/keyword_11', 'keyword/keyword_110', 'keyword/keyword_111', 'keyword/keyword_112', 'keyword/keyword_113', 'keyword/keyword_114', 'keyword/keyword_115', 'keyword/keyword_116', 'keyword/keyword_117', 'keyword/keyword_118', 'keyword/keyword_119', 'keyword/keyword_12', 'keyword/keyword_120', 'keyword/keyword_121', 'keyword/keyword_122', 'keyword/keyword_123', 'keyword/keyword_124', 'keyword/keyword_125', 'keyword/keyword_126', 'keyword/keyword_127', 'keyword/keyword_128', 'keyword/keyword_129', 'keyword/keyword_13', 'keyword/keyword_130', 'keyword/keyword_131', 'keyword/keyword_132', 'keyword/keyword_133', 'keyword/keyword_134', 'keyword/keyword_135', 'keyword/keyword_136', 'keyword/keyword_137', 'keyword/keyword_138', 'keyword/keyword_139', 'keyword/keyword_14', 'keyword/keyword_140', 'keyword/keyword_141', 'keyword/keyword_142', 'keyword/keyword_143', 'keyword/keyword_144', 'keyword/keyword_145', 'keyword/keyword_146', 'keyword/keyword_147', 'keyword/keyword_148', 'keyword/keyword_149', 'keyword/keyword_15', 'keyword/keyword_150', 'keyword/keyword_151', 'keyword/keyword_152', 'keyword/keyword_153', 'keyword/keyword_154', 'keyword/keyword_16', 'keyword/keyword_17', 'keyword/keyword_18', 'keyword/keyword_19', 'keyword/keyword_2', 'keyword/keyword_20', 'keyword/keyword_21', 'keyword/keyword_22', 'keyword/keyword_23', 'keyword/keyword_24', 'keyword/keyword_25', 'keyword/keyword_26', 'keyword/keyword_27', 'keyword/keyword_28', 'keyword/keyword_29', 'keyword/keyword_3', 'keyword/keyword_30', 'keyword/keyword_31', 'keyword/keyword_32', 'keyword/keyword_33', 'keyword/keyword_34', 'keyword/keyword_35', 'keyword/keyword_36', 'keyword/keyword_37', 'keyword/keyword_38', 'keyword/keyword_39', 'keyword/keyword_4', 'keyword/keyword_40', 'keyword/keyword_41', 'keyword/keyword_42', 'keyword/keyword_43', 'keyword/keyword_44', 'keyword/keyword_45', 'keyword/keyword_46', 'keyword/keyword_47', 'keyword/keyword_48', 'keyword/keyword_49', 'keyword/keyword_5', 'keyword/keyword_50', 'keyword/keyword_51', 'keyword/keyword_52', 'keyword/keyword_53', 'keyword/keyword_54', 'keyword/keyword_55', 'keyword/keyword_56', 'keyword/keyword_57', 'keyword/keyword_58', 'keyword/keyword_59', 'keyword/keyword_6', 'keyword/keyword_60', 'keyword/keyword_61', 'keyword/keyword_62', 'keyword/keyword_63', 'keyword/keyword_64', 'keyword/keyword_65', 'keyword/keyword_66', 'keyword/keyword_67', 'keyword/keyword_68', 'keyword/keyword_69', 'keyword/keyword_7', 'keyword/keyword_70', 'keyword/keyword_71', 'keyword/keyword_72', 'keyword/keyword_73', 'keyword/keyword_74', 'keyword/keyword_75', 'keyword/keyword_76', 'keyword/keyword_77', 'keyword/keyword_78', 'keyword/keyword_79', 'keyword/keyword_8', 'keyword/keyword_80', 'keyword/keyword_81', 'keyword/keyword_82', 'keyword/keyword_83', 'keyword/keyword_84', 'keyword/keyword_85', 'keyword/keyword_86', 'keyword/keyword_87', 'keyword/keyword_88', 'keyword/keyword_89', 'keyword/keyword_9', 'keyword/keyword_90', 'keyword/keyword_91', 'keyword/keyword_92', 'keyword/keyword_93', 'keyword/keyword_94', 'keyword/keyword_95', 'keyword/keyword_96', 'keyword/keyword_97', 'keyword/keyword_98', 'keyword/keyword_99']\n",
      "155\n",
      "\n",
      "start :: 절인 | 구연산 | 태양인 | 조각 | 대답 | 채식 | 짠맛 | 인과 | 의식 | 콜라+\"음식 건강\"\n"
     ]
    },
    {
     "data": {
      "application/vnd.jupyter.widget-view+json": {
       "model_id": "ad8994ccfe2d461281db14b832dce994",
       "version_major": 2,
       "version_minor": 0
      },
      "text/plain": [
       "HBox(children=(FloatProgress(value=0.0, max=20.0), HTML(value='')))"
      ]
     },
     "metadata": {},
     "output_type": "display_data"
    },
    {
     "name": "stdout",
     "output_type": "stream",
     "text": [
      "\n"
     ]
    },
    {
     "data": {
      "application/vnd.jupyter.widget-view+json": {
       "model_id": "d1f3640f75f24510b8674b19875b9895",
       "version_major": 2,
       "version_minor": 0
      },
      "text/plain": [
       "HBox(children=(FloatProgress(value=0.0, max=20.0), HTML(value='')))"
      ]
     },
     "metadata": {},
     "output_type": "display_data"
    },
    {
     "name": "stderr",
     "output_type": "stream",
     "text": [
      "/opt/conda/lib/python3.7/site-packages/selenium/webdriver/chrome/webdriver.py:50: DeprecationWarning: use options instead of chrome_options\n",
      "  warnings.warn('use options instead of chrome_options', DeprecationWarning)\n"
     ]
    },
    {
     "data": {
      "application/vnd.jupyter.widget-view+json": {
       "model_id": "763eb41f5d694b7da2eed3822a7bf97f",
       "version_major": 2,
       "version_minor": 0
      },
      "text/plain": [
       "HBox(children=(FloatProgress(value=0.0, max=5.0), HTML(value='')))"
      ]
     },
     "metadata": {},
     "output_type": "display_data"
    },
    {
     "name": "stdout",
     "output_type": "stream",
     "text": [
      "\n"
     ]
    },
    {
     "data": {
      "application/vnd.jupyter.widget-view+json": {
       "model_id": "dd8d3ebdf6074404b02ce4c457d8a76e",
       "version_major": 2,
       "version_minor": 0
      },
      "text/plain": [
       "HBox(children=(FloatProgress(value=0.0, max=5.0), HTML(value='')))"
      ]
     },
     "metadata": {},
     "output_type": "display_data"
    },
    {
     "name": "stdout",
     "output_type": "stream",
     "text": [
      "\n"
     ]
    },
    {
     "data": {
      "application/vnd.jupyter.widget-view+json": {
       "model_id": "3f412ea2a0834da7af0b21eaf7e52c92",
       "version_major": 2,
       "version_minor": 0
      },
      "text/plain": [
       "HBox(children=(FloatProgress(value=0.0, max=9.0), HTML(value='')))"
      ]
     },
     "metadata": {},
     "output_type": "display_data"
    },
    {
     "name": "stdout",
     "output_type": "stream",
     "text": [
      "\n"
     ]
    },
    {
     "data": {
      "application/vnd.jupyter.widget-view+json": {
       "model_id": "34d28b1a837b4d728409eaa40d4b0d08",
       "version_major": 2,
       "version_minor": 0
      },
      "text/plain": [
       "HBox(children=(FloatProgress(value=0.0, max=10.0), HTML(value='')))"
      ]
     },
     "metadata": {},
     "output_type": "display_data"
    },
    {
     "name": "stdout",
     "output_type": "stream",
     "text": [
      "\n"
     ]
    },
    {
     "data": {
      "application/vnd.jupyter.widget-view+json": {
       "model_id": "f8d5a4c9c42e443595af3f6c31e6a1cd",
       "version_major": 2,
       "version_minor": 0
      },
      "text/plain": [
       "HBox(children=(FloatProgress(value=0.0, max=10.0), HTML(value='')))"
      ]
     },
     "metadata": {},
     "output_type": "display_data"
    },
    {
     "name": "stdout",
     "output_type": "stream",
     "text": [
      "\n"
     ]
    },
    {
     "name": "stderr",
     "output_type": "stream",
     "text": [
      "/opt/conda/lib/python3.7/site-packages/selenium/webdriver/chrome/webdriver.py:50: DeprecationWarning: use options instead of chrome_options\n",
      "  warnings.warn('use options instead of chrome_options', DeprecationWarning)\n"
     ]
    },
    {
     "data": {
      "application/vnd.jupyter.widget-view+json": {
       "model_id": "e73f6d0ab32645818e25ca7788958f9e",
       "version_major": 2,
       "version_minor": 0
      },
      "text/plain": [
       "HBox(children=(FloatProgress(value=0.0, max=3.0), HTML(value='')))"
      ]
     },
     "metadata": {},
     "output_type": "display_data"
    },
    {
     "name": "stdout",
     "output_type": "stream",
     "text": [
      "\n"
     ]
    },
    {
     "data": {
      "application/vnd.jupyter.widget-view+json": {
       "model_id": "cbccfff1dc3f489cb2d8c99a5a13e0ba",
       "version_major": 2,
       "version_minor": 0
      },
      "text/plain": [
       "HBox(children=(FloatProgress(value=1.0, bar_style='info', max=1.0), HTML(value='')))"
      ]
     },
     "metadata": {},
     "output_type": "display_data"
    },
    {
     "name": "stdout",
     "output_type": "stream",
     "text": [
      "\n"
     ]
    },
    {
     "data": {
      "application/vnd.jupyter.widget-view+json": {
       "model_id": "a26f61734a5340af97d12b374d0bdc2c",
       "version_major": 2,
       "version_minor": 0
      },
      "text/plain": [
       "HBox(children=(FloatProgress(value=1.0, bar_style='info', max=1.0), HTML(value='')))"
      ]
     },
     "metadata": {},
     "output_type": "display_data"
    },
    {
     "name": "stdout",
     "output_type": "stream",
     "text": [
      "\n"
     ]
    },
    {
     "data": {
      "application/vnd.jupyter.widget-view+json": {
       "model_id": "77f87fa2afa847529a24a5773349de75",
       "version_major": 2,
       "version_minor": 0
      },
      "text/plain": [
       "HBox(children=(FloatProgress(value=1.0, bar_style='info', max=1.0), HTML(value='')))"
      ]
     },
     "metadata": {},
     "output_type": "display_data"
    },
    {
     "name": "stdout",
     "output_type": "stream",
     "text": [
      "\n"
     ]
    },
    {
     "data": {
      "application/vnd.jupyter.widget-view+json": {
       "model_id": "d6a538f617c24c7185db9812fa940ea9",
       "version_major": 2,
       "version_minor": 0
      },
      "text/plain": [
       "HBox(children=(FloatProgress(value=1.0, bar_style='info', max=1.0), HTML(value='')))"
      ]
     },
     "metadata": {},
     "output_type": "display_data"
    },
    {
     "name": "stdout",
     "output_type": "stream",
     "text": [
      "\n"
     ]
    },
    {
     "name": "stderr",
     "output_type": "stream",
     "text": [
      "/opt/conda/lib/python3.7/site-packages/selenium/webdriver/chrome/webdriver.py:50: DeprecationWarning: use options instead of chrome_options\n",
      "  warnings.warn('use options instead of chrome_options', DeprecationWarning)\n"
     ]
    },
    {
     "data": {
      "application/vnd.jupyter.widget-view+json": {
       "model_id": "9095aa993ad34ceea0d26f85e0de7081",
       "version_major": 2,
       "version_minor": 0
      },
      "text/plain": [
       "HBox(children=(FloatProgress(value=1.0, bar_style='info', max=1.0), HTML(value='')))"
      ]
     },
     "metadata": {},
     "output_type": "display_data"
    },
    {
     "name": "stdout",
     "output_type": "stream",
     "text": [
      "\n"
     ]
    },
    {
     "data": {
      "application/vnd.jupyter.widget-view+json": {
       "model_id": "c6af4f06e80b4306b7bc598f1da82455",
       "version_major": 2,
       "version_minor": 0
      },
      "text/plain": [
       "HBox(children=(FloatProgress(value=1.0, bar_style='info', max=1.0), HTML(value='')))"
      ]
     },
     "metadata": {},
     "output_type": "display_data"
    },
    {
     "name": "stdout",
     "output_type": "stream",
     "text": [
      "\n"
     ]
    },
    {
     "data": {
      "application/vnd.jupyter.widget-view+json": {
       "model_id": "90b9b9a1e3834c0b8a13223a30723df3",
       "version_major": 2,
       "version_minor": 0
      },
      "text/plain": [
       "HBox(children=(FloatProgress(value=1.0, bar_style='info', max=1.0), HTML(value='')))"
      ]
     },
     "metadata": {},
     "output_type": "display_data"
    },
    {
     "name": "stdout",
     "output_type": "stream",
     "text": [
      "\n"
     ]
    },
    {
     "data": {
      "application/vnd.jupyter.widget-view+json": {
       "model_id": "409983c784e44ecbad4ab979b13513d9",
       "version_major": 2,
       "version_minor": 0
      },
      "text/plain": [
       "HBox(children=(FloatProgress(value=1.0, bar_style='info', max=1.0), HTML(value='')))"
      ]
     },
     "metadata": {},
     "output_type": "display_data"
    },
    {
     "name": "stdout",
     "output_type": "stream",
     "text": [
      "\n"
     ]
    },
    {
     "data": {
      "application/vnd.jupyter.widget-view+json": {
       "model_id": "d3e6832f2d4c434ba1d031aede31800b",
       "version_major": 2,
       "version_minor": 0
      },
      "text/plain": [
       "HBox(children=(FloatProgress(value=1.0, bar_style='info', max=1.0), HTML(value='')))"
      ]
     },
     "metadata": {},
     "output_type": "display_data"
    },
    {
     "name": "stdout",
     "output_type": "stream",
     "text": [
      "\n"
     ]
    },
    {
     "name": "stderr",
     "output_type": "stream",
     "text": [
      "/opt/conda/lib/python3.7/site-packages/selenium/webdriver/chrome/webdriver.py:50: DeprecationWarning: use options instead of chrome_options\n",
      "  warnings.warn('use options instead of chrome_options', DeprecationWarning)\n"
     ]
    },
    {
     "data": {
      "application/vnd.jupyter.widget-view+json": {
       "model_id": "c192e1cccbd146c7adc96369129d94de",
       "version_major": 2,
       "version_minor": 0
      },
      "text/plain": [
       "HBox(children=(FloatProgress(value=1.0, bar_style='info', max=1.0), HTML(value='')))"
      ]
     },
     "metadata": {},
     "output_type": "display_data"
    },
    {
     "name": "stdout",
     "output_type": "stream",
     "text": [
      "\n"
     ]
    },
    {
     "data": {
      "application/vnd.jupyter.widget-view+json": {
       "model_id": "02dd0f4ee101475590840746d53bf154",
       "version_major": 2,
       "version_minor": 0
      },
      "text/plain": [
       "HBox(children=(FloatProgress(value=1.0, bar_style='info', max=1.0), HTML(value='')))"
      ]
     },
     "metadata": {},
     "output_type": "display_data"
    },
    {
     "name": "stdout",
     "output_type": "stream",
     "text": [
      "\n"
     ]
    },
    {
     "data": {
      "application/vnd.jupyter.widget-view+json": {
       "model_id": "1db0e84f51c64949b9f7bb904d5f2393",
       "version_major": 2,
       "version_minor": 0
      },
      "text/plain": [
       "HBox(children=(FloatProgress(value=1.0, bar_style='info', max=1.0), HTML(value='')))"
      ]
     },
     "metadata": {},
     "output_type": "display_data"
    },
    {
     "name": "stdout",
     "output_type": "stream",
     "text": [
      "\n"
     ]
    },
    {
     "data": {
      "application/vnd.jupyter.widget-view+json": {
       "model_id": "1125d8958dbd412b8aab92c05cd0a9c3",
       "version_major": 2,
       "version_minor": 0
      },
      "text/plain": [
       "HBox(children=(FloatProgress(value=1.0, bar_style='info', max=1.0), HTML(value='')))"
      ]
     },
     "metadata": {},
     "output_type": "display_data"
    },
    {
     "name": "stdout",
     "output_type": "stream",
     "text": [
      "\n"
     ]
    },
    {
     "data": {
      "application/vnd.jupyter.widget-view+json": {
       "model_id": "19e10429f2024a178e5a31f4c995caa8",
       "version_major": 2,
       "version_minor": 0
      },
      "text/plain": [
       "HBox(children=(FloatProgress(value=1.0, bar_style='info', max=1.0), HTML(value='')))"
      ]
     },
     "metadata": {},
     "output_type": "display_data"
    },
    {
     "name": "stdout",
     "output_type": "stream",
     "text": [
      "\n",
      "\n"
     ]
    },
    {
     "data": {
      "application/vnd.jupyter.widget-view+json": {
       "model_id": "b27eb9ff796d4870b653d349634155e7",
       "version_major": 2,
       "version_minor": 0
      },
      "text/plain": [
       "HBox(children=(FloatProgress(value=0.0, description='Preprocessing', max=20.0, style=ProgressStyle(description…"
      ]
     },
     "metadata": {},
     "output_type": "display_data"
    },
    {
     "name": "stdout",
     "output_type": "stream",
     "text": [
      "\n",
      "end :: 백성 | 권위자 | 발간 | 청량 | 위기 | 식가 | 아내 | 과다 | 부부 | 비율\n",
      "22번째 반복 중\n",
      "['keyword/keyword_0', 'keyword/keyword_1', 'keyword/keyword_10', 'keyword/keyword_100', 'keyword/keyword_101', 'keyword/keyword_102', 'keyword/keyword_103', 'keyword/keyword_104', 'keyword/keyword_105', 'keyword/keyword_106', 'keyword/keyword_107', 'keyword/keyword_108', 'keyword/keyword_109', 'keyword/keyword_11', 'keyword/keyword_110', 'keyword/keyword_111', 'keyword/keyword_112', 'keyword/keyword_113', 'keyword/keyword_114', 'keyword/keyword_115', 'keyword/keyword_116', 'keyword/keyword_117', 'keyword/keyword_118', 'keyword/keyword_119', 'keyword/keyword_12', 'keyword/keyword_120', 'keyword/keyword_121', 'keyword/keyword_122', 'keyword/keyword_123', 'keyword/keyword_124', 'keyword/keyword_125', 'keyword/keyword_126', 'keyword/keyword_127', 'keyword/keyword_128', 'keyword/keyword_129', 'keyword/keyword_13', 'keyword/keyword_130', 'keyword/keyword_131', 'keyword/keyword_132', 'keyword/keyword_133', 'keyword/keyword_134', 'keyword/keyword_135', 'keyword/keyword_136', 'keyword/keyword_137', 'keyword/keyword_138', 'keyword/keyword_139', 'keyword/keyword_14', 'keyword/keyword_140', 'keyword/keyword_141', 'keyword/keyword_142', 'keyword/keyword_143', 'keyword/keyword_144', 'keyword/keyword_145', 'keyword/keyword_146', 'keyword/keyword_147', 'keyword/keyword_148', 'keyword/keyword_149', 'keyword/keyword_15', 'keyword/keyword_150', 'keyword/keyword_151', 'keyword/keyword_152', 'keyword/keyword_153', 'keyword/keyword_154', 'keyword/keyword_155', 'keyword/keyword_16', 'keyword/keyword_17', 'keyword/keyword_18', 'keyword/keyword_19', 'keyword/keyword_2', 'keyword/keyword_20', 'keyword/keyword_21', 'keyword/keyword_22', 'keyword/keyword_23', 'keyword/keyword_24', 'keyword/keyword_25', 'keyword/keyword_26', 'keyword/keyword_27', 'keyword/keyword_28', 'keyword/keyword_29', 'keyword/keyword_3', 'keyword/keyword_30', 'keyword/keyword_31', 'keyword/keyword_32', 'keyword/keyword_33', 'keyword/keyword_34', 'keyword/keyword_35', 'keyword/keyword_36', 'keyword/keyword_37', 'keyword/keyword_38', 'keyword/keyword_39', 'keyword/keyword_4', 'keyword/keyword_40', 'keyword/keyword_41', 'keyword/keyword_42', 'keyword/keyword_43', 'keyword/keyword_44', 'keyword/keyword_45', 'keyword/keyword_46', 'keyword/keyword_47', 'keyword/keyword_48', 'keyword/keyword_49', 'keyword/keyword_5', 'keyword/keyword_50', 'keyword/keyword_51', 'keyword/keyword_52', 'keyword/keyword_53', 'keyword/keyword_54', 'keyword/keyword_55', 'keyword/keyword_56', 'keyword/keyword_57', 'keyword/keyword_58', 'keyword/keyword_59', 'keyword/keyword_6', 'keyword/keyword_60', 'keyword/keyword_61', 'keyword/keyword_62', 'keyword/keyword_63', 'keyword/keyword_64', 'keyword/keyword_65', 'keyword/keyword_66', 'keyword/keyword_67', 'keyword/keyword_68', 'keyword/keyword_69', 'keyword/keyword_7', 'keyword/keyword_70', 'keyword/keyword_71', 'keyword/keyword_72', 'keyword/keyword_73', 'keyword/keyword_74', 'keyword/keyword_75', 'keyword/keyword_76', 'keyword/keyword_77', 'keyword/keyword_78', 'keyword/keyword_79', 'keyword/keyword_8', 'keyword/keyword_80', 'keyword/keyword_81', 'keyword/keyword_82', 'keyword/keyword_83', 'keyword/keyword_84', 'keyword/keyword_85', 'keyword/keyword_86', 'keyword/keyword_87', 'keyword/keyword_88', 'keyword/keyword_89', 'keyword/keyword_9', 'keyword/keyword_90', 'keyword/keyword_91', 'keyword/keyword_92', 'keyword/keyword_93', 'keyword/keyword_94', 'keyword/keyword_95', 'keyword/keyword_96', 'keyword/keyword_97', 'keyword/keyword_98', 'keyword/keyword_99']\n",
      "156\n",
      "\n",
      "start :: 백성 | 권위자 | 발간 | 청량 | 위기 | 식가 | 아내 | 과다 | 부부 | 비율+\"음식 건강\"\n"
     ]
    },
    {
     "data": {
      "application/vnd.jupyter.widget-view+json": {
       "model_id": "cf8d303cf33840c0a1e4d94c8c368a0d",
       "version_major": 2,
       "version_minor": 0
      },
      "text/plain": [
       "HBox(children=(FloatProgress(value=0.0, max=20.0), HTML(value='')))"
      ]
     },
     "metadata": {},
     "output_type": "display_data"
    },
    {
     "name": "stdout",
     "output_type": "stream",
     "text": [
      "\n"
     ]
    },
    {
     "data": {
      "application/vnd.jupyter.widget-view+json": {
       "model_id": "bec9e6cd4c784a50bbd942bbf7dcd1dc",
       "version_major": 2,
       "version_minor": 0
      },
      "text/plain": [
       "HBox(children=(FloatProgress(value=0.0, max=20.0), HTML(value='')))"
      ]
     },
     "metadata": {},
     "output_type": "display_data"
    },
    {
     "name": "stderr",
     "output_type": "stream",
     "text": [
      "/opt/conda/lib/python3.7/site-packages/selenium/webdriver/chrome/webdriver.py:50: DeprecationWarning: use options instead of chrome_options\n",
      "  warnings.warn('use options instead of chrome_options', DeprecationWarning)\n"
     ]
    },
    {
     "data": {
      "application/vnd.jupyter.widget-view+json": {
       "model_id": "d6eb3b9802d24d16ab5755ac7139b95f",
       "version_major": 2,
       "version_minor": 0
      },
      "text/plain": [
       "HBox(children=(FloatProgress(value=0.0, max=5.0), HTML(value='')))"
      ]
     },
     "metadata": {},
     "output_type": "display_data"
    },
    {
     "name": "stdout",
     "output_type": "stream",
     "text": [
      "\n"
     ]
    },
    {
     "data": {
      "application/vnd.jupyter.widget-view+json": {
       "model_id": "ef62003ead7d48dcb2d3a863d15eb081",
       "version_major": 2,
       "version_minor": 0
      },
      "text/plain": [
       "HBox(children=(FloatProgress(value=0.0, max=1.0), HTML(value='')))"
      ]
     },
     "metadata": {},
     "output_type": "display_data"
    },
    {
     "name": "stdout",
     "output_type": "stream",
     "text": [
      "\n"
     ]
    },
    {
     "data": {
      "application/vnd.jupyter.widget-view+json": {
       "model_id": "6f46bc84f7f542078fd4937a1fc97082",
       "version_major": 2,
       "version_minor": 0
      },
      "text/plain": [
       "HBox(children=(FloatProgress(value=0.0, max=4.0), HTML(value='')))"
      ]
     },
     "metadata": {},
     "output_type": "display_data"
    },
    {
     "name": "stdout",
     "output_type": "stream",
     "text": [
      "\n"
     ]
    },
    {
     "data": {
      "application/vnd.jupyter.widget-view+json": {
       "model_id": "54986438dc9941a1939414c54411f56e",
       "version_major": 2,
       "version_minor": 0
      },
      "text/plain": [
       "HBox(children=(FloatProgress(value=0.0, max=7.0), HTML(value='')))"
      ]
     },
     "metadata": {},
     "output_type": "display_data"
    },
    {
     "name": "stdout",
     "output_type": "stream",
     "text": [
      "\n"
     ]
    },
    {
     "data": {
      "application/vnd.jupyter.widget-view+json": {
       "model_id": "598472b46bfd49709ecca65de33c27ae",
       "version_major": 2,
       "version_minor": 0
      },
      "text/plain": [
       "HBox(children=(FloatProgress(value=0.0, max=4.0), HTML(value='')))"
      ]
     },
     "metadata": {},
     "output_type": "display_data"
    },
    {
     "name": "stdout",
     "output_type": "stream",
     "text": [
      "\n"
     ]
    },
    {
     "name": "stderr",
     "output_type": "stream",
     "text": [
      "/opt/conda/lib/python3.7/site-packages/selenium/webdriver/chrome/webdriver.py:50: DeprecationWarning: use options instead of chrome_options\n",
      "  warnings.warn('use options instead of chrome_options', DeprecationWarning)\n"
     ]
    },
    {
     "data": {
      "application/vnd.jupyter.widget-view+json": {
       "model_id": "11154bd9abb94c6b8082e9306589997d",
       "version_major": 2,
       "version_minor": 0
      },
      "text/plain": [
       "HBox(children=(FloatProgress(value=0.0, max=7.0), HTML(value='')))"
      ]
     },
     "metadata": {},
     "output_type": "display_data"
    },
    {
     "name": "stdout",
     "output_type": "stream",
     "text": [
      "\n"
     ]
    },
    {
     "data": {
      "application/vnd.jupyter.widget-view+json": {
       "model_id": "0564678173d54d37be4698e7763a3bf4",
       "version_major": 2,
       "version_minor": 0
      },
      "text/plain": [
       "HBox(children=(FloatProgress(value=0.0, max=10.0), HTML(value='')))"
      ]
     },
     "metadata": {},
     "output_type": "display_data"
    },
    {
     "name": "stdout",
     "output_type": "stream",
     "text": [
      "\n"
     ]
    },
    {
     "data": {
      "application/vnd.jupyter.widget-view+json": {
       "model_id": "ea270d58dc934d789d0fb44236d0d916",
       "version_major": 2,
       "version_minor": 0
      },
      "text/plain": [
       "HBox(children=(FloatProgress(value=0.0, max=10.0), HTML(value='')))"
      ]
     },
     "metadata": {},
     "output_type": "display_data"
    },
    {
     "name": "stdout",
     "output_type": "stream",
     "text": [
      "\n"
     ]
    },
    {
     "data": {
      "application/vnd.jupyter.widget-view+json": {
       "model_id": "ca2d0851eb5d4d8ca2f46ade6d3ccbaa",
       "version_major": 2,
       "version_minor": 0
      },
      "text/plain": [
       "HBox(children=(FloatProgress(value=0.0, max=1.0), HTML(value='')))"
      ]
     },
     "metadata": {},
     "output_type": "display_data"
    },
    {
     "name": "stdout",
     "output_type": "stream",
     "text": [
      "\n"
     ]
    },
    {
     "data": {
      "application/vnd.jupyter.widget-view+json": {
       "model_id": "3cf93804eb4c4c0da2d4f1154811d6cc",
       "version_major": 2,
       "version_minor": 0
      },
      "text/plain": [
       "HBox(children=(FloatProgress(value=1.0, bar_style='info', max=1.0), HTML(value='')))"
      ]
     },
     "metadata": {},
     "output_type": "display_data"
    },
    {
     "name": "stdout",
     "output_type": "stream",
     "text": [
      "\n"
     ]
    },
    {
     "name": "stderr",
     "output_type": "stream",
     "text": [
      "/opt/conda/lib/python3.7/site-packages/selenium/webdriver/chrome/webdriver.py:50: DeprecationWarning: use options instead of chrome_options\n",
      "  warnings.warn('use options instead of chrome_options', DeprecationWarning)\n"
     ]
    },
    {
     "data": {
      "application/vnd.jupyter.widget-view+json": {
       "model_id": "39ad5405bb554a989cbae99ea56df289",
       "version_major": 2,
       "version_minor": 0
      },
      "text/plain": [
       "HBox(children=(FloatProgress(value=1.0, bar_style='info', max=1.0), HTML(value='')))"
      ]
     },
     "metadata": {},
     "output_type": "display_data"
    },
    {
     "name": "stdout",
     "output_type": "stream",
     "text": [
      "\n"
     ]
    },
    {
     "data": {
      "application/vnd.jupyter.widget-view+json": {
       "model_id": "496976b08db3466fbd2ecfc0cc6b83fa",
       "version_major": 2,
       "version_minor": 0
      },
      "text/plain": [
       "HBox(children=(FloatProgress(value=1.0, bar_style='info', max=1.0), HTML(value='')))"
      ]
     },
     "metadata": {},
     "output_type": "display_data"
    },
    {
     "name": "stdout",
     "output_type": "stream",
     "text": [
      "\n"
     ]
    },
    {
     "data": {
      "application/vnd.jupyter.widget-view+json": {
       "model_id": "cee1727212494ba6986ba544a5393ba5",
       "version_major": 2,
       "version_minor": 0
      },
      "text/plain": [
       "HBox(children=(FloatProgress(value=1.0, bar_style='info', max=1.0), HTML(value='')))"
      ]
     },
     "metadata": {},
     "output_type": "display_data"
    },
    {
     "name": "stdout",
     "output_type": "stream",
     "text": [
      "\n"
     ]
    },
    {
     "data": {
      "application/vnd.jupyter.widget-view+json": {
       "model_id": "f3d4af93af424ce7a4462665de3241dc",
       "version_major": 2,
       "version_minor": 0
      },
      "text/plain": [
       "HBox(children=(FloatProgress(value=1.0, bar_style='info', max=1.0), HTML(value='')))"
      ]
     },
     "metadata": {},
     "output_type": "display_data"
    },
    {
     "name": "stdout",
     "output_type": "stream",
     "text": [
      "\n"
     ]
    },
    {
     "data": {
      "application/vnd.jupyter.widget-view+json": {
       "model_id": "a1f7159200a64ea5b84a69d4c2c256d4",
       "version_major": 2,
       "version_minor": 0
      },
      "text/plain": [
       "HBox(children=(FloatProgress(value=1.0, bar_style='info', max=1.0), HTML(value='')))"
      ]
     },
     "metadata": {},
     "output_type": "display_data"
    },
    {
     "name": "stdout",
     "output_type": "stream",
     "text": [
      "\n"
     ]
    },
    {
     "name": "stderr",
     "output_type": "stream",
     "text": [
      "/opt/conda/lib/python3.7/site-packages/selenium/webdriver/chrome/webdriver.py:50: DeprecationWarning: use options instead of chrome_options\n",
      "  warnings.warn('use options instead of chrome_options', DeprecationWarning)\n"
     ]
    },
    {
     "data": {
      "application/vnd.jupyter.widget-view+json": {
       "model_id": "4ea3a610e05d4ad2a5e035d252b62686",
       "version_major": 2,
       "version_minor": 0
      },
      "text/plain": [
       "HBox(children=(FloatProgress(value=1.0, bar_style='info', max=1.0), HTML(value='')))"
      ]
     },
     "metadata": {},
     "output_type": "display_data"
    },
    {
     "name": "stdout",
     "output_type": "stream",
     "text": [
      "\n"
     ]
    },
    {
     "data": {
      "application/vnd.jupyter.widget-view+json": {
       "model_id": "a91a7f306695457080af405f7a272a89",
       "version_major": 2,
       "version_minor": 0
      },
      "text/plain": [
       "HBox(children=(FloatProgress(value=1.0, bar_style='info', max=1.0), HTML(value='')))"
      ]
     },
     "metadata": {},
     "output_type": "display_data"
    },
    {
     "name": "stdout",
     "output_type": "stream",
     "text": [
      "\n"
     ]
    },
    {
     "data": {
      "application/vnd.jupyter.widget-view+json": {
       "model_id": "ead7cc66a6e04d8cba453a4a9b6d40ce",
       "version_major": 2,
       "version_minor": 0
      },
      "text/plain": [
       "HBox(children=(FloatProgress(value=1.0, bar_style='info', max=1.0), HTML(value='')))"
      ]
     },
     "metadata": {},
     "output_type": "display_data"
    },
    {
     "name": "stdout",
     "output_type": "stream",
     "text": [
      "\n"
     ]
    },
    {
     "data": {
      "application/vnd.jupyter.widget-view+json": {
       "model_id": "61e7bb13f4b94d2c8bf868c211c73f27",
       "version_major": 2,
       "version_minor": 0
      },
      "text/plain": [
       "HBox(children=(FloatProgress(value=1.0, bar_style='info', max=1.0), HTML(value='')))"
      ]
     },
     "metadata": {},
     "output_type": "display_data"
    },
    {
     "name": "stdout",
     "output_type": "stream",
     "text": [
      "\n"
     ]
    },
    {
     "data": {
      "application/vnd.jupyter.widget-view+json": {
       "model_id": "74e7412347124e51a42ee1978a7278e7",
       "version_major": 2,
       "version_minor": 0
      },
      "text/plain": [
       "HBox(children=(FloatProgress(value=1.0, bar_style='info', max=1.0), HTML(value='')))"
      ]
     },
     "metadata": {},
     "output_type": "display_data"
    },
    {
     "name": "stdout",
     "output_type": "stream",
     "text": [
      "\n",
      "\n"
     ]
    },
    {
     "data": {
      "application/vnd.jupyter.widget-view+json": {
       "model_id": "6c7cb208c36548ff87866c31e6e1d3cc",
       "version_major": 2,
       "version_minor": 0
      },
      "text/plain": [
       "HBox(children=(FloatProgress(value=0.0, description='Preprocessing', max=20.0, style=ProgressStyle(description…"
      ]
     },
     "metadata": {},
     "output_type": "display_data"
    },
    {
     "name": "stdout",
     "output_type": "stream",
     "text": [
      "\n",
      "end :: 남자 | 대한민국 | 언론 | 횟수 | 기초 | 가닥 | 연못 | 대형 | 중기 | 특유\n",
      "23번째 반복 중\n",
      "['keyword/keyword_0', 'keyword/keyword_1', 'keyword/keyword_10', 'keyword/keyword_100', 'keyword/keyword_101', 'keyword/keyword_102', 'keyword/keyword_103', 'keyword/keyword_104', 'keyword/keyword_105', 'keyword/keyword_106', 'keyword/keyword_107', 'keyword/keyword_108', 'keyword/keyword_109', 'keyword/keyword_11', 'keyword/keyword_110', 'keyword/keyword_111', 'keyword/keyword_112', 'keyword/keyword_113', 'keyword/keyword_114', 'keyword/keyword_115', 'keyword/keyword_116', 'keyword/keyword_117', 'keyword/keyword_118', 'keyword/keyword_119', 'keyword/keyword_12', 'keyword/keyword_120', 'keyword/keyword_121', 'keyword/keyword_122', 'keyword/keyword_123', 'keyword/keyword_124', 'keyword/keyword_125', 'keyword/keyword_126', 'keyword/keyword_127', 'keyword/keyword_128', 'keyword/keyword_129', 'keyword/keyword_13', 'keyword/keyword_130', 'keyword/keyword_131', 'keyword/keyword_132', 'keyword/keyword_133', 'keyword/keyword_134', 'keyword/keyword_135', 'keyword/keyword_136', 'keyword/keyword_137', 'keyword/keyword_138', 'keyword/keyword_139', 'keyword/keyword_14', 'keyword/keyword_140', 'keyword/keyword_141', 'keyword/keyword_142', 'keyword/keyword_143', 'keyword/keyword_144', 'keyword/keyword_145', 'keyword/keyword_146', 'keyword/keyword_147', 'keyword/keyword_148', 'keyword/keyword_149', 'keyword/keyword_15', 'keyword/keyword_150', 'keyword/keyword_151', 'keyword/keyword_152', 'keyword/keyword_153', 'keyword/keyword_154', 'keyword/keyword_155', 'keyword/keyword_156', 'keyword/keyword_16', 'keyword/keyword_17', 'keyword/keyword_18', 'keyword/keyword_19', 'keyword/keyword_2', 'keyword/keyword_20', 'keyword/keyword_21', 'keyword/keyword_22', 'keyword/keyword_23', 'keyword/keyword_24', 'keyword/keyword_25', 'keyword/keyword_26', 'keyword/keyword_27', 'keyword/keyword_28', 'keyword/keyword_29', 'keyword/keyword_3', 'keyword/keyword_30', 'keyword/keyword_31', 'keyword/keyword_32', 'keyword/keyword_33', 'keyword/keyword_34', 'keyword/keyword_35', 'keyword/keyword_36', 'keyword/keyword_37', 'keyword/keyword_38', 'keyword/keyword_39', 'keyword/keyword_4', 'keyword/keyword_40', 'keyword/keyword_41', 'keyword/keyword_42', 'keyword/keyword_43', 'keyword/keyword_44', 'keyword/keyword_45', 'keyword/keyword_46', 'keyword/keyword_47', 'keyword/keyword_48', 'keyword/keyword_49', 'keyword/keyword_5', 'keyword/keyword_50', 'keyword/keyword_51', 'keyword/keyword_52', 'keyword/keyword_53', 'keyword/keyword_54', 'keyword/keyword_55', 'keyword/keyword_56', 'keyword/keyword_57', 'keyword/keyword_58', 'keyword/keyword_59', 'keyword/keyword_6', 'keyword/keyword_60', 'keyword/keyword_61', 'keyword/keyword_62', 'keyword/keyword_63', 'keyword/keyword_64', 'keyword/keyword_65', 'keyword/keyword_66', 'keyword/keyword_67', 'keyword/keyword_68', 'keyword/keyword_69', 'keyword/keyword_7', 'keyword/keyword_70', 'keyword/keyword_71', 'keyword/keyword_72', 'keyword/keyword_73', 'keyword/keyword_74', 'keyword/keyword_75', 'keyword/keyword_76', 'keyword/keyword_77', 'keyword/keyword_78', 'keyword/keyword_79', 'keyword/keyword_8', 'keyword/keyword_80', 'keyword/keyword_81', 'keyword/keyword_82', 'keyword/keyword_83', 'keyword/keyword_84', 'keyword/keyword_85', 'keyword/keyword_86', 'keyword/keyword_87', 'keyword/keyword_88', 'keyword/keyword_89', 'keyword/keyword_9', 'keyword/keyword_90', 'keyword/keyword_91', 'keyword/keyword_92', 'keyword/keyword_93', 'keyword/keyword_94', 'keyword/keyword_95', 'keyword/keyword_96', 'keyword/keyword_97', 'keyword/keyword_98', 'keyword/keyword_99']\n",
      "157\n",
      "\n",
      "start :: 남자 | 대한민국 | 언론 | 횟수 | 기초 | 가닥 | 연못 | 대형 | 중기 | 특유+\"음식 건강\"\n"
     ]
    },
    {
     "data": {
      "application/vnd.jupyter.widget-view+json": {
       "model_id": "0ed50f9f822a4522a547f5c04a926735",
       "version_major": 2,
       "version_minor": 0
      },
      "text/plain": [
       "HBox(children=(FloatProgress(value=0.0, max=20.0), HTML(value='')))"
      ]
     },
     "metadata": {},
     "output_type": "display_data"
    },
    {
     "name": "stdout",
     "output_type": "stream",
     "text": [
      "\n"
     ]
    },
    {
     "data": {
      "application/vnd.jupyter.widget-view+json": {
       "model_id": "6079462c82e94e67912f526fb2fed9b1",
       "version_major": 2,
       "version_minor": 0
      },
      "text/plain": [
       "HBox(children=(FloatProgress(value=0.0, max=20.0), HTML(value='')))"
      ]
     },
     "metadata": {},
     "output_type": "display_data"
    },
    {
     "name": "stderr",
     "output_type": "stream",
     "text": [
      "/opt/conda/lib/python3.7/site-packages/selenium/webdriver/chrome/webdriver.py:50: DeprecationWarning: use options instead of chrome_options\n",
      "  warnings.warn('use options instead of chrome_options', DeprecationWarning)\n"
     ]
    },
    {
     "data": {
      "application/vnd.jupyter.widget-view+json": {
       "model_id": "13a882d98f21479fb55dcf897a380452",
       "version_major": 2,
       "version_minor": 0
      },
      "text/plain": [
       "HBox(children=(FloatProgress(value=0.0, max=2.0), HTML(value='')))"
      ]
     },
     "metadata": {},
     "output_type": "display_data"
    },
    {
     "name": "stdout",
     "output_type": "stream",
     "text": [
      "\n"
     ]
    },
    {
     "data": {
      "application/vnd.jupyter.widget-view+json": {
       "model_id": "bc91575b9b5540e7b0ff1a8b51fe48da",
       "version_major": 2,
       "version_minor": 0
      },
      "text/plain": [
       "HBox(children=(FloatProgress(value=1.0, bar_style='info', max=1.0), HTML(value='')))"
      ]
     },
     "metadata": {},
     "output_type": "display_data"
    },
    {
     "name": "stdout",
     "output_type": "stream",
     "text": [
      "\n"
     ]
    },
    {
     "data": {
      "application/vnd.jupyter.widget-view+json": {
       "model_id": "2a6427275ad046bf80d7d765c6285948",
       "version_major": 2,
       "version_minor": 0
      },
      "text/plain": [
       "HBox(children=(FloatProgress(value=0.0, max=3.0), HTML(value='')))"
      ]
     },
     "metadata": {},
     "output_type": "display_data"
    },
    {
     "name": "stdout",
     "output_type": "stream",
     "text": [
      "\n"
     ]
    },
    {
     "data": {
      "application/vnd.jupyter.widget-view+json": {
       "model_id": "a30feb96ad404d09a368619ee6e33cdb",
       "version_major": 2,
       "version_minor": 0
      },
      "text/plain": [
       "HBox(children=(FloatProgress(value=0.0, max=3.0), HTML(value='')))"
      ]
     },
     "metadata": {},
     "output_type": "display_data"
    },
    {
     "name": "stdout",
     "output_type": "stream",
     "text": [
      "\n"
     ]
    },
    {
     "data": {
      "application/vnd.jupyter.widget-view+json": {
       "model_id": "70822028c5ae4baea1a05b9f61eca796",
       "version_major": 2,
       "version_minor": 0
      },
      "text/plain": [
       "HBox(children=(FloatProgress(value=0.0, max=5.0), HTML(value='')))"
      ]
     },
     "metadata": {},
     "output_type": "display_data"
    },
    {
     "name": "stdout",
     "output_type": "stream",
     "text": [
      "\n"
     ]
    },
    {
     "name": "stderr",
     "output_type": "stream",
     "text": [
      "/opt/conda/lib/python3.7/site-packages/selenium/webdriver/chrome/webdriver.py:50: DeprecationWarning: use options instead of chrome_options\n",
      "  warnings.warn('use options instead of chrome_options', DeprecationWarning)\n"
     ]
    },
    {
     "data": {
      "application/vnd.jupyter.widget-view+json": {
       "model_id": "01e7d31e0e814c04b90adc8e9726adf8",
       "version_major": 2,
       "version_minor": 0
      },
      "text/plain": [
       "HBox(children=(FloatProgress(value=0.0, max=7.0), HTML(value='')))"
      ]
     },
     "metadata": {},
     "output_type": "display_data"
    },
    {
     "name": "stdout",
     "output_type": "stream",
     "text": [
      "\n"
     ]
    },
    {
     "data": {
      "application/vnd.jupyter.widget-view+json": {
       "model_id": "6f3556db1bb74ca19ed51c6a9b4a88d4",
       "version_major": 2,
       "version_minor": 0
      },
      "text/plain": [
       "HBox(children=(FloatProgress(value=0.0, max=10.0), HTML(value='')))"
      ]
     },
     "metadata": {},
     "output_type": "display_data"
    },
    {
     "name": "stdout",
     "output_type": "stream",
     "text": [
      "\n"
     ]
    },
    {
     "data": {
      "application/vnd.jupyter.widget-view+json": {
       "model_id": "de85784f1d4649a1aa1805f9f34c792a",
       "version_major": 2,
       "version_minor": 0
      },
      "text/plain": [
       "HBox(children=(FloatProgress(value=0.0, max=9.0), HTML(value='')))"
      ]
     },
     "metadata": {},
     "output_type": "display_data"
    },
    {
     "name": "stdout",
     "output_type": "stream",
     "text": [
      "\n"
     ]
    },
    {
     "data": {
      "application/vnd.jupyter.widget-view+json": {
       "model_id": "c94ce3b24d654e27ae5041ecf889641d",
       "version_major": 2,
       "version_minor": 0
      },
      "text/plain": [
       "HBox(children=(FloatProgress(value=0.0, max=2.0), HTML(value='')))"
      ]
     },
     "metadata": {},
     "output_type": "display_data"
    },
    {
     "name": "stdout",
     "output_type": "stream",
     "text": [
      "\n"
     ]
    },
    {
     "data": {
      "application/vnd.jupyter.widget-view+json": {
       "model_id": "4602b9440bfa4aae966384f3f759e469",
       "version_major": 2,
       "version_minor": 0
      },
      "text/plain": [
       "HBox(children=(FloatProgress(value=1.0, bar_style='info', max=1.0), HTML(value='')))"
      ]
     },
     "metadata": {},
     "output_type": "display_data"
    },
    {
     "name": "stdout",
     "output_type": "stream",
     "text": [
      "\n"
     ]
    },
    {
     "name": "stderr",
     "output_type": "stream",
     "text": [
      "/opt/conda/lib/python3.7/site-packages/selenium/webdriver/chrome/webdriver.py:50: DeprecationWarning: use options instead of chrome_options\n",
      "  warnings.warn('use options instead of chrome_options', DeprecationWarning)\n"
     ]
    },
    {
     "data": {
      "application/vnd.jupyter.widget-view+json": {
       "model_id": "94f5fecd9bea4187a401bcca7e61dabd",
       "version_major": 2,
       "version_minor": 0
      },
      "text/plain": [
       "HBox(children=(FloatProgress(value=1.0, bar_style='info', max=1.0), HTML(value='')))"
      ]
     },
     "metadata": {},
     "output_type": "display_data"
    },
    {
     "name": "stdout",
     "output_type": "stream",
     "text": [
      "\n"
     ]
    },
    {
     "data": {
      "application/vnd.jupyter.widget-view+json": {
       "model_id": "1f1d753f03a14b63a87b11eb74b00a15",
       "version_major": 2,
       "version_minor": 0
      },
      "text/plain": [
       "HBox(children=(FloatProgress(value=1.0, bar_style='info', max=1.0), HTML(value='')))"
      ]
     },
     "metadata": {},
     "output_type": "display_data"
    },
    {
     "name": "stdout",
     "output_type": "stream",
     "text": [
      "\n"
     ]
    },
    {
     "data": {
      "application/vnd.jupyter.widget-view+json": {
       "model_id": "30ced4427a0843e6a4050f89360ec3ce",
       "version_major": 2,
       "version_minor": 0
      },
      "text/plain": [
       "HBox(children=(FloatProgress(value=1.0, bar_style='info', max=1.0), HTML(value='')))"
      ]
     },
     "metadata": {},
     "output_type": "display_data"
    },
    {
     "name": "stdout",
     "output_type": "stream",
     "text": [
      "\n"
     ]
    },
    {
     "data": {
      "application/vnd.jupyter.widget-view+json": {
       "model_id": "81ae71cd2c874c55b1b765ab2a9c3632",
       "version_major": 2,
       "version_minor": 0
      },
      "text/plain": [
       "HBox(children=(FloatProgress(value=1.0, bar_style='info', max=1.0), HTML(value='')))"
      ]
     },
     "metadata": {},
     "output_type": "display_data"
    },
    {
     "name": "stdout",
     "output_type": "stream",
     "text": [
      "\n"
     ]
    },
    {
     "data": {
      "application/vnd.jupyter.widget-view+json": {
       "model_id": "0c57cef74fe04030aea4d890a3d91937",
       "version_major": 2,
       "version_minor": 0
      },
      "text/plain": [
       "HBox(children=(FloatProgress(value=1.0, bar_style='info', max=1.0), HTML(value='')))"
      ]
     },
     "metadata": {},
     "output_type": "display_data"
    },
    {
     "name": "stdout",
     "output_type": "stream",
     "text": [
      "\n"
     ]
    },
    {
     "name": "stderr",
     "output_type": "stream",
     "text": [
      "/opt/conda/lib/python3.7/site-packages/selenium/webdriver/chrome/webdriver.py:50: DeprecationWarning: use options instead of chrome_options\n",
      "  warnings.warn('use options instead of chrome_options', DeprecationWarning)\n"
     ]
    },
    {
     "data": {
      "application/vnd.jupyter.widget-view+json": {
       "model_id": "a8b32839018949a99c07048c5bfb0e89",
       "version_major": 2,
       "version_minor": 0
      },
      "text/plain": [
       "HBox(children=(FloatProgress(value=1.0, bar_style='info', max=1.0), HTML(value='')))"
      ]
     },
     "metadata": {},
     "output_type": "display_data"
    },
    {
     "name": "stdout",
     "output_type": "stream",
     "text": [
      "\n"
     ]
    },
    {
     "data": {
      "application/vnd.jupyter.widget-view+json": {
       "model_id": "4031026c9a1c4ccea1d011d7d68d3f20",
       "version_major": 2,
       "version_minor": 0
      },
      "text/plain": [
       "HBox(children=(FloatProgress(value=1.0, bar_style='info', max=1.0), HTML(value='')))"
      ]
     },
     "metadata": {},
     "output_type": "display_data"
    },
    {
     "name": "stdout",
     "output_type": "stream",
     "text": [
      "\n"
     ]
    },
    {
     "data": {
      "application/vnd.jupyter.widget-view+json": {
       "model_id": "f562f662eb03432aabc990909e26a71f",
       "version_major": 2,
       "version_minor": 0
      },
      "text/plain": [
       "HBox(children=(FloatProgress(value=1.0, bar_style='info', max=1.0), HTML(value='')))"
      ]
     },
     "metadata": {},
     "output_type": "display_data"
    },
    {
     "name": "stdout",
     "output_type": "stream",
     "text": [
      "\n"
     ]
    },
    {
     "data": {
      "application/vnd.jupyter.widget-view+json": {
       "model_id": "e19f7e7480d64cd0abfd409708ecdc3f",
       "version_major": 2,
       "version_minor": 0
      },
      "text/plain": [
       "HBox(children=(FloatProgress(value=1.0, bar_style='info', max=1.0), HTML(value='')))"
      ]
     },
     "metadata": {},
     "output_type": "display_data"
    },
    {
     "name": "stdout",
     "output_type": "stream",
     "text": [
      "\n"
     ]
    },
    {
     "data": {
      "application/vnd.jupyter.widget-view+json": {
       "model_id": "f7ebd9c7515a4d49b2708ec4f4b87ff4",
       "version_major": 2,
       "version_minor": 0
      },
      "text/plain": [
       "HBox(children=(FloatProgress(value=1.0, bar_style='info', max=1.0), HTML(value='')))"
      ]
     },
     "metadata": {},
     "output_type": "display_data"
    },
    {
     "name": "stdout",
     "output_type": "stream",
     "text": [
      "\n",
      "\n"
     ]
    },
    {
     "data": {
      "application/vnd.jupyter.widget-view+json": {
       "model_id": "e733053f0e254ccabb1e098d72436142",
       "version_major": 2,
       "version_minor": 0
      },
      "text/plain": [
       "HBox(children=(FloatProgress(value=0.0, description='Preprocessing', max=20.0, style=ProgressStyle(description…"
      ]
     },
     "metadata": {},
     "output_type": "display_data"
    },
    {
     "name": "stdout",
     "output_type": "stream",
     "text": [
      "\n",
      "end :: 덩어리 | 양질 | 쌀밥 | 아버지 | 미네랄 | 후기 | 로버트 | 감안 | 손질 | 거기\n",
      "24번째 반복 중\n",
      "['keyword/keyword_0', 'keyword/keyword_1', 'keyword/keyword_10', 'keyword/keyword_100', 'keyword/keyword_101', 'keyword/keyword_102', 'keyword/keyword_103', 'keyword/keyword_104', 'keyword/keyword_105', 'keyword/keyword_106', 'keyword/keyword_107', 'keyword/keyword_108', 'keyword/keyword_109', 'keyword/keyword_11', 'keyword/keyword_110', 'keyword/keyword_111', 'keyword/keyword_112', 'keyword/keyword_113', 'keyword/keyword_114', 'keyword/keyword_115', 'keyword/keyword_116', 'keyword/keyword_117', 'keyword/keyword_118', 'keyword/keyword_119', 'keyword/keyword_12', 'keyword/keyword_120', 'keyword/keyword_121', 'keyword/keyword_122', 'keyword/keyword_123', 'keyword/keyword_124', 'keyword/keyword_125', 'keyword/keyword_126', 'keyword/keyword_127', 'keyword/keyword_128', 'keyword/keyword_129', 'keyword/keyword_13', 'keyword/keyword_130', 'keyword/keyword_131', 'keyword/keyword_132', 'keyword/keyword_133', 'keyword/keyword_134', 'keyword/keyword_135', 'keyword/keyword_136', 'keyword/keyword_137', 'keyword/keyword_138', 'keyword/keyword_139', 'keyword/keyword_14', 'keyword/keyword_140', 'keyword/keyword_141', 'keyword/keyword_142', 'keyword/keyword_143', 'keyword/keyword_144', 'keyword/keyword_145', 'keyword/keyword_146', 'keyword/keyword_147', 'keyword/keyword_148', 'keyword/keyword_149', 'keyword/keyword_15', 'keyword/keyword_150', 'keyword/keyword_151', 'keyword/keyword_152', 'keyword/keyword_153', 'keyword/keyword_154', 'keyword/keyword_155', 'keyword/keyword_156', 'keyword/keyword_157', 'keyword/keyword_16', 'keyword/keyword_17', 'keyword/keyword_18', 'keyword/keyword_19', 'keyword/keyword_2', 'keyword/keyword_20', 'keyword/keyword_21', 'keyword/keyword_22', 'keyword/keyword_23', 'keyword/keyword_24', 'keyword/keyword_25', 'keyword/keyword_26', 'keyword/keyword_27', 'keyword/keyword_28', 'keyword/keyword_29', 'keyword/keyword_3', 'keyword/keyword_30', 'keyword/keyword_31', 'keyword/keyword_32', 'keyword/keyword_33', 'keyword/keyword_34', 'keyword/keyword_35', 'keyword/keyword_36', 'keyword/keyword_37', 'keyword/keyword_38', 'keyword/keyword_39', 'keyword/keyword_4', 'keyword/keyword_40', 'keyword/keyword_41', 'keyword/keyword_42', 'keyword/keyword_43', 'keyword/keyword_44', 'keyword/keyword_45', 'keyword/keyword_46', 'keyword/keyword_47', 'keyword/keyword_48', 'keyword/keyword_49', 'keyword/keyword_5', 'keyword/keyword_50', 'keyword/keyword_51', 'keyword/keyword_52', 'keyword/keyword_53', 'keyword/keyword_54', 'keyword/keyword_55', 'keyword/keyword_56', 'keyword/keyword_57', 'keyword/keyword_58', 'keyword/keyword_59', 'keyword/keyword_6', 'keyword/keyword_60', 'keyword/keyword_61', 'keyword/keyword_62', 'keyword/keyword_63', 'keyword/keyword_64', 'keyword/keyword_65', 'keyword/keyword_66', 'keyword/keyword_67', 'keyword/keyword_68', 'keyword/keyword_69', 'keyword/keyword_7', 'keyword/keyword_70', 'keyword/keyword_71', 'keyword/keyword_72', 'keyword/keyword_73', 'keyword/keyword_74', 'keyword/keyword_75', 'keyword/keyword_76', 'keyword/keyword_77', 'keyword/keyword_78', 'keyword/keyword_79', 'keyword/keyword_8', 'keyword/keyword_80', 'keyword/keyword_81', 'keyword/keyword_82', 'keyword/keyword_83', 'keyword/keyword_84', 'keyword/keyword_85', 'keyword/keyword_86', 'keyword/keyword_87', 'keyword/keyword_88', 'keyword/keyword_89', 'keyword/keyword_9', 'keyword/keyword_90', 'keyword/keyword_91', 'keyword/keyword_92', 'keyword/keyword_93', 'keyword/keyword_94', 'keyword/keyword_95', 'keyword/keyword_96', 'keyword/keyword_97', 'keyword/keyword_98', 'keyword/keyword_99']\n",
      "158\n",
      "\n",
      "start :: 덩어리 | 양질 | 쌀밥 | 아버지 | 미네랄 | 후기 | 로버트 | 감안 | 손질 | 거기+\"음식 건강\"\n"
     ]
    },
    {
     "data": {
      "application/vnd.jupyter.widget-view+json": {
       "model_id": "0ab3a4b56a6641f9a5d51f505a35a7d9",
       "version_major": 2,
       "version_minor": 0
      },
      "text/plain": [
       "HBox(children=(FloatProgress(value=0.0, max=20.0), HTML(value='')))"
      ]
     },
     "metadata": {},
     "output_type": "display_data"
    },
    {
     "name": "stdout",
     "output_type": "stream",
     "text": [
      "\n"
     ]
    },
    {
     "data": {
      "application/vnd.jupyter.widget-view+json": {
       "model_id": "5c09db48959e47deb9f60eb2796532d4",
       "version_major": 2,
       "version_minor": 0
      },
      "text/plain": [
       "HBox(children=(FloatProgress(value=0.0, max=20.0), HTML(value='')))"
      ]
     },
     "metadata": {},
     "output_type": "display_data"
    },
    {
     "name": "stderr",
     "output_type": "stream",
     "text": [
      "/opt/conda/lib/python3.7/site-packages/selenium/webdriver/chrome/webdriver.py:50: DeprecationWarning: use options instead of chrome_options\n",
      "  warnings.warn('use options instead of chrome_options', DeprecationWarning)\n"
     ]
    },
    {
     "data": {
      "application/vnd.jupyter.widget-view+json": {
       "model_id": "17359e111e7f4bf19e2fe39f49f3d6c0",
       "version_major": 2,
       "version_minor": 0
      },
      "text/plain": [
       "HBox(children=(FloatProgress(value=0.0, max=3.0), HTML(value='')))"
      ]
     },
     "metadata": {},
     "output_type": "display_data"
    },
    {
     "name": "stdout",
     "output_type": "stream",
     "text": [
      "\n"
     ]
    },
    {
     "data": {
      "application/vnd.jupyter.widget-view+json": {
       "model_id": "a885be22d2cd4ce8a5a769a7d38ad1fa",
       "version_major": 2,
       "version_minor": 0
      },
      "text/plain": [
       "HBox(children=(FloatProgress(value=0.0, max=5.0), HTML(value='')))"
      ]
     },
     "metadata": {},
     "output_type": "display_data"
    },
    {
     "name": "stdout",
     "output_type": "stream",
     "text": [
      "\n"
     ]
    },
    {
     "data": {
      "application/vnd.jupyter.widget-view+json": {
       "model_id": "a6d0ccb0933c4a4fa0b4eb85cc8ebc5b",
       "version_major": 2,
       "version_minor": 0
      },
      "text/plain": [
       "HBox(children=(FloatProgress(value=0.0, max=8.0), HTML(value='')))"
      ]
     },
     "metadata": {},
     "output_type": "display_data"
    },
    {
     "name": "stdout",
     "output_type": "stream",
     "text": [
      "\n"
     ]
    },
    {
     "data": {
      "application/vnd.jupyter.widget-view+json": {
       "model_id": "6990cb51157a48568ffd5bab2a340b16",
       "version_major": 2,
       "version_minor": 0
      },
      "text/plain": [
       "HBox(children=(FloatProgress(value=0.0, max=10.0), HTML(value='')))"
      ]
     },
     "metadata": {},
     "output_type": "display_data"
    },
    {
     "name": "stdout",
     "output_type": "stream",
     "text": [
      "\n"
     ]
    },
    {
     "data": {
      "application/vnd.jupyter.widget-view+json": {
       "model_id": "58ec64ae5e1043cd86b613d725362267",
       "version_major": 2,
       "version_minor": 0
      },
      "text/plain": [
       "HBox(children=(FloatProgress(value=0.0, max=10.0), HTML(value='')))"
      ]
     },
     "metadata": {},
     "output_type": "display_data"
    },
    {
     "name": "stdout",
     "output_type": "stream",
     "text": [
      "\n"
     ]
    },
    {
     "name": "stderr",
     "output_type": "stream",
     "text": [
      "/opt/conda/lib/python3.7/site-packages/selenium/webdriver/chrome/webdriver.py:50: DeprecationWarning: use options instead of chrome_options\n",
      "  warnings.warn('use options instead of chrome_options', DeprecationWarning)\n"
     ]
    },
    {
     "data": {
      "application/vnd.jupyter.widget-view+json": {
       "model_id": "ba49490cac584baabbf5d3f1d5a03e0e",
       "version_major": 2,
       "version_minor": 0
      },
      "text/plain": [
       "HBox(children=(FloatProgress(value=0.0, max=10.0), HTML(value='')))"
      ]
     },
     "metadata": {},
     "output_type": "display_data"
    },
    {
     "name": "stdout",
     "output_type": "stream",
     "text": [
      "\n"
     ]
    },
    {
     "data": {
      "application/vnd.jupyter.widget-view+json": {
       "model_id": "4bd5f8949f1a4e198d1b42fe14c1d82c",
       "version_major": 2,
       "version_minor": 0
      },
      "text/plain": [
       "HBox(children=(FloatProgress(value=0.0, max=1.0), HTML(value='')))"
      ]
     },
     "metadata": {},
     "output_type": "display_data"
    },
    {
     "name": "stdout",
     "output_type": "stream",
     "text": [
      "\n"
     ]
    },
    {
     "data": {
      "application/vnd.jupyter.widget-view+json": {
       "model_id": "570a5646c9604ee39625d20bde18a66d",
       "version_major": 2,
       "version_minor": 0
      },
      "text/plain": [
       "HBox(children=(FloatProgress(value=1.0, bar_style='info', max=1.0), HTML(value='')))"
      ]
     },
     "metadata": {},
     "output_type": "display_data"
    },
    {
     "name": "stdout",
     "output_type": "stream",
     "text": [
      "\n"
     ]
    },
    {
     "data": {
      "application/vnd.jupyter.widget-view+json": {
       "model_id": "2c21ff23a30348e9851c92e5d144f518",
       "version_major": 2,
       "version_minor": 0
      },
      "text/plain": [
       "HBox(children=(FloatProgress(value=1.0, bar_style='info', max=1.0), HTML(value='')))"
      ]
     },
     "metadata": {},
     "output_type": "display_data"
    },
    {
     "name": "stdout",
     "output_type": "stream",
     "text": [
      "\n"
     ]
    },
    {
     "data": {
      "application/vnd.jupyter.widget-view+json": {
       "model_id": "b9a17ceea1d647fb8454d3383298d87e",
       "version_major": 2,
       "version_minor": 0
      },
      "text/plain": [
       "HBox(children=(FloatProgress(value=1.0, bar_style='info', max=1.0), HTML(value='')))"
      ]
     },
     "metadata": {},
     "output_type": "display_data"
    },
    {
     "name": "stdout",
     "output_type": "stream",
     "text": [
      "\n"
     ]
    },
    {
     "name": "stderr",
     "output_type": "stream",
     "text": [
      "/opt/conda/lib/python3.7/site-packages/selenium/webdriver/chrome/webdriver.py:50: DeprecationWarning: use options instead of chrome_options\n",
      "  warnings.warn('use options instead of chrome_options', DeprecationWarning)\n"
     ]
    },
    {
     "data": {
      "application/vnd.jupyter.widget-view+json": {
       "model_id": "ef874e8701b34acc99bf859b5e4db7f6",
       "version_major": 2,
       "version_minor": 0
      },
      "text/plain": [
       "HBox(children=(FloatProgress(value=1.0, bar_style='info', max=1.0), HTML(value='')))"
      ]
     },
     "metadata": {},
     "output_type": "display_data"
    },
    {
     "name": "stdout",
     "output_type": "stream",
     "text": [
      "\n"
     ]
    },
    {
     "data": {
      "application/vnd.jupyter.widget-view+json": {
       "model_id": "77e2e5a7252b4e5a9712b7ad9dabfc1c",
       "version_major": 2,
       "version_minor": 0
      },
      "text/plain": [
       "HBox(children=(FloatProgress(value=1.0, bar_style='info', max=1.0), HTML(value='')))"
      ]
     },
     "metadata": {},
     "output_type": "display_data"
    },
    {
     "name": "stdout",
     "output_type": "stream",
     "text": [
      "\n"
     ]
    },
    {
     "data": {
      "application/vnd.jupyter.widget-view+json": {
       "model_id": "cf18cff463474ff6a2eea8ba993b1e3f",
       "version_major": 2,
       "version_minor": 0
      },
      "text/plain": [
       "HBox(children=(FloatProgress(value=1.0, bar_style='info', max=1.0), HTML(value='')))"
      ]
     },
     "metadata": {},
     "output_type": "display_data"
    },
    {
     "name": "stdout",
     "output_type": "stream",
     "text": [
      "\n"
     ]
    },
    {
     "data": {
      "application/vnd.jupyter.widget-view+json": {
       "model_id": "f24e0f97b8874757a7e79cd9d509d6bd",
       "version_major": 2,
       "version_minor": 0
      },
      "text/plain": [
       "HBox(children=(FloatProgress(value=1.0, bar_style='info', max=1.0), HTML(value='')))"
      ]
     },
     "metadata": {},
     "output_type": "display_data"
    },
    {
     "name": "stdout",
     "output_type": "stream",
     "text": [
      "\n"
     ]
    },
    {
     "data": {
      "application/vnd.jupyter.widget-view+json": {
       "model_id": "d48de30912b1416993257db8dfb2d730",
       "version_major": 2,
       "version_minor": 0
      },
      "text/plain": [
       "HBox(children=(FloatProgress(value=1.0, bar_style='info', max=1.0), HTML(value='')))"
      ]
     },
     "metadata": {},
     "output_type": "display_data"
    },
    {
     "name": "stdout",
     "output_type": "stream",
     "text": [
      "\n"
     ]
    },
    {
     "name": "stderr",
     "output_type": "stream",
     "text": [
      "/opt/conda/lib/python3.7/site-packages/selenium/webdriver/chrome/webdriver.py:50: DeprecationWarning: use options instead of chrome_options\n",
      "  warnings.warn('use options instead of chrome_options', DeprecationWarning)\n"
     ]
    },
    {
     "data": {
      "application/vnd.jupyter.widget-view+json": {
       "model_id": "20dcc5c6b34447c88cfd1f8844e3353d",
       "version_major": 2,
       "version_minor": 0
      },
      "text/plain": [
       "HBox(children=(FloatProgress(value=1.0, bar_style='info', max=1.0), HTML(value='')))"
      ]
     },
     "metadata": {},
     "output_type": "display_data"
    },
    {
     "name": "stdout",
     "output_type": "stream",
     "text": [
      "\n"
     ]
    },
    {
     "data": {
      "application/vnd.jupyter.widget-view+json": {
       "model_id": "4a5189d91da44799bbe3a345b02ecd2a",
       "version_major": 2,
       "version_minor": 0
      },
      "text/plain": [
       "HBox(children=(FloatProgress(value=1.0, bar_style='info', max=1.0), HTML(value='')))"
      ]
     },
     "metadata": {},
     "output_type": "display_data"
    },
    {
     "name": "stdout",
     "output_type": "stream",
     "text": [
      "\n"
     ]
    },
    {
     "data": {
      "application/vnd.jupyter.widget-view+json": {
       "model_id": "0c2cabdbf5f949058a40e353b20f2e1a",
       "version_major": 2,
       "version_minor": 0
      },
      "text/plain": [
       "HBox(children=(FloatProgress(value=1.0, bar_style='info', max=1.0), HTML(value='')))"
      ]
     },
     "metadata": {},
     "output_type": "display_data"
    },
    {
     "name": "stdout",
     "output_type": "stream",
     "text": [
      "\n"
     ]
    },
    {
     "data": {
      "application/vnd.jupyter.widget-view+json": {
       "model_id": "abd74a72b3b04894a99099eebce93476",
       "version_major": 2,
       "version_minor": 0
      },
      "text/plain": [
       "HBox(children=(FloatProgress(value=1.0, bar_style='info', max=1.0), HTML(value='')))"
      ]
     },
     "metadata": {},
     "output_type": "display_data"
    },
    {
     "name": "stdout",
     "output_type": "stream",
     "text": [
      "\n"
     ]
    },
    {
     "data": {
      "application/vnd.jupyter.widget-view+json": {
       "model_id": "7c6f0eb4f1ca40e09960febe138168f1",
       "version_major": 2,
       "version_minor": 0
      },
      "text/plain": [
       "HBox(children=(FloatProgress(value=1.0, bar_style='info', max=1.0), HTML(value='')))"
      ]
     },
     "metadata": {},
     "output_type": "display_data"
    },
    {
     "name": "stdout",
     "output_type": "stream",
     "text": [
      "\n",
      "\n"
     ]
    },
    {
     "data": {
      "application/vnd.jupyter.widget-view+json": {
       "model_id": "efbf41c9b99b4da896b9726434f2a2b5",
       "version_major": 2,
       "version_minor": 0
      },
      "text/plain": [
       "HBox(children=(FloatProgress(value=0.0, description='Preprocessing', max=20.0, style=ProgressStyle(description…"
      ]
     },
     "metadata": {},
     "output_type": "display_data"
    },
    {
     "name": "stdout",
     "output_type": "stream",
     "text": [
      "\n",
      "end :: 훈련 | 배출 | 체제 | 허기 | 적재적소 | 영입 | 속도 | 요법 | 권력 | 노동\n",
      "25번째 반복 중\n",
      "['keyword/keyword_0', 'keyword/keyword_1', 'keyword/keyword_10', 'keyword/keyword_100', 'keyword/keyword_101', 'keyword/keyword_102', 'keyword/keyword_103', 'keyword/keyword_104', 'keyword/keyword_105', 'keyword/keyword_106', 'keyword/keyword_107', 'keyword/keyword_108', 'keyword/keyword_109', 'keyword/keyword_11', 'keyword/keyword_110', 'keyword/keyword_111', 'keyword/keyword_112', 'keyword/keyword_113', 'keyword/keyword_114', 'keyword/keyword_115', 'keyword/keyword_116', 'keyword/keyword_117', 'keyword/keyword_118', 'keyword/keyword_119', 'keyword/keyword_12', 'keyword/keyword_120', 'keyword/keyword_121', 'keyword/keyword_122', 'keyword/keyword_123', 'keyword/keyword_124', 'keyword/keyword_125', 'keyword/keyword_126', 'keyword/keyword_127', 'keyword/keyword_128', 'keyword/keyword_129', 'keyword/keyword_13', 'keyword/keyword_130', 'keyword/keyword_131', 'keyword/keyword_132', 'keyword/keyword_133', 'keyword/keyword_134', 'keyword/keyword_135', 'keyword/keyword_136', 'keyword/keyword_137', 'keyword/keyword_138', 'keyword/keyword_139', 'keyword/keyword_14', 'keyword/keyword_140', 'keyword/keyword_141', 'keyword/keyword_142', 'keyword/keyword_143', 'keyword/keyword_144', 'keyword/keyword_145', 'keyword/keyword_146', 'keyword/keyword_147', 'keyword/keyword_148', 'keyword/keyword_149', 'keyword/keyword_15', 'keyword/keyword_150', 'keyword/keyword_151', 'keyword/keyword_152', 'keyword/keyword_153', 'keyword/keyword_154', 'keyword/keyword_155', 'keyword/keyword_156', 'keyword/keyword_157', 'keyword/keyword_158', 'keyword/keyword_16', 'keyword/keyword_17', 'keyword/keyword_18', 'keyword/keyword_19', 'keyword/keyword_2', 'keyword/keyword_20', 'keyword/keyword_21', 'keyword/keyword_22', 'keyword/keyword_23', 'keyword/keyword_24', 'keyword/keyword_25', 'keyword/keyword_26', 'keyword/keyword_27', 'keyword/keyword_28', 'keyword/keyword_29', 'keyword/keyword_3', 'keyword/keyword_30', 'keyword/keyword_31', 'keyword/keyword_32', 'keyword/keyword_33', 'keyword/keyword_34', 'keyword/keyword_35', 'keyword/keyword_36', 'keyword/keyword_37', 'keyword/keyword_38', 'keyword/keyword_39', 'keyword/keyword_4', 'keyword/keyword_40', 'keyword/keyword_41', 'keyword/keyword_42', 'keyword/keyword_43', 'keyword/keyword_44', 'keyword/keyword_45', 'keyword/keyword_46', 'keyword/keyword_47', 'keyword/keyword_48', 'keyword/keyword_49', 'keyword/keyword_5', 'keyword/keyword_50', 'keyword/keyword_51', 'keyword/keyword_52', 'keyword/keyword_53', 'keyword/keyword_54', 'keyword/keyword_55', 'keyword/keyword_56', 'keyword/keyword_57', 'keyword/keyword_58', 'keyword/keyword_59', 'keyword/keyword_6', 'keyword/keyword_60', 'keyword/keyword_61', 'keyword/keyword_62', 'keyword/keyword_63', 'keyword/keyword_64', 'keyword/keyword_65', 'keyword/keyword_66', 'keyword/keyword_67', 'keyword/keyword_68', 'keyword/keyword_69', 'keyword/keyword_7', 'keyword/keyword_70', 'keyword/keyword_71', 'keyword/keyword_72', 'keyword/keyword_73', 'keyword/keyword_74', 'keyword/keyword_75', 'keyword/keyword_76', 'keyword/keyword_77', 'keyword/keyword_78', 'keyword/keyword_79', 'keyword/keyword_8', 'keyword/keyword_80', 'keyword/keyword_81', 'keyword/keyword_82', 'keyword/keyword_83', 'keyword/keyword_84', 'keyword/keyword_85', 'keyword/keyword_86', 'keyword/keyword_87', 'keyword/keyword_88', 'keyword/keyword_89', 'keyword/keyword_9', 'keyword/keyword_90', 'keyword/keyword_91', 'keyword/keyword_92', 'keyword/keyword_93', 'keyword/keyword_94', 'keyword/keyword_95', 'keyword/keyword_96', 'keyword/keyword_97', 'keyword/keyword_98', 'keyword/keyword_99']\n",
      "159\n",
      "\n",
      "start :: 훈련 | 배출 | 체제 | 허기 | 적재적소 | 영입 | 속도 | 요법 | 권력 | 노동+\"음식 건강\"\n"
     ]
    },
    {
     "data": {
      "application/vnd.jupyter.widget-view+json": {
       "model_id": "4d707251c7c54d3ba337fffef2cf5d01",
       "version_major": 2,
       "version_minor": 0
      },
      "text/plain": [
       "HBox(children=(FloatProgress(value=0.0, max=20.0), HTML(value='')))"
      ]
     },
     "metadata": {},
     "output_type": "display_data"
    },
    {
     "name": "stdout",
     "output_type": "stream",
     "text": [
      "\n"
     ]
    },
    {
     "data": {
      "application/vnd.jupyter.widget-view+json": {
       "model_id": "1a99534a59a0433999a3dd49f11847b8",
       "version_major": 2,
       "version_minor": 0
      },
      "text/plain": [
       "HBox(children=(FloatProgress(value=0.0, max=20.0), HTML(value='')))"
      ]
     },
     "metadata": {},
     "output_type": "display_data"
    },
    {
     "name": "stderr",
     "output_type": "stream",
     "text": [
      "/opt/conda/lib/python3.7/site-packages/selenium/webdriver/chrome/webdriver.py:50: DeprecationWarning: use options instead of chrome_options\n",
      "  warnings.warn('use options instead of chrome_options', DeprecationWarning)\n"
     ]
    },
    {
     "data": {
      "application/vnd.jupyter.widget-view+json": {
       "model_id": "24f3144c2c8f43ae9747002943d958d5",
       "version_major": 2,
       "version_minor": 0
      },
      "text/plain": [
       "HBox(children=(FloatProgress(value=0.0, max=4.0), HTML(value='')))"
      ]
     },
     "metadata": {},
     "output_type": "display_data"
    },
    {
     "name": "stdout",
     "output_type": "stream",
     "text": [
      "\n"
     ]
    },
    {
     "data": {
      "application/vnd.jupyter.widget-view+json": {
       "model_id": "828c431e70ff4d04a0bb562ec108ac38",
       "version_major": 2,
       "version_minor": 0
      },
      "text/plain": [
       "HBox(children=(FloatProgress(value=0.0, max=4.0), HTML(value='')))"
      ]
     },
     "metadata": {},
     "output_type": "display_data"
    },
    {
     "name": "stdout",
     "output_type": "stream",
     "text": [
      "\n"
     ]
    },
    {
     "data": {
      "application/vnd.jupyter.widget-view+json": {
       "model_id": "a86bf1be860946518b54921630dbc67b",
       "version_major": 2,
       "version_minor": 0
      },
      "text/plain": [
       "HBox(children=(FloatProgress(value=0.0, max=6.0), HTML(value='')))"
      ]
     },
     "metadata": {},
     "output_type": "display_data"
    },
    {
     "name": "stdout",
     "output_type": "stream",
     "text": [
      "\n"
     ]
    },
    {
     "data": {
      "application/vnd.jupyter.widget-view+json": {
       "model_id": "10f24e67dbc54340969cf8594d71134c",
       "version_major": 2,
       "version_minor": 0
      },
      "text/plain": [
       "HBox(children=(FloatProgress(value=0.0, max=9.0), HTML(value='')))"
      ]
     },
     "metadata": {},
     "output_type": "display_data"
    },
    {
     "name": "stdout",
     "output_type": "stream",
     "text": [
      "\n"
     ]
    },
    {
     "data": {
      "application/vnd.jupyter.widget-view+json": {
       "model_id": "15b937bdcc804556a7eacf85d3e21f73",
       "version_major": 2,
       "version_minor": 0
      },
      "text/plain": [
       "HBox(children=(FloatProgress(value=0.0, max=10.0), HTML(value='')))"
      ]
     },
     "metadata": {},
     "output_type": "display_data"
    },
    {
     "name": "stdout",
     "output_type": "stream",
     "text": [
      "\n"
     ]
    },
    {
     "name": "stderr",
     "output_type": "stream",
     "text": [
      "/opt/conda/lib/python3.7/site-packages/selenium/webdriver/chrome/webdriver.py:50: DeprecationWarning: use options instead of chrome_options\n",
      "  warnings.warn('use options instead of chrome_options', DeprecationWarning)\n"
     ]
    },
    {
     "data": {
      "application/vnd.jupyter.widget-view+json": {
       "model_id": "14d9af01ee5c45babc346a4b34e33cfd",
       "version_major": 2,
       "version_minor": 0
      },
      "text/plain": [
       "HBox(children=(FloatProgress(value=0.0, max=9.0), HTML(value='')))"
      ]
     },
     "metadata": {},
     "output_type": "display_data"
    },
    {
     "name": "stdout",
     "output_type": "stream",
     "text": [
      "\n"
     ]
    },
    {
     "data": {
      "application/vnd.jupyter.widget-view+json": {
       "model_id": "74b11091d55c4212a2e2d43f96671b15",
       "version_major": 2,
       "version_minor": 0
      },
      "text/plain": [
       "HBox(children=(FloatProgress(value=1.0, bar_style='info', max=1.0), HTML(value='')))"
      ]
     },
     "metadata": {},
     "output_type": "display_data"
    },
    {
     "name": "stdout",
     "output_type": "stream",
     "text": [
      "\n"
     ]
    },
    {
     "data": {
      "application/vnd.jupyter.widget-view+json": {
       "model_id": "0969b81c3a5b4524865bf0d73d6e1193",
       "version_major": 2,
       "version_minor": 0
      },
      "text/plain": [
       "HBox(children=(FloatProgress(value=1.0, bar_style='info', max=1.0), HTML(value='')))"
      ]
     },
     "metadata": {},
     "output_type": "display_data"
    },
    {
     "name": "stdout",
     "output_type": "stream",
     "text": [
      "\n"
     ]
    },
    {
     "data": {
      "application/vnd.jupyter.widget-view+json": {
       "model_id": "e19fb78ed556435ebbc6994136491179",
       "version_major": 2,
       "version_minor": 0
      },
      "text/plain": [
       "HBox(children=(FloatProgress(value=1.0, bar_style='info', max=1.0), HTML(value='')))"
      ]
     },
     "metadata": {},
     "output_type": "display_data"
    },
    {
     "name": "stdout",
     "output_type": "stream",
     "text": [
      "\n"
     ]
    },
    {
     "data": {
      "application/vnd.jupyter.widget-view+json": {
       "model_id": "8dea4024aa79433886732e56c413bc64",
       "version_major": 2,
       "version_minor": 0
      },
      "text/plain": [
       "HBox(children=(FloatProgress(value=1.0, bar_style='info', max=1.0), HTML(value='')))"
      ]
     },
     "metadata": {},
     "output_type": "display_data"
    },
    {
     "name": "stdout",
     "output_type": "stream",
     "text": [
      "\n"
     ]
    },
    {
     "name": "stderr",
     "output_type": "stream",
     "text": [
      "/opt/conda/lib/python3.7/site-packages/selenium/webdriver/chrome/webdriver.py:50: DeprecationWarning: use options instead of chrome_options\n",
      "  warnings.warn('use options instead of chrome_options', DeprecationWarning)\n"
     ]
    },
    {
     "data": {
      "application/vnd.jupyter.widget-view+json": {
       "model_id": "4ef65917d215423daca7765d3664c533",
       "version_major": 2,
       "version_minor": 0
      },
      "text/plain": [
       "HBox(children=(FloatProgress(value=1.0, bar_style='info', max=1.0), HTML(value='')))"
      ]
     },
     "metadata": {},
     "output_type": "display_data"
    },
    {
     "name": "stdout",
     "output_type": "stream",
     "text": [
      "\n"
     ]
    },
    {
     "data": {
      "application/vnd.jupyter.widget-view+json": {
       "model_id": "162ed751734248c7a961860cef777565",
       "version_major": 2,
       "version_minor": 0
      },
      "text/plain": [
       "HBox(children=(FloatProgress(value=1.0, bar_style='info', max=1.0), HTML(value='')))"
      ]
     },
     "metadata": {},
     "output_type": "display_data"
    },
    {
     "name": "stdout",
     "output_type": "stream",
     "text": [
      "\n"
     ]
    },
    {
     "data": {
      "application/vnd.jupyter.widget-view+json": {
       "model_id": "27fb34181c7942eb9a390846c022c164",
       "version_major": 2,
       "version_minor": 0
      },
      "text/plain": [
       "HBox(children=(FloatProgress(value=1.0, bar_style='info', max=1.0), HTML(value='')))"
      ]
     },
     "metadata": {},
     "output_type": "display_data"
    },
    {
     "name": "stdout",
     "output_type": "stream",
     "text": [
      "\n"
     ]
    },
    {
     "data": {
      "application/vnd.jupyter.widget-view+json": {
       "model_id": "55f25b3dd7994a22b283885b90984506",
       "version_major": 2,
       "version_minor": 0
      },
      "text/plain": [
       "HBox(children=(FloatProgress(value=1.0, bar_style='info', max=1.0), HTML(value='')))"
      ]
     },
     "metadata": {},
     "output_type": "display_data"
    },
    {
     "name": "stdout",
     "output_type": "stream",
     "text": [
      "\n"
     ]
    },
    {
     "data": {
      "application/vnd.jupyter.widget-view+json": {
       "model_id": "e77c753ad7a244369e318ab3b0ced5f7",
       "version_major": 2,
       "version_minor": 0
      },
      "text/plain": [
       "HBox(children=(FloatProgress(value=1.0, bar_style='info', max=1.0), HTML(value='')))"
      ]
     },
     "metadata": {},
     "output_type": "display_data"
    },
    {
     "name": "stdout",
     "output_type": "stream",
     "text": [
      "\n"
     ]
    },
    {
     "name": "stderr",
     "output_type": "stream",
     "text": [
      "/opt/conda/lib/python3.7/site-packages/selenium/webdriver/chrome/webdriver.py:50: DeprecationWarning: use options instead of chrome_options\n",
      "  warnings.warn('use options instead of chrome_options', DeprecationWarning)\n"
     ]
    },
    {
     "data": {
      "application/vnd.jupyter.widget-view+json": {
       "model_id": "a1007f7b6f5d40c399e49bde7a9a3b29",
       "version_major": 2,
       "version_minor": 0
      },
      "text/plain": [
       "HBox(children=(FloatProgress(value=1.0, bar_style='info', max=1.0), HTML(value='')))"
      ]
     },
     "metadata": {},
     "output_type": "display_data"
    },
    {
     "name": "stdout",
     "output_type": "stream",
     "text": [
      "\n"
     ]
    },
    {
     "data": {
      "application/vnd.jupyter.widget-view+json": {
       "model_id": "5025d3d60bed42a1824d1ac458d748e5",
       "version_major": 2,
       "version_minor": 0
      },
      "text/plain": [
       "HBox(children=(FloatProgress(value=1.0, bar_style='info', max=1.0), HTML(value='')))"
      ]
     },
     "metadata": {},
     "output_type": "display_data"
    },
    {
     "name": "stdout",
     "output_type": "stream",
     "text": [
      "\n"
     ]
    },
    {
     "data": {
      "application/vnd.jupyter.widget-view+json": {
       "model_id": "6bf54fc502794fd580fe94d28cc6131b",
       "version_major": 2,
       "version_minor": 0
      },
      "text/plain": [
       "HBox(children=(FloatProgress(value=1.0, bar_style='info', max=1.0), HTML(value='')))"
      ]
     },
     "metadata": {},
     "output_type": "display_data"
    },
    {
     "name": "stdout",
     "output_type": "stream",
     "text": [
      "\n"
     ]
    },
    {
     "data": {
      "application/vnd.jupyter.widget-view+json": {
       "model_id": "7bd89fbd0fc84dabbc433bc7822b08ae",
       "version_major": 2,
       "version_minor": 0
      },
      "text/plain": [
       "HBox(children=(FloatProgress(value=1.0, bar_style='info', max=1.0), HTML(value='')))"
      ]
     },
     "metadata": {},
     "output_type": "display_data"
    },
    {
     "name": "stdout",
     "output_type": "stream",
     "text": [
      "\n"
     ]
    },
    {
     "data": {
      "application/vnd.jupyter.widget-view+json": {
       "model_id": "4bc6a816ecba49a18b45541053031217",
       "version_major": 2,
       "version_minor": 0
      },
      "text/plain": [
       "HBox(children=(FloatProgress(value=1.0, bar_style='info', max=1.0), HTML(value='')))"
      ]
     },
     "metadata": {},
     "output_type": "display_data"
    },
    {
     "name": "stdout",
     "output_type": "stream",
     "text": [
      "\n",
      "\n"
     ]
    },
    {
     "data": {
      "application/vnd.jupyter.widget-view+json": {
       "model_id": "6617e8c0ec47430db33dfd0572284ca2",
       "version_major": 2,
       "version_minor": 0
      },
      "text/plain": [
       "HBox(children=(FloatProgress(value=0.0, description='Preprocessing', max=20.0, style=ProgressStyle(description…"
      ]
     },
     "metadata": {},
     "output_type": "display_data"
    },
    {
     "name": "stdout",
     "output_type": "stream",
     "text": [
      "\n",
      "end :: 부침개 | 용기 | 박현아 | 핀란드 | 지수 | 보고 | 발암 | 실태 | 절식 | 배경\n",
      "26번째 반복 중\n",
      "['keyword/keyword_0', 'keyword/keyword_1', 'keyword/keyword_10', 'keyword/keyword_100', 'keyword/keyword_101', 'keyword/keyword_102', 'keyword/keyword_103', 'keyword/keyword_104', 'keyword/keyword_105', 'keyword/keyword_106', 'keyword/keyword_107', 'keyword/keyword_108', 'keyword/keyword_109', 'keyword/keyword_11', 'keyword/keyword_110', 'keyword/keyword_111', 'keyword/keyword_112', 'keyword/keyword_113', 'keyword/keyword_114', 'keyword/keyword_115', 'keyword/keyword_116', 'keyword/keyword_117', 'keyword/keyword_118', 'keyword/keyword_119', 'keyword/keyword_12', 'keyword/keyword_120', 'keyword/keyword_121', 'keyword/keyword_122', 'keyword/keyword_123', 'keyword/keyword_124', 'keyword/keyword_125', 'keyword/keyword_126', 'keyword/keyword_127', 'keyword/keyword_128', 'keyword/keyword_129', 'keyword/keyword_13', 'keyword/keyword_130', 'keyword/keyword_131', 'keyword/keyword_132', 'keyword/keyword_133', 'keyword/keyword_134', 'keyword/keyword_135', 'keyword/keyword_136', 'keyword/keyword_137', 'keyword/keyword_138', 'keyword/keyword_139', 'keyword/keyword_14', 'keyword/keyword_140', 'keyword/keyword_141', 'keyword/keyword_142', 'keyword/keyword_143', 'keyword/keyword_144', 'keyword/keyword_145', 'keyword/keyword_146', 'keyword/keyword_147', 'keyword/keyword_148', 'keyword/keyword_149', 'keyword/keyword_15', 'keyword/keyword_150', 'keyword/keyword_151', 'keyword/keyword_152', 'keyword/keyword_153', 'keyword/keyword_154', 'keyword/keyword_155', 'keyword/keyword_156', 'keyword/keyword_157', 'keyword/keyword_158', 'keyword/keyword_159', 'keyword/keyword_16', 'keyword/keyword_17', 'keyword/keyword_18', 'keyword/keyword_19', 'keyword/keyword_2', 'keyword/keyword_20', 'keyword/keyword_21', 'keyword/keyword_22', 'keyword/keyword_23', 'keyword/keyword_24', 'keyword/keyword_25', 'keyword/keyword_26', 'keyword/keyword_27', 'keyword/keyword_28', 'keyword/keyword_29', 'keyword/keyword_3', 'keyword/keyword_30', 'keyword/keyword_31', 'keyword/keyword_32', 'keyword/keyword_33', 'keyword/keyword_34', 'keyword/keyword_35', 'keyword/keyword_36', 'keyword/keyword_37', 'keyword/keyword_38', 'keyword/keyword_39', 'keyword/keyword_4', 'keyword/keyword_40', 'keyword/keyword_41', 'keyword/keyword_42', 'keyword/keyword_43', 'keyword/keyword_44', 'keyword/keyword_45', 'keyword/keyword_46', 'keyword/keyword_47', 'keyword/keyword_48', 'keyword/keyword_49', 'keyword/keyword_5', 'keyword/keyword_50', 'keyword/keyword_51', 'keyword/keyword_52', 'keyword/keyword_53', 'keyword/keyword_54', 'keyword/keyword_55', 'keyword/keyword_56', 'keyword/keyword_57', 'keyword/keyword_58', 'keyword/keyword_59', 'keyword/keyword_6', 'keyword/keyword_60', 'keyword/keyword_61', 'keyword/keyword_62', 'keyword/keyword_63', 'keyword/keyword_64', 'keyword/keyword_65', 'keyword/keyword_66', 'keyword/keyword_67', 'keyword/keyword_68', 'keyword/keyword_69', 'keyword/keyword_7', 'keyword/keyword_70', 'keyword/keyword_71', 'keyword/keyword_72', 'keyword/keyword_73', 'keyword/keyword_74', 'keyword/keyword_75', 'keyword/keyword_76', 'keyword/keyword_77', 'keyword/keyword_78', 'keyword/keyword_79', 'keyword/keyword_8', 'keyword/keyword_80', 'keyword/keyword_81', 'keyword/keyword_82', 'keyword/keyword_83', 'keyword/keyword_84', 'keyword/keyword_85', 'keyword/keyword_86', 'keyword/keyword_87', 'keyword/keyword_88', 'keyword/keyword_89', 'keyword/keyword_9', 'keyword/keyword_90', 'keyword/keyword_91', 'keyword/keyword_92', 'keyword/keyword_93', 'keyword/keyword_94', 'keyword/keyword_95', 'keyword/keyword_96', 'keyword/keyword_97', 'keyword/keyword_98', 'keyword/keyword_99']\n",
      "160\n",
      "\n",
      "start :: 부침개 | 용기 | 박현아 | 핀란드 | 지수 | 보고 | 발암 | 실태 | 절식 | 배경+\"음식 건강\"\n"
     ]
    },
    {
     "data": {
      "application/vnd.jupyter.widget-view+json": {
       "model_id": "393eebdd75874fe881386bbd48ebe33f",
       "version_major": 2,
       "version_minor": 0
      },
      "text/plain": [
       "HBox(children=(FloatProgress(value=0.0, max=20.0), HTML(value='')))"
      ]
     },
     "metadata": {},
     "output_type": "display_data"
    },
    {
     "name": "stdout",
     "output_type": "stream",
     "text": [
      "\n"
     ]
    },
    {
     "data": {
      "application/vnd.jupyter.widget-view+json": {
       "model_id": "001c271bf3564a7cb28dd81b0134a7a6",
       "version_major": 2,
       "version_minor": 0
      },
      "text/plain": [
       "HBox(children=(FloatProgress(value=0.0, max=20.0), HTML(value='')))"
      ]
     },
     "metadata": {},
     "output_type": "display_data"
    },
    {
     "name": "stderr",
     "output_type": "stream",
     "text": [
      "/opt/conda/lib/python3.7/site-packages/selenium/webdriver/chrome/webdriver.py:50: DeprecationWarning: use options instead of chrome_options\n",
      "  warnings.warn('use options instead of chrome_options', DeprecationWarning)\n"
     ]
    },
    {
     "data": {
      "application/vnd.jupyter.widget-view+json": {
       "model_id": "7bba17c264ba4220a45710f1d09b2a1f",
       "version_major": 2,
       "version_minor": 0
      },
      "text/plain": [
       "HBox(children=(FloatProgress(value=0.0, max=5.0), HTML(value='')))"
      ]
     },
     "metadata": {},
     "output_type": "display_data"
    },
    {
     "name": "stdout",
     "output_type": "stream",
     "text": [
      "\n"
     ]
    },
    {
     "data": {
      "application/vnd.jupyter.widget-view+json": {
       "model_id": "44913b881b5c4679bc4711da4656b62b",
       "version_major": 2,
       "version_minor": 0
      },
      "text/plain": [
       "HBox(children=(FloatProgress(value=0.0, max=2.0), HTML(value='')))"
      ]
     },
     "metadata": {},
     "output_type": "display_data"
    },
    {
     "name": "stdout",
     "output_type": "stream",
     "text": [
      "\n"
     ]
    },
    {
     "data": {
      "application/vnd.jupyter.widget-view+json": {
       "model_id": "d02a164b44d94e2f9d0b9729affb4546",
       "version_major": 2,
       "version_minor": 0
      },
      "text/plain": [
       "HBox(children=(FloatProgress(value=0.0, max=1.0), HTML(value='')))"
      ]
     },
     "metadata": {},
     "output_type": "display_data"
    },
    {
     "name": "stdout",
     "output_type": "stream",
     "text": [
      "\n"
     ]
    },
    {
     "data": {
      "application/vnd.jupyter.widget-view+json": {
       "model_id": "f7d38e9add3c43bc905e98eaaa843b86",
       "version_major": 2,
       "version_minor": 0
      },
      "text/plain": [
       "HBox(children=(FloatProgress(value=0.0, max=5.0), HTML(value='')))"
      ]
     },
     "metadata": {},
     "output_type": "display_data"
    },
    {
     "name": "stdout",
     "output_type": "stream",
     "text": [
      "\n"
     ]
    },
    {
     "data": {
      "application/vnd.jupyter.widget-view+json": {
       "model_id": "3a2ac8489d9c4dc0b6a43b7301a464c7",
       "version_major": 2,
       "version_minor": 0
      },
      "text/plain": [
       "HBox(children=(FloatProgress(value=0.0, max=4.0), HTML(value='')))"
      ]
     },
     "metadata": {},
     "output_type": "display_data"
    },
    {
     "name": "stdout",
     "output_type": "stream",
     "text": [
      "\n"
     ]
    },
    {
     "name": "stderr",
     "output_type": "stream",
     "text": [
      "/opt/conda/lib/python3.7/site-packages/selenium/webdriver/chrome/webdriver.py:50: DeprecationWarning: use options instead of chrome_options\n",
      "  warnings.warn('use options instead of chrome_options', DeprecationWarning)\n"
     ]
    },
    {
     "data": {
      "application/vnd.jupyter.widget-view+json": {
       "model_id": "18c766e6d7624d79853a6c27c0e302c0",
       "version_major": 2,
       "version_minor": 0
      },
      "text/plain": [
       "HBox(children=(FloatProgress(value=0.0, max=8.0), HTML(value='')))"
      ]
     },
     "metadata": {},
     "output_type": "display_data"
    },
    {
     "name": "stdout",
     "output_type": "stream",
     "text": [
      "\n"
     ]
    },
    {
     "data": {
      "application/vnd.jupyter.widget-view+json": {
       "model_id": "462f6eef86a5479bb6c0b797ffd021b9",
       "version_major": 2,
       "version_minor": 0
      },
      "text/plain": [
       "HBox(children=(FloatProgress(value=0.0, max=9.0), HTML(value='')))"
      ]
     },
     "metadata": {},
     "output_type": "display_data"
    },
    {
     "name": "stdout",
     "output_type": "stream",
     "text": [
      "\n"
     ]
    },
    {
     "data": {
      "application/vnd.jupyter.widget-view+json": {
       "model_id": "10b0b3b6ae2942e0aecbec34131ab463",
       "version_major": 2,
       "version_minor": 0
      },
      "text/plain": [
       "HBox(children=(FloatProgress(value=0.0, max=10.0), HTML(value='')))"
      ]
     },
     "metadata": {},
     "output_type": "display_data"
    },
    {
     "name": "stdout",
     "output_type": "stream",
     "text": [
      "\n"
     ]
    },
    {
     "data": {
      "application/vnd.jupyter.widget-view+json": {
       "model_id": "5cc2f614ea1c4a5a852170e7a5129730",
       "version_major": 2,
       "version_minor": 0
      },
      "text/plain": [
       "HBox(children=(FloatProgress(value=0.0, max=4.0), HTML(value='')))"
      ]
     },
     "metadata": {},
     "output_type": "display_data"
    },
    {
     "name": "stdout",
     "output_type": "stream",
     "text": [
      "\n"
     ]
    },
    {
     "data": {
      "application/vnd.jupyter.widget-view+json": {
       "model_id": "df17f2dcebb34825a5c7cc511c45245b",
       "version_major": 2,
       "version_minor": 0
      },
      "text/plain": [
       "HBox(children=(FloatProgress(value=1.0, bar_style='info', max=1.0), HTML(value='')))"
      ]
     },
     "metadata": {},
     "output_type": "display_data"
    },
    {
     "name": "stdout",
     "output_type": "stream",
     "text": [
      "\n"
     ]
    },
    {
     "name": "stderr",
     "output_type": "stream",
     "text": [
      "/opt/conda/lib/python3.7/site-packages/selenium/webdriver/chrome/webdriver.py:50: DeprecationWarning: use options instead of chrome_options\n",
      "  warnings.warn('use options instead of chrome_options', DeprecationWarning)\n"
     ]
    },
    {
     "data": {
      "application/vnd.jupyter.widget-view+json": {
       "model_id": "156019f013874d458a36fecbe87132cc",
       "version_major": 2,
       "version_minor": 0
      },
      "text/plain": [
       "HBox(children=(FloatProgress(value=1.0, bar_style='info', max=1.0), HTML(value='')))"
      ]
     },
     "metadata": {},
     "output_type": "display_data"
    },
    {
     "name": "stdout",
     "output_type": "stream",
     "text": [
      "\n"
     ]
    },
    {
     "data": {
      "application/vnd.jupyter.widget-view+json": {
       "model_id": "e96a38517704482bacf133c3870e6fba",
       "version_major": 2,
       "version_minor": 0
      },
      "text/plain": [
       "HBox(children=(FloatProgress(value=1.0, bar_style='info', max=1.0), HTML(value='')))"
      ]
     },
     "metadata": {},
     "output_type": "display_data"
    },
    {
     "name": "stdout",
     "output_type": "stream",
     "text": [
      "\n"
     ]
    },
    {
     "data": {
      "application/vnd.jupyter.widget-view+json": {
       "model_id": "6649f9c0f3254379b495ae283509512c",
       "version_major": 2,
       "version_minor": 0
      },
      "text/plain": [
       "HBox(children=(FloatProgress(value=1.0, bar_style='info', max=1.0), HTML(value='')))"
      ]
     },
     "metadata": {},
     "output_type": "display_data"
    },
    {
     "name": "stdout",
     "output_type": "stream",
     "text": [
      "\n"
     ]
    },
    {
     "data": {
      "application/vnd.jupyter.widget-view+json": {
       "model_id": "feaf6058637d4fdf96f2bb5719367833",
       "version_major": 2,
       "version_minor": 0
      },
      "text/plain": [
       "HBox(children=(FloatProgress(value=1.0, bar_style='info', max=1.0), HTML(value='')))"
      ]
     },
     "metadata": {},
     "output_type": "display_data"
    },
    {
     "name": "stdout",
     "output_type": "stream",
     "text": [
      "\n"
     ]
    },
    {
     "data": {
      "application/vnd.jupyter.widget-view+json": {
       "model_id": "119ba0c96067483ea3a7033f7ca58849",
       "version_major": 2,
       "version_minor": 0
      },
      "text/plain": [
       "HBox(children=(FloatProgress(value=1.0, bar_style='info', max=1.0), HTML(value='')))"
      ]
     },
     "metadata": {},
     "output_type": "display_data"
    },
    {
     "name": "stdout",
     "output_type": "stream",
     "text": [
      "\n"
     ]
    },
    {
     "name": "stderr",
     "output_type": "stream",
     "text": [
      "/opt/conda/lib/python3.7/site-packages/selenium/webdriver/chrome/webdriver.py:50: DeprecationWarning: use options instead of chrome_options\n",
      "  warnings.warn('use options instead of chrome_options', DeprecationWarning)\n"
     ]
    },
    {
     "data": {
      "application/vnd.jupyter.widget-view+json": {
       "model_id": "077afd036a6e4d57839d0ef076bf9e47",
       "version_major": 2,
       "version_minor": 0
      },
      "text/plain": [
       "HBox(children=(FloatProgress(value=1.0, bar_style='info', max=1.0), HTML(value='')))"
      ]
     },
     "metadata": {},
     "output_type": "display_data"
    },
    {
     "name": "stdout",
     "output_type": "stream",
     "text": [
      "\n"
     ]
    },
    {
     "data": {
      "application/vnd.jupyter.widget-view+json": {
       "model_id": "27a068d93b654553816e17bdcdc4f3c4",
       "version_major": 2,
       "version_minor": 0
      },
      "text/plain": [
       "HBox(children=(FloatProgress(value=1.0, bar_style='info', max=1.0), HTML(value='')))"
      ]
     },
     "metadata": {},
     "output_type": "display_data"
    },
    {
     "name": "stdout",
     "output_type": "stream",
     "text": [
      "\n"
     ]
    },
    {
     "data": {
      "application/vnd.jupyter.widget-view+json": {
       "model_id": "b1ff1775e7c0441d981e92576436c688",
       "version_major": 2,
       "version_minor": 0
      },
      "text/plain": [
       "HBox(children=(FloatProgress(value=1.0, bar_style='info', max=1.0), HTML(value='')))"
      ]
     },
     "metadata": {},
     "output_type": "display_data"
    },
    {
     "name": "stdout",
     "output_type": "stream",
     "text": [
      "\n"
     ]
    },
    {
     "data": {
      "application/vnd.jupyter.widget-view+json": {
       "model_id": "694f78d43be0490ebb78141215ea7e71",
       "version_major": 2,
       "version_minor": 0
      },
      "text/plain": [
       "HBox(children=(FloatProgress(value=1.0, bar_style='info', max=1.0), HTML(value='')))"
      ]
     },
     "metadata": {},
     "output_type": "display_data"
    },
    {
     "name": "stdout",
     "output_type": "stream",
     "text": [
      "\n"
     ]
    },
    {
     "data": {
      "application/vnd.jupyter.widget-view+json": {
       "model_id": "1543f5b2c2a44ad2acef7501c8ef2d63",
       "version_major": 2,
       "version_minor": 0
      },
      "text/plain": [
       "HBox(children=(FloatProgress(value=1.0, bar_style='info', max=1.0), HTML(value='')))"
      ]
     },
     "metadata": {},
     "output_type": "display_data"
    },
    {
     "name": "stdout",
     "output_type": "stream",
     "text": [
      "\n",
      "\n"
     ]
    },
    {
     "data": {
      "application/vnd.jupyter.widget-view+json": {
       "model_id": "a90ec294e69d423796616969dbd92eaa",
       "version_major": 2,
       "version_minor": 0
      },
      "text/plain": [
       "HBox(children=(FloatProgress(value=0.0, description='Preprocessing', max=20.0, style=ProgressStyle(description…"
      ]
     },
     "metadata": {},
     "output_type": "display_data"
    },
    {
     "name": "stdout",
     "output_type": "stream",
     "text": [
      "\n",
      "end :: 등록 | 공식 | 전식 | 형태 | 껍데기 | 일자 | 귀경 | 아이스 | 일맥상통 | 잡곡\n",
      "27번째 반복 중\n",
      "['keyword/keyword_0', 'keyword/keyword_1', 'keyword/keyword_10', 'keyword/keyword_100', 'keyword/keyword_101', 'keyword/keyword_102', 'keyword/keyword_103', 'keyword/keyword_104', 'keyword/keyword_105', 'keyword/keyword_106', 'keyword/keyword_107', 'keyword/keyword_108', 'keyword/keyword_109', 'keyword/keyword_11', 'keyword/keyword_110', 'keyword/keyword_111', 'keyword/keyword_112', 'keyword/keyword_113', 'keyword/keyword_114', 'keyword/keyword_115', 'keyword/keyword_116', 'keyword/keyword_117', 'keyword/keyword_118', 'keyword/keyword_119', 'keyword/keyword_12', 'keyword/keyword_120', 'keyword/keyword_121', 'keyword/keyword_122', 'keyword/keyword_123', 'keyword/keyword_124', 'keyword/keyword_125', 'keyword/keyword_126', 'keyword/keyword_127', 'keyword/keyword_128', 'keyword/keyword_129', 'keyword/keyword_13', 'keyword/keyword_130', 'keyword/keyword_131', 'keyword/keyword_132', 'keyword/keyword_133', 'keyword/keyword_134', 'keyword/keyword_135', 'keyword/keyword_136', 'keyword/keyword_137', 'keyword/keyword_138', 'keyword/keyword_139', 'keyword/keyword_14', 'keyword/keyword_140', 'keyword/keyword_141', 'keyword/keyword_142', 'keyword/keyword_143', 'keyword/keyword_144', 'keyword/keyword_145', 'keyword/keyword_146', 'keyword/keyword_147', 'keyword/keyword_148', 'keyword/keyword_149', 'keyword/keyword_15', 'keyword/keyword_150', 'keyword/keyword_151', 'keyword/keyword_152', 'keyword/keyword_153', 'keyword/keyword_154', 'keyword/keyword_155', 'keyword/keyword_156', 'keyword/keyword_157', 'keyword/keyword_158', 'keyword/keyword_159', 'keyword/keyword_16', 'keyword/keyword_160', 'keyword/keyword_17', 'keyword/keyword_18', 'keyword/keyword_19', 'keyword/keyword_2', 'keyword/keyword_20', 'keyword/keyword_21', 'keyword/keyword_22', 'keyword/keyword_23', 'keyword/keyword_24', 'keyword/keyword_25', 'keyword/keyword_26', 'keyword/keyword_27', 'keyword/keyword_28', 'keyword/keyword_29', 'keyword/keyword_3', 'keyword/keyword_30', 'keyword/keyword_31', 'keyword/keyword_32', 'keyword/keyword_33', 'keyword/keyword_34', 'keyword/keyword_35', 'keyword/keyword_36', 'keyword/keyword_37', 'keyword/keyword_38', 'keyword/keyword_39', 'keyword/keyword_4', 'keyword/keyword_40', 'keyword/keyword_41', 'keyword/keyword_42', 'keyword/keyword_43', 'keyword/keyword_44', 'keyword/keyword_45', 'keyword/keyword_46', 'keyword/keyword_47', 'keyword/keyword_48', 'keyword/keyword_49', 'keyword/keyword_5', 'keyword/keyword_50', 'keyword/keyword_51', 'keyword/keyword_52', 'keyword/keyword_53', 'keyword/keyword_54', 'keyword/keyword_55', 'keyword/keyword_56', 'keyword/keyword_57', 'keyword/keyword_58', 'keyword/keyword_59', 'keyword/keyword_6', 'keyword/keyword_60', 'keyword/keyword_61', 'keyword/keyword_62', 'keyword/keyword_63', 'keyword/keyword_64', 'keyword/keyword_65', 'keyword/keyword_66', 'keyword/keyword_67', 'keyword/keyword_68', 'keyword/keyword_69', 'keyword/keyword_7', 'keyword/keyword_70', 'keyword/keyword_71', 'keyword/keyword_72', 'keyword/keyword_73', 'keyword/keyword_74', 'keyword/keyword_75', 'keyword/keyword_76', 'keyword/keyword_77', 'keyword/keyword_78', 'keyword/keyword_79', 'keyword/keyword_8', 'keyword/keyword_80', 'keyword/keyword_81', 'keyword/keyword_82', 'keyword/keyword_83', 'keyword/keyword_84', 'keyword/keyword_85', 'keyword/keyword_86', 'keyword/keyword_87', 'keyword/keyword_88', 'keyword/keyword_89', 'keyword/keyword_9', 'keyword/keyword_90', 'keyword/keyword_91', 'keyword/keyword_92', 'keyword/keyword_93', 'keyword/keyword_94', 'keyword/keyword_95', 'keyword/keyword_96', 'keyword/keyword_97', 'keyword/keyword_98', 'keyword/keyword_99']\n",
      "161\n",
      "\n",
      "start :: 등록 | 공식 | 전식 | 형태 | 껍데기 | 일자 | 귀경 | 아이스 | 일맥상통 | 잡곡+\"음식 건강\"\n"
     ]
    },
    {
     "data": {
      "application/vnd.jupyter.widget-view+json": {
       "model_id": "dbe53b6ba53844f887bde8fd9221d95f",
       "version_major": 2,
       "version_minor": 0
      },
      "text/plain": [
       "HBox(children=(FloatProgress(value=0.0, max=20.0), HTML(value='')))"
      ]
     },
     "metadata": {},
     "output_type": "display_data"
    },
    {
     "name": "stdout",
     "output_type": "stream",
     "text": [
      "\n"
     ]
    },
    {
     "data": {
      "application/vnd.jupyter.widget-view+json": {
       "model_id": "26d314862344487a91ea32ed1b48a624",
       "version_major": 2,
       "version_minor": 0
      },
      "text/plain": [
       "HBox(children=(FloatProgress(value=0.0, max=20.0), HTML(value='')))"
      ]
     },
     "metadata": {},
     "output_type": "display_data"
    },
    {
     "name": "stderr",
     "output_type": "stream",
     "text": [
      "/opt/conda/lib/python3.7/site-packages/selenium/webdriver/chrome/webdriver.py:50: DeprecationWarning: use options instead of chrome_options\n",
      "  warnings.warn('use options instead of chrome_options', DeprecationWarning)\n"
     ]
    },
    {
     "data": {
      "application/vnd.jupyter.widget-view+json": {
       "model_id": "9695115465bd4e5ebbf9d0ef2d3d2455",
       "version_major": 2,
       "version_minor": 0
      },
      "text/plain": [
       "HBox(children=(FloatProgress(value=1.0, bar_style='info', max=1.0), HTML(value='')))"
      ]
     },
     "metadata": {},
     "output_type": "display_data"
    },
    {
     "name": "stdout",
     "output_type": "stream",
     "text": [
      "\n"
     ]
    },
    {
     "data": {
      "application/vnd.jupyter.widget-view+json": {
       "model_id": "e932a0b8746b401f9d07dfcae0af77e6",
       "version_major": 2,
       "version_minor": 0
      },
      "text/plain": [
       "HBox(children=(FloatProgress(value=0.0, max=5.0), HTML(value='')))"
      ]
     },
     "metadata": {},
     "output_type": "display_data"
    },
    {
     "name": "stdout",
     "output_type": "stream",
     "text": [
      "\n"
     ]
    },
    {
     "data": {
      "application/vnd.jupyter.widget-view+json": {
       "model_id": "44779fdfb55746858defdbb8b1c9df0c",
       "version_major": 2,
       "version_minor": 0
      },
      "text/plain": [
       "HBox(children=(FloatProgress(value=1.0, bar_style='info', max=1.0), HTML(value='')))"
      ]
     },
     "metadata": {},
     "output_type": "display_data"
    },
    {
     "name": "stdout",
     "output_type": "stream",
     "text": [
      "\n"
     ]
    },
    {
     "data": {
      "application/vnd.jupyter.widget-view+json": {
       "model_id": "dec824b8789e42c3b4dcfd9aa69242ed",
       "version_major": 2,
       "version_minor": 0
      },
      "text/plain": [
       "HBox(children=(FloatProgress(value=0.0, max=1.0), HTML(value='')))"
      ]
     },
     "metadata": {},
     "output_type": "display_data"
    },
    {
     "name": "stdout",
     "output_type": "stream",
     "text": [
      "\n"
     ]
    },
    {
     "data": {
      "application/vnd.jupyter.widget-view+json": {
       "model_id": "c9abcbfba67a4432a3542ca907682883",
       "version_major": 2,
       "version_minor": 0
      },
      "text/plain": [
       "HBox(children=(FloatProgress(value=0.0, max=3.0), HTML(value='')))"
      ]
     },
     "metadata": {},
     "output_type": "display_data"
    },
    {
     "name": "stdout",
     "output_type": "stream",
     "text": [
      "\n"
     ]
    },
    {
     "name": "stderr",
     "output_type": "stream",
     "text": [
      "/opt/conda/lib/python3.7/site-packages/selenium/webdriver/chrome/webdriver.py:50: DeprecationWarning: use options instead of chrome_options\n",
      "  warnings.warn('use options instead of chrome_options', DeprecationWarning)\n"
     ]
    },
    {
     "data": {
      "application/vnd.jupyter.widget-view+json": {
       "model_id": "cb0fbcab33884446a49e40c04bc817ac",
       "version_major": 2,
       "version_minor": 0
      },
      "text/plain": [
       "HBox(children=(FloatProgress(value=0.0, max=6.0), HTML(value='')))"
      ]
     },
     "metadata": {},
     "output_type": "display_data"
    },
    {
     "name": "stdout",
     "output_type": "stream",
     "text": [
      "\n"
     ]
    },
    {
     "data": {
      "application/vnd.jupyter.widget-view+json": {
       "model_id": "3a11e6d9439f49ce8820b4030b9bf4e6",
       "version_major": 2,
       "version_minor": 0
      },
      "text/plain": [
       "HBox(children=(FloatProgress(value=0.0, max=10.0), HTML(value='')))"
      ]
     },
     "metadata": {},
     "output_type": "display_data"
    },
    {
     "name": "stdout",
     "output_type": "stream",
     "text": [
      "\n"
     ]
    },
    {
     "data": {
      "application/vnd.jupyter.widget-view+json": {
       "model_id": "b09dcc0b01e84263843f2c50af6d908e",
       "version_major": 2,
       "version_minor": 0
      },
      "text/plain": [
       "HBox(children=(FloatProgress(value=0.0, max=10.0), HTML(value='')))"
      ]
     },
     "metadata": {},
     "output_type": "display_data"
    },
    {
     "name": "stdout",
     "output_type": "stream",
     "text": [
      "\n"
     ]
    },
    {
     "data": {
      "application/vnd.jupyter.widget-view+json": {
       "model_id": "f1d0b703d923489e998b0e9af2a77192",
       "version_major": 2,
       "version_minor": 0
      },
      "text/plain": [
       "HBox(children=(FloatProgress(value=0.0, max=5.0), HTML(value='')))"
      ]
     },
     "metadata": {},
     "output_type": "display_data"
    },
    {
     "name": "stdout",
     "output_type": "stream",
     "text": [
      "\n"
     ]
    },
    {
     "data": {
      "application/vnd.jupyter.widget-view+json": {
       "model_id": "c754649b7d924059b06a169ffb4396bc",
       "version_major": 2,
       "version_minor": 0
      },
      "text/plain": [
       "HBox(children=(FloatProgress(value=1.0, bar_style='info', max=1.0), HTML(value='')))"
      ]
     },
     "metadata": {},
     "output_type": "display_data"
    },
    {
     "name": "stdout",
     "output_type": "stream",
     "text": [
      "\n"
     ]
    },
    {
     "name": "stderr",
     "output_type": "stream",
     "text": [
      "/opt/conda/lib/python3.7/site-packages/selenium/webdriver/chrome/webdriver.py:50: DeprecationWarning: use options instead of chrome_options\n",
      "  warnings.warn('use options instead of chrome_options', DeprecationWarning)\n"
     ]
    },
    {
     "data": {
      "application/vnd.jupyter.widget-view+json": {
       "model_id": "140e3bb72ead4868b554d474636c764e",
       "version_major": 2,
       "version_minor": 0
      },
      "text/plain": [
       "HBox(children=(FloatProgress(value=1.0, bar_style='info', max=1.0), HTML(value='')))"
      ]
     },
     "metadata": {},
     "output_type": "display_data"
    },
    {
     "name": "stdout",
     "output_type": "stream",
     "text": [
      "\n"
     ]
    },
    {
     "data": {
      "application/vnd.jupyter.widget-view+json": {
       "model_id": "7f75032e85a943b7ab855628e7a3f582",
       "version_major": 2,
       "version_minor": 0
      },
      "text/plain": [
       "HBox(children=(FloatProgress(value=1.0, bar_style='info', max=1.0), HTML(value='')))"
      ]
     },
     "metadata": {},
     "output_type": "display_data"
    },
    {
     "name": "stdout",
     "output_type": "stream",
     "text": [
      "\n"
     ]
    },
    {
     "data": {
      "application/vnd.jupyter.widget-view+json": {
       "model_id": "272bd05c9d41427f9d3f0f24b735ec66",
       "version_major": 2,
       "version_minor": 0
      },
      "text/plain": [
       "HBox(children=(FloatProgress(value=1.0, bar_style='info', max=1.0), HTML(value='')))"
      ]
     },
     "metadata": {},
     "output_type": "display_data"
    },
    {
     "name": "stdout",
     "output_type": "stream",
     "text": [
      "\n"
     ]
    },
    {
     "data": {
      "application/vnd.jupyter.widget-view+json": {
       "model_id": "6dff95e626dd4292ab4cc57373ae69cb",
       "version_major": 2,
       "version_minor": 0
      },
      "text/plain": [
       "HBox(children=(FloatProgress(value=1.0, bar_style='info', max=1.0), HTML(value='')))"
      ]
     },
     "metadata": {},
     "output_type": "display_data"
    },
    {
     "name": "stdout",
     "output_type": "stream",
     "text": [
      "\n"
     ]
    },
    {
     "data": {
      "application/vnd.jupyter.widget-view+json": {
       "model_id": "df20c6b2755844e6ae3bb434c1cbbc2d",
       "version_major": 2,
       "version_minor": 0
      },
      "text/plain": [
       "HBox(children=(FloatProgress(value=1.0, bar_style='info', max=1.0), HTML(value='')))"
      ]
     },
     "metadata": {},
     "output_type": "display_data"
    },
    {
     "name": "stdout",
     "output_type": "stream",
     "text": [
      "\n"
     ]
    },
    {
     "name": "stderr",
     "output_type": "stream",
     "text": [
      "/opt/conda/lib/python3.7/site-packages/selenium/webdriver/chrome/webdriver.py:50: DeprecationWarning: use options instead of chrome_options\n",
      "  warnings.warn('use options instead of chrome_options', DeprecationWarning)\n"
     ]
    },
    {
     "data": {
      "application/vnd.jupyter.widget-view+json": {
       "model_id": "fa42580d6cca4d648193bc6d35cb9f92",
       "version_major": 2,
       "version_minor": 0
      },
      "text/plain": [
       "HBox(children=(FloatProgress(value=1.0, bar_style='info', max=1.0), HTML(value='')))"
      ]
     },
     "metadata": {},
     "output_type": "display_data"
    },
    {
     "name": "stdout",
     "output_type": "stream",
     "text": [
      "\n"
     ]
    },
    {
     "data": {
      "application/vnd.jupyter.widget-view+json": {
       "model_id": "0dddfc3be5eb49f7b3491e7619a9c0ce",
       "version_major": 2,
       "version_minor": 0
      },
      "text/plain": [
       "HBox(children=(FloatProgress(value=1.0, bar_style='info', max=1.0), HTML(value='')))"
      ]
     },
     "metadata": {},
     "output_type": "display_data"
    },
    {
     "name": "stdout",
     "output_type": "stream",
     "text": [
      "\n"
     ]
    },
    {
     "data": {
      "application/vnd.jupyter.widget-view+json": {
       "model_id": "676acce488514dbfbe74dd95ae649ef2",
       "version_major": 2,
       "version_minor": 0
      },
      "text/plain": [
       "HBox(children=(FloatProgress(value=1.0, bar_style='info', max=1.0), HTML(value='')))"
      ]
     },
     "metadata": {},
     "output_type": "display_data"
    },
    {
     "name": "stdout",
     "output_type": "stream",
     "text": [
      "\n"
     ]
    },
    {
     "data": {
      "application/vnd.jupyter.widget-view+json": {
       "model_id": "ab8eb77745bb4b5d9b4fd1372db94250",
       "version_major": 2,
       "version_minor": 0
      },
      "text/plain": [
       "HBox(children=(FloatProgress(value=1.0, bar_style='info', max=1.0), HTML(value='')))"
      ]
     },
     "metadata": {},
     "output_type": "display_data"
    },
    {
     "name": "stdout",
     "output_type": "stream",
     "text": [
      "\n"
     ]
    },
    {
     "data": {
      "application/vnd.jupyter.widget-view+json": {
       "model_id": "c21c6146276f42f4b6e4366895d31bb4",
       "version_major": 2,
       "version_minor": 0
      },
      "text/plain": [
       "HBox(children=(FloatProgress(value=1.0, bar_style='info', max=1.0), HTML(value='')))"
      ]
     },
     "metadata": {},
     "output_type": "display_data"
    },
    {
     "name": "stdout",
     "output_type": "stream",
     "text": [
      "\n",
      "\n"
     ]
    },
    {
     "data": {
      "application/vnd.jupyter.widget-view+json": {
       "model_id": "1bf4f075aab8466b81db2954c304e6b0",
       "version_major": 2,
       "version_minor": 0
      },
      "text/plain": [
       "HBox(children=(FloatProgress(value=0.0, description='Preprocessing', max=20.0, style=ProgressStyle(description…"
      ]
     },
     "metadata": {},
     "output_type": "display_data"
    },
    {
     "name": "stdout",
     "output_type": "stream",
     "text": [
      "\n",
      "end :: 박스 | 도안 | 윤기 | 특정 | 현혹 | 약주 | 주류 | 순서 | 탁주 | 건더기\n",
      "28번째 반복 중\n",
      "['keyword/keyword_0', 'keyword/keyword_1', 'keyword/keyword_10', 'keyword/keyword_100', 'keyword/keyword_101', 'keyword/keyword_102', 'keyword/keyword_103', 'keyword/keyword_104', 'keyword/keyword_105', 'keyword/keyword_106', 'keyword/keyword_107', 'keyword/keyword_108', 'keyword/keyword_109', 'keyword/keyword_11', 'keyword/keyword_110', 'keyword/keyword_111', 'keyword/keyword_112', 'keyword/keyword_113', 'keyword/keyword_114', 'keyword/keyword_115', 'keyword/keyword_116', 'keyword/keyword_117', 'keyword/keyword_118', 'keyword/keyword_119', 'keyword/keyword_12', 'keyword/keyword_120', 'keyword/keyword_121', 'keyword/keyword_122', 'keyword/keyword_123', 'keyword/keyword_124', 'keyword/keyword_125', 'keyword/keyword_126', 'keyword/keyword_127', 'keyword/keyword_128', 'keyword/keyword_129', 'keyword/keyword_13', 'keyword/keyword_130', 'keyword/keyword_131', 'keyword/keyword_132', 'keyword/keyword_133', 'keyword/keyword_134', 'keyword/keyword_135', 'keyword/keyword_136', 'keyword/keyword_137', 'keyword/keyword_138', 'keyword/keyword_139', 'keyword/keyword_14', 'keyword/keyword_140', 'keyword/keyword_141', 'keyword/keyword_142', 'keyword/keyword_143', 'keyword/keyword_144', 'keyword/keyword_145', 'keyword/keyword_146', 'keyword/keyword_147', 'keyword/keyword_148', 'keyword/keyword_149', 'keyword/keyword_15', 'keyword/keyword_150', 'keyword/keyword_151', 'keyword/keyword_152', 'keyword/keyword_153', 'keyword/keyword_154', 'keyword/keyword_155', 'keyword/keyword_156', 'keyword/keyword_157', 'keyword/keyword_158', 'keyword/keyword_159', 'keyword/keyword_16', 'keyword/keyword_160', 'keyword/keyword_161', 'keyword/keyword_17', 'keyword/keyword_18', 'keyword/keyword_19', 'keyword/keyword_2', 'keyword/keyword_20', 'keyword/keyword_21', 'keyword/keyword_22', 'keyword/keyword_23', 'keyword/keyword_24', 'keyword/keyword_25', 'keyword/keyword_26', 'keyword/keyword_27', 'keyword/keyword_28', 'keyword/keyword_29', 'keyword/keyword_3', 'keyword/keyword_30', 'keyword/keyword_31', 'keyword/keyword_32', 'keyword/keyword_33', 'keyword/keyword_34', 'keyword/keyword_35', 'keyword/keyword_36', 'keyword/keyword_37', 'keyword/keyword_38', 'keyword/keyword_39', 'keyword/keyword_4', 'keyword/keyword_40', 'keyword/keyword_41', 'keyword/keyword_42', 'keyword/keyword_43', 'keyword/keyword_44', 'keyword/keyword_45', 'keyword/keyword_46', 'keyword/keyword_47', 'keyword/keyword_48', 'keyword/keyword_49', 'keyword/keyword_5', 'keyword/keyword_50', 'keyword/keyword_51', 'keyword/keyword_52', 'keyword/keyword_53', 'keyword/keyword_54', 'keyword/keyword_55', 'keyword/keyword_56', 'keyword/keyword_57', 'keyword/keyword_58', 'keyword/keyword_59', 'keyword/keyword_6', 'keyword/keyword_60', 'keyword/keyword_61', 'keyword/keyword_62', 'keyword/keyword_63', 'keyword/keyword_64', 'keyword/keyword_65', 'keyword/keyword_66', 'keyword/keyword_67', 'keyword/keyword_68', 'keyword/keyword_69', 'keyword/keyword_7', 'keyword/keyword_70', 'keyword/keyword_71', 'keyword/keyword_72', 'keyword/keyword_73', 'keyword/keyword_74', 'keyword/keyword_75', 'keyword/keyword_76', 'keyword/keyword_77', 'keyword/keyword_78', 'keyword/keyword_79', 'keyword/keyword_8', 'keyword/keyword_80', 'keyword/keyword_81', 'keyword/keyword_82', 'keyword/keyword_83', 'keyword/keyword_84', 'keyword/keyword_85', 'keyword/keyword_86', 'keyword/keyword_87', 'keyword/keyword_88', 'keyword/keyword_89', 'keyword/keyword_9', 'keyword/keyword_90', 'keyword/keyword_91', 'keyword/keyword_92', 'keyword/keyword_93', 'keyword/keyword_94', 'keyword/keyword_95', 'keyword/keyword_96', 'keyword/keyword_97', 'keyword/keyword_98', 'keyword/keyword_99']\n",
      "162\n",
      "\n",
      "start :: 박스 | 도안 | 윤기 | 특정 | 현혹 | 약주 | 주류 | 순서 | 탁주 | 건더기+\"음식 건강\"\n"
     ]
    },
    {
     "data": {
      "application/vnd.jupyter.widget-view+json": {
       "model_id": "6388793b47e74396a53f7221264c3f7f",
       "version_major": 2,
       "version_minor": 0
      },
      "text/plain": [
       "HBox(children=(FloatProgress(value=0.0, max=20.0), HTML(value='')))"
      ]
     },
     "metadata": {},
     "output_type": "display_data"
    },
    {
     "name": "stdout",
     "output_type": "stream",
     "text": [
      "\n"
     ]
    },
    {
     "data": {
      "application/vnd.jupyter.widget-view+json": {
       "model_id": "b4eb6c7ad61a4d64b5c84620d38b5a27",
       "version_major": 2,
       "version_minor": 0
      },
      "text/plain": [
       "HBox(children=(FloatProgress(value=0.0, max=20.0), HTML(value='')))"
      ]
     },
     "metadata": {},
     "output_type": "display_data"
    },
    {
     "name": "stderr",
     "output_type": "stream",
     "text": [
      "/opt/conda/lib/python3.7/site-packages/selenium/webdriver/chrome/webdriver.py:50: DeprecationWarning: use options instead of chrome_options\n",
      "  warnings.warn('use options instead of chrome_options', DeprecationWarning)\n"
     ]
    },
    {
     "data": {
      "application/vnd.jupyter.widget-view+json": {
       "model_id": "9624d8665ab7488a9ef717fa65828813",
       "version_major": 2,
       "version_minor": 0
      },
      "text/plain": [
       "HBox(children=(FloatProgress(value=0.0, max=1.0), HTML(value='')))"
      ]
     },
     "metadata": {},
     "output_type": "display_data"
    },
    {
     "name": "stdout",
     "output_type": "stream",
     "text": [
      "\n"
     ]
    },
    {
     "data": {
      "application/vnd.jupyter.widget-view+json": {
       "model_id": "57482f78d56748c8900334608c8f3cf5",
       "version_major": 2,
       "version_minor": 0
      },
      "text/plain": [
       "HBox(children=(FloatProgress(value=0.0, max=4.0), HTML(value='')))"
      ]
     },
     "metadata": {},
     "output_type": "display_data"
    },
    {
     "name": "stdout",
     "output_type": "stream",
     "text": [
      "\n"
     ]
    },
    {
     "data": {
      "application/vnd.jupyter.widget-view+json": {
       "model_id": "ba0c138a1e7643d69b17282ec3f1e015",
       "version_major": 2,
       "version_minor": 0
      },
      "text/plain": [
       "HBox(children=(FloatProgress(value=0.0, max=3.0), HTML(value='')))"
      ]
     },
     "metadata": {},
     "output_type": "display_data"
    },
    {
     "name": "stdout",
     "output_type": "stream",
     "text": [
      "\n"
     ]
    },
    {
     "data": {
      "application/vnd.jupyter.widget-view+json": {
       "model_id": "29268ec2f00d4917b509e3fd82db2238",
       "version_major": 2,
       "version_minor": 0
      },
      "text/plain": [
       "HBox(children=(FloatProgress(value=0.0, max=2.0), HTML(value='')))"
      ]
     },
     "metadata": {},
     "output_type": "display_data"
    },
    {
     "name": "stdout",
     "output_type": "stream",
     "text": [
      "\n"
     ]
    },
    {
     "data": {
      "application/vnd.jupyter.widget-view+json": {
       "model_id": "2f84e0a877bf4940a65cc41063a08550",
       "version_major": 2,
       "version_minor": 0
      },
      "text/plain": [
       "HBox(children=(FloatProgress(value=0.0, max=2.0), HTML(value='')))"
      ]
     },
     "metadata": {},
     "output_type": "display_data"
    },
    {
     "name": "stdout",
     "output_type": "stream",
     "text": [
      "\n"
     ]
    },
    {
     "name": "stderr",
     "output_type": "stream",
     "text": [
      "/opt/conda/lib/python3.7/site-packages/selenium/webdriver/chrome/webdriver.py:50: DeprecationWarning: use options instead of chrome_options\n",
      "  warnings.warn('use options instead of chrome_options', DeprecationWarning)\n"
     ]
    },
    {
     "data": {
      "application/vnd.jupyter.widget-view+json": {
       "model_id": "83bf3d0a28004376b9a4b17d996789a0",
       "version_major": 2,
       "version_minor": 0
      },
      "text/plain": [
       "HBox(children=(FloatProgress(value=0.0, max=4.0), HTML(value='')))"
      ]
     },
     "metadata": {},
     "output_type": "display_data"
    },
    {
     "name": "stdout",
     "output_type": "stream",
     "text": [
      "\n"
     ]
    },
    {
     "data": {
      "application/vnd.jupyter.widget-view+json": {
       "model_id": "e73b2ca1b16c45b18e2885f1e61a62ee",
       "version_major": 2,
       "version_minor": 0
      },
      "text/plain": [
       "HBox(children=(FloatProgress(value=0.0, max=6.0), HTML(value='')))"
      ]
     },
     "metadata": {},
     "output_type": "display_data"
    },
    {
     "name": "stdout",
     "output_type": "stream",
     "text": [
      "\n"
     ]
    },
    {
     "data": {
      "application/vnd.jupyter.widget-view+json": {
       "model_id": "660e3eafb2274ddd97046f3617e9f2ff",
       "version_major": 2,
       "version_minor": 0
      },
      "text/plain": [
       "HBox(children=(FloatProgress(value=0.0, max=9.0), HTML(value='')))"
      ]
     },
     "metadata": {},
     "output_type": "display_data"
    },
    {
     "name": "stdout",
     "output_type": "stream",
     "text": [
      "\n"
     ]
    },
    {
     "data": {
      "application/vnd.jupyter.widget-view+json": {
       "model_id": "d0106a982ca040cf9d9fd8a2a88da0fd",
       "version_major": 2,
       "version_minor": 0
      },
      "text/plain": [
       "HBox(children=(FloatProgress(value=1.0, bar_style='info', max=1.0), HTML(value='')))"
      ]
     },
     "metadata": {},
     "output_type": "display_data"
    },
    {
     "name": "stdout",
     "output_type": "stream",
     "text": [
      "\n"
     ]
    },
    {
     "data": {
      "application/vnd.jupyter.widget-view+json": {
       "model_id": "6d3e1dcfbcf24a99ada3a21184cba0a5",
       "version_major": 2,
       "version_minor": 0
      },
      "text/plain": [
       "HBox(children=(FloatProgress(value=1.0, bar_style='info', max=1.0), HTML(value='')))"
      ]
     },
     "metadata": {},
     "output_type": "display_data"
    },
    {
     "name": "stdout",
     "output_type": "stream",
     "text": [
      "\n"
     ]
    },
    {
     "name": "stderr",
     "output_type": "stream",
     "text": [
      "/opt/conda/lib/python3.7/site-packages/selenium/webdriver/chrome/webdriver.py:50: DeprecationWarning: use options instead of chrome_options\n",
      "  warnings.warn('use options instead of chrome_options', DeprecationWarning)\n"
     ]
    },
    {
     "data": {
      "application/vnd.jupyter.widget-view+json": {
       "model_id": "978ff01b991248dc802c91f04b2aaf38",
       "version_major": 2,
       "version_minor": 0
      },
      "text/plain": [
       "HBox(children=(FloatProgress(value=1.0, bar_style='info', max=1.0), HTML(value='')))"
      ]
     },
     "metadata": {},
     "output_type": "display_data"
    },
    {
     "name": "stdout",
     "output_type": "stream",
     "text": [
      "\n"
     ]
    },
    {
     "data": {
      "application/vnd.jupyter.widget-view+json": {
       "model_id": "11ce5a4e6ad94bf8bd50111babad11ec",
       "version_major": 2,
       "version_minor": 0
      },
      "text/plain": [
       "HBox(children=(FloatProgress(value=1.0, bar_style='info', max=1.0), HTML(value='')))"
      ]
     },
     "metadata": {},
     "output_type": "display_data"
    },
    {
     "name": "stdout",
     "output_type": "stream",
     "text": [
      "\n"
     ]
    },
    {
     "data": {
      "application/vnd.jupyter.widget-view+json": {
       "model_id": "33b3b8ea9b71453eb3a85b8f0268be0c",
       "version_major": 2,
       "version_minor": 0
      },
      "text/plain": [
       "HBox(children=(FloatProgress(value=1.0, bar_style='info', max=1.0), HTML(value='')))"
      ]
     },
     "metadata": {},
     "output_type": "display_data"
    },
    {
     "name": "stdout",
     "output_type": "stream",
     "text": [
      "\n"
     ]
    },
    {
     "data": {
      "application/vnd.jupyter.widget-view+json": {
       "model_id": "34a6b4669db946bea3e1f8490c8b9ab7",
       "version_major": 2,
       "version_minor": 0
      },
      "text/plain": [
       "HBox(children=(FloatProgress(value=1.0, bar_style='info', max=1.0), HTML(value='')))"
      ]
     },
     "metadata": {},
     "output_type": "display_data"
    },
    {
     "name": "stdout",
     "output_type": "stream",
     "text": [
      "\n"
     ]
    },
    {
     "data": {
      "application/vnd.jupyter.widget-view+json": {
       "model_id": "0a5af8001edd43d2b915671aef8d5ccc",
       "version_major": 2,
       "version_minor": 0
      },
      "text/plain": [
       "HBox(children=(FloatProgress(value=1.0, bar_style='info', max=1.0), HTML(value='')))"
      ]
     },
     "metadata": {},
     "output_type": "display_data"
    },
    {
     "name": "stdout",
     "output_type": "stream",
     "text": [
      "\n"
     ]
    },
    {
     "name": "stderr",
     "output_type": "stream",
     "text": [
      "/opt/conda/lib/python3.7/site-packages/selenium/webdriver/chrome/webdriver.py:50: DeprecationWarning: use options instead of chrome_options\n",
      "  warnings.warn('use options instead of chrome_options', DeprecationWarning)\n"
     ]
    },
    {
     "data": {
      "application/vnd.jupyter.widget-view+json": {
       "model_id": "2f1e0ad980414344a6b15976a2284f6b",
       "version_major": 2,
       "version_minor": 0
      },
      "text/plain": [
       "HBox(children=(FloatProgress(value=1.0, bar_style='info', max=1.0), HTML(value='')))"
      ]
     },
     "metadata": {},
     "output_type": "display_data"
    },
    {
     "name": "stdout",
     "output_type": "stream",
     "text": [
      "\n"
     ]
    },
    {
     "data": {
      "application/vnd.jupyter.widget-view+json": {
       "model_id": "25a30e4723ea4e2eb678a660e6ff3a9c",
       "version_major": 2,
       "version_minor": 0
      },
      "text/plain": [
       "HBox(children=(FloatProgress(value=1.0, bar_style='info', max=1.0), HTML(value='')))"
      ]
     },
     "metadata": {},
     "output_type": "display_data"
    },
    {
     "name": "stdout",
     "output_type": "stream",
     "text": [
      "\n"
     ]
    },
    {
     "data": {
      "application/vnd.jupyter.widget-view+json": {
       "model_id": "5641d21451974bed91bea0ad00cbf984",
       "version_major": 2,
       "version_minor": 0
      },
      "text/plain": [
       "HBox(children=(FloatProgress(value=1.0, bar_style='info', max=1.0), HTML(value='')))"
      ]
     },
     "metadata": {},
     "output_type": "display_data"
    },
    {
     "name": "stdout",
     "output_type": "stream",
     "text": [
      "\n"
     ]
    },
    {
     "data": {
      "application/vnd.jupyter.widget-view+json": {
       "model_id": "b2deff3718ae4dce9717ca632e755af9",
       "version_major": 2,
       "version_minor": 0
      },
      "text/plain": [
       "HBox(children=(FloatProgress(value=1.0, bar_style='info', max=1.0), HTML(value='')))"
      ]
     },
     "metadata": {},
     "output_type": "display_data"
    },
    {
     "name": "stdout",
     "output_type": "stream",
     "text": [
      "\n"
     ]
    },
    {
     "data": {
      "application/vnd.jupyter.widget-view+json": {
       "model_id": "1dd028af11fe42daa6ac2c819c38ecda",
       "version_major": 2,
       "version_minor": 0
      },
      "text/plain": [
       "HBox(children=(FloatProgress(value=1.0, bar_style='info', max=1.0), HTML(value='')))"
      ]
     },
     "metadata": {},
     "output_type": "display_data"
    },
    {
     "name": "stdout",
     "output_type": "stream",
     "text": [
      "\n",
      "\n"
     ]
    },
    {
     "data": {
      "application/vnd.jupyter.widget-view+json": {
       "model_id": "4e53ca802f2e4e79ba6ff6c372fc8e62",
       "version_major": 2,
       "version_minor": 0
      },
      "text/plain": [
       "HBox(children=(FloatProgress(value=0.0, description='Preprocessing', max=20.0, style=ProgressStyle(description…"
      ]
     },
     "metadata": {},
     "output_type": "display_data"
    },
    {
     "name": "stdout",
     "output_type": "stream",
     "text": [
      "\n",
      "end :: 가열 | 비누 | 어묵 | 담배 | 금연 | 가금 | 전은 | 탄력 | 유와 | 물티슈\n",
      "29번째 반복 중\n",
      "['keyword/keyword_0', 'keyword/keyword_1', 'keyword/keyword_10', 'keyword/keyword_100', 'keyword/keyword_101', 'keyword/keyword_102', 'keyword/keyword_103', 'keyword/keyword_104', 'keyword/keyword_105', 'keyword/keyword_106', 'keyword/keyword_107', 'keyword/keyword_108', 'keyword/keyword_109', 'keyword/keyword_11', 'keyword/keyword_110', 'keyword/keyword_111', 'keyword/keyword_112', 'keyword/keyword_113', 'keyword/keyword_114', 'keyword/keyword_115', 'keyword/keyword_116', 'keyword/keyword_117', 'keyword/keyword_118', 'keyword/keyword_119', 'keyword/keyword_12', 'keyword/keyword_120', 'keyword/keyword_121', 'keyword/keyword_122', 'keyword/keyword_123', 'keyword/keyword_124', 'keyword/keyword_125', 'keyword/keyword_126', 'keyword/keyword_127', 'keyword/keyword_128', 'keyword/keyword_129', 'keyword/keyword_13', 'keyword/keyword_130', 'keyword/keyword_131', 'keyword/keyword_132', 'keyword/keyword_133', 'keyword/keyword_134', 'keyword/keyword_135', 'keyword/keyword_136', 'keyword/keyword_137', 'keyword/keyword_138', 'keyword/keyword_139', 'keyword/keyword_14', 'keyword/keyword_140', 'keyword/keyword_141', 'keyword/keyword_142', 'keyword/keyword_143', 'keyword/keyword_144', 'keyword/keyword_145', 'keyword/keyword_146', 'keyword/keyword_147', 'keyword/keyword_148', 'keyword/keyword_149', 'keyword/keyword_15', 'keyword/keyword_150', 'keyword/keyword_151', 'keyword/keyword_152', 'keyword/keyword_153', 'keyword/keyword_154', 'keyword/keyword_155', 'keyword/keyword_156', 'keyword/keyword_157', 'keyword/keyword_158', 'keyword/keyword_159', 'keyword/keyword_16', 'keyword/keyword_160', 'keyword/keyword_161', 'keyword/keyword_162', 'keyword/keyword_17', 'keyword/keyword_18', 'keyword/keyword_19', 'keyword/keyword_2', 'keyword/keyword_20', 'keyword/keyword_21', 'keyword/keyword_22', 'keyword/keyword_23', 'keyword/keyword_24', 'keyword/keyword_25', 'keyword/keyword_26', 'keyword/keyword_27', 'keyword/keyword_28', 'keyword/keyword_29', 'keyword/keyword_3', 'keyword/keyword_30', 'keyword/keyword_31', 'keyword/keyword_32', 'keyword/keyword_33', 'keyword/keyword_34', 'keyword/keyword_35', 'keyword/keyword_36', 'keyword/keyword_37', 'keyword/keyword_38', 'keyword/keyword_39', 'keyword/keyword_4', 'keyword/keyword_40', 'keyword/keyword_41', 'keyword/keyword_42', 'keyword/keyword_43', 'keyword/keyword_44', 'keyword/keyword_45', 'keyword/keyword_46', 'keyword/keyword_47', 'keyword/keyword_48', 'keyword/keyword_49', 'keyword/keyword_5', 'keyword/keyword_50', 'keyword/keyword_51', 'keyword/keyword_52', 'keyword/keyword_53', 'keyword/keyword_54', 'keyword/keyword_55', 'keyword/keyword_56', 'keyword/keyword_57', 'keyword/keyword_58', 'keyword/keyword_59', 'keyword/keyword_6', 'keyword/keyword_60', 'keyword/keyword_61', 'keyword/keyword_62', 'keyword/keyword_63', 'keyword/keyword_64', 'keyword/keyword_65', 'keyword/keyword_66', 'keyword/keyword_67', 'keyword/keyword_68', 'keyword/keyword_69', 'keyword/keyword_7', 'keyword/keyword_70', 'keyword/keyword_71', 'keyword/keyword_72', 'keyword/keyword_73', 'keyword/keyword_74', 'keyword/keyword_75', 'keyword/keyword_76', 'keyword/keyword_77', 'keyword/keyword_78', 'keyword/keyword_79', 'keyword/keyword_8', 'keyword/keyword_80', 'keyword/keyword_81', 'keyword/keyword_82', 'keyword/keyword_83', 'keyword/keyword_84', 'keyword/keyword_85', 'keyword/keyword_86', 'keyword/keyword_87', 'keyword/keyword_88', 'keyword/keyword_89', 'keyword/keyword_9', 'keyword/keyword_90', 'keyword/keyword_91', 'keyword/keyword_92', 'keyword/keyword_93', 'keyword/keyword_94', 'keyword/keyword_95', 'keyword/keyword_96', 'keyword/keyword_97', 'keyword/keyword_98', 'keyword/keyword_99']\n",
      "163\n",
      "\n",
      "start :: 가열 | 비누 | 어묵 | 담배 | 금연 | 가금 | 전은 | 탄력 | 유와 | 물티슈+\"음식 건강\"\n"
     ]
    },
    {
     "data": {
      "application/vnd.jupyter.widget-view+json": {
       "model_id": "64b8f4aa6fc34a21b46ed83108782e4b",
       "version_major": 2,
       "version_minor": 0
      },
      "text/plain": [
       "HBox(children=(FloatProgress(value=0.0, max=20.0), HTML(value='')))"
      ]
     },
     "metadata": {},
     "output_type": "display_data"
    },
    {
     "name": "stdout",
     "output_type": "stream",
     "text": [
      "\n"
     ]
    },
    {
     "data": {
      "application/vnd.jupyter.widget-view+json": {
       "model_id": "9bcaca078bca48babd7a8f03f8f12047",
       "version_major": 2,
       "version_minor": 0
      },
      "text/plain": [
       "HBox(children=(FloatProgress(value=0.0, max=20.0), HTML(value='')))"
      ]
     },
     "metadata": {},
     "output_type": "display_data"
    },
    {
     "name": "stderr",
     "output_type": "stream",
     "text": [
      "/opt/conda/lib/python3.7/site-packages/selenium/webdriver/chrome/webdriver.py:50: DeprecationWarning: use options instead of chrome_options\n",
      "  warnings.warn('use options instead of chrome_options', DeprecationWarning)\n"
     ]
    },
    {
     "data": {
      "application/vnd.jupyter.widget-view+json": {
       "model_id": "dce33016294b44d4b3fd93ef05202192",
       "version_major": 2,
       "version_minor": 0
      },
      "text/plain": [
       "HBox(children=(FloatProgress(value=0.0, max=2.0), HTML(value='')))"
      ]
     },
     "metadata": {},
     "output_type": "display_data"
    },
    {
     "name": "stdout",
     "output_type": "stream",
     "text": [
      "\n"
     ]
    },
    {
     "data": {
      "application/vnd.jupyter.widget-view+json": {
       "model_id": "d61cde7c8b234a91b694085aabab5540",
       "version_major": 2,
       "version_minor": 0
      },
      "text/plain": [
       "HBox(children=(FloatProgress(value=0.0, max=6.0), HTML(value='')))"
      ]
     },
     "metadata": {},
     "output_type": "display_data"
    },
    {
     "name": "stdout",
     "output_type": "stream",
     "text": [
      "\n"
     ]
    },
    {
     "data": {
      "application/vnd.jupyter.widget-view+json": {
       "model_id": "164719b455bc4941b27356e669ff1bea",
       "version_major": 2,
       "version_minor": 0
      },
      "text/plain": [
       "HBox(children=(FloatProgress(value=0.0, max=2.0), HTML(value='')))"
      ]
     },
     "metadata": {},
     "output_type": "display_data"
    },
    {
     "name": "stdout",
     "output_type": "stream",
     "text": [
      "\n"
     ]
    },
    {
     "data": {
      "application/vnd.jupyter.widget-view+json": {
       "model_id": "8af8f1d09a69406a930d68ecf279f7a1",
       "version_major": 2,
       "version_minor": 0
      },
      "text/plain": [
       "HBox(children=(FloatProgress(value=0.0, max=2.0), HTML(value='')))"
      ]
     },
     "metadata": {},
     "output_type": "display_data"
    },
    {
     "name": "stdout",
     "output_type": "stream",
     "text": [
      "\n"
     ]
    },
    {
     "data": {
      "application/vnd.jupyter.widget-view+json": {
       "model_id": "09b6f628641842259969c40f0a3fa3e0",
       "version_major": 2,
       "version_minor": 0
      },
      "text/plain": [
       "HBox(children=(FloatProgress(value=0.0, max=4.0), HTML(value='')))"
      ]
     },
     "metadata": {},
     "output_type": "display_data"
    },
    {
     "name": "stdout",
     "output_type": "stream",
     "text": [
      "\n"
     ]
    },
    {
     "name": "stderr",
     "output_type": "stream",
     "text": [
      "/opt/conda/lib/python3.7/site-packages/selenium/webdriver/chrome/webdriver.py:50: DeprecationWarning: use options instead of chrome_options\n",
      "  warnings.warn('use options instead of chrome_options', DeprecationWarning)\n"
     ]
    },
    {
     "data": {
      "application/vnd.jupyter.widget-view+json": {
       "model_id": "5551387fc9614f38a167b71ecd30a6bb",
       "version_major": 2,
       "version_minor": 0
      },
      "text/plain": [
       "HBox(children=(FloatProgress(value=0.0, max=2.0), HTML(value='')))"
      ]
     },
     "metadata": {},
     "output_type": "display_data"
    },
    {
     "name": "stdout",
     "output_type": "stream",
     "text": [
      "\n"
     ]
    },
    {
     "data": {
      "application/vnd.jupyter.widget-view+json": {
       "model_id": "4184c947e2114696a8d483ac7c93f441",
       "version_major": 2,
       "version_minor": 0
      },
      "text/plain": [
       "HBox(children=(FloatProgress(value=0.0, max=4.0), HTML(value='')))"
      ]
     },
     "metadata": {},
     "output_type": "display_data"
    },
    {
     "name": "stdout",
     "output_type": "stream",
     "text": [
      "\n"
     ]
    },
    {
     "data": {
      "application/vnd.jupyter.widget-view+json": {
       "model_id": "0c32b7208d5f4d75bc34729f73ee3e5d",
       "version_major": 2,
       "version_minor": 0
      },
      "text/plain": [
       "HBox(children=(FloatProgress(value=0.0, max=4.0), HTML(value='')))"
      ]
     },
     "metadata": {},
     "output_type": "display_data"
    },
    {
     "name": "stdout",
     "output_type": "stream",
     "text": [
      "\n"
     ]
    },
    {
     "data": {
      "application/vnd.jupyter.widget-view+json": {
       "model_id": "f22b2179496a4a2a8b2ed7637c4d0821",
       "version_major": 2,
       "version_minor": 0
      },
      "text/plain": [
       "HBox(children=(FloatProgress(value=0.0, max=7.0), HTML(value='')))"
      ]
     },
     "metadata": {},
     "output_type": "display_data"
    },
    {
     "name": "stdout",
     "output_type": "stream",
     "text": [
      "\n"
     ]
    },
    {
     "data": {
      "application/vnd.jupyter.widget-view+json": {
       "model_id": "63994a1b66034867aee0f4ee7f11d4a1",
       "version_major": 2,
       "version_minor": 0
      },
      "text/plain": [
       "HBox(children=(FloatProgress(value=0.0, max=3.0), HTML(value='')))"
      ]
     },
     "metadata": {},
     "output_type": "display_data"
    },
    {
     "name": "stdout",
     "output_type": "stream",
     "text": [
      "\n"
     ]
    },
    {
     "name": "stderr",
     "output_type": "stream",
     "text": [
      "/opt/conda/lib/python3.7/site-packages/selenium/webdriver/chrome/webdriver.py:50: DeprecationWarning: use options instead of chrome_options\n",
      "  warnings.warn('use options instead of chrome_options', DeprecationWarning)\n"
     ]
    },
    {
     "data": {
      "application/vnd.jupyter.widget-view+json": {
       "model_id": "5b278d9ab3af4fde9413e47dd5c3e2c4",
       "version_major": 2,
       "version_minor": 0
      },
      "text/plain": [
       "HBox(children=(FloatProgress(value=0.0, max=4.0), HTML(value='')))"
      ]
     },
     "metadata": {},
     "output_type": "display_data"
    },
    {
     "name": "stdout",
     "output_type": "stream",
     "text": [
      "\n"
     ]
    },
    {
     "data": {
      "application/vnd.jupyter.widget-view+json": {
       "model_id": "b2582bdd8bbb4243b7515a662ad55897",
       "version_major": 2,
       "version_minor": 0
      },
      "text/plain": [
       "HBox(children=(FloatProgress(value=0.0, max=6.0), HTML(value='')))"
      ]
     },
     "metadata": {},
     "output_type": "display_data"
    },
    {
     "name": "stdout",
     "output_type": "stream",
     "text": [
      "\n"
     ]
    },
    {
     "data": {
      "application/vnd.jupyter.widget-view+json": {
       "model_id": "fad27cca8e7f42768a2dabbc9f461d1f",
       "version_major": 2,
       "version_minor": 0
      },
      "text/plain": [
       "HBox(children=(FloatProgress(value=0.0, max=9.0), HTML(value='')))"
      ]
     },
     "metadata": {},
     "output_type": "display_data"
    },
    {
     "name": "stdout",
     "output_type": "stream",
     "text": [
      "\n"
     ]
    },
    {
     "data": {
      "application/vnd.jupyter.widget-view+json": {
       "model_id": "1bb22e8f4e404d56b7d1f4c886f50ea6",
       "version_major": 2,
       "version_minor": 0
      },
      "text/plain": [
       "HBox(children=(FloatProgress(value=0.0, max=10.0), HTML(value='')))"
      ]
     },
     "metadata": {},
     "output_type": "display_data"
    },
    {
     "name": "stdout",
     "output_type": "stream",
     "text": [
      "\n"
     ]
    },
    {
     "data": {
      "application/vnd.jupyter.widget-view+json": {
       "model_id": "4484c18016944de888f9bcec03f84bc7",
       "version_major": 2,
       "version_minor": 0
      },
      "text/plain": [
       "HBox(children=(FloatProgress(value=0.0, max=9.0), HTML(value='')))"
      ]
     },
     "metadata": {},
     "output_type": "display_data"
    },
    {
     "name": "stdout",
     "output_type": "stream",
     "text": [
      "\n"
     ]
    },
    {
     "name": "stderr",
     "output_type": "stream",
     "text": [
      "/opt/conda/lib/python3.7/site-packages/selenium/webdriver/chrome/webdriver.py:50: DeprecationWarning: use options instead of chrome_options\n",
      "  warnings.warn('use options instead of chrome_options', DeprecationWarning)\n"
     ]
    },
    {
     "data": {
      "application/vnd.jupyter.widget-view+json": {
       "model_id": "9bf03d27b5fe42359c5a7ac309b7c4a7",
       "version_major": 2,
       "version_minor": 0
      },
      "text/plain": [
       "HBox(children=(FloatProgress(value=0.0, max=10.0), HTML(value='')))"
      ]
     },
     "metadata": {},
     "output_type": "display_data"
    },
    {
     "name": "stdout",
     "output_type": "stream",
     "text": [
      "\n"
     ]
    },
    {
     "data": {
      "application/vnd.jupyter.widget-view+json": {
       "model_id": "8d9330a4124b49d1b06cb4c7c0014005",
       "version_major": 2,
       "version_minor": 0
      },
      "text/plain": [
       "HBox(children=(FloatProgress(value=0.0, max=10.0), HTML(value='')))"
      ]
     },
     "metadata": {},
     "output_type": "display_data"
    },
    {
     "name": "stdout",
     "output_type": "stream",
     "text": [
      "\n"
     ]
    },
    {
     "data": {
      "application/vnd.jupyter.widget-view+json": {
       "model_id": "e912ab1c8ac24602805e6d23e2395db0",
       "version_major": 2,
       "version_minor": 0
      },
      "text/plain": [
       "HBox(children=(FloatProgress(value=0.0, max=10.0), HTML(value='')))"
      ]
     },
     "metadata": {},
     "output_type": "display_data"
    },
    {
     "name": "stdout",
     "output_type": "stream",
     "text": [
      "\n"
     ]
    },
    {
     "data": {
      "application/vnd.jupyter.widget-view+json": {
       "model_id": "ec073eff35054d47b4d25c73a68d10cb",
       "version_major": 2,
       "version_minor": 0
      },
      "text/plain": [
       "HBox(children=(FloatProgress(value=0.0, max=4.0), HTML(value='')))"
      ]
     },
     "metadata": {},
     "output_type": "display_data"
    },
    {
     "name": "stdout",
     "output_type": "stream",
     "text": [
      "\n"
     ]
    },
    {
     "data": {
      "application/vnd.jupyter.widget-view+json": {
       "model_id": "821958584e8e45ac808a0bc0b40fc677",
       "version_major": 2,
       "version_minor": 0
      },
      "text/plain": [
       "HBox(children=(FloatProgress(value=1.0, bar_style='info', max=1.0), HTML(value='')))"
      ]
     },
     "metadata": {},
     "output_type": "display_data"
    },
    {
     "name": "stdout",
     "output_type": "stream",
     "text": [
      "\n",
      "\n"
     ]
    },
    {
     "data": {
      "application/vnd.jupyter.widget-view+json": {
       "model_id": "8f8c19ddd85c46fc94fb662df28ff8e6",
       "version_major": 2,
       "version_minor": 0
      },
      "text/plain": [
       "HBox(children=(FloatProgress(value=0.0, description='Preprocessing', max=20.0, style=ProgressStyle(description…"
      ]
     },
     "metadata": {},
     "output_type": "display_data"
    },
    {
     "name": "stdout",
     "output_type": "stream",
     "text": [
      "\n"
     ]
    },
    {
     "ename": "TypeError",
     "evalue": "Object of type complex is not JSON serializable",
     "output_type": "error",
     "traceback": [
      "\u001b[0;31m---------------------------------------------------------------------------\u001b[0m",
      "\u001b[0;31mTypeError\u001b[0m                                 Traceback (most recent call last)",
      "\u001b[0;32m<ipython-input-3-c027e1185902>\u001b[0m in \u001b[0;36m<module>\u001b[0;34m\u001b[0m\n\u001b[1;32m     19\u001b[0m     \u001b[0mprint\u001b[0m\u001b[0;34m(\u001b[0m\u001b[0mstr\u001b[0m\u001b[0;34m(\u001b[0m\u001b[0mi\u001b[0m\u001b[0;34m+\u001b[0m\u001b[0;36m1\u001b[0m\u001b[0;34m)\u001b[0m \u001b[0;34m+\u001b[0m \u001b[0;34m\"번째 반복 중\"\u001b[0m \u001b[0;34m)\u001b[0m\u001b[0;34m\u001b[0m\u001b[0;34m\u001b[0m\u001b[0m\n\u001b[1;32m     20\u001b[0m     \u001b[0mlink_count\u001b[0m \u001b[0;34m=\u001b[0m \u001b[0mget_data\u001b[0m\u001b[0;34m(\u001b[0m\u001b[0mclient_id\u001b[0m\u001b[0;34m,\u001b[0m \u001b[0mclient_secret\u001b[0m\u001b[0;34m,\u001b[0m \u001b[0mnaver_id\u001b[0m\u001b[0;34m,\u001b[0m \u001b[0mnaver_pw\u001b[0m\u001b[0;34m,\u001b[0m \u001b[0mcontent_file_name\u001b[0m\u001b[0;34m,\u001b[0m \u001b[0msc\u001b[0m\u001b[0;34m,\u001b[0m \u001b[0mkeywords\u001b[0m\u001b[0;34m)\u001b[0m\u001b[0;34m\u001b[0m\u001b[0;34m\u001b[0m\u001b[0m\n\u001b[0;32m---> 21\u001b[0;31m     \u001b[0mget_topics\u001b[0m\u001b[0;34m(\u001b[0m\u001b[0mlink_count\u001b[0m\u001b[0;34m)\u001b[0m\u001b[0;34m\u001b[0m\u001b[0;34m\u001b[0m\u001b[0m\n\u001b[0m",
      "\u001b[0;32m<ipython-input-2-f0f203a49d5b>\u001b[0m in \u001b[0;36mget_topics\u001b[0;34m(link_count)\u001b[0m\n\u001b[1;32m    103\u001b[0m     \u001b[0mfilecount\u001b[0m\u001b[0;34m=\u001b[0m\u001b[0mlen\u001b[0m\u001b[0;34m(\u001b[0m\u001b[0mglob\u001b[0m\u001b[0;34m.\u001b[0m\u001b[0mglob\u001b[0m\u001b[0;34m(\u001b[0m\u001b[0;34m\"html_results/*\"\u001b[0m\u001b[0;34m)\u001b[0m\u001b[0;34m)\u001b[0m\u001b[0;34m\u001b[0m\u001b[0;34m\u001b[0m\u001b[0m\n\u001b[1;32m    104\u001b[0m \u001b[0;34m\u001b[0m\u001b[0m\n\u001b[0;32m--> 105\u001b[0;31m     \u001b[0mpyLDAvis\u001b[0m\u001b[0;34m.\u001b[0m\u001b[0msave_html\u001b[0m\u001b[0;34m(\u001b[0m\u001b[0mdata\u001b[0m\u001b[0;34m,\u001b[0m \u001b[0;34m'html_results/lda_'\u001b[0m\u001b[0;34m+\u001b[0m\u001b[0mstr\u001b[0m\u001b[0;34m(\u001b[0m\u001b[0mfilecount\u001b[0m\u001b[0;34m)\u001b[0m\u001b[0;34m+\u001b[0m\u001b[0;34m'.html'\u001b[0m\u001b[0;34m)\u001b[0m\u001b[0;34m\u001b[0m\u001b[0;34m\u001b[0m\u001b[0m\n\u001b[0m\u001b[1;32m    106\u001b[0m \u001b[0;34m\u001b[0m\u001b[0m\n\u001b[1;32m    107\u001b[0m \u001b[0;34m\u001b[0m\u001b[0m\n",
      "\u001b[0;32m/opt/conda/lib/python3.7/site-packages/pyLDAvis/_display.py\u001b[0m in \u001b[0;36msave_html\u001b[0;34m(data, fileobj, **kwargs)\u001b[0m\n\u001b[1;32m    360\u001b[0m     \u001b[0;32mif\u001b[0m \u001b[0;32mnot\u001b[0m \u001b[0mhasattr\u001b[0m\u001b[0;34m(\u001b[0m\u001b[0mfileobj\u001b[0m\u001b[0;34m,\u001b[0m \u001b[0;34m'write'\u001b[0m\u001b[0;34m)\u001b[0m\u001b[0;34m:\u001b[0m\u001b[0;34m\u001b[0m\u001b[0;34m\u001b[0m\u001b[0m\n\u001b[1;32m    361\u001b[0m         \u001b[0;32mraise\u001b[0m \u001b[0mValueError\u001b[0m\u001b[0;34m(\u001b[0m\u001b[0;34m\"fileobj should be a filename or a writable file\"\u001b[0m\u001b[0;34m)\u001b[0m\u001b[0;34m\u001b[0m\u001b[0;34m\u001b[0m\u001b[0m\n\u001b[0;32m--> 362\u001b[0;31m     \u001b[0mfileobj\u001b[0m\u001b[0;34m.\u001b[0m\u001b[0mwrite\u001b[0m\u001b[0;34m(\u001b[0m\u001b[0mprepared_data_to_html\u001b[0m\u001b[0;34m(\u001b[0m\u001b[0mdata\u001b[0m\u001b[0;34m,\u001b[0m \u001b[0;34m**\u001b[0m\u001b[0mkwargs\u001b[0m\u001b[0;34m)\u001b[0m\u001b[0;34m)\u001b[0m\u001b[0;34m\u001b[0m\u001b[0;34m\u001b[0m\u001b[0m\n\u001b[0m\u001b[1;32m    363\u001b[0m \u001b[0;34m\u001b[0m\u001b[0m\n\u001b[1;32m    364\u001b[0m \u001b[0;34m\u001b[0m\u001b[0m\n",
      "\u001b[0;32m/opt/conda/lib/python3.7/site-packages/pyLDAvis/_display.py\u001b[0m in \u001b[0;36mprepared_data_to_html\u001b[0;34m(data, d3_url, ldavis_url, ldavis_css_url, template_type, visid, use_http)\u001b[0m\n\u001b[1;32m    176\u001b[0m                            \u001b[0md3_url\u001b[0m\u001b[0;34m=\u001b[0m\u001b[0md3_url\u001b[0m\u001b[0;34m,\u001b[0m\u001b[0;34m\u001b[0m\u001b[0;34m\u001b[0m\u001b[0m\n\u001b[1;32m    177\u001b[0m                            \u001b[0mldavis_url\u001b[0m\u001b[0;34m=\u001b[0m\u001b[0mldavis_url\u001b[0m\u001b[0;34m,\u001b[0m\u001b[0;34m\u001b[0m\u001b[0;34m\u001b[0m\u001b[0m\n\u001b[0;32m--> 178\u001b[0;31m                            \u001b[0mvis_json\u001b[0m\u001b[0;34m=\u001b[0m\u001b[0mdata\u001b[0m\u001b[0;34m.\u001b[0m\u001b[0mto_json\u001b[0m\u001b[0;34m(\u001b[0m\u001b[0;34m)\u001b[0m\u001b[0;34m,\u001b[0m\u001b[0;34m\u001b[0m\u001b[0;34m\u001b[0m\u001b[0m\n\u001b[0m\u001b[1;32m    179\u001b[0m                            ldavis_css_url=ldavis_css_url)\n\u001b[1;32m    180\u001b[0m \u001b[0;34m\u001b[0m\u001b[0m\n",
      "\u001b[0;32m/opt/conda/lib/python3.7/site-packages/pyLDAvis/_prepare.py\u001b[0m in \u001b[0;36mto_json\u001b[0;34m(self)\u001b[0m\n\u001b[1;32m    415\u001b[0m \u001b[0;34m\u001b[0m\u001b[0m\n\u001b[1;32m    416\u001b[0m     \u001b[0;32mdef\u001b[0m \u001b[0mto_json\u001b[0m\u001b[0;34m(\u001b[0m\u001b[0mself\u001b[0m\u001b[0;34m)\u001b[0m\u001b[0;34m:\u001b[0m\u001b[0;34m\u001b[0m\u001b[0;34m\u001b[0m\u001b[0m\n\u001b[0;32m--> 417\u001b[0;31m        \u001b[0;32mreturn\u001b[0m \u001b[0mjson\u001b[0m\u001b[0;34m.\u001b[0m\u001b[0mdumps\u001b[0m\u001b[0;34m(\u001b[0m\u001b[0mself\u001b[0m\u001b[0;34m.\u001b[0m\u001b[0mto_dict\u001b[0m\u001b[0;34m(\u001b[0m\u001b[0;34m)\u001b[0m\u001b[0;34m,\u001b[0m \u001b[0mcls\u001b[0m\u001b[0;34m=\u001b[0m\u001b[0mNumPyEncoder\u001b[0m\u001b[0;34m)\u001b[0m\u001b[0;34m\u001b[0m\u001b[0;34m\u001b[0m\u001b[0m\n\u001b[0m",
      "\u001b[0;32m/opt/conda/lib/python3.7/json/__init__.py\u001b[0m in \u001b[0;36mdumps\u001b[0;34m(obj, skipkeys, ensure_ascii, check_circular, allow_nan, cls, indent, separators, default, sort_keys, **kw)\u001b[0m\n\u001b[1;32m    236\u001b[0m         \u001b[0mcheck_circular\u001b[0m\u001b[0;34m=\u001b[0m\u001b[0mcheck_circular\u001b[0m\u001b[0;34m,\u001b[0m \u001b[0mallow_nan\u001b[0m\u001b[0;34m=\u001b[0m\u001b[0mallow_nan\u001b[0m\u001b[0;34m,\u001b[0m \u001b[0mindent\u001b[0m\u001b[0;34m=\u001b[0m\u001b[0mindent\u001b[0m\u001b[0;34m,\u001b[0m\u001b[0;34m\u001b[0m\u001b[0;34m\u001b[0m\u001b[0m\n\u001b[1;32m    237\u001b[0m         \u001b[0mseparators\u001b[0m\u001b[0;34m=\u001b[0m\u001b[0mseparators\u001b[0m\u001b[0;34m,\u001b[0m \u001b[0mdefault\u001b[0m\u001b[0;34m=\u001b[0m\u001b[0mdefault\u001b[0m\u001b[0;34m,\u001b[0m \u001b[0msort_keys\u001b[0m\u001b[0;34m=\u001b[0m\u001b[0msort_keys\u001b[0m\u001b[0;34m,\u001b[0m\u001b[0;34m\u001b[0m\u001b[0;34m\u001b[0m\u001b[0m\n\u001b[0;32m--> 238\u001b[0;31m         **kw).encode(obj)\n\u001b[0m\u001b[1;32m    239\u001b[0m \u001b[0;34m\u001b[0m\u001b[0m\n\u001b[1;32m    240\u001b[0m \u001b[0;34m\u001b[0m\u001b[0m\n",
      "\u001b[0;32m/opt/conda/lib/python3.7/json/encoder.py\u001b[0m in \u001b[0;36mencode\u001b[0;34m(self, o)\u001b[0m\n\u001b[1;32m    197\u001b[0m         \u001b[0;31m# exceptions aren't as detailed.  The list call should be roughly\u001b[0m\u001b[0;34m\u001b[0m\u001b[0;34m\u001b[0m\u001b[0;34m\u001b[0m\u001b[0m\n\u001b[1;32m    198\u001b[0m         \u001b[0;31m# equivalent to the PySequence_Fast that ''.join() would do.\u001b[0m\u001b[0;34m\u001b[0m\u001b[0;34m\u001b[0m\u001b[0;34m\u001b[0m\u001b[0m\n\u001b[0;32m--> 199\u001b[0;31m         \u001b[0mchunks\u001b[0m \u001b[0;34m=\u001b[0m \u001b[0mself\u001b[0m\u001b[0;34m.\u001b[0m\u001b[0miterencode\u001b[0m\u001b[0;34m(\u001b[0m\u001b[0mo\u001b[0m\u001b[0;34m,\u001b[0m \u001b[0m_one_shot\u001b[0m\u001b[0;34m=\u001b[0m\u001b[0;32mTrue\u001b[0m\u001b[0;34m)\u001b[0m\u001b[0;34m\u001b[0m\u001b[0;34m\u001b[0m\u001b[0m\n\u001b[0m\u001b[1;32m    200\u001b[0m         \u001b[0;32mif\u001b[0m \u001b[0;32mnot\u001b[0m \u001b[0misinstance\u001b[0m\u001b[0;34m(\u001b[0m\u001b[0mchunks\u001b[0m\u001b[0;34m,\u001b[0m \u001b[0;34m(\u001b[0m\u001b[0mlist\u001b[0m\u001b[0;34m,\u001b[0m \u001b[0mtuple\u001b[0m\u001b[0;34m)\u001b[0m\u001b[0;34m)\u001b[0m\u001b[0;34m:\u001b[0m\u001b[0;34m\u001b[0m\u001b[0;34m\u001b[0m\u001b[0m\n\u001b[1;32m    201\u001b[0m             \u001b[0mchunks\u001b[0m \u001b[0;34m=\u001b[0m \u001b[0mlist\u001b[0m\u001b[0;34m(\u001b[0m\u001b[0mchunks\u001b[0m\u001b[0;34m)\u001b[0m\u001b[0;34m\u001b[0m\u001b[0;34m\u001b[0m\u001b[0m\n",
      "\u001b[0;32m/opt/conda/lib/python3.7/json/encoder.py\u001b[0m in \u001b[0;36miterencode\u001b[0;34m(self, o, _one_shot)\u001b[0m\n\u001b[1;32m    255\u001b[0m                 \u001b[0mself\u001b[0m\u001b[0;34m.\u001b[0m\u001b[0mkey_separator\u001b[0m\u001b[0;34m,\u001b[0m \u001b[0mself\u001b[0m\u001b[0;34m.\u001b[0m\u001b[0mitem_separator\u001b[0m\u001b[0;34m,\u001b[0m \u001b[0mself\u001b[0m\u001b[0;34m.\u001b[0m\u001b[0msort_keys\u001b[0m\u001b[0;34m,\u001b[0m\u001b[0;34m\u001b[0m\u001b[0;34m\u001b[0m\u001b[0m\n\u001b[1;32m    256\u001b[0m                 self.skipkeys, _one_shot)\n\u001b[0;32m--> 257\u001b[0;31m         \u001b[0;32mreturn\u001b[0m \u001b[0m_iterencode\u001b[0m\u001b[0;34m(\u001b[0m\u001b[0mo\u001b[0m\u001b[0;34m,\u001b[0m \u001b[0;36m0\u001b[0m\u001b[0;34m)\u001b[0m\u001b[0;34m\u001b[0m\u001b[0;34m\u001b[0m\u001b[0m\n\u001b[0m\u001b[1;32m    258\u001b[0m \u001b[0;34m\u001b[0m\u001b[0m\n\u001b[1;32m    259\u001b[0m def _make_iterencode(markers, _default, _encoder, _indent, _floatstr,\n",
      "\u001b[0;32m/opt/conda/lib/python3.7/site-packages/pyLDAvis/utils.py\u001b[0m in \u001b[0;36mdefault\u001b[0;34m(self, obj)\u001b[0m\n\u001b[1;32m    144\u001b[0m         \u001b[0;32mif\u001b[0m \u001b[0misinstance\u001b[0m\u001b[0;34m(\u001b[0m\u001b[0mobj\u001b[0m\u001b[0;34m,\u001b[0m \u001b[0mnp\u001b[0m\u001b[0;34m.\u001b[0m\u001b[0mfloat64\u001b[0m\u001b[0;34m)\u001b[0m \u001b[0;32mor\u001b[0m \u001b[0misinstance\u001b[0m\u001b[0;34m(\u001b[0m\u001b[0mobj\u001b[0m\u001b[0;34m,\u001b[0m \u001b[0mnp\u001b[0m\u001b[0;34m.\u001b[0m\u001b[0mfloat32\u001b[0m\u001b[0;34m)\u001b[0m\u001b[0;34m:\u001b[0m\u001b[0;34m\u001b[0m\u001b[0;34m\u001b[0m\u001b[0m\n\u001b[1;32m    145\u001b[0m             \u001b[0;32mreturn\u001b[0m \u001b[0mfloat\u001b[0m\u001b[0;34m(\u001b[0m\u001b[0mobj\u001b[0m\u001b[0;34m)\u001b[0m\u001b[0;34m\u001b[0m\u001b[0;34m\u001b[0m\u001b[0m\n\u001b[0;32m--> 146\u001b[0;31m         \u001b[0;32mreturn\u001b[0m \u001b[0mjson\u001b[0m\u001b[0;34m.\u001b[0m\u001b[0mJSONEncoder\u001b[0m\u001b[0;34m.\u001b[0m\u001b[0mdefault\u001b[0m\u001b[0;34m(\u001b[0m\u001b[0mself\u001b[0m\u001b[0;34m,\u001b[0m \u001b[0mobj\u001b[0m\u001b[0;34m)\u001b[0m\u001b[0;34m\u001b[0m\u001b[0;34m\u001b[0m\u001b[0m\n\u001b[0m",
      "\u001b[0;32m/opt/conda/lib/python3.7/json/encoder.py\u001b[0m in \u001b[0;36mdefault\u001b[0;34m(self, o)\u001b[0m\n\u001b[1;32m    177\u001b[0m \u001b[0;34m\u001b[0m\u001b[0m\n\u001b[1;32m    178\u001b[0m         \"\"\"\n\u001b[0;32m--> 179\u001b[0;31m         raise TypeError(f'Object of type {o.__class__.__name__} '\n\u001b[0m\u001b[1;32m    180\u001b[0m                         f'is not JSON serializable')\n\u001b[1;32m    181\u001b[0m \u001b[0;34m\u001b[0m\u001b[0m\n",
      "\u001b[0;31mTypeError\u001b[0m: Object of type complex is not JSON serializable"
     ]
    }
   ],
   "source": [
    "client_id = \"\"\n",
    "client_secret = \"\"\n",
    "naver_id = \"\"\n",
    "naver_pw = \"!\"\n",
    "import datetime\n",
    "from pyspark import SparkContext\n",
    "from pyspark import SparkConf\n",
    "import glob\n",
    "today = datetime.date.today()\n",
    "content_file_name = \"content_data/naver_news_content_today\".replace(\"today\",str(today))\n",
    "title_file_name = \"temp_data/naver_news_title_today\".replace(\"today\",str(today))\n",
    "#sc.stop()\n",
    "sc = SparkContext(master=\"local\", appName=\"spark app\")\n",
    "f \n",
    "\n",
    "keywords ='''\"음식 건강\"'''\n",
    "\n",
    "for i in range(30):\n",
    "    print(str(i+1) + \"번째 반복 중\" )\n",
    "    link_count = get_data(client_id, client_secret, naver_id, naver_pw, content_file_name, sc, keywords)\n",
    "    get_topics(link_count)\n"
   ]
  },
  {
   "cell_type": "code",
   "execution_count": 1,
   "metadata": {},
   "outputs": [],
   "source": [
    "def get_data(client_id, client_secret, naver_id, naver_pw, content_file_name, sc, keywords):\n",
    "    import os\n",
    "    import sys\n",
    "    import urllib.request\n",
    "    import requests\n",
    "\n",
    "    import pandas as pd\n",
    "    import numpy as np\n",
    "    from selenium import webdriver\n",
    "    from tqdm import notebook\n",
    "    import pickle\n",
    "    import re\n",
    "    import ast\n",
    "\n",
    "    from bs4 import BeautifulSoup\n",
    "    import urllib\n",
    "    import time\n",
    "\n",
    "    news_data = []\n",
    "    \n",
    "   \n",
    "    page_count = 20\n",
    "    print(glob.glob(\"keyword/keyword*\"))\n",
    "    print(len(glob.glob(\"keyword/keyword*\")))\n",
    "    print()\n",
    "    if len(glob.glob(\"keyword/keyword*\")) > 0 :\n",
    "        keywords_arr = sc.textFile(\"keyword/keyword_\"+str(len(glob.glob(\"keyword/keyword*\"))-1)).collect()\n",
    "        keywords = \"\"\n",
    "        for v in keywords_arr:\n",
    "            keywords += v\n",
    "        keywords += '''+\"음식 건강\"'''\n",
    "    else:\n",
    "        filecount=len(glob.glob(\"keyword/keyword*\"))\n",
    "        sc.parallelize(keywords).saveAsTextFile(\"keyword/keyword_\"+str(filecount))\n",
    "        \n",
    "    print(\"start :: \" + keywords)\n",
    "    encText = urllib.parse.quote(keywords)\n",
    "    \n",
    "    for idx in notebook.tqdm(range(page_count)):\n",
    "        url = \"https://openapi.naver.com/v1/search/news?query=\" + encText + \"&start=\" + str(idx *10 +1)\n",
    "        request = urllib.request.Request(url)\n",
    "        request.add_header(\"X-Naver-Client-Id\",client_id)\n",
    "        request.add_header(\"X-Naver-Client-Secret\",client_secret)\n",
    "        response = urllib.request.urlopen(request)\n",
    "        rescode = response.getcode()\n",
    "\n",
    "        if(rescode==200):\n",
    "            #response_body = response.read()\n",
    "            result = requests.get(response.geturl(),\n",
    "                             headers={\"X-Naver-Client-Id\":client_id,\"X-Naver-Client-Secret\":client_secret})\n",
    "            news_data.append(result.json())\n",
    "        else:\n",
    "            print(\"Error Code:\" + rescode)\n",
    "            break\n",
    "        time.sleep(1)    \n",
    "\n",
    "\n",
    "    naver_news_link = []\n",
    "\n",
    "    for page in news_data:\n",
    "        page_news_link=[]\n",
    "        for item in page['items']:\n",
    "            link = item['link']\n",
    "            #page_news_link.append(link)\n",
    "            if \"naver\" in link:\n",
    "                page_news_link.append(link)\n",
    "        naver_news_link.append(page_news_link)        \n",
    "\n",
    "    link_count = 0        \n",
    "    for page in naver_news_link:\n",
    "         for link in page:\n",
    "                link_count += 1 \n",
    "\n",
    "    naver_news_title = []\n",
    "    naver_news_content = []\n",
    "    \n",
    "    for n in notebook.tqdm(range(len(naver_news_link))):\n",
    "        news_page_title = []\n",
    "        news_page_content = []\n",
    "\n",
    "        if n==0 or n%5 == 0:\n",
    "            chrome_options = webdriver.ChromeOptions()\n",
    "            chrome_options.add_argument('--no-sandbox')\n",
    "            chrome_options.add_argument('--window-size=1420,1080')\n",
    "            chrome_options.add_argument('--headless')\n",
    "            chrome_options.add_argument('--disable-gpu')\n",
    "            chrome_options.add_argument('--disable-dev-shm-usage')        \n",
    "            driver = webdriver.Chrome(chrome_options=chrome_options)\n",
    "            driver.get(\"https://nid.naver.com/nidlogin.login\")\n",
    "            driver.find_element_by_name('id').send_keys(naver_id)\n",
    "            driver.find_element_by_name('pw').send_keys(naver_pw)\n",
    "\n",
    "        for idx in notebook.tqdm(range(len(naver_news_link[n]))):\n",
    "            time.sleep(2)\n",
    "\n",
    "            try:\n",
    "\n",
    "                driver.get(naver_news_link[n][idx])\n",
    "            except:\n",
    "                print(\"Timeout!\")\n",
    "                continue\n",
    "\n",
    "            try:\n",
    "                response = driver.page_source\n",
    "\n",
    "            except UnexpectedAlertPresentException:\n",
    "                driver.switch_to_alert().accept()\n",
    "                print(\"게시글이 삭제됨\")\n",
    "                continue\n",
    "\n",
    "            soup = BeautifulSoup(response, \"html.parser\")\n",
    "\n",
    "            title = None\n",
    "\n",
    "            try:\n",
    "                item = soup.find('div', class_=\"article_info\")\n",
    "                title = item.find('h3', class_=\"tts_head\").get_text()\n",
    "            except:\n",
    "                title = \"OUTLINK\"\n",
    "\n",
    "            news_page_title.append(title)\n",
    "\n",
    "            doc = None\n",
    "            text= \"\"\n",
    "\n",
    "            data = soup.find_all(\"div\",{\"class\" : \"_article_body_contents\"})\n",
    "            if data:\n",
    "                for item in data:\n",
    "                    text = text + str(item.find_all(text=True)).strip()\n",
    "                    text = ast.literal_eval(text)\n",
    "                    doc = ' '.join(text)\n",
    "            else:\n",
    "                doc = \"OUTLINK\"\n",
    "\n",
    "            news_page_content.append(doc.replace('\\n',' '))\n",
    "\n",
    "        naver_news_title.append(news_page_title)\n",
    "        naver_news_content.append(news_page_content)\n",
    "\n",
    "    filecount=len(glob.glob(\"content_data/*\"))\n",
    "    sc.parallelize(naver_news_content).saveAsTextFile(content_file_name+\"_\"+str(filecount))\n",
    "    \n",
    "    return link_count"
   ]
  },
  {
   "cell_type": "code",
   "execution_count": 2,
   "metadata": {},
   "outputs": [],
   "source": [
    "def get_topics(link_count):\n",
    "    import string\n",
    "    import re\n",
    "    from konlpy.tag import Mecab\n",
    "    from tqdm import notebook\n",
    "    from gensim import corpora\n",
    "    from gensim import models\n",
    "    import numpy as np\n",
    "    import json\n",
    "\n",
    "    \n",
    "    NUM_TOPICS = link_count \n",
    "    NUM_TOPIC_WORDS = 30 \n",
    "\n",
    "    def build_doc_term_mat(documents):\n",
    "        dictionary = corpora.Dictionary(documents)\n",
    "        corpus = [dictionary.doc2bow(document) for document in documents]\n",
    "        return corpus, dictionary\n",
    "\n",
    "\n",
    "    documents=[]\n",
    "    #for filename in glob.glob(\"content_data/*\"):\n",
    "        #documents += sc.textFile(filename).collect()\n",
    "    \n",
    "    documents += sc.textFile(glob.glob(\"content_data/*\")[(len(glob.glob(\"content_data/*\"))-1)]).collect()    \n",
    "    #documents = read_documents(content_file_name)\n",
    "    \n",
    "    #SW = define_stopwords(\"stopwords-ko.txt\")\n",
    "    SW = set()\n",
    "    for i in string.punctuation:\n",
    "        SW.add(i)\n",
    "\n",
    "    with open(\"stopwords-ko.txt\") as f:\n",
    "        for word in f:\n",
    "            SW.add(word.replace(\"\\n\",\"\"))\n",
    "    \n",
    "    custom_sw = []\n",
    "    if len(glob.glob(\"keyword/keyword*\")) > 0 :\n",
    "        glob.glob(\"keyword/keyword*\")\n",
    "    \n",
    "        for v_ in glob.glob(\"keyword/keyword*\"):\n",
    "            \n",
    "            keywords_arr = sc.textFile(v_).collect()\n",
    "            keywords = \"\"\n",
    "            for v in keywords_arr:\n",
    "                keywords += v\n",
    "\n",
    "            keywords.replace(\"|\", \"\")\n",
    "            keywords = keywords.split()\n",
    "            for v in keywords:\n",
    "                if(v != (\"|\")):\n",
    "                    custom_sw.append(v)\n",
    "\n",
    "    cleaned_text = []\n",
    "    for doc in documents:\n",
    "        temp_doc = re.sub(\"[^ㄱ-ㅎㅏ-ㅣ가-힇 ]\",\"\",doc)\n",
    "        for v in custom_sw:\n",
    "            temp_doc = temp_doc.replace(v,\"\")\n",
    "        cleaned_text.append(temp_doc)\n",
    "    \n",
    "   \n",
    "    \n",
    "    mecab = Mecab()\n",
    "    tokenized_text = []\n",
    "    tokenizer=\"noun\"\n",
    "    if tokenizer == \"noun\":\n",
    "        for n in notebook.tqdm(range(len(cleaned_text)), desc=\"Preprocessing\"):\n",
    "            token_text = mecab.nouns(cleaned_text[n])\n",
    "            token_text = [word for word in token_text if word not in SW and len(word) > 1]\n",
    "            tokenized_text.append(token_text)\n",
    "    elif tokenized == \"morph\":\n",
    "        for n in notebook.tqdm(range(len(cleaned_text)), desc=\"Preprocessing\"):\n",
    "            token_text = mecab.morphs(cleaned_text[n])\n",
    "            token_text = [word for word in token_text if word not in SW and len(word) > 1]\n",
    "            tokenized_text.append(token_text)\n",
    "    elif tokenized == \"word\":\n",
    "        for n in notebook.tqdm(range(len(cleaned_text)), desc=\"Preprocessing\"):\n",
    "            token_text = cleaned_text[n].split()\n",
    "            token_text = [word for word in token_text if word not in SW and len(word) > 1]\n",
    "            tokenized_text.append(token_text)\n",
    "    \n",
    "\n",
    "    dictionary = corpora.Dictionary(tokenized_text)\n",
    "\n",
    "    corpus = [dictionary.doc2bow(text) for text in tokenized_text]\n",
    "\n",
    "    model = models.ldamodel.LdaModel(corpus, num_topics=link_count, id2word=dictionary)\n",
    "\n",
    "    # document-term matrix\n",
    "    dictionary = corpora.Dictionary(tokenized_text)\n",
    "    corpus = [dictionary.doc2bow(document) for document in tokenized_text]\n",
    "\n",
    "    # LDA 실행\n",
    "    model = models.ldamodel.LdaModel(corpus, num_topics=NUM_TOPICS, id2word=dictionary, alpha=\"auto\", eta=\"auto\")\n",
    "\n",
    "    import pyLDAvis\n",
    "    import pyLDAvis.gensim\n",
    "\n",
    "    pyLDAvis.enable_notebook()\n",
    "\n",
    "    data = pyLDAvis.gensim.prepare(model, corpus, dictionary)\n",
    "    \n",
    "    filecount=len(glob.glob(\"html_results/*\"))\n",
    "    \n",
    "    pyLDAvis.save_html(data, 'html_results/lda_'+str(filecount)+'.html')\n",
    "\n",
    "    \n",
    "    temp = data.topic_info.head(10)['Term'].values\n",
    "    topic_words =\"\"\n",
    "    for i,v in enumerate(temp):\n",
    "        if i == len(temp)-1:\n",
    "            topic_words += v \n",
    "        else:\n",
    "            topic_words += v + \" | \"\n",
    "    print(\"end :: \" + topic_words)\n",
    "\n",
    "    filecount=len(glob.glob(\"keyword/keyword*\"))\n",
    "    sc.parallelize(topic_words).saveAsTextFile(\"keyword/keyword_\"+str(filecount))\n",
    "    \n",
    "    #data"
   ]
  },
  {
   "cell_type": "code",
   "execution_count": null,
   "metadata": {},
   "outputs": [],
   "source": []
  }
 ],
 "metadata": {
  "kernelspec": {
   "display_name": "Python 3",
   "language": "python",
   "name": "python3"
  },
  "language_info": {
   "codemirror_mode": {
    "name": "ipython",
    "version": 3
   },
   "file_extension": ".py",
   "mimetype": "text/x-python",
   "name": "python",
   "nbconvert_exporter": "python",
   "pygments_lexer": "ipython3",
   "version": "3.7.6"
  }
 },
 "nbformat": 4,
 "nbformat_minor": 4
}
