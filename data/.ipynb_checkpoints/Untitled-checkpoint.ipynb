{
 "cells": [
  {
   "cell_type": "code",
   "execution_count": 7,
   "metadata": {},
   "outputs": [
    {
     "name": "stdout",
     "output_type": "stream",
     "text": [
      "[{'lastBuildDate': 'Wed, 17 Jun 2020 23:40:26 +0900', 'total': 592539, 'start': 1, 'display': 10, 'items': [{'title': '[매일시론] 경이로운 사회를 위한 푸른 성장', 'originallink': 'http://www.iusm.co.kr/news/articleView.html?idxno=880008', 'link': 'http://www.iusm.co.kr/news/articleView.html?idxno=880008', 'description': '(i)\\xa0고품질\\xa0의료\\xa0서비스,\\xa0(ii)\\xa0저렴하고\\xa0안전하며\\xa0적절한\\xa0주택,\\xa0(iii)\\xa0경제적\\xa0안전,\\xa0그리고\\xa0(iv)\\xa0깨끗한\\xa0물,\\xa0깨끗한\\xa0공기,\\xa0<b>건강</b>하고\\xa0알맞은\\xa0<b>음식</b>,\\xa0그리고\\xa0자연에\\xa0대한\\xa0접근권\\xa0제공,\\xa03.\\xa0고등교육을\\xa0포함한... ', 'pubDate': 'Wed, 17 Jun 2020 22:34:00 +0900'}, {'title': '대주펫푸드, 캐츠랑 생애주기별 제품 업그레이드 출시', 'originallink': 'http://www.thefirstmedia.net/news/articleView.html?idxno=59450', 'link': 'http://www.thefirstmedia.net/news/articleView.html?idxno=59450', 'description': \"대주펫푸드는 오랫 동안 많은 사랑을 받아 온 만큼 점점 개체수가 적어지고 있는 동네 고양이의 <b>건강</b>을... 한편, 대주펫푸드는 '사람과 동물, 함께하면 행복한 세상'이라는 슬로건으로 항상 반려동물을 위해 좋은 <b>음식</b>을... \", 'pubDate': 'Wed, 17 Jun 2020 22:20:00 +0900'}, {'title': '[에세이] 마이 리틀 다이어트 : 펩시의 배신', 'originallink': 'https://www.artinsight.co.kr/news/view.php?no=48277', 'link': 'https://www.artinsight.co.kr/news/view.php?no=48277', 'description': '금요일에는 좋아하는 영상을 보면서 펩시와 배달<b>음식</b>을 누려야 행복하다고 스스로 프레임을 걸었다. 물론 진짜 행복하긴 했었지만 굳이 그럴 필요가 있었을까? 지금에서는 그냥 아무 생각 없다. 아니 있다. 지금은 <b>건강</b>하게... ', 'pubDate': 'Wed, 17 Jun 2020 22:06:00 +0900'}, {'title': '대구 북구, 대형<b>음식</b>점ㆍ뷔페업소 특별 위생점검', 'originallink': 'http://www.ksmnews.co.kr/default/index_view_page.php?idx=296594&part_idx=284', 'link': 'http://www.ksmnews.co.kr/default/index_view_page.php?idx=296594&part_idx=284', 'description': '뷔페<b>음식</b>점 11개소에 대해 6월22일부터 7월3일까지 점검을 실시한다. 이번 점검에서는 코로나19 확산방지를 위해 ‘생활속 거리두기’가 철저히 지켜질 수 있도록 방역지침을 중점적으로 홍보 및 점검하고 △종사자 <b>건강</b>... ', 'pubDate': 'Wed, 17 Jun 2020 22:05:00 +0900'}, {'title': '포스트 코로나, 노인복지 서비스 지금부터 준비해야', 'originallink': 'http://www.kihoilbo.co.kr/news/articleView.html?idxno=872050', 'link': 'http://www.kihoilbo.co.kr/news/articleView.html?idxno=872050', 'description': '대체<b>음식</b>의 질을 높였고, 홀몸노인들에게는 매일 안부전화 서비스를 하는 등 발 빠른 대처를 하고 있다.... 수 있도록 대면과 비대면 서비스의 적절한 조화로 노인들이 <b>건강한</b> 노년기를 보낼 수 있도록 지원해야 할 것이다.', 'pubDate': 'Wed, 17 Jun 2020 21:49:00 +0900'}, {'title': \"<b>건강한</b> 간식 '쑥떡' 홀몸노인 입맛에 딱!\", 'originallink': 'http://www.kihoilbo.co.kr/news/articleView.html?idxno=872133', 'link': 'http://www.kihoilbo.co.kr/news/articleView.html?idxno=872133', 'description': '이번 행사는 코로나19로 진달래 축제가 취소돼 남은 축제<b>음식</b> 재료를 활용해 이웃과 따뜻한 나눔을 했다.... 함께 <b>음식</b>을 나눌 수 있어서 뜻깊은 시간이었다&quot;고 말했다. 김상복 면장은 &quot;지역에서 어려운 주변 이웃 발굴과... ', 'pubDate': 'Wed, 17 Jun 2020 21:48:00 +0900'}, {'title': \"경북 영양군 '홀몸 어르신 생신상' 차려 드리기\", 'originallink': 'http://www.gukjenews.com/news/articleView.html?idxno=2020679', 'link': 'http://www.gukjenews.com/news/articleView.html?idxno=2020679', 'description': '조리한 <b>음식</b>(미역국, 전, 잡채, 생선조림, 삼색채소, 떡, 과일세트 등)을 어르신 가정에 직접 방문하여 생신상을 차려 드리고 축하를 해주며 이웃사랑을 실천한다. 또한, 이날 하루는 딸과 며느리가 되어 안부 묻기, <b>건강</b>... ', 'pubDate': 'Wed, 17 Jun 2020 21:14:00 +0900'}, {'title': \"[<b>건강</b>라이프] 식립 치료 시 절개 부담 줄인 '무절개임플란트'\", 'originallink': 'http://www.thegolftimes.co.kr/news/articleView.html?idxno=45671', 'link': 'http://www.thegolftimes.co.kr/news/articleView.html?idxno=45671', 'description': '맛있는 <b>음식</b> 등을 먹을 수 있는 것만으로도 행복함과 에너지를 높이며 스트레스를 줄일 수 있다. 하지만 여러 이유로 <b>음식</b>을 섭취하지 못할 뿐만 아니라 식(食) 욕구를 채우기도 어렵다. <b>음식</b>을 먹기 좋은 크기로 자르고... ', 'pubDate': 'Wed, 17 Jun 2020 21:10:00 +0900'}, {'title': '독거노인의 아침 결식률, 부부 노인의 세 배', 'originallink': 'http://www.fsnews.co.kr/news/articleView.html?idxno=38457', 'link': 'http://www.fsnews.co.kr/news/articleView.html?idxno=38457', 'description': '국민<b>건강</b>영양조사에 참여한 65세 이상 노인 1856명(남 858명, 여 998명)을 대상으로 가족의 형태와 식생활의... 임 교수팀은 논문에서 &quot;이번 연구결과는 노인의 식생활 행동과 <b>음식</b> 섭취가 가족 형태와 관련이 있다는... ', 'pubDate': 'Wed, 17 Jun 2020 21:10:00 +0900'}, {'title': '서울교육청, 채식선택제 도입한다', 'originallink': 'http://www.fsnews.co.kr/news/articleView.html?idxno=38468', 'link': 'http://www.fsnews.co.kr/news/articleView.html?idxno=38468', 'description': '이번 서울교육청의 발표는 <b>건강</b>과 기후위기를 인식해 채식을 선택하는 청소년들이 증가함에 따라 기존 육식... 아울러 <b>음식</b>동아리, 비건 푸드 페스티벌, 혁신교육 한마당, 환경교육 한마당 등 관련 행사를 추진하여 운영... ', 'pubDate': 'Wed, 17 Jun 2020 21:06:00 +0900'}]}]\n"
     ]
    }
   ],
   "source": [
    "import os\n",
    "import sys\n",
    "import urllib.request\n",
    "import requests\n",
    "\n",
    "news_data = []\n",
    "client_id = \"\"\n",
    "client_secret = \"\"\n",
    "encText = urllib.parse.quote(\"건강한 음식\")\n",
    "url = \"https://openapi.naver.com/v1/search/news?query=\" + encText # json 결과\n",
    "# url = \"https://openapi.naver.com/v1/search/blog.xml?query=\" + encText # xml 결과\n",
    "request = urllib.request.Request(url)\n",
    "request.add_header(\"X-Naver-Client-Id\",client_id)\n",
    "request.add_header(\"X-Naver-Client-Secret\",client_secret)\n",
    "response = urllib.request.urlopen(request)\n",
    "rescode = response.getcode()\n",
    "if(rescode==200):\n",
    "    #response_body = response.read()\n",
    "    result = requests.get(response.geturl(),\n",
    "                         headers={\"X-Naver-Client-Id\":client_id,\"X-Naver-Client-Secret\":client_secret})\n",
    "    news_data.append(result.json())\n",
    "    print(news_data)\n",
    "else:\n",
    "    print(\"Error Code:\" + rescode)"
   ]
  },
  {
   "cell_type": "code",
   "execution_count": null,
   "metadata": {},
   "outputs": [],
   "source": []
  }
 ],
 "metadata": {
  "kernelspec": {
   "display_name": "Python 3",
   "language": "python",
   "name": "python3"
  },
  "language_info": {
   "codemirror_mode": {
    "name": "ipython",
    "version": 3
   },
   "file_extension": ".py",
   "mimetype": "text/x-python",
   "name": "python",
   "nbconvert_exporter": "python",
   "pygments_lexer": "ipython3",
   "version": "3.7.6"
  }
 },
 "nbformat": 4,
 "nbformat_minor": 4
}
